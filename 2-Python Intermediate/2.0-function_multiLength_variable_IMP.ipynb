{
 "cells": [
  {
   "cell_type": "code",
   "execution_count": 19,
   "id": "df052e50",
   "metadata": {},
   "outputs": [],
   "source": [
    "name, *line = input().split()"
   ]
  },
  {
   "cell_type": "code",
   "execution_count": 20,
   "id": "336206d3",
   "metadata": {},
   "outputs": [
    {
     "data": {
      "text/plain": [
       "'8'"
      ]
     },
     "execution_count": 20,
     "metadata": {},
     "output_type": "execute_result"
    }
   ],
   "source": [
    "name"
   ]
  },
  {
   "cell_type": "code",
   "execution_count": 21,
   "id": "667a3ddd",
   "metadata": {},
   "outputs": [
    {
     "data": {
      "text/plain": [
       "['9', '3']"
      ]
     },
     "execution_count": 21,
     "metadata": {},
     "output_type": "execute_result"
    }
   ],
   "source": [
    "line"
   ]
  },
  {
   "cell_type": "code",
   "execution_count": 22,
   "id": "688a3988",
   "metadata": {},
   "outputs": [],
   "source": [
    "def fun1(name, *args):\n",
    "    print(name, args, sep=\"\\n\")"
   ]
  },
  {
   "cell_type": "code",
   "execution_count": 23,
   "id": "6ae84fcc",
   "metadata": {},
   "outputs": [
    {
     "name": "stdout",
     "output_type": "stream",
     "text": [
      "karan\n",
      "(5, 4, 8, 6, 9, 4, 5, 8, 63, 9)\n"
     ]
    }
   ],
   "source": [
    "fun1('karan',5,4,8,6,9,4,5,8,63,9)"
   ]
  },
  {
   "cell_type": "code",
   "execution_count": 24,
   "id": "bf5148a0",
   "metadata": {},
   "outputs": [],
   "source": [
    "(*args,) = 1,2,3,4,5,8,9,4,54,9645"
   ]
  },
  {
   "cell_type": "code",
   "execution_count": 25,
   "id": "452ebd27",
   "metadata": {},
   "outputs": [
    {
     "name": "stdout",
     "output_type": "stream",
     "text": [
      "[1, 2, 3, 4, 5, 8, 9, 4, 54, 9645]\n",
      "<class 'list'>\n"
     ]
    }
   ],
   "source": [
    "print(args)\n",
    "print(type(args))"
   ]
  },
  {
   "cell_type": "code",
   "execution_count": 26,
   "id": "7273c2a0",
   "metadata": {},
   "outputs": [],
   "source": [
    "[*args1] = 1,2,3,4,5,8,9,4,54,9645"
   ]
  },
  {
   "cell_type": "code",
   "execution_count": 27,
   "id": "781d10ee",
   "metadata": {},
   "outputs": [
    {
     "name": "stdout",
     "output_type": "stream",
     "text": [
      "[1, 2, 3, 4, 5, 8, 9, 4, 54, 9645]\n",
      "<class 'list'>\n"
     ]
    }
   ],
   "source": [
    "print(args1)\n",
    "print(type(args1))"
   ]
  },
  {
   "cell_type": "code",
   "execution_count": 28,
   "id": "2f58dc62",
   "metadata": {},
   "outputs": [],
   "source": [
    "(*args2,) = (1,2,3,4,5,8,9,4,54,9645)"
   ]
  },
  {
   "cell_type": "code",
   "execution_count": 29,
   "id": "16e47370",
   "metadata": {},
   "outputs": [
    {
     "name": "stdout",
     "output_type": "stream",
     "text": [
      "[1, 2, 3, 4, 5, 8, 9, 4, 54, 9645]\n",
      "<class 'list'>\n"
     ]
    }
   ],
   "source": [
    "print(args2)\n",
    "print(type(args2))"
   ]
  },
  {
   "cell_type": "code",
   "execution_count": 30,
   "id": "025d30b6",
   "metadata": {},
   "outputs": [],
   "source": [
    "name,*middle,last = 4, 1, 2, 3, 67"
   ]
  },
  {
   "cell_type": "code",
   "execution_count": 31,
   "id": "f530e340",
   "metadata": {},
   "outputs": [
    {
     "name": "stdout",
     "output_type": "stream",
     "text": [
      "4\n",
      "[1, 2, 3]\n",
      "67\n"
     ]
    }
   ],
   "source": [
    "print(name,middle,last,sep=\"\\n\")"
   ]
  }
 ],
 "metadata": {
  "kernelspec": {
   "display_name": "Python 3",
   "language": "python",
   "name": "python3"
  },
  "language_info": {
   "codemirror_mode": {
    "name": "ipython",
    "version": 3
   },
   "file_extension": ".py",
   "mimetype": "text/x-python",
   "name": "python",
   "nbconvert_exporter": "python",
   "pygments_lexer": "ipython3",
   "version": "3.12.0"
  }
 },
 "nbformat": 4,
 "nbformat_minor": 5
}
