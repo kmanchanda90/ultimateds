{
 "cells": [
  {
   "cell_type": "markdown",
   "id": "250f650e",
   "metadata": {},
   "source": [
    "### Lambda function"
   ]
  },
  {
   "cell_type": "code",
   "execution_count": 1,
   "id": "7d45d317",
   "metadata": {},
   "outputs": [],
   "source": [
    "# Traditional way\n",
    "\n",
    "def mySquareFunction(num):\n",
    "    return num**2"
   ]
  },
  {
   "cell_type": "code",
   "execution_count": 15,
   "id": "3dfed1ad",
   "metadata": {},
   "outputs": [
    {
     "name": "stdout",
     "output_type": "stream",
     "text": [
      "<class 'function'>\n"
     ]
    }
   ],
   "source": [
    "print(type(mySquareFunction))"
   ]
  },
  {
   "cell_type": "code",
   "execution_count": 2,
   "id": "e0992641",
   "metadata": {},
   "outputs": [
    {
     "data": {
      "text/plain": [
       "49"
      ]
     },
     "execution_count": 2,
     "metadata": {},
     "output_type": "execute_result"
    }
   ],
   "source": [
    "mySquareFunction(7)"
   ]
  },
  {
   "cell_type": "code",
   "execution_count": 3,
   "id": "baad7235",
   "metadata": {},
   "outputs": [],
   "source": [
    "# Lambda function\n",
    "mySqrLmbdaFun = lambda x : x**2"
   ]
  },
  {
   "cell_type": "code",
   "execution_count": 4,
   "id": "2d90fd03",
   "metadata": {},
   "outputs": [
    {
     "data": {
      "text/plain": [
       "25"
      ]
     },
     "execution_count": 4,
     "metadata": {},
     "output_type": "execute_result"
    }
   ],
   "source": [
    "mySqrLmbdaFun(5)"
   ]
  },
  {
   "cell_type": "code",
   "execution_count": 5,
   "id": "2b6a56e5",
   "metadata": {},
   "outputs": [],
   "source": [
    "# Addition using Lambda function\n",
    "myAdd = lambda num1, num2, num3 : num1+num2+num3"
   ]
  },
  {
   "cell_type": "code",
   "execution_count": 6,
   "id": "fa148e61",
   "metadata": {},
   "outputs": [
    {
     "data": {
      "text/plain": [
       "18"
      ]
     },
     "execution_count": 6,
     "metadata": {},
     "output_type": "execute_result"
    }
   ],
   "source": [
    "myAdd(5,6,7)"
   ]
  },
  {
   "cell_type": "code",
   "execution_count": 19,
   "id": "25b590cb",
   "metadata": {},
   "outputs": [
    {
     "name": "stdout",
     "output_type": "stream",
     "text": [
      "<function <lambda> at 0x0000024DD5631DA0>\n"
     ]
    }
   ],
   "source": [
    "print(myAdd)"
   ]
  },
  {
   "cell_type": "code",
   "execution_count": 18,
   "id": "84af329f",
   "metadata": {},
   "outputs": [
    {
     "name": "stdout",
     "output_type": "stream",
     "text": [
      "Error encountered: <lambda>() takes 3 positional arguments but 4 were given\n"
     ]
    }
   ],
   "source": [
    "try:\n",
    "    myAdd(5,6,7,8)\n",
    "except Exception as e:\n",
    "    print(f'Error encountered: {e}')"
   ]
  },
  {
   "cell_type": "code",
   "execution_count": 11,
   "id": "b81c5083",
   "metadata": {},
   "outputs": [
    {
     "name": "stdout",
     "output_type": "stream",
     "text": [
      "<class 'function'>\n"
     ]
    }
   ],
   "source": [
    "print(type(myAdd))"
   ]
  },
  {
   "cell_type": "code",
   "execution_count": 9,
   "id": "df906de8",
   "metadata": {},
   "outputs": [],
   "source": [
    "# Multiplication using Lambda function\n",
    "myMul = lambda num1, num2 : num1*num2"
   ]
  },
  {
   "cell_type": "code",
   "execution_count": 10,
   "id": "847adea9",
   "metadata": {},
   "outputs": [
    {
     "data": {
      "text/plain": [
       "20"
      ]
     },
     "execution_count": 10,
     "metadata": {},
     "output_type": "execute_result"
    }
   ],
   "source": [
    "myMul(5,4)"
   ]
  },
  {
   "cell_type": "code",
   "execution_count": null,
   "id": "9ad9f69f",
   "metadata": {},
   "outputs": [],
   "source": [
    "# Function inside a lambda function\n",
    "myLambdaFunction = lambda x: abs(x)"
   ]
  },
  {
   "cell_type": "code",
   "execution_count": 17,
   "id": "0095c8d1",
   "metadata": {},
   "outputs": [
    {
     "data": {
      "text/plain": [
       "5"
      ]
     },
     "execution_count": 17,
     "metadata": {},
     "output_type": "execute_result"
    }
   ],
   "source": [
    "myLambdaFunction(-5)"
   ]
  },
  {
   "cell_type": "markdown",
   "id": "3faf38c1",
   "metadata": {},
   "source": [
    "#### Test of return vs void using lambda"
   ]
  },
  {
   "cell_type": "code",
   "execution_count": null,
   "id": "29df5e34",
   "metadata": {},
   "outputs": [],
   "source": [
    "myLambdaFunction1 = lambda x: x # it returns by default"
   ]
  },
  {
   "cell_type": "code",
   "execution_count": 21,
   "id": "dbb0f2b8",
   "metadata": {},
   "outputs": [],
   "source": [
    "value1 = myLambdaFunction1(5)"
   ]
  },
  {
   "cell_type": "code",
   "execution_count": 22,
   "id": "bdb74ed3",
   "metadata": {},
   "outputs": [
    {
     "name": "stdout",
     "output_type": "stream",
     "text": [
      "5\n"
     ]
    }
   ],
   "source": [
    "print(value1)"
   ]
  },
  {
   "cell_type": "code",
   "execution_count": 23,
   "id": "3b6efd02",
   "metadata": {},
   "outputs": [],
   "source": [
    "myLambdaFunction2 = lambda x: print(x)"
   ]
  },
  {
   "cell_type": "code",
   "execution_count": 24,
   "id": "d0f96506",
   "metadata": {},
   "outputs": [
    {
     "name": "stdout",
     "output_type": "stream",
     "text": [
      "22\n"
     ]
    }
   ],
   "source": [
    "value2 = myLambdaFunction2(22)"
   ]
  },
  {
   "cell_type": "code",
   "execution_count": 25,
   "id": "5cd3cbaf",
   "metadata": {},
   "outputs": [
    {
     "name": "stdout",
     "output_type": "stream",
     "text": [
      "None\n"
     ]
    }
   ],
   "source": [
    "print(value2)"
   ]
  },
  {
   "cell_type": "code",
   "execution_count": 26,
   "id": "55a53f97",
   "metadata": {},
   "outputs": [
    {
     "name": "stdout",
     "output_type": "stream",
     "text": [
      "125\n"
     ]
    }
   ],
   "source": [
    "# Check if lambda function is actually nameless\n",
    "print((lambda x:x**3)(5))"
   ]
  },
  {
   "cell_type": "code",
   "execution_count": 27,
   "id": "d2fb145a",
   "metadata": {},
   "outputs": [
    {
     "name": "stdout",
     "output_type": "stream",
     "text": [
      "6\n"
     ]
    }
   ],
   "source": [
    "print((lambda a,b,c : a*b*c)(1,2,3))"
   ]
  },
  {
   "cell_type": "markdown",
   "id": "9ddf156a",
   "metadata": {},
   "source": [
    "#### WAP to take users name and prints the first character using lambda function"
   ]
  },
  {
   "cell_type": "code",
   "execution_count": 18,
   "id": "e35930dc",
   "metadata": {},
   "outputs": [
    {
     "name": "stdout",
     "output_type": "stream",
     "text": [
      "The first character in raman is 'r'\n"
     ]
    }
   ],
   "source": [
    "try:\n",
    "    userName = input(\"Enter your name: \")\n",
    "    firstChar = (lambda x : x[0])(userName)\n",
    "    print(f'The first character in {userName} is \\'{firstChar}\\'')\n",
    "except Exception as e:\n",
    "    print(f'Error encountered: {e}')"
   ]
  },
  {
   "cell_type": "markdown",
   "id": "408a07df",
   "metadata": {},
   "source": [
    "#### WAP to which return True if number is even else return False"
   ]
  },
  {
   "cell_type": "code",
   "execution_count": 24,
   "id": "71f4a097",
   "metadata": {},
   "outputs": [
    {
     "name": "stdout",
     "output_type": "stream",
     "text": [
      "The entered number 8 is even: True\n"
     ]
    }
   ],
   "source": [
    "try:\n",
    "    checkNumberEven = int(input(\"Enter a valid natural number to check if Even: \"))\n",
    "    myEvenCheckFunction = lambda x : True if x%2==0 else False\n",
    "    result = myEvenCheckFunction(checkNumberEven)\n",
    "    print(f'The entered number {checkNumberEven} is even: {result}')\n",
    "except Exception as e:\n",
    "    print(f'error encountered: {e}')"
   ]
  },
  {
   "cell_type": "code",
   "execution_count": 28,
   "id": "c9117133",
   "metadata": {},
   "outputs": [],
   "source": [
    "# Alternate approach as comparison operator anyhow returns bool only\n",
    "ans2 = lambda number : number%2==0"
   ]
  },
  {
   "cell_type": "markdown",
   "id": "084f3d89",
   "metadata": {},
   "source": [
    "### LGC \n",
    "\n",
    "### CTM"
   ]
  },
  {
   "cell_type": "code",
   "execution_count": 10,
   "id": "8a08def7",
   "metadata": {},
   "outputs": [],
   "source": [
    "# New concept - CTM (Higher order function)\n",
    "def myNewFunction(value,function):\n",
    "    return function(value)"
   ]
  },
  {
   "cell_type": "code",
   "execution_count": 2,
   "id": "a7399772",
   "metadata": {},
   "outputs": [],
   "source": [
    "def square(number):\n",
    "    return number*number"
   ]
  },
  {
   "cell_type": "code",
   "execution_count": 3,
   "id": "3a458f03",
   "metadata": {},
   "outputs": [
    {
     "data": {
      "text/plain": [
       "25"
      ]
     },
     "execution_count": 3,
     "metadata": {},
     "output_type": "execute_result"
    }
   ],
   "source": [
    "myNewFunction(5,square)"
   ]
  },
  {
   "cell_type": "markdown",
   "id": "49a05874",
   "metadata": {},
   "source": [
    "### LGC\n",
    "\n",
    "#### How do we use lambda function?\n",
    "\n",
    "#### Problem statement: if we have a variable x, we want to print its square, cube, power of 4, absolute value."
   ]
  },
  {
   "cell_type": "code",
   "execution_count": 5,
   "id": "f4a13bae",
   "metadata": {},
   "outputs": [
    {
     "data": {
      "text/plain": [
       "25"
      ]
     },
     "execution_count": 5,
     "metadata": {},
     "output_type": "execute_result"
    }
   ],
   "source": [
    "myNewFunction(5, lambda x:x**2)"
   ]
  },
  {
   "cell_type": "code",
   "execution_count": null,
   "id": "45377956",
   "metadata": {},
   "outputs": [
    {
     "data": {
      "text/plain": [
       "25"
      ]
     },
     "metadata": {},
     "output_type": "display_data"
    }
   ],
   "source": [
    "myNewFunction(5, lambda x:x**2)"
   ]
  },
  {
   "cell_type": "code",
   "execution_count": 7,
   "id": "6405f56f",
   "metadata": {},
   "outputs": [
    {
     "data": {
      "text/plain": [
       "125"
      ]
     },
     "execution_count": 7,
     "metadata": {},
     "output_type": "execute_result"
    }
   ],
   "source": [
    "myNewFunction(5, lambda x:x**3)"
   ]
  },
  {
   "cell_type": "code",
   "execution_count": 9,
   "id": "c77cc3a6",
   "metadata": {},
   "outputs": [
    {
     "data": {
      "text/plain": [
       "625"
      ]
     },
     "execution_count": 9,
     "metadata": {},
     "output_type": "execute_result"
    }
   ],
   "source": [
    "myNewFunction(5, lambda x:x**4)"
   ]
  },
  {
   "cell_type": "code",
   "execution_count": 8,
   "id": "b6c859ed",
   "metadata": {},
   "outputs": [
    {
     "data": {
      "text/plain": [
       "5"
      ]
     },
     "execution_count": 8,
     "metadata": {},
     "output_type": "execute_result"
    }
   ],
   "source": [
    "myNewFunction(-5, lambda x:abs(x))"
   ]
  },
  {
   "cell_type": "markdown",
   "id": "121915c2",
   "metadata": {},
   "source": [
    "#### WAP to take input a list of 5 number from user and square each number and store it back."
   ]
  },
  {
   "cell_type": "code",
   "execution_count": 16,
   "id": "203bfb2c",
   "metadata": {},
   "outputs": [
    {
     "data": {
      "text/plain": [
       "[7921, 25, 16, 36, 625]"
      ]
     },
     "execution_count": 16,
     "metadata": {},
     "output_type": "execute_result"
    }
   ],
   "source": [
    "# Approach 1 - My try\n",
    "l1 = [int(input()) for i in range(5)]\n",
    "l_square = [i**2 for i in l1]\n",
    "l_square"
   ]
  },
  {
   "cell_type": "markdown",
   "id": "50006dba",
   "metadata": {},
   "source": [
    "### Map function\n",
    "\n",
    "> Very much used in Spark, Hadoop, Bigdata"
   ]
  },
  {
   "cell_type": "code",
   "execution_count": 17,
   "id": "2a19bda0",
   "metadata": {},
   "outputs": [],
   "source": [
    "cubeFunction = lambda x : x**3"
   ]
  },
  {
   "cell_type": "code",
   "execution_count": 18,
   "id": "209c7f8d",
   "metadata": {},
   "outputs": [],
   "source": [
    "myList = [1,2,3,4,5]"
   ]
  },
  {
   "cell_type": "code",
   "execution_count": 19,
   "id": "c4c2ca48",
   "metadata": {},
   "outputs": [
    {
     "data": {
      "text/plain": [
       "[1, 8, 27, 64, 125]"
      ]
     },
     "execution_count": 19,
     "metadata": {},
     "output_type": "execute_result"
    }
   ],
   "source": [
    "list(map(cubeFunction,myList))"
   ]
  },
  {
   "cell_type": "code",
   "execution_count": 20,
   "id": "a648503e",
   "metadata": {},
   "outputs": [],
   "source": [
    "myList1 = [1,-2,-3,-4,5,6,7]"
   ]
  },
  {
   "cell_type": "code",
   "execution_count": 27,
   "id": "d9124d6d",
   "metadata": {},
   "outputs": [],
   "source": [
    "mapOutput = map((lambda x: abs(x)),myList1) # It generates an iterator"
   ]
  },
  {
   "cell_type": "code",
   "execution_count": 25,
   "id": "db323910",
   "metadata": {},
   "outputs": [
    {
     "data": {
      "text/plain": [
       "[1, 2, 3, 4, 5, 6, 7]"
      ]
     },
     "execution_count": 25,
     "metadata": {},
     "output_type": "execute_result"
    }
   ],
   "source": [
    "list(mapOutput)"
   ]
  },
  {
   "cell_type": "code",
   "execution_count": 28,
   "id": "f7cfb922",
   "metadata": {},
   "outputs": [
    {
     "data": {
      "text/plain": [
       "(1, 2, 3, 4, 5, 6, 7)"
      ]
     },
     "execution_count": 28,
     "metadata": {},
     "output_type": "execute_result"
    }
   ],
   "source": [
    "tuple(mapOutput)"
   ]
  },
  {
   "cell_type": "markdown",
   "id": "3ecf4feb",
   "metadata": {},
   "source": [
    "### Filter function"
   ]
  },
  {
   "cell_type": "markdown",
   "id": "90851f4d",
   "metadata": {},
   "source": [
    "#### WAP to remove vowels from a name"
   ]
  },
  {
   "cell_type": "code",
   "execution_count": null,
   "id": "23843eac",
   "metadata": {},
   "outputs": [],
   "source": [
    "# Option 1 - My approach\n",
    "name = 'abra ca dabra'\n",
    "def removeVowel(x):\n",
    "    newName = ''\n",
    "    for char in x:\n",
    "        if(char in 'aeiou'):\n",
    "            pass\n",
    "        else:\n",
    "            newName = newName+char\n",
    "    return newName"
   ]
  },
  {
   "cell_type": "code",
   "execution_count": 35,
   "id": "cb4b9d2b",
   "metadata": {},
   "outputs": [
    {
     "data": {
      "text/plain": [
       "'br c dbr'"
      ]
     },
     "execution_count": 35,
     "metadata": {},
     "output_type": "execute_result"
    }
   ],
   "source": [
    "removeVowel(name)"
   ]
  },
  {
   "cell_type": "code",
   "execution_count": 39,
   "id": "7989fecf",
   "metadata": {},
   "outputs": [],
   "source": [
    "filterOutput = filter((lambda x : True if x not in 'aeiou' else False), 'abra ca dabra')\n",
    "\n",
    "# lambda function similar to below function\n",
    "def filter_vowels(alphabet):\n",
    "    if alphabet not in 'aeiou':\n",
    "        return True\n",
    "    else:\n",
    "        return False"
   ]
  },
  {
   "cell_type": "code",
   "execution_count": 42,
   "id": "8aba07a8",
   "metadata": {},
   "outputs": [
    {
     "data": {
      "text/plain": [
       "False"
      ]
     },
     "execution_count": 42,
     "metadata": {},
     "output_type": "execute_result"
    }
   ],
   "source": [
    "filter_vowels('a')"
   ]
  },
  {
   "cell_type": "code",
   "execution_count": 43,
   "id": "572cf252",
   "metadata": {},
   "outputs": [
    {
     "data": {
      "text/plain": [
       "True"
      ]
     },
     "execution_count": 43,
     "metadata": {},
     "output_type": "execute_result"
    }
   ],
   "source": [
    "filter_vowels('b')"
   ]
  },
  {
   "cell_type": "code",
   "execution_count": 38,
   "id": "e04ddc7e",
   "metadata": {},
   "outputs": [
    {
     "data": {
      "text/plain": [
       "['b', 'r', ' ', 'c', ' ', 'd', 'b', 'r']"
      ]
     },
     "execution_count": 38,
     "metadata": {},
     "output_type": "execute_result"
    }
   ],
   "source": [
    "list(filterOutput)"
   ]
  },
  {
   "cell_type": "code",
   "execution_count": 41,
   "id": "dfec3b95",
   "metadata": {},
   "outputs": [
    {
     "data": {
      "text/plain": [
       "[True, False, True, False, True, True]"
      ]
     },
     "execution_count": 41,
     "metadata": {},
     "output_type": "execute_result"
    }
   ],
   "source": [
    "# Another way to understand filter function\n",
    "list(map(filter_vowels,'mayank'))"
   ]
  },
  {
   "cell_type": "code",
   "execution_count": 44,
   "id": "d709ef45",
   "metadata": {},
   "outputs": [
    {
     "data": {
      "text/plain": [
       "['m', 'y', 'n', 'k']"
      ]
     },
     "execution_count": 44,
     "metadata": {},
     "output_type": "execute_result"
    }
   ],
   "source": [
    "list(filter(filter_vowels,'mayank')) # only returning values where the map function returned True"
   ]
  },
  {
   "cell_type": "code",
   "execution_count": 45,
   "id": "1e701aae",
   "metadata": {},
   "outputs": [
    {
     "data": {
      "text/plain": [
       "[1, 4, 9, 16, 25]"
      ]
     },
     "execution_count": 45,
     "metadata": {},
     "output_type": "execute_result"
    }
   ],
   "source": [
    "list(map(lambda x:x*x,[1,2,3,4,5]))"
   ]
  },
  {
   "cell_type": "code",
   "execution_count": 46,
   "id": "56bf8a75",
   "metadata": {},
   "outputs": [
    {
     "data": {
      "text/plain": [
       "[1, 2, 3, 4, 5]"
      ]
     },
     "execution_count": 46,
     "metadata": {},
     "output_type": "execute_result"
    }
   ],
   "source": [
    "list(filter(lambda x:x*x,[1,2,3,4,5]))"
   ]
  },
  {
   "cell_type": "code",
   "execution_count": 47,
   "id": "a472702d",
   "metadata": {},
   "outputs": [
    {
     "data": {
      "text/plain": [
       "[1, 2, 3, 4, 5]"
      ]
     },
     "execution_count": 47,
     "metadata": {},
     "output_type": "execute_result"
    }
   ],
   "source": [
    "list(filter(lambda x:x*x,[0,1,2,3,4,5]))"
   ]
  },
  {
   "cell_type": "markdown",
   "id": "b75873de",
   "metadata": {},
   "source": [
    "#### Always remember that the filter function always return the original values from the given iterable. It can use the function & do calculations like square but based on the condition of those results (i.e. True/False), it would always return the original values from the passed iterable."
   ]
  },
  {
   "cell_type": "code",
   "execution_count": 50,
   "id": "1dfe32a6",
   "metadata": {},
   "outputs": [
    {
     "data": {
      "text/plain": [
       "[]"
      ]
     },
     "execution_count": 50,
     "metadata": {},
     "output_type": "execute_result"
    }
   ],
   "source": [
    "# A filter function that don't let pass anything\n",
    "list(filter(lambda x: 0, [0,1,2,5,4,8,7,64]))"
   ]
  },
  {
   "cell_type": "code",
   "execution_count": 55,
   "id": "c63d34a0",
   "metadata": {},
   "outputs": [
    {
     "data": {
      "text/plain": [
       "[0, 1, 2, 5, 4, 8, 7, 64]"
      ]
     },
     "execution_count": 55,
     "metadata": {},
     "output_type": "execute_result"
    }
   ],
   "source": [
    "# A filter function that passes everything\n",
    "list(filter(lambda x: 1, [0,1,2,5,4,8,7,64])) # even when 0 is passed. We tricked the logic of function which always passes True \n",
    "# for every value."
   ]
  },
  {
   "cell_type": "markdown",
   "id": "c8292413",
   "metadata": {},
   "source": [
    "### Enumerate function"
   ]
  },
  {
   "cell_type": "code",
   "execution_count": 56,
   "id": "d6d0e0bf",
   "metadata": {},
   "outputs": [
    {
     "name": "stdout",
     "output_type": "stream",
     "text": [
      "index is 0 and elem is k\n",
      "index is 1 and elem is a\n",
      "index is 2 and elem is r\n",
      "index is 3 and elem is a\n",
      "index is 4 and elem is n\n"
     ]
    }
   ],
   "source": [
    "index = 0\n",
    "\n",
    "for elem in 'karan':\n",
    "    print(f'index is {index} and elem is {elem}')\n",
    "    index+=1"
   ]
  },
  {
   "cell_type": "code",
   "execution_count": 57,
   "id": "71d3b6b8",
   "metadata": {},
   "outputs": [
    {
     "data": {
      "text/plain": [
       "<enumerate at 0x1ebe17c3ab0>"
      ]
     },
     "execution_count": 57,
     "metadata": {},
     "output_type": "execute_result"
    }
   ],
   "source": [
    "enumerate('karan')"
   ]
  },
  {
   "cell_type": "code",
   "execution_count": 64,
   "id": "a27c3ffc",
   "metadata": {},
   "outputs": [
    {
     "data": {
      "text/plain": [
       "[(0, 'k'), (1, 'a'), (2, 'r'), (3, 'a'), (4, 'n')]"
      ]
     },
     "execution_count": 64,
     "metadata": {},
     "output_type": "execute_result"
    }
   ],
   "source": [
    "list(enumerate('karan')) # it is giving us iterable of tuples (as we can also use tuple function instead of list)"
   ]
  },
  {
   "cell_type": "code",
   "execution_count": 59,
   "id": "b8e6daa4",
   "metadata": {},
   "outputs": [],
   "source": [
    "newList = list(enumerate('karan'))"
   ]
  },
  {
   "cell_type": "code",
   "execution_count": 65,
   "id": "f97f36c7",
   "metadata": {},
   "outputs": [],
   "source": [
    "a,b = (1,2)"
   ]
  },
  {
   "cell_type": "code",
   "execution_count": 67,
   "id": "d50b40bb",
   "metadata": {},
   "outputs": [
    {
     "data": {
      "text/plain": [
       "(1, 2)"
      ]
     },
     "execution_count": 67,
     "metadata": {},
     "output_type": "execute_result"
    }
   ],
   "source": [
    "a,b"
   ]
  },
  {
   "cell_type": "code",
   "execution_count": 68,
   "id": "532a4334",
   "metadata": {},
   "outputs": [
    {
     "name": "stdout",
     "output_type": "stream",
     "text": [
      "1\n",
      "2\n"
     ]
    }
   ],
   "source": [
    "print(a,b,sep=\"\\n\")"
   ]
  },
  {
   "cell_type": "code",
   "execution_count": 62,
   "id": "5b040457",
   "metadata": {},
   "outputs": [
    {
     "name": "stdout",
     "output_type": "stream",
     "text": [
      "index is 0 and elem is k\n",
      "index is 1 and elem is a\n",
      "index is 2 and elem is r\n",
      "index is 3 and elem is a\n",
      "index is 4 and elem is n\n"
     ]
    }
   ],
   "source": [
    "for i,v in newList:\n",
    "    print(f'index is {i} and elem is {v}')"
   ]
  },
  {
   "cell_type": "code",
   "execution_count": 69,
   "id": "be80ca55",
   "metadata": {},
   "outputs": [
    {
     "name": "stdout",
     "output_type": "stream",
     "text": [
      "index is 0 and element is a\n",
      "index is 1 and element is b\n",
      "index is 2 and element is r\n",
      "index is 3 and element is a\n",
      "index is 4 and element is  \n",
      "index is 5 and element is c\n",
      "index is 6 and element is a\n",
      "index is 7 and element is  \n",
      "index is 8 and element is d\n",
      "index is 9 and element is a\n",
      "index is 10 and element is b\n",
      "index is 11 and element is r\n",
      "index is 12 and element is a\n"
     ]
    }
   ],
   "source": [
    "for index, element in list(enumerate(\"abra ca dabra\")):\n",
    "    print(f'index is {index} and element is {element}')"
   ]
  },
  {
   "cell_type": "code",
   "execution_count": 70,
   "id": "21f8713e",
   "metadata": {},
   "outputs": [
    {
     "data": {
      "text/plain": [
       "[(2, 'p'), (3, 'y'), (4, 't'), (5, 'h'), (6, 'o'), (7, 'n')]"
      ]
     },
     "execution_count": 70,
     "metadata": {},
     "output_type": "execute_result"
    }
   ],
   "source": [
    "list(enumerate('python',2))"
   ]
  },
  {
   "cell_type": "code",
   "execution_count": 72,
   "id": "22e884a4",
   "metadata": {},
   "outputs": [
    {
     "name": "stdout",
     "output_type": "stream",
     "text": [
      "index is 1 and element is p\n",
      "index is 2 and element is y\n",
      "index is 3 and element is t\n",
      "index is 4 and element is h\n",
      "index is 5 and element is o\n",
      "index is 6 and element is n\n"
     ]
    }
   ],
   "source": [
    "for index,element in list(enumerate('python',1)): # if we want to start indexing with 1\n",
    "    print(f'index is {index} and element is {element}')"
   ]
  },
  {
   "cell_type": "code",
   "execution_count": 1,
   "id": "4be0ab93",
   "metadata": {},
   "outputs": [],
   "source": [
    "from functools import reduce"
   ]
  },
  {
   "cell_type": "code",
   "execution_count": 3,
   "id": "b456d72c",
   "metadata": {},
   "outputs": [
    {
     "data": {
      "text/plain": [
       "120"
      ]
     },
     "execution_count": 3,
     "metadata": {},
     "output_type": "execute_result"
    }
   ],
   "source": [
    "reduce(lambda x,y : x*y, [1,2,3,4,5])"
   ]
  },
  {
   "cell_type": "code",
   "execution_count": 4,
   "id": "0783d732",
   "metadata": {},
   "outputs": [
    {
     "data": {
      "text/plain": [
       "15"
      ]
     },
     "execution_count": 4,
     "metadata": {},
     "output_type": "execute_result"
    }
   ],
   "source": [
    "reduce(lambda x,y : x+y, [1,2,3,4,5])"
   ]
  }
 ],
 "metadata": {
  "kernelspec": {
   "display_name": "Python 3",
   "language": "python",
   "name": "python3"
  },
  "language_info": {
   "codemirror_mode": {
    "name": "ipython",
    "version": 3
   },
   "file_extension": ".py",
   "mimetype": "text/x-python",
   "name": "python",
   "nbconvert_exporter": "python",
   "pygments_lexer": "ipython3",
   "version": "3.12.0"
  }
 },
 "nbformat": 4,
 "nbformat_minor": 5
}
