{
 "cells": [
  {
   "cell_type": "markdown",
   "id": "f178fd9f",
   "metadata": {},
   "source": [
    "### More examples on Inheritance"
   ]
  },
  {
   "cell_type": "code",
   "execution_count": 27,
   "id": "647048bc",
   "metadata": {},
   "outputs": [],
   "source": [
    "class User:\n",
    "    def __init__(self):\n",
    "        print('User constructor')\n",
    "        self.website = 'www.flipkart.com'\n",
    "        self._field = 'ecommerce' # protected Member\n",
    "        self.__duration = '12 months' # Private\n",
    "        self.__name = 'flipkart User'\n",
    "\n",
    "    def login(self):\n",
    "        print('logged in')\n",
    "\n",
    "    def logout(self):\n",
    "        print('logged out')"
   ]
  },
  {
   "cell_type": "code",
   "execution_count": 35,
   "id": "e46cd29d",
   "metadata": {},
   "outputs": [],
   "source": [
    "class Buyer(User):\n",
    "    def __init__(self):\n",
    "        print('Buyer constructor')\n",
    "        super().__init__()\n",
    "        self.name = 'karan'\n",
    "        print(f'Available properties: {self.name} and {self.website} and {self._field}')\n",
    "        self.website = 'www.amazon.in'\n",
    "        print(f'Available properties: {self.name} and {self.website} and {self._field}')\n",
    "        self.__name = 'Buyer'\n",
    "\n",
    "    def login(self):\n",
    "        super().logout()\n",
    "\n",
    "        print('mentor logged in')\n",
    "        print(self._field) # accessible\n",
    "        # print(self.__duration) # Not Accessible\n",
    "        print(self._User__duration) # Tip to call private variable of a class\n",
    "        print(self.__name) # accessible but from buyer class"
   ]
  },
  {
   "cell_type": "code",
   "execution_count": 36,
   "id": "f7f7ee2b",
   "metadata": {},
   "outputs": [
    {
     "name": "stdout",
     "output_type": "stream",
     "text": [
      "Buyer constructor\n",
      "User constructor\n",
      "Available properties: karan and www.flipkart.com and ecommerce\n",
      "Available properties: karan and www.amazon.in and ecommerce\n"
     ]
    }
   ],
   "source": [
    "b1 = Buyer()"
   ]
  },
  {
   "cell_type": "code",
   "execution_count": 37,
   "id": "bb4881fd",
   "metadata": {},
   "outputs": [
    {
     "name": "stdout",
     "output_type": "stream",
     "text": [
      "logged out\n",
      "mentor logged in\n",
      "ecommerce\n",
      "12 months\n",
      "Buyer\n"
     ]
    }
   ],
   "source": [
    "b1.login()"
   ]
  },
  {
   "cell_type": "code",
   "execution_count": 44,
   "id": "f230c997",
   "metadata": {},
   "outputs": [
    {
     "data": {
      "text/plain": [
       "('karan', 'www.amazon.in', 'ecommerce')"
      ]
     },
     "execution_count": 44,
     "metadata": {},
     "output_type": "execute_result"
    }
   ],
   "source": [
    "b1.name, b1.website, b1._field"
   ]
  },
  {
   "cell_type": "code",
   "execution_count": 46,
   "id": "5a4beefc",
   "metadata": {},
   "outputs": [
    {
     "data": {
      "text/plain": [
       "('Buyer', '12 months')"
      ]
     },
     "execution_count": 46,
     "metadata": {},
     "output_type": "execute_result"
    }
   ],
   "source": [
    "# Tip: How to call private properties of a class\n",
    "b1._Buyer__name, b1._User__duration"
   ]
  }
 ],
 "metadata": {
  "kernelspec": {
   "display_name": "Python 3",
   "language": "python",
   "name": "python3"
  },
  "language_info": {
   "codemirror_mode": {
    "name": "ipython",
    "version": 3
   },
   "file_extension": ".py",
   "mimetype": "text/x-python",
   "name": "python",
   "nbconvert_exporter": "python",
   "pygments_lexer": "ipython3",
   "version": "3.12.0"
  }
 },
 "nbformat": 4,
 "nbformat_minor": 5
}
