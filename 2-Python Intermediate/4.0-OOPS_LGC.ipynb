{
 "cells": [
  {
   "cell_type": "markdown",
   "id": "063e09f1",
   "metadata": {},
   "source": [
    "### OOPS\n",
    "\n",
    "> LGC"
   ]
  },
  {
   "cell_type": "code",
   "execution_count": 1,
   "id": "4cfa39d1",
   "metadata": {},
   "outputs": [],
   "source": [
    "# Have we seen class before?"
   ]
  },
  {
   "cell_type": "code",
   "execution_count": 2,
   "id": "b45373ae",
   "metadata": {},
   "outputs": [],
   "source": [
    "a = 5"
   ]
  },
  {
   "cell_type": "code",
   "execution_count": 3,
   "id": "d5c3ffd6",
   "metadata": {},
   "outputs": [
    {
     "name": "stdout",
     "output_type": "stream",
     "text": [
      "<class 'int'>\n"
     ]
    }
   ],
   "source": [
    "print(type(a))"
   ]
  },
  {
   "cell_type": "code",
   "execution_count": 4,
   "id": "b3eb6b0e",
   "metadata": {},
   "outputs": [
    {
     "name": "stdout",
     "output_type": "stream",
     "text": [
      "<class 'dict'>\n"
     ]
    }
   ],
   "source": [
    "myList = {}\n",
    "print(type(myList))"
   ]
  },
  {
   "cell_type": "code",
   "execution_count": 5,
   "id": "6583008b",
   "metadata": {},
   "outputs": [],
   "source": [
    "class Car:\n",
    "    pass"
   ]
  },
  {
   "cell_type": "code",
   "execution_count": 6,
   "id": "37cb075a",
   "metadata": {},
   "outputs": [],
   "source": [
    "class Car:\n",
    "    def start():\n",
    "        print(\"car started\")\n",
    "    def stop():\n",
    "        print('car stopped')"
   ]
  },
  {
   "cell_type": "code",
   "execution_count": 7,
   "id": "549600fe",
   "metadata": {},
   "outputs": [],
   "source": [
    "car1 = Car() # object of class Car"
   ]
  },
  {
   "cell_type": "code",
   "execution_count": 8,
   "id": "39f3fcac",
   "metadata": {},
   "outputs": [
    {
     "name": "stdout",
     "output_type": "stream",
     "text": [
      "<class '__main__.Car'>\n"
     ]
    }
   ],
   "source": [
    "print(type(car1))"
   ]
  },
  {
   "cell_type": "code",
   "execution_count": 9,
   "id": "de37113c",
   "metadata": {},
   "outputs": [],
   "source": [
    "wagonR = Car()"
   ]
  },
  {
   "cell_type": "code",
   "execution_count": 10,
   "id": "8520bcff",
   "metadata": {},
   "outputs": [
    {
     "name": "stdout",
     "output_type": "stream",
     "text": [
      "<class '__main__.Car'>\n"
     ]
    }
   ],
   "source": [
    "print(type(wagonR))"
   ]
  },
  {
   "cell_type": "code",
   "execution_count": 11,
   "id": "99ce4fb5",
   "metadata": {},
   "outputs": [],
   "source": [
    "name1 = 'karan'\n",
    "name2 = str()"
   ]
  },
  {
   "cell_type": "code",
   "execution_count": 12,
   "id": "00db3d44",
   "metadata": {},
   "outputs": [
    {
     "name": "stdout",
     "output_type": "stream",
     "text": [
      "<class 'str'>\n",
      "<class 'str'>\n"
     ]
    }
   ],
   "source": [
    "print(type(name1))\n",
    "print(type(name2))"
   ]
  },
  {
   "cell_type": "code",
   "execution_count": 13,
   "id": "392f0663",
   "metadata": {},
   "outputs": [
    {
     "data": {
      "text/plain": [
       "int"
      ]
     },
     "execution_count": 13,
     "metadata": {},
     "output_type": "execute_result"
    }
   ],
   "source": [
    "b = int()\n",
    "type(b)"
   ]
  },
  {
   "cell_type": "code",
   "execution_count": 14,
   "id": "90d3e393",
   "metadata": {},
   "outputs": [
    {
     "data": {
      "text/plain": [
       "0"
      ]
     },
     "execution_count": 14,
     "metadata": {},
     "output_type": "execute_result"
    }
   ],
   "source": [
    "b"
   ]
  },
  {
   "cell_type": "code",
   "execution_count": 15,
   "id": "1d95f9f8",
   "metadata": {},
   "outputs": [],
   "source": [
    "santro = Car()"
   ]
  },
  {
   "cell_type": "code",
   "execution_count": 16,
   "id": "fbf26a20",
   "metadata": {},
   "outputs": [],
   "source": [
    "t1 = ()"
   ]
  },
  {
   "cell_type": "code",
   "execution_count": 17,
   "id": "2016c9d0",
   "metadata": {},
   "outputs": [
    {
     "name": "stdout",
     "output_type": "stream",
     "text": [
      "<class 'tuple'>\n"
     ]
    }
   ],
   "source": [
    "print(type(t1))"
   ]
  },
  {
   "cell_type": "code",
   "execution_count": 18,
   "id": "4cafe77d",
   "metadata": {},
   "outputs": [],
   "source": [
    "s1 = ''"
   ]
  },
  {
   "cell_type": "code",
   "execution_count": 19,
   "id": "5eb154fe",
   "metadata": {},
   "outputs": [
    {
     "name": "stdout",
     "output_type": "stream",
     "text": [
      "<class 'str'>\n"
     ]
    }
   ],
   "source": [
    "print(type(s1))"
   ]
  },
  {
   "cell_type": "code",
   "execution_count": 20,
   "id": "b81aa0bb",
   "metadata": {},
   "outputs": [
    {
     "name": "stdout",
     "output_type": "stream",
     "text": [
      "Error encountered: Car.start() takes 0 positional arguments but 1 was given\n"
     ]
    }
   ],
   "source": [
    "try:\n",
    "    santro.start()\n",
    "except Exception as e:\n",
    "    print(f'Error encountered: {e}')"
   ]
  },
  {
   "cell_type": "code",
   "execution_count": 21,
   "id": "bdb79605",
   "metadata": {},
   "outputs": [
    {
     "data": {
      "text/plain": [
       "{}"
      ]
     },
     "execution_count": 21,
     "metadata": {},
     "output_type": "execute_result"
    }
   ],
   "source": [
    "myList"
   ]
  },
  {
   "cell_type": "code",
   "execution_count": 22,
   "id": "80ac0e82",
   "metadata": {},
   "outputs": [],
   "source": [
    "myList.clear()"
   ]
  },
  {
   "cell_type": "code",
   "execution_count": 23,
   "id": "3695ae74",
   "metadata": {},
   "outputs": [],
   "source": [
    "def sum():\n",
    "    pass"
   ]
  },
  {
   "cell_type": "code",
   "execution_count": 24,
   "id": "76c5257a",
   "metadata": {},
   "outputs": [],
   "source": [
    "# This is an empty function. When we call this function, nothing will happen.\n",
    "sum()"
   ]
  },
  {
   "cell_type": "code",
   "execution_count": 25,
   "id": "d986a043",
   "metadata": {},
   "outputs": [],
   "source": [
    "class ATM:\n",
    "\n",
    "    def __init__(self):\n",
    "        pass"
   ]
  },
  {
   "cell_type": "code",
   "execution_count": 26,
   "id": "38eab955",
   "metadata": {},
   "outputs": [],
   "source": [
    "class ATMv1:\n",
    "\n",
    "    def __init__(self):\n",
    "        print('creating an object of class ATM for you')"
   ]
  },
  {
   "cell_type": "code",
   "execution_count": 27,
   "id": "75bf6c90",
   "metadata": {},
   "outputs": [
    {
     "name": "stdout",
     "output_type": "stream",
     "text": [
      "creating an object of class ATM for you\n"
     ]
    }
   ],
   "source": [
    "sbi = ATMv1()"
   ]
  },
  {
   "cell_type": "markdown",
   "id": "d637325a",
   "metadata": {},
   "source": [
    "##### Did we call the __init__ function explicitly or even implicitly?"
   ]
  },
  {
   "cell_type": "code",
   "execution_count": 28,
   "id": "85bcddf4",
   "metadata": {},
   "outputs": [
    {
     "name": "stdout",
     "output_type": "stream",
     "text": [
      "creating an object of class ATM for you\n"
     ]
    }
   ],
   "source": [
    "hdfc = ATMv1()"
   ]
  },
  {
   "cell_type": "code",
   "execution_count": 29,
   "id": "c284b2e4",
   "metadata": {},
   "outputs": [
    {
     "name": "stdout",
     "output_type": "stream",
     "text": [
      "creating an object of class ATM for you\n"
     ]
    }
   ],
   "source": [
    "axis = ATMv1()"
   ]
  },
  {
   "cell_type": "code",
   "execution_count": 30,
   "id": "ad89ba01",
   "metadata": {},
   "outputs": [],
   "source": [
    "class ATMv2:\n",
    "\n",
    "    def __init__(self):\n",
    "        print('I am a magic method, you didn\\'t call me but I still got called.')\n",
    "        print('creating an object of class ATM for you')\n",
    "    def checkBalance():\n",
    "        print('balance is 0')\n",
    "    def chnagePin():\n",
    "        print('do you want to change your pin?')    "
   ]
  },
  {
   "cell_type": "code",
   "execution_count": 31,
   "id": "4d0b694b",
   "metadata": {},
   "outputs": [
    {
     "name": "stdout",
     "output_type": "stream",
     "text": [
      "I am a magic method, you didn't call me but I still got called.\n",
      "creating an object of class ATM for you\n"
     ]
    }
   ],
   "source": [
    "sbiV2 = ATMv2()"
   ]
  },
  {
   "cell_type": "code",
   "execution_count": 32,
   "id": "a4bdccf0",
   "metadata": {},
   "outputs": [
    {
     "name": "stdout",
     "output_type": "stream",
     "text": [
      "I am a magic method, you didn't call me but I still got called.\n",
      "creating an object of class ATM for you\n"
     ]
    }
   ],
   "source": [
    "axisV2 = ATMv2()"
   ]
  },
  {
   "cell_type": "code",
   "execution_count": 33,
   "id": "a9c21afb",
   "metadata": {},
   "outputs": [
    {
     "name": "stdout",
     "output_type": "stream",
     "text": [
      "I am a magic method, you didn't call me but I still got called.\n",
      "creating an object of class ATM for you\n"
     ]
    }
   ],
   "source": [
    "hdfcV2 = ATMv2()"
   ]
  },
  {
   "cell_type": "code",
   "execution_count": 34,
   "id": "e38b8aea",
   "metadata": {},
   "outputs": [],
   "source": [
    "class ATMv3:\n",
    "\n",
    "    def __init__(self):\n",
    "        print('creating an object of class ATM for you')\n",
    "    def checkBalance():\n",
    "        print('balance is 0')\n",
    "    def chnagePin():\n",
    "        print('do you want to change your pin?')\n",
    "    def __myFunction__():\n",
    "        print('by using __, this method doesn\\'t become init method ')    "
   ]
  },
  {
   "cell_type": "code",
   "execution_count": 35,
   "id": "f2bbfaaf",
   "metadata": {},
   "outputs": [
    {
     "name": "stdout",
     "output_type": "stream",
     "text": [
      "['__add__', '__class__', '__class_getitem__', '__contains__', '__delattr__', '__delitem__', '__dir__', '__doc__', '__eq__', '__format__', '__ge__', '__getattribute__', '__getitem__', '__getstate__', '__gt__', '__hash__', '__iadd__', '__imul__', '__init__', '__init_subclass__', '__iter__', '__le__', '__len__', '__lt__', '__mul__', '__ne__', '__new__', '__reduce__', '__reduce_ex__', '__repr__', '__reversed__', '__rmul__', '__setattr__', '__setitem__', '__sizeof__', '__str__', '__subclasshook__', 'append', 'clear', 'copy', 'count', 'extend', 'index', 'insert', 'pop', 'remove', 'reverse', 'sort']\n"
     ]
    }
   ],
   "source": [
    "print(dir(list()))"
   ]
  },
  {
   "cell_type": "code",
   "execution_count": 36,
   "id": "57f60fee",
   "metadata": {},
   "outputs": [
    {
     "name": "stdout",
     "output_type": "stream",
     "text": [
      "['__abs__', '__add__', '__and__', '__bool__', '__ceil__', '__class__', '__delattr__', '__dir__', '__divmod__', '__doc__', '__eq__', '__float__', '__floor__', '__floordiv__', '__format__', '__ge__', '__getattribute__', '__getnewargs__', '__getstate__', '__gt__', '__hash__', '__index__', '__init__', '__init_subclass__', '__int__', '__invert__', '__le__', '__lshift__', '__lt__', '__mod__', '__mul__', '__ne__', '__neg__', '__new__', '__or__', '__pos__', '__pow__', '__radd__', '__rand__', '__rdivmod__', '__reduce__', '__reduce_ex__', '__repr__', '__rfloordiv__', '__rlshift__', '__rmod__', '__rmul__', '__ror__', '__round__', '__rpow__', '__rrshift__', '__rshift__', '__rsub__', '__rtruediv__', '__rxor__', '__setattr__', '__sizeof__', '__str__', '__sub__', '__subclasshook__', '__truediv__', '__trunc__', '__xor__', 'as_integer_ratio', 'bit_count', 'bit_length', 'conjugate', 'denominator', 'from_bytes', 'imag', 'is_integer', 'numerator', 'real', 'to_bytes']\n"
     ]
    }
   ],
   "source": [
    "print(dir(int()))"
   ]
  },
  {
   "cell_type": "code",
   "execution_count": 37,
   "id": "5d419843",
   "metadata": {},
   "outputs": [
    {
     "name": "stdout",
     "output_type": "stream",
     "text": [
      "['__add__', '__class__', '__class_getitem__', '__contains__', '__delattr__', '__dir__', '__doc__', '__eq__', '__format__', '__ge__', '__getattribute__', '__getitem__', '__getnewargs__', '__getstate__', '__gt__', '__hash__', '__init__', '__init_subclass__', '__iter__', '__le__', '__len__', '__lt__', '__mul__', '__ne__', '__new__', '__reduce__', '__reduce_ex__', '__repr__', '__rmul__', '__setattr__', '__sizeof__', '__str__', '__subclasshook__', 'count', 'index']\n"
     ]
    }
   ],
   "source": [
    "print(dir(tuple()))"
   ]
  },
  {
   "cell_type": "markdown",
   "id": "4218d69b",
   "metadata": {},
   "source": [
    "### self"
   ]
  },
  {
   "cell_type": "code",
   "execution_count": 38,
   "id": "39a4f469",
   "metadata": {},
   "outputs": [],
   "source": [
    "a = 5"
   ]
  },
  {
   "cell_type": "code",
   "execution_count": 39,
   "id": "ba89fe8d",
   "metadata": {},
   "outputs": [
    {
     "data": {
      "text/plain": [
       "5"
      ]
     },
     "execution_count": 39,
     "metadata": {},
     "output_type": "execute_result"
    }
   ],
   "source": [
    "a # object of class integer"
   ]
  },
  {
   "cell_type": "code",
   "execution_count": 40,
   "id": "9204b513",
   "metadata": {},
   "outputs": [
    {
     "data": {
      "text/plain": [
       "140706479032888"
      ]
     },
     "execution_count": 40,
     "metadata": {},
     "output_type": "execute_result"
    }
   ],
   "source": [
    "# id means memory object\n",
    "id(a) #if it is an object, it should be stored somewhere"
   ]
  },
  {
   "cell_type": "code",
   "execution_count": 41,
   "id": "9b12a761",
   "metadata": {},
   "outputs": [],
   "source": [
    "def absoluteValue(firstNumber):\n",
    "    print(f'The id of passed object is {id(firstNumber)}')\n",
    "    return abs(firstNumber)"
   ]
  },
  {
   "cell_type": "code",
   "execution_count": 42,
   "id": "752cce5c",
   "metadata": {},
   "outputs": [
    {
     "name": "stdout",
     "output_type": "stream",
     "text": [
      "The id of passed object is 140706479032568\n"
     ]
    },
    {
     "data": {
      "text/plain": [
       "5"
      ]
     },
     "execution_count": 42,
     "metadata": {},
     "output_type": "execute_result"
    }
   ],
   "source": [
    "absoluteValue(-5) #firstNumber is an object as it has an id"
   ]
  },
  {
   "cell_type": "markdown",
   "id": "0ded8645",
   "metadata": {},
   "source": [
    "##### Theory: Everything in python is object. If anything is an object, it will have an address, or id in python terms.\n",
    "\n",
    "##### Hypothesis: Is self (argument in magic method) an object?"
   ]
  },
  {
   "cell_type": "code",
   "execution_count": 43,
   "id": "65d65ec9",
   "metadata": {},
   "outputs": [],
   "source": [
    "class Student:\n",
    "\n",
    "    def __init__(self):\n",
    "        print('I am a student object')\n",
    "        print(f'The id or address of object \\'self\\' is {id(self)}')\n",
    "    def study():\n",
    "        print('okay I will study')\n",
    "    def party():\n",
    "        print('will study tomorrow, let us party')    "
   ]
  },
  {
   "cell_type": "code",
   "execution_count": 44,
   "id": "3dd6fd09",
   "metadata": {},
   "outputs": [
    {
     "name": "stdout",
     "output_type": "stream",
     "text": [
      "I am a student object\n",
      "The id or address of object 'self' is 2109447612240\n"
     ]
    }
   ],
   "source": [
    "s1 = Student()"
   ]
  },
  {
   "cell_type": "markdown",
   "id": "53760ea6",
   "metadata": {},
   "source": [
    "#### Hypothesis proved. self has an id."
   ]
  },
  {
   "cell_type": "code",
   "execution_count": 45,
   "id": "b11dba8d",
   "metadata": {},
   "outputs": [
    {
     "name": "stdout",
     "output_type": "stream",
     "text": [
      "The id or address (memory location) of object 's1' is 2109447612240\n"
     ]
    }
   ],
   "source": [
    "# Is s1 an object?: Yes. So, that means, this should also have an address or id. Let's check.\n",
    "\n",
    "print(f'The id or address (memory location) of object \\'s1\\' is {id(s1)}')"
   ]
  },
  {
   "cell_type": "markdown",
   "id": "df9ccb2a",
   "metadata": {},
   "source": [
    "##### One more observation here:\n",
    "\n",
    "> The address or memory location for both self and s1 object is same, i.e., 2149325794688. Means they are the same object."
   ]
  },
  {
   "cell_type": "code",
   "execution_count": 46,
   "id": "943a0107",
   "metadata": {},
   "outputs": [
    {
     "name": "stdout",
     "output_type": "stream",
     "text": [
      "I am a student object\n",
      "The id or address of object 'self' is 2109423005104\n"
     ]
    }
   ],
   "source": [
    "s2 = Student()"
   ]
  },
  {
   "cell_type": "code",
   "execution_count": 47,
   "id": "6f567979",
   "metadata": {},
   "outputs": [
    {
     "name": "stdout",
     "output_type": "stream",
     "text": [
      "The id or address (memory location) of object 's2' is 2109423005104\n"
     ]
    }
   ],
   "source": [
    "print(f'The id or address (memory location) of object \\'s2\\' is {id(s2)}')"
   ]
  },
  {
   "cell_type": "code",
   "execution_count": 48,
   "id": "e45dedbf",
   "metadata": {},
   "outputs": [
    {
     "name": "stdout",
     "output_type": "stream",
     "text": [
      "Error encountered: Student.study() takes 0 positional arguments but 1 was given\n"
     ]
    }
   ],
   "source": [
    "try:\n",
    "    s1.study()\n",
    "except Exception as e:\n",
    "    print(f'Error encountered: {e}')"
   ]
  },
  {
   "cell_type": "markdown",
   "id": "0798bb32",
   "metadata": {},
   "source": [
    "##### When we didn't even pass an argument, why is it saying that we passed an argument?\n",
    "\n",
    "> Let's try to catch it?"
   ]
  },
  {
   "cell_type": "code",
   "execution_count": 49,
   "id": "a318db26",
   "metadata": {},
   "outputs": [],
   "source": [
    "class Student:\n",
    "\n",
    "    def __init__(self):\n",
    "        print('I am a student object')\n",
    "        print(f'The id or address of object \\'self\\' is {id(self)}')\n",
    "    def study(myArgumentWhichIDidntPass):\n",
    "        print(f'The id of object passed as an argument to study method is {id(myArgumentWhichIDidntPass)}')\n",
    "        print('okay I will study')\n",
    "    def party():\n",
    "        print('will study tomorrow, let us party')    "
   ]
  },
  {
   "cell_type": "code",
   "execution_count": 50,
   "id": "c7aabb89",
   "metadata": {},
   "outputs": [
    {
     "name": "stdout",
     "output_type": "stream",
     "text": [
      "Error encountered: Student.study() takes 0 positional arguments but 1 was given\n"
     ]
    }
   ],
   "source": [
    "try:\n",
    "    s1.study()\n",
    "except Exception as e:\n",
    "    print(f'Error encountered: {e}')"
   ]
  },
  {
   "cell_type": "markdown",
   "id": "16fe9bfc",
   "metadata": {},
   "source": [
    "#### Note: If you make any changes to your class, you have to define it and your object again"
   ]
  },
  {
   "cell_type": "code",
   "execution_count": 51,
   "id": "43230b0f",
   "metadata": {},
   "outputs": [
    {
     "name": "stdout",
     "output_type": "stream",
     "text": [
      "I am a student object\n",
      "The id or address of object 'self' is 2109447773152\n"
     ]
    }
   ],
   "source": [
    "s1 = Student()"
   ]
  },
  {
   "cell_type": "code",
   "execution_count": 52,
   "id": "0cd0066a",
   "metadata": {},
   "outputs": [
    {
     "name": "stdout",
     "output_type": "stream",
     "text": [
      "The id of object passed as an argument to study method is 2109447773152\n",
      "okay I will study\n"
     ]
    }
   ],
   "source": [
    "try:\n",
    "    s1.study()\n",
    "except Exception as e:\n",
    "    print(f'Error encountered: {e}')"
   ]
  },
  {
   "cell_type": "code",
   "execution_count": 53,
   "id": "26b5f5cb",
   "metadata": {},
   "outputs": [
    {
     "name": "stdout",
     "output_type": "stream",
     "text": [
      "The id or address (memory location) of object 's1' is 2109447773152\n"
     ]
    }
   ],
   "source": [
    "print(f'The id or address (memory location) of object \\'s1\\' is {id(s1)}')"
   ]
  },
  {
   "cell_type": "markdown",
   "id": "86d84597",
   "metadata": {},
   "source": [
    "##### One more observation here:\n",
    "\n",
    "> The address or memory location for self, 's1' object and object passed as an argument to study method is same, i.e., 1865297738640. Means they are the same object."
   ]
  },
  {
   "cell_type": "code",
   "execution_count": 54,
   "id": "41e0b99b",
   "metadata": {},
   "outputs": [
    {
     "name": "stdout",
     "output_type": "stream",
     "text": [
      "Error encountered: Student.party() takes 0 positional arguments but 1 was given\n"
     ]
    }
   ],
   "source": [
    "try:\n",
    "    s1.party()\n",
    "except Exception as e:\n",
    "    print(f'Error encountered: {e}')"
   ]
  },
  {
   "cell_type": "code",
   "execution_count": 55,
   "id": "a266c2bb",
   "metadata": {},
   "outputs": [],
   "source": [
    "class Student:\n",
    "\n",
    "    def __init__(self):\n",
    "        print('I am a student object')\n",
    "        print(f'The id or address of object \\'self\\' is {id(self)}')\n",
    "    def study(myArgumentWhichIDidntPass):\n",
    "        print(f'The id of object passed as an argument to study method is {id(myArgumentWhichIDidntPass)}')\n",
    "        print('okay I will study')\n",
    "    def party(self):\n",
    "        print(f'The id of object passed as an argument to party method is {id(self)}')\n",
    "        print(f'We are trying to print the passed object here: {self}')\n",
    "        print('will study tomorrow, let us party')    "
   ]
  },
  {
   "cell_type": "code",
   "execution_count": 56,
   "id": "6a06f4d4",
   "metadata": {},
   "outputs": [
    {
     "name": "stdout",
     "output_type": "stream",
     "text": [
      "I am a student object\n",
      "The id or address of object 'self' is 2109447776080\n"
     ]
    }
   ],
   "source": [
    "s1 = Student()"
   ]
  },
  {
   "cell_type": "code",
   "execution_count": 57,
   "id": "3aeb198c",
   "metadata": {},
   "outputs": [
    {
     "name": "stdout",
     "output_type": "stream",
     "text": [
      "<__main__.Student object at 0x000001EB24E2A750>\n"
     ]
    }
   ],
   "source": [
    "print(s1)"
   ]
  },
  {
   "cell_type": "code",
   "execution_count": 58,
   "id": "f18d2e63",
   "metadata": {},
   "outputs": [
    {
     "name": "stdout",
     "output_type": "stream",
     "text": [
      "The id of object passed as an argument to party method is 2109447776080\n",
      "We are trying to print the passed object here: <__main__.Student object at 0x000001EB24E2A750>\n",
      "will study tomorrow, let us party\n"
     ]
    }
   ],
   "source": [
    "s1.party()"
   ]
  },
  {
   "cell_type": "code",
   "execution_count": 59,
   "id": "bff70b69",
   "metadata": {},
   "outputs": [
    {
     "name": "stdout",
     "output_type": "stream",
     "text": [
      "The id of object passed as an argument to study method is 2109447776080\n",
      "okay I will study\n"
     ]
    }
   ],
   "source": [
    "s1.study()"
   ]
  },
  {
   "cell_type": "code",
   "execution_count": 60,
   "id": "b9672c6d",
   "metadata": {},
   "outputs": [
    {
     "name": "stdout",
     "output_type": "stream",
     "text": [
      "The id or address (memory location) of object 's1' is 2109447776080\n"
     ]
    }
   ],
   "source": [
    "print(f'The id or address (memory location) of object \\'s1\\' is {id(s1)}')"
   ]
  },
  {
   "cell_type": "markdown",
   "id": "320697bc",
   "metadata": {},
   "source": [
    "##### One more observation here:\n",
    "\n",
    "> The address or memory location for self, 's1' object and object passed as an argument to study & even party method is same, i.e., 1865297647840. Means they are the same object."
   ]
  },
  {
   "cell_type": "code",
   "execution_count": 61,
   "id": "0fc96684",
   "metadata": {},
   "outputs": [],
   "source": [
    "class Student:\n",
    "\n",
    "    def __init__(self):\n",
    "        print('I am a student object')\n",
    "        print(f'The id or address of object \\'self\\' is {id(self)}')\n",
    "    def study(abc):\n",
    "        print(f'The id of object passed as an argument to study method is {id(abc)}')\n",
    "        print('okay I will study')\n",
    "    def party(self):\n",
    "        print(f'The id of object passed as an argument to party method is {id(self)}')\n",
    "        print(f'We are trying to print the passed object here: {self}')\n",
    "        print('will study tomorrow, let us party')\n",
    "    def myFunc(self,firstArgument):\n",
    "        print(firstArgument)    "
   ]
  },
  {
   "cell_type": "code",
   "execution_count": 62,
   "id": "c6ba12c7",
   "metadata": {},
   "outputs": [
    {
     "name": "stdout",
     "output_type": "stream",
     "text": [
      "I am a student object\n",
      "The id or address of object 'self' is 2109447948240\n"
     ]
    }
   ],
   "source": [
    "s3 = Student()"
   ]
  },
  {
   "cell_type": "code",
   "execution_count": 63,
   "id": "38278bf8",
   "metadata": {},
   "outputs": [
    {
     "name": "stdout",
     "output_type": "stream",
     "text": [
      "Error encountered: Student.myFunc() missing 1 required positional argument: 'firstArgument'\n"
     ]
    }
   ],
   "source": [
    "try:\n",
    "    s3.myFunc()\n",
    "except Exception as e:\n",
    "    print(f'Error encountered: {e}')"
   ]
  },
  {
   "cell_type": "code",
   "execution_count": 64,
   "id": "f9fbbfbd",
   "metadata": {},
   "outputs": [
    {
     "name": "stdout",
     "output_type": "stream",
     "text": [
      "123\n"
     ]
    }
   ],
   "source": [
    "try:\n",
    "    s3.myFunc(123)\n",
    "except Exception as e:\n",
    "    print(f'Error encountered: {e}')"
   ]
  },
  {
   "cell_type": "code",
   "execution_count": 65,
   "id": "a135e7ef",
   "metadata": {},
   "outputs": [
    {
     "name": "stdout",
     "output_type": "stream",
     "text": [
      "<__main__.Student object at 0x000001EB24E547D0>\n"
     ]
    }
   ],
   "source": [
    "print(s3)"
   ]
  },
  {
   "cell_type": "markdown",
   "id": "5041ce7c",
   "metadata": {},
   "source": [
    "#### Problem Statement: Create a Student class which takes marks of 2 subject and has a function which can calculate their average."
   ]
  },
  {
   "cell_type": "code",
   "execution_count": null,
   "id": "0b5017ab",
   "metadata": {},
   "outputs": [],
   "source": [
    "class SchoolStudent:\n",
    "\n",
    "    def __init__(self): # This is how we define property/data for a class object\n",
    "        print('creating a school student')\n",
    "        self.math = 95\n",
    "        self.science = 92\n",
    "\n",
    "    def __str__(self): # We use this magic function, which gets called, everytime we try to print an object\n",
    "        print(f'the score of math is {self.math}')\n",
    "        print(f'the score of science is {self.science}')\n",
    "        return \"\"\n",
    "\n",
    "    def findAverage(self):\n",
    "        averageMarks = (self.math + self.science)/2\n",
    "        print(f'average is {averageMarks}')"
   ]
  },
  {
   "cell_type": "code",
   "execution_count": 88,
   "id": "44d08360",
   "metadata": {},
   "outputs": [
    {
     "name": "stdout",
     "output_type": "stream",
     "text": [
      "creating a school student\n"
     ]
    }
   ],
   "source": [
    "ss1 = SchoolStudent()"
   ]
  },
  {
   "cell_type": "code",
   "execution_count": 89,
   "id": "2b46db55",
   "metadata": {},
   "outputs": [
    {
     "data": {
      "text/plain": [
       "95"
      ]
     },
     "execution_count": 89,
     "metadata": {},
     "output_type": "execute_result"
    }
   ],
   "source": [
    "ss1.math"
   ]
  },
  {
   "cell_type": "code",
   "execution_count": 90,
   "id": "90c8efee",
   "metadata": {},
   "outputs": [
    {
     "data": {
      "text/plain": [
       "92"
      ]
     },
     "execution_count": 90,
     "metadata": {},
     "output_type": "execute_result"
    }
   ],
   "source": [
    "ss1.science"
   ]
  },
  {
   "cell_type": "code",
   "execution_count": 77,
   "id": "4914571a",
   "metadata": {},
   "outputs": [
    {
     "data": {
      "text/plain": [
       "'karan'"
      ]
     },
     "execution_count": 77,
     "metadata": {},
     "output_type": "execute_result"
    }
   ],
   "source": [
    "ss1.name"
   ]
  },
  {
   "cell_type": "code",
   "execution_count": 84,
   "id": "99cda912",
   "metadata": {},
   "outputs": [
    {
     "name": "stdout",
     "output_type": "stream",
     "text": [
      "average is 93.5\n"
     ]
    }
   ],
   "source": [
    "ss1.findAverage()"
   ]
  },
  {
   "cell_type": "code",
   "execution_count": 91,
   "id": "cde3d27d",
   "metadata": {},
   "outputs": [
    {
     "name": "stdout",
     "output_type": "stream",
     "text": [
      "the score of math is 95\n",
      "the score of science is 92\n",
      "\n"
     ]
    }
   ],
   "source": [
    "print(ss1)"
   ]
  },
  {
   "cell_type": "code",
   "execution_count": 92,
   "id": "2a9efaf6",
   "metadata": {},
   "outputs": [
    {
     "name": "stdout",
     "output_type": "stream",
     "text": [
      "creating a school student\n"
     ]
    }
   ],
   "source": [
    "ss2 = SchoolStudent()"
   ]
  },
  {
   "cell_type": "code",
   "execution_count": 95,
   "id": "24674a5e",
   "metadata": {},
   "outputs": [
    {
     "name": "stdout",
     "output_type": "stream",
     "text": [
      "average is 93.5\n"
     ]
    }
   ],
   "source": [
    "ss2.findAverage()"
   ]
  },
  {
   "cell_type": "code",
   "execution_count": 94,
   "id": "d9fa8dd2",
   "metadata": {},
   "outputs": [
    {
     "name": "stdout",
     "output_type": "stream",
     "text": [
      "creating a school student\n"
     ]
    }
   ],
   "source": [
    "ss3 = SchoolStudent()"
   ]
  },
  {
   "cell_type": "code",
   "execution_count": 97,
   "id": "4f769a8f",
   "metadata": {},
   "outputs": [
    {
     "name": "stdout",
     "output_type": "stream",
     "text": [
      "average is 93.5\n"
     ]
    }
   ],
   "source": [
    "ss3.findAverage()"
   ]
  },
  {
   "cell_type": "code",
   "execution_count": null,
   "id": "3c0ab246",
   "metadata": {},
   "outputs": [
    {
     "data": {
      "text/plain": [
       "95"
      ]
     },
     "execution_count": 93,
     "metadata": {},
     "output_type": "execute_result"
    }
   ],
   "source": [
    "ss2.math # This is a problem. Why?"
   ]
  },
  {
   "cell_type": "markdown",
   "id": "94900b0b",
   "metadata": {},
   "source": [
    "#### We are getting the same marks for ss1 and ss2. However, the idea for class was to just have the blueprint and not copies so that we can define properties or data as per object."
   ]
  },
  {
   "cell_type": "markdown",
   "id": "dcb665cf",
   "metadata": {},
   "source": [
    "### So, what's the solution?"
   ]
  },
  {
   "cell_type": "code",
   "execution_count": 98,
   "id": "15f07ea1",
   "metadata": {},
   "outputs": [],
   "source": [
    "class SchoolStudent2:\n",
    "\n",
    "    def __init__(self,math,science): # This is how we define property/data for a class object\n",
    "        print('creating a school student')\n",
    "        self.math = math\n",
    "        self.science = science\n",
    "\n",
    "    def __str__(self): # We use this magic function, which gets called, everytime we try to print an object\n",
    "        print(f'the score of math is {self.math}')\n",
    "        print(f'the score of science is {self.science}')\n",
    "        return \"\"\n",
    "\n",
    "    def findAverage(self):\n",
    "        averageMarks = (self.math + self.science)/2\n",
    "        print(f'average is {averageMarks}')"
   ]
  },
  {
   "cell_type": "code",
   "execution_count": 99,
   "id": "38a6eead",
   "metadata": {},
   "outputs": [
    {
     "name": "stdout",
     "output_type": "stream",
     "text": [
      "error encountered: SchoolStudent2.__init__() missing 2 required positional arguments: 'math' and 'science'\n"
     ]
    }
   ],
   "source": [
    "try:\n",
    "    ss4 = SchoolStudent2()\n",
    "except Exception as e:\n",
    "    print(f'error encountered: {e}')"
   ]
  },
  {
   "cell_type": "code",
   "execution_count": 100,
   "id": "b2727245",
   "metadata": {},
   "outputs": [
    {
     "name": "stdout",
     "output_type": "stream",
     "text": [
      "creating a school student\n"
     ]
    }
   ],
   "source": [
    "try:\n",
    "    ss4 = SchoolStudent2(95,65)\n",
    "except Exception as e:\n",
    "    print(f'error encountered: {e}')"
   ]
  },
  {
   "cell_type": "code",
   "execution_count": 101,
   "id": "cf3392c2",
   "metadata": {},
   "outputs": [],
   "source": [
    "math = int(input(\"tell me your math marks\"))\n",
    "science = int(input(\"tell me your science marks\"))"
   ]
  },
  {
   "cell_type": "code",
   "execution_count": 102,
   "id": "b456d15d",
   "metadata": {},
   "outputs": [
    {
     "name": "stdout",
     "output_type": "stream",
     "text": [
      "creating a school student\n"
     ]
    }
   ],
   "source": [
    "ss5 = SchoolStudent2(math,science)"
   ]
  },
  {
   "cell_type": "code",
   "execution_count": 103,
   "id": "acbc6469",
   "metadata": {},
   "outputs": [
    {
     "name": "stdout",
     "output_type": "stream",
     "text": [
      "average is 56.5\n"
     ]
    }
   ],
   "source": [
    "ss5.findAverage()"
   ]
  },
  {
   "cell_type": "markdown",
   "id": "35bc03f6",
   "metadata": {},
   "source": [
    "#### What if someone doesn't enter marks. We don't want to give them an error. Let's define some default marks."
   ]
  },
  {
   "cell_type": "code",
   "execution_count": null,
   "id": "10f57d60",
   "metadata": {},
   "outputs": [],
   "source": [
    "# Created another __init__ method and then defining class\n",
    "class SchoolStudentNew:\n",
    "\n",
    "    def __init__(self,math,science): \n",
    "        print('creating a school student')\n",
    "        self.math = math\n",
    "        self.science = science\n",
    "\n",
    "    def __init__(self): # Default values if no data is passed\n",
    "        print('creating a school student')\n",
    "        self.math = 0\n",
    "        self.science = 0\n",
    "\n",
    "    def __str__(self): # We use this magic function, which gets called, everytime we try to print an object\n",
    "        print(f'the score of math is {self.math}')\n",
    "        print(f'the score of science is {self.science}')\n",
    "        return \"\"\n",
    "\n",
    "    def findAverage(self):\n",
    "        averageMarks = (self.math + self.science)/2\n",
    "        print(f'average is {averageMarks}')"
   ]
  },
  {
   "cell_type": "code",
   "execution_count": 105,
   "id": "273f4d7b",
   "metadata": {},
   "outputs": [
    {
     "name": "stdout",
     "output_type": "stream",
     "text": [
      "creating a school student\n"
     ]
    }
   ],
   "source": [
    "ssn = SchoolStudentNew()"
   ]
  },
  {
   "cell_type": "code",
   "execution_count": 106,
   "id": "1e1a0f5a",
   "metadata": {},
   "outputs": [
    {
     "name": "stdout",
     "output_type": "stream",
     "text": [
      "average is 0.0\n"
     ]
    }
   ],
   "source": [
    "ssn.findAverage()"
   ]
  },
  {
   "cell_type": "markdown",
   "id": "fd6d522f",
   "metadata": {},
   "source": [
    "#### Note: We can define multiple constructors provided there arguments are of different length."
   ]
  }
 ],
 "metadata": {
  "kernelspec": {
   "display_name": "Python 3",
   "language": "python",
   "name": "python3"
  },
  "language_info": {
   "codemirror_mode": {
    "name": "ipython",
    "version": 3
   },
   "file_extension": ".py",
   "mimetype": "text/x-python",
   "name": "python",
   "nbconvert_exporter": "python",
   "pygments_lexer": "ipython3",
   "version": "3.12.0"
  }
 },
 "nbformat": 4,
 "nbformat_minor": 5
}
