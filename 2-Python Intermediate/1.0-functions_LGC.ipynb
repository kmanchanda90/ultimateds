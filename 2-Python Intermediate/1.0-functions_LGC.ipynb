{
 "cells": [
  {
   "cell_type": "markdown",
   "id": "2409d39c",
   "metadata": {},
   "source": [
    "## Functions\n",
    "\n",
    "- saves time (less re-writing).\n",
    "- less prone to error while copying and pasting the same code.\n",
    "- less bulky code."
   ]
  },
  {
   "cell_type": "code",
   "execution_count": 1,
   "id": "9e99e3cd",
   "metadata": {},
   "outputs": [],
   "source": [
    "s1 = 'karan'"
   ]
  },
  {
   "cell_type": "code",
   "execution_count": 2,
   "id": "13bde9f6",
   "metadata": {},
   "outputs": [
    {
     "name": "stdout",
     "output_type": "stream",
     "text": [
      "5\n"
     ]
    }
   ],
   "source": [
    "length = 0\n",
    "\n",
    "for i in s1:\n",
    "    length+=1\n",
    "\n",
    "print(length)"
   ]
  },
  {
   "cell_type": "code",
   "execution_count": 3,
   "id": "75032db6",
   "metadata": {},
   "outputs": [
    {
     "name": "stdout",
     "output_type": "stream",
     "text": [
      "6\n"
     ]
    }
   ],
   "source": [
    "s2 = 'python'\n",
    "\n",
    "length = 0\n",
    "\n",
    "for i in s2:\n",
    "    length+=1\n",
    "\n",
    "print(length)"
   ]
  },
  {
   "cell_type": "code",
   "execution_count": 4,
   "id": "9312f0ba",
   "metadata": {},
   "outputs": [
    {
     "name": "stdout",
     "output_type": "stream",
     "text": [
      "13\n"
     ]
    }
   ],
   "source": [
    "s3 = 'i love python'\n",
    "\n",
    "length = 0\n",
    "\n",
    "for i in s3:\n",
    "    length+=1\n",
    "\n",
    "print(length)"
   ]
  },
  {
   "cell_type": "code",
   "execution_count": 5,
   "id": "52cde7f8",
   "metadata": {},
   "outputs": [
    {
     "name": "stdout",
     "output_type": "stream",
     "text": [
      "22\n"
     ]
    }
   ],
   "source": [
    "s4 = 'dsdgsjkhdfsdfjhkregfuy'\n",
    "\n",
    "length = 0\n",
    "\n",
    "for i in s4:\n",
    "    length+=1\n",
    "\n",
    "print(length)"
   ]
  },
  {
   "cell_type": "code",
   "execution_count": 1,
   "id": "08ef0f39",
   "metadata": {},
   "outputs": [],
   "source": [
    "# function definition\n",
    "def myLengthFunc():\n",
    "    print(\"my length is 5\")"
   ]
  },
  {
   "cell_type": "code",
   "execution_count": 2,
   "id": "8a7b7f38",
   "metadata": {},
   "outputs": [
    {
     "name": "stdout",
     "output_type": "stream",
     "text": [
      "my length is 5\n"
     ]
    }
   ],
   "source": [
    "# function calling\n",
    "myLengthFunc()"
   ]
  },
  {
   "cell_type": "markdown",
   "id": "9889e54f",
   "metadata": {},
   "source": [
    "> function definition comes before the function calling."
   ]
  },
  {
   "cell_type": "code",
   "execution_count": null,
   "id": "82569b1a",
   "metadata": {},
   "outputs": [],
   "source": [
    "# function definition which doesn't return anything returns None\n",
    "# The return value is shown when we print the function.\n",
    "def myLengthFunc2(str1):\n",
    "    length = 0\n",
    "\n",
    "    for i in str1:\n",
    "        length+=1\n",
    "\n",
    "    # print(length)"
   ]
  },
  {
   "cell_type": "code",
   "execution_count": 4,
   "id": "51142b3e",
   "metadata": {},
   "outputs": [],
   "source": [
    "s3 = 'i love python'"
   ]
  },
  {
   "cell_type": "code",
   "execution_count": 5,
   "id": "905947ba",
   "metadata": {},
   "outputs": [
    {
     "name": "stdout",
     "output_type": "stream",
     "text": [
      "13\n"
     ]
    }
   ],
   "source": [
    "myLengthFunc2(s3)"
   ]
  },
  {
   "cell_type": "code",
   "execution_count": 6,
   "id": "f64f2a1d",
   "metadata": {},
   "outputs": [
    {
     "name": "stdout",
     "output_type": "stream",
     "text": [
      "3\n",
      "13\n",
      "7\n"
     ]
    }
   ],
   "source": [
    "myLengthFunc2('hat')\n",
    "myLengthFunc2('knick-picking')\n",
    "myLengthFunc2('Hotstar')"
   ]
  },
  {
   "cell_type": "code",
   "execution_count": 11,
   "id": "f31a9f49",
   "metadata": {},
   "outputs": [],
   "source": [
    "def myLengthFunction2Return(str1):\n",
    "\n",
    "    length = 0\n",
    "\n",
    "    for i in str1:\n",
    "        length+=1\n",
    "\n",
    "    return length"
   ]
  },
  {
   "cell_type": "code",
   "execution_count": 10,
   "id": "96ea473c",
   "metadata": {},
   "outputs": [
    {
     "name": "stdout",
     "output_type": "stream",
     "text": [
      "24\n",
      "None\n",
      "24\n"
     ]
    }
   ],
   "source": [
    "print(myLengthFunc2('test is a sum of a and b'))\n",
    "print(myLengthFunction2Return('test is a sum of a and b'))"
   ]
  },
  {
   "cell_type": "markdown",
   "id": "22deadb3",
   "metadata": {},
   "source": [
    "#### Where is this None coming from?"
   ]
  },
  {
   "cell_type": "code",
   "execution_count": null,
   "id": "9825a2fd",
   "metadata": {},
   "outputs": [
    {
     "name": "stdout",
     "output_type": "stream",
     "text": [
      "24\n",
      "None\n",
      "24\n"
     ]
    }
   ],
   "source": [
    "out1 = myLengthFunc2('test is a sum of a and b')\n",
    "out2 = myLengthFunction2Return('test is a sum of a and b')\n",
    "\n",
    "print(out1) # The value 24 is coming as we used the print function inside the function\n",
    "print(out2)"
   ]
  },
  {
   "cell_type": "code",
   "execution_count": 16,
   "id": "4d295056",
   "metadata": {},
   "outputs": [],
   "source": [
    "out1 = myLengthFunc2('test is a sum of a and b')\n",
    "\n",
    "# clear my cache\n",
    "# save something in DB"
   ]
  },
  {
   "cell_type": "code",
   "execution_count": 17,
   "id": "80ae4ee8",
   "metadata": {},
   "outputs": [],
   "source": [
    "out1"
   ]
  },
  {
   "cell_type": "code",
   "execution_count": null,
   "id": "5beb0324",
   "metadata": {},
   "outputs": [
    {
     "name": "stdout",
     "output_type": "stream",
     "text": [
      "None\n"
     ]
    }
   ],
   "source": [
    "print(out1) # When we print a function that does not return anything, we get None"
   ]
  },
  {
   "cell_type": "code",
   "execution_count": 19,
   "id": "12602fa4",
   "metadata": {},
   "outputs": [],
   "source": [
    "out2 = myLengthFunction2Return('test is a sum of a and b')"
   ]
  },
  {
   "cell_type": "code",
   "execution_count": 20,
   "id": "ff1b9225",
   "metadata": {},
   "outputs": [
    {
     "data": {
      "text/plain": [
       "24"
      ]
     },
     "execution_count": 20,
     "metadata": {},
     "output_type": "execute_result"
    }
   ],
   "source": [
    "out2"
   ]
  },
  {
   "cell_type": "code",
   "execution_count": 21,
   "id": "37be9150",
   "metadata": {},
   "outputs": [],
   "source": [
    "def function1():\n",
    "    a = 10\n",
    "    b = 20\n",
    "    return \"No error found\""
   ]
  },
  {
   "cell_type": "code",
   "execution_count": null,
   "id": "d01433d0",
   "metadata": {},
   "outputs": [
    {
     "data": {
      "text/plain": [
       "'No error found'"
      ]
     },
     "execution_count": 22,
     "metadata": {},
     "output_type": "execute_result"
    }
   ],
   "source": [
    "function1() # This is the way Jupyter Notebook prints the return value of a function. Also, see that the returned value is a string with single quotes."
   ]
  },
  {
   "cell_type": "code",
   "execution_count": null,
   "id": "ae3c4165",
   "metadata": {},
   "outputs": [
    {
     "name": "stdout",
     "output_type": "stream",
     "text": [
      "No error found\n"
     ]
    }
   ],
   "source": [
    "print(function1()) # This is the way we print the return value of a function in a normal Python script. It is without any quotes."
   ]
  },
  {
   "cell_type": "code",
   "execution_count": 27,
   "id": "d7839d97",
   "metadata": {},
   "outputs": [],
   "source": [
    "## Test - If we have both print() and return in a function what happens?\n",
    "\n",
    "def function2():\n",
    "    a = 10\n",
    "    b = 20\n",
    "    print(\"No error found - print\")\n",
    "    return \"No error found - return\""
   ]
  },
  {
   "cell_type": "code",
   "execution_count": 28,
   "id": "5e0abf11",
   "metadata": {},
   "outputs": [
    {
     "name": "stdout",
     "output_type": "stream",
     "text": [
      "No error found - print\n"
     ]
    },
    {
     "data": {
      "text/plain": [
       "'No error found - return'"
      ]
     },
     "execution_count": 28,
     "metadata": {},
     "output_type": "execute_result"
    }
   ],
   "source": [
    "function2()"
   ]
  },
  {
   "cell_type": "code",
   "execution_count": 29,
   "id": "10de5a4a",
   "metadata": {},
   "outputs": [
    {
     "name": "stdout",
     "output_type": "stream",
     "text": [
      "No error found - print\n",
      "No error found - return\n"
     ]
    }
   ],
   "source": [
    "print(function2())"
   ]
  },
  {
   "cell_type": "code",
   "execution_count": 45,
   "id": "12929362",
   "metadata": {},
   "outputs": [],
   "source": [
    "def add():\n",
    "    a = input()\n",
    "    b = input()\n",
    "    print(str(a+b))"
   ]
  },
  {
   "cell_type": "code",
   "execution_count": 46,
   "id": "dae392fe",
   "metadata": {},
   "outputs": [
    {
     "name": "stdout",
     "output_type": "stream",
     "text": [
      "510\n"
     ]
    }
   ],
   "source": [
    "add()"
   ]
  },
  {
   "cell_type": "code",
   "execution_count": 47,
   "id": "67998c2b",
   "metadata": {},
   "outputs": [],
   "source": [
    "def add():\n",
    "    a = int(input())\n",
    "    b = int(input())\n",
    "    print(str(a+b))"
   ]
  },
  {
   "cell_type": "code",
   "execution_count": 48,
   "id": "3585de8b",
   "metadata": {},
   "outputs": [
    {
     "name": "stdout",
     "output_type": "stream",
     "text": [
      "15\n"
     ]
    }
   ],
   "source": [
    "add()"
   ]
  },
  {
   "cell_type": "code",
   "execution_count": 35,
   "id": "589cd830",
   "metadata": {},
   "outputs": [
    {
     "data": {
      "text/plain": [
       "3"
      ]
     },
     "execution_count": 35,
     "metadata": {},
     "output_type": "execute_result"
    }
   ],
   "source": [
    "len('abc') # len function returns the length of the string."
   ]
  },
  {
   "cell_type": "code",
   "execution_count": 36,
   "id": "bb399273",
   "metadata": {},
   "outputs": [],
   "source": [
    "d = len('abc') # That's why, we are able to catch that value in a variable."
   ]
  },
  {
   "cell_type": "code",
   "execution_count": 37,
   "id": "309dfdbe",
   "metadata": {},
   "outputs": [
    {
     "data": {
      "text/plain": [
       "3"
      ]
     },
     "execution_count": 37,
     "metadata": {},
     "output_type": "execute_result"
    }
   ],
   "source": [
    "d"
   ]
  },
  {
   "cell_type": "code",
   "execution_count": 49,
   "id": "5a14bd6b",
   "metadata": {},
   "outputs": [],
   "source": [
    "def add2(a, b):\n",
    "    c = a - b\n",
    "    print(str(a - b))\n",
    "    return \"All is well\""
   ]
  },
  {
   "cell_type": "code",
   "execution_count": 53,
   "id": "da2dc0c2",
   "metadata": {},
   "outputs": [
    {
     "name": "stdout",
     "output_type": "stream",
     "text": [
      "-5\n"
     ]
    },
    {
     "data": {
      "text/plain": [
       "'All is well'"
      ]
     },
     "execution_count": 53,
     "metadata": {},
     "output_type": "execute_result"
    }
   ],
   "source": [
    "g = int(input())\n",
    "h = int(input())\n",
    "add2(g, h) # This prints 'All is well' as the Jupyter Notebook uses the last line as the output of the cell."
   ]
  },
  {
   "cell_type": "code",
   "execution_count": 56,
   "id": "ca318b74",
   "metadata": {},
   "outputs": [
    {
     "data": {
      "text/plain": [
       "5"
      ]
     },
     "execution_count": 56,
     "metadata": {},
     "output_type": "execute_result"
    }
   ],
   "source": [
    "# Similar to this code, where we are not printing anything but Jupyter Notebook is printing the last line as it is the output of the cell.\n",
    "a = 5\n",
    "a"
   ]
  },
  {
   "cell_type": "code",
   "execution_count": null,
   "id": "8889102b",
   "metadata": {},
   "outputs": [
    {
     "name": "stdout",
     "output_type": "stream",
     "text": [
      "-5\n",
      "123\n"
     ]
    }
   ],
   "source": [
    "g = int(input())\n",
    "h = int(input())\n",
    "add2(g, h)\n",
    "print(\"123\")"
   ]
  },
  {
   "cell_type": "markdown",
   "id": "ee743404",
   "metadata": {},
   "source": [
    "#### Why the string 'All is well' is not printed?\n",
    "\n",
    "#### Because we are not printing the function add2(g, h)"
   ]
  },
  {
   "cell_type": "code",
   "execution_count": 54,
   "id": "9cc5164b",
   "metadata": {},
   "outputs": [
    {
     "name": "stdout",
     "output_type": "stream",
     "text": [
      "-5\n",
      "All is well\n",
      "123\n"
     ]
    }
   ],
   "source": [
    "g = int(input())\n",
    "h = int(input())\n",
    "print(add2(g, h))\n",
    "print(\"123\")"
   ]
  },
  {
   "cell_type": "code",
   "execution_count": 66,
   "id": "aae9a021",
   "metadata": {},
   "outputs": [
    {
     "name": "stdout",
     "output_type": "stream",
     "text": [
      "-5\n",
      "All is well\n"
     ]
    }
   ],
   "source": [
    "print(add2(g, h))"
   ]
  },
  {
   "cell_type": "code",
   "execution_count": 67,
   "id": "06788ccc",
   "metadata": {},
   "outputs": [
    {
     "name": "stdout",
     "output_type": "stream",
     "text": [
      "-5\n"
     ]
    }
   ],
   "source": [
    "ans = add2(g, h)"
   ]
  },
  {
   "cell_type": "code",
   "execution_count": 68,
   "id": "b41235b9",
   "metadata": {},
   "outputs": [
    {
     "name": "stdout",
     "output_type": "stream",
     "text": [
      "All is well\n"
     ]
    }
   ],
   "source": [
    "print(ans)"
   ]
  },
  {
   "cell_type": "markdown",
   "id": "da833305",
   "metadata": {},
   "source": [
    "### Assignment 1: WAP to create your own length function which takes any iterable and returns the length of it."
   ]
  },
  {
   "cell_type": "code",
   "execution_count": 1,
   "id": "becb0a56",
   "metadata": {},
   "outputs": [],
   "source": [
    "def add4(a, b, c):\n",
    "    c = a-b\n",
    "    return a+b"
   ]
  },
  {
   "cell_type": "code",
   "execution_count": 2,
   "id": "62cf62ce",
   "metadata": {},
   "outputs": [
    {
     "name": "stdout",
     "output_type": "stream",
     "text": [
      "add4() missing 1 required positional argument: 'c'\n"
     ]
    }
   ],
   "source": [
    "try:\n",
    "    add4(1, 2)\n",
    "except Exception as e:\n",
    "    print(e)"
   ]
  },
  {
   "cell_type": "code",
   "execution_count": 3,
   "id": "83cbdb34",
   "metadata": {},
   "outputs": [
    {
     "name": "stdout",
     "output_type": "stream",
     "text": [
      "add4() missing 2 required positional arguments: 'b' and 'c'\n"
     ]
    }
   ],
   "source": [
    "try:\n",
    "    add4(1)\n",
    "except Exception as e:\n",
    "    print(e)"
   ]
  },
  {
   "cell_type": "markdown",
   "id": "d5822577",
   "metadata": {},
   "source": [
    "#### a, b, c are positional arguments"
   ]
  },
  {
   "cell_type": "code",
   "execution_count": 4,
   "id": "1d011cca",
   "metadata": {},
   "outputs": [
    {
     "name": "stdout",
     "output_type": "stream",
     "text": [
      "--\n"
     ]
    }
   ],
   "source": [
    "add4(1, 2, 3)\n",
    "print(\"--\")"
   ]
  },
  {
   "cell_type": "code",
   "execution_count": 5,
   "id": "d6a2d7e8",
   "metadata": {},
   "outputs": [
    {
     "data": {
      "text/plain": [
       "3"
      ]
     },
     "execution_count": 5,
     "metadata": {},
     "output_type": "execute_result"
    }
   ],
   "source": [
    "add4(1,2,3)"
   ]
  },
  {
   "cell_type": "code",
   "execution_count": 6,
   "id": "ec61a667",
   "metadata": {},
   "outputs": [
    {
     "data": {
      "text/plain": [
       "5"
      ]
     },
     "execution_count": 6,
     "metadata": {},
     "output_type": "execute_result"
    }
   ],
   "source": [
    "add4(3,2,1)"
   ]
  },
  {
   "cell_type": "markdown",
   "id": "817b2c83",
   "metadata": {},
   "source": [
    "### Keyword arguments"
   ]
  },
  {
   "cell_type": "code",
   "execution_count": 7,
   "id": "91b55330",
   "metadata": {},
   "outputs": [
    {
     "data": {
      "text/plain": [
       "5"
      ]
     },
     "execution_count": 7,
     "metadata": {},
     "output_type": "execute_result"
    }
   ],
   "source": [
    "add4(a= 2,b= 3,c=1)"
   ]
  },
  {
   "cell_type": "code",
   "execution_count": 9,
   "id": "982b2392",
   "metadata": {},
   "outputs": [
    {
     "data": {
      "text/plain": [
       "5"
      ]
     },
     "execution_count": 9,
     "metadata": {},
     "output_type": "execute_result"
    }
   ],
   "source": [
    "add4(c= 3,b= 1,a= 4)"
   ]
  },
  {
   "cell_type": "code",
   "execution_count": 11,
   "id": "1a6e13c7",
   "metadata": {},
   "outputs": [
    {
     "name": "stdout",
     "output_type": "stream",
     "text": [
      "abc def  ---   @@@ \n"
     ]
    }
   ],
   "source": [
    "print(\"abc\",\"def\",\" --- \",\" @@@ \")"
   ]
  },
  {
   "cell_type": "code",
   "execution_count": 12,
   "id": "1fa8951c",
   "metadata": {},
   "outputs": [
    {
     "name": "stdout",
     "output_type": "stream",
     "text": [
      "abc --- def @@@ "
     ]
    }
   ],
   "source": [
    "print(\"abc\",\"def\",sep=\" --- \",end=\" @@@ \")"
   ]
  },
  {
   "cell_type": "code",
   "execution_count": 14,
   "id": "9734c3a7",
   "metadata": {},
   "outputs": [],
   "source": [
    "def addMyNumbers(firstNumber,secondNumber):\n",
    "    print(firstNumber,secondNumber)"
   ]
  },
  {
   "cell_type": "code",
   "execution_count": 15,
   "id": "650d2874",
   "metadata": {},
   "outputs": [
    {
     "name": "stdout",
     "output_type": "stream",
     "text": [
      "5 10\n"
     ]
    }
   ],
   "source": [
    "addMyNumbers(5,10)"
   ]
  },
  {
   "cell_type": "code",
   "execution_count": 17,
   "id": "ac19557c",
   "metadata": {},
   "outputs": [
    {
     "name": "stdout",
     "output_type": "stream",
     "text": [
      "10 5\n"
     ]
    }
   ],
   "source": [
    "addMyNumbers(secondNumber=5,firstNumber=10)"
   ]
  },
  {
   "cell_type": "markdown",
   "id": "9d508fdd",
   "metadata": {},
   "source": [
    "#### Best practice: Either we use all keyword arguments or we don't use them at all."
   ]
  },
  {
   "cell_type": "code",
   "execution_count": 31,
   "id": "9a2aabc5",
   "metadata": {},
   "outputs": [
    {
     "ename": "SyntaxError",
     "evalue": "positional argument follows keyword argument (3940626335.py, line 1)",
     "output_type": "error",
     "traceback": [
      "  \u001b[36mCell\u001b[39m\u001b[36m \u001b[39m\u001b[32mIn[31]\u001b[39m\u001b[32m, line 1\u001b[39m\n\u001b[31m    \u001b[39m\u001b[31maddMyNumbers(secondNumber=5,10)\u001b[39m\n                                  ^\n\u001b[31mSyntaxError\u001b[39m\u001b[31m:\u001b[39m positional argument follows keyword argument\n"
     ]
    }
   ],
   "source": [
    "addMyNumbers(secondNumber=5,10)"
   ]
  },
  {
   "cell_type": "code",
   "execution_count": 18,
   "id": "e71bfa50",
   "metadata": {},
   "outputs": [],
   "source": [
    "def completeMyNumber(phoneNumber, countryCode):\n",
    "    phoneNumber = str(phoneNumber)\n",
    "    countryCode = str(countryCode)\n",
    "\n",
    "    print(f'{countryCode}-{phoneNumber}')"
   ]
  },
  {
   "cell_type": "code",
   "execution_count": 19,
   "id": "9a83a388",
   "metadata": {},
   "outputs": [
    {
     "name": "stdout",
     "output_type": "stream",
     "text": [
      "+91-956156451\n"
     ]
    }
   ],
   "source": [
    "completeMyNumber(956156451,\"+91\")"
   ]
  },
  {
   "cell_type": "code",
   "execution_count": 20,
   "id": "aeb9b65f",
   "metadata": {},
   "outputs": [
    {
     "name": "stdout",
     "output_type": "stream",
     "text": [
      "error encountered: completeMyNumber() missing 1 required positional argument: 'countryCode'\n",
      "program terminated\n"
     ]
    }
   ],
   "source": [
    "# How usually a user feeds a number:\n",
    "try:\n",
    "    completeMyNumber(655415451)\n",
    "except Exception as e:\n",
    "    print(f'error encountered: {e}')\n",
    "finally:\n",
    "    print('program terminated')"
   ]
  },
  {
   "cell_type": "markdown",
   "id": "67d58bcf",
   "metadata": {},
   "source": [
    "### Default Argument"
   ]
  },
  {
   "cell_type": "code",
   "execution_count": 21,
   "id": "92f78a28",
   "metadata": {},
   "outputs": [],
   "source": [
    "def completeMyNumber1(phoneNumber, countryCode=\"+91\"):\n",
    "    phoneNumber = str(phoneNumber)\n",
    "    countryCode = str(countryCode)\n",
    "\n",
    "    print(f'{countryCode}-{phoneNumber}')"
   ]
  },
  {
   "cell_type": "code",
   "execution_count": 22,
   "id": "54507a5e",
   "metadata": {},
   "outputs": [
    {
     "name": "stdout",
     "output_type": "stream",
     "text": [
      "+91-9515154151\n"
     ]
    }
   ],
   "source": [
    "completeMyNumber1(9515154151)"
   ]
  },
  {
   "cell_type": "code",
   "execution_count": 23,
   "id": "ab2bc89b",
   "metadata": {},
   "outputs": [
    {
     "name": "stdout",
     "output_type": "stream",
     "text": [
      "+01-54515\n"
     ]
    }
   ],
   "source": [
    "completeMyNumber1(54515,\"+01\")"
   ]
  },
  {
   "cell_type": "code",
   "execution_count": 24,
   "id": "ca4daf0a",
   "metadata": {},
   "outputs": [
    {
     "name": "stdout",
     "output_type": "stream",
     "text": [
      "hello world hello world\n"
     ]
    }
   ],
   "source": [
    "print(\"hello world\",\"hello world\")"
   ]
  },
  {
   "cell_type": "code",
   "execution_count": 25,
   "id": "ca444c28",
   "metadata": {},
   "outputs": [
    {
     "name": "stdout",
     "output_type": "stream",
     "text": [
      "hello world@@hello world\n"
     ]
    }
   ],
   "source": [
    "print(\"hello world\",\"hello world\",sep=\"@@\")"
   ]
  },
  {
   "cell_type": "markdown",
   "id": "8c834964",
   "metadata": {},
   "source": [
    "#### Note: The default value can be masked or overshadowed."
   ]
  },
  {
   "cell_type": "markdown",
   "id": "68fe9c2c",
   "metadata": {},
   "source": [
    "#### How not to define a function?"
   ]
  },
  {
   "cell_type": "code",
   "execution_count": 26,
   "id": "4f3f441d",
   "metadata": {},
   "outputs": [
    {
     "ename": "SyntaxError",
     "evalue": "parameter without a default follows parameter with a default (216055557.py, line 1)",
     "output_type": "error",
     "traceback": [
      "  \u001b[36mCell\u001b[39m\u001b[36m \u001b[39m\u001b[32mIn[26]\u001b[39m\u001b[32m, line 1\u001b[39m\n\u001b[31m    \u001b[39m\u001b[31mdef completeMyNumber2(phoneNumber, countryCode=\"+91\",countryInfo):\u001b[39m\n                                                         ^\n\u001b[31mSyntaxError\u001b[39m\u001b[31m:\u001b[39m parameter without a default follows parameter with a default\n"
     ]
    }
   ],
   "source": [
    "def completeMyNumber2(phoneNumber, countryCode=\"+91\",countryInfo):\n",
    "    phoneNumber = str(phoneNumber)\n",
    "    countryCode = str(countryCode)\n",
    "\n",
    "    print(f'{countryCode}-{phoneNumber}')"
   ]
  },
  {
   "cell_type": "code",
   "execution_count": 27,
   "id": "ad4e1f62",
   "metadata": {},
   "outputs": [],
   "source": [
    "def completeMyNumber2(phoneNumber,countryInfo ,countryCode=\"+91\"):\n",
    "    phoneNumber = str(phoneNumber)\n",
    "    countryCode = str(countryCode)\n",
    "\n",
    "    print(f'{countryCode}-{phoneNumber}')"
   ]
  },
  {
   "cell_type": "code",
   "execution_count": 30,
   "id": "8420721e",
   "metadata": {},
   "outputs": [
    {
     "ename": "SyntaxError",
     "evalue": "positional argument follows keyword argument (1300848726.py, line 2)",
     "output_type": "error",
     "traceback": [
      "  \u001b[36mCell\u001b[39m\u001b[36m \u001b[39m\u001b[32mIn[30]\u001b[39m\u001b[32m, line 2\u001b[39m\n\u001b[31m    \u001b[39m\u001b[31mcompleteMyNumber2(countryCode=\"+1\",985,\"India\")\u001b[39m\n                                                  ^\n\u001b[31mSyntaxError\u001b[39m\u001b[31m:\u001b[39m positional argument follows keyword argument\n"
     ]
    }
   ],
   "source": [
    "try:\n",
    "    completeMyNumber2(countryCode=\"+1\",985,\"India\")\n",
    "except Exception as e:\n",
    "    print(f'error encountered: {e}')"
   ]
  },
  {
   "cell_type": "code",
   "execution_count": 41,
   "id": "491607a0",
   "metadata": {},
   "outputs": [],
   "source": [
    "def add10(a,b,c):\n",
    "    return a,b,c"
   ]
  },
  {
   "cell_type": "code",
   "execution_count": 42,
   "id": "81837cd1",
   "metadata": {},
   "outputs": [
    {
     "ename": "SyntaxError",
     "evalue": "positional argument follows keyword argument (3711970888.py, line 1)",
     "output_type": "error",
     "traceback": [
      "  \u001b[36mCell\u001b[39m\u001b[36m \u001b[39m\u001b[32mIn[42]\u001b[39m\u001b[32m, line 1\u001b[39m\n\u001b[31m    \u001b[39m\u001b[31madd10(5,b=10,15)\u001b[39m\n                   ^\n\u001b[31mSyntaxError\u001b[39m\u001b[31m:\u001b[39m positional argument follows keyword argument\n"
     ]
    }
   ],
   "source": [
    "add10(5,b=10,15)"
   ]
  },
  {
   "cell_type": "code",
   "execution_count": 44,
   "id": "69f9efe5",
   "metadata": {},
   "outputs": [],
   "source": [
    "def sum2(a,b):\n",
    "    return a+b"
   ]
  },
  {
   "cell_type": "code",
   "execution_count": 45,
   "id": "f0127979",
   "metadata": {},
   "outputs": [
    {
     "data": {
      "text/plain": [
       "15"
      ]
     },
     "execution_count": 45,
     "metadata": {},
     "output_type": "execute_result"
    }
   ],
   "source": [
    "sum2(5,10)"
   ]
  },
  {
   "cell_type": "code",
   "execution_count": 46,
   "id": "b1d4f785",
   "metadata": {},
   "outputs": [],
   "source": [
    "def sum3(a,b,c):\n",
    "    return a+b+c"
   ]
  },
  {
   "cell_type": "code",
   "execution_count": 47,
   "id": "9cc607b3",
   "metadata": {},
   "outputs": [
    {
     "data": {
      "text/plain": [
       "13"
      ]
     },
     "execution_count": 47,
     "metadata": {},
     "output_type": "execute_result"
    }
   ],
   "source": [
    "sum3(5,2,6)"
   ]
  },
  {
   "cell_type": "code",
   "execution_count": 48,
   "id": "5937cb31",
   "metadata": {},
   "outputs": [],
   "source": [
    "def sum4(a,b,c,d):\n",
    "    return a+b+c+d"
   ]
  },
  {
   "cell_type": "code",
   "execution_count": 49,
   "id": "b32cb966",
   "metadata": {},
   "outputs": [
    {
     "data": {
      "text/plain": [
       "23"
      ]
     },
     "execution_count": 49,
     "metadata": {},
     "output_type": "execute_result"
    }
   ],
   "source": [
    "sum4(5,4,6,8)"
   ]
  },
  {
   "cell_type": "code",
   "execution_count": 50,
   "id": "bb37a35d",
   "metadata": {},
   "outputs": [],
   "source": [
    "def sum5(a,b,c,d,e):\n",
    "    return a+b+c+d+e"
   ]
  },
  {
   "cell_type": "code",
   "execution_count": 51,
   "id": "70f5f2f4",
   "metadata": {},
   "outputs": [
    {
     "data": {
      "text/plain": [
       "107"
      ]
     },
     "execution_count": 51,
     "metadata": {},
     "output_type": "execute_result"
    }
   ],
   "source": [
    "sum5(5,87,4,6,5)"
   ]
  },
  {
   "cell_type": "code",
   "execution_count": 55,
   "id": "decb3b4c",
   "metadata": {},
   "outputs": [],
   "source": [
    "def sumWhichRulesThemAll(*numbers):\n",
    "    print(type(numbers))\n",
    "    ans = 0\n",
    "    for i in numbers:\n",
    "        ans+=i\n",
    "    return ans "
   ]
  },
  {
   "cell_type": "code",
   "execution_count": 56,
   "id": "b1aed902",
   "metadata": {},
   "outputs": [
    {
     "name": "stdout",
     "output_type": "stream",
     "text": [
      "<class 'tuple'>\n"
     ]
    },
    {
     "data": {
      "text/plain": [
       "7"
      ]
     },
     "execution_count": 56,
     "metadata": {},
     "output_type": "execute_result"
    }
   ],
   "source": [
    "sumWhichRulesThemAll(2,5)"
   ]
  },
  {
   "cell_type": "code",
   "execution_count": 54,
   "id": "c188d749",
   "metadata": {},
   "outputs": [
    {
     "data": {
      "text/plain": [
       "24"
      ]
     },
     "execution_count": 54,
     "metadata": {},
     "output_type": "execute_result"
    }
   ],
   "source": [
    "sumWhichRulesThemAll(1,2,3,5,6,7)"
   ]
  },
  {
   "cell_type": "code",
   "execution_count": 57,
   "id": "c3d47b38",
   "metadata": {},
   "outputs": [
    {
     "name": "stdout",
     "output_type": "stream",
     "text": [
      "hi hello world yo\n"
     ]
    }
   ],
   "source": [
    "print(\"hi\",\"hello\",\"world\",\"yo\")"
   ]
  },
  {
   "cell_type": "markdown",
   "id": "b75cd628",
   "metadata": {},
   "source": [
    "### Keywords Arguments\n",
    "\n",
    "> **kwargs\n",
    "\n",
    "> IMP"
   ]
  },
  {
   "cell_type": "code",
   "execution_count": 4,
   "id": "96f84bd3",
   "metadata": {},
   "outputs": [],
   "source": [
    "def multipleWhichRulesAboveAll(**colorToNumberMapping):\n",
    "    print(type(colorToNumberMapping))\n",
    "    print(colorToNumberMapping)"
   ]
  },
  {
   "cell_type": "code",
   "execution_count": 2,
   "id": "5f3bf674",
   "metadata": {},
   "outputs": [
    {
     "name": "stdout",
     "output_type": "stream",
     "text": [
      "error encountered: multipleWhichRulesAboveAll() takes 0 positional arguments but 3 were given\n"
     ]
    }
   ],
   "source": [
    "try:\n",
    "    multipleWhichRulesAboveAll(1,2,3)\n",
    "except Exception as e:\n",
    "    print(f'error encountered: {e}')"
   ]
  },
  {
   "cell_type": "code",
   "execution_count": 5,
   "id": "69f49c32",
   "metadata": {},
   "outputs": [
    {
     "name": "stdout",
     "output_type": "stream",
     "text": [
      "<class 'dict'>\n",
      "{'red': 1, 'blue': 2, 'pink': 3}\n"
     ]
    }
   ],
   "source": [
    "multipleWhichRulesAboveAll(red=1,blue=2,pink=3)"
   ]
  },
  {
   "cell_type": "markdown",
   "id": "b94f2ce1",
   "metadata": {},
   "source": [
    "#### Use of Keywords Argument\n",
    "\n",
    "#### Option 1: To extract information from json data"
   ]
  },
  {
   "cell_type": "code",
   "execution_count": null,
   "id": "550fafe0",
   "metadata": {},
   "outputs": [],
   "source": [
    "def getTitleAndDescription(**jsonData):\n",
    "    title jsonData['title']\n",
    "\n",
    "jsonData = {\"id\":1, \"title\":\"iphone\"}"
   ]
  },
  {
   "cell_type": "markdown",
   "id": "1cae4ff9",
   "metadata": {},
   "source": [
    "#### Option 2: If we use variable length argument with tuple instead"
   ]
  },
  {
   "cell_type": "code",
   "execution_count": null,
   "id": "a1051210",
   "metadata": {},
   "outputs": [],
   "source": [
    "def getTitleAndDescription(*jsonData):\n",
    "    title = jsonData[1]\n",
    "\n",
    "getTitleAndDescription('iphone9',1,\"An apple mobile which is nothing like apple\")"
   ]
  },
  {
   "cell_type": "markdown",
   "id": "23ad2b82",
   "metadata": {},
   "source": [
    "#### Option 1 is much more better and efficient"
   ]
  },
  {
   "cell_type": "markdown",
   "id": "c79f4f21",
   "metadata": {},
   "source": [
    "### POSITIONAL\n",
    "### KEYWORD\n",
    "### DEFAULT\n",
    "### VARIABLE WORDS\n",
    "### kwargs"
   ]
  },
  {
   "cell_type": "code",
   "execution_count": 10,
   "id": "4891b70b",
   "metadata": {},
   "outputs": [],
   "source": [
    "def information(name,*data):\n",
    "    print(name,data,sep=\"\\n\")"
   ]
  },
  {
   "cell_type": "code",
   "execution_count": 11,
   "id": "a644cb95",
   "metadata": {},
   "outputs": [
    {
     "name": "stdout",
     "output_type": "stream",
     "text": [
      "karan\n",
      "('123', '954', 'abc')\n"
     ]
    }
   ],
   "source": [
    "information('karan','123','954','abc')"
   ]
  },
  {
   "cell_type": "code",
   "execution_count": 15,
   "id": "116c8edf",
   "metadata": {},
   "outputs": [],
   "source": [
    "def information2(name,**data):\n",
    "    print(name,data,sep=\"\\n\")\n",
    "    print(data['mobile'])"
   ]
  },
  {
   "cell_type": "code",
   "execution_count": 16,
   "id": "0e68e256",
   "metadata": {},
   "outputs": [
    {
     "name": "stdout",
     "output_type": "stream",
     "text": [
      "karan\n",
      "{'mobile': '123', 'address': '954', 'appName': 'abc'}\n",
      "123\n"
     ]
    }
   ],
   "source": [
    "information2('karan',mobile='123',address='954',appName='abc')"
   ]
  },
  {
   "cell_type": "markdown",
   "id": "69b6fe7a",
   "metadata": {},
   "source": [
    "### Scope of Variable"
   ]
  },
  {
   "cell_type": "code",
   "execution_count": 19,
   "id": "01085b78",
   "metadata": {},
   "outputs": [
    {
     "name": "stdout",
     "output_type": "stream",
     "text": [
      "10\n",
      "5\n",
      "error encountered: name 'c' is not defined\n"
     ]
    }
   ],
   "source": [
    "try:\n",
    "    a = 10\n",
    "\n",
    "    if(a>10):\n",
    "        c=5\n",
    "    else:\n",
    "        d=5\n",
    "\n",
    "    print(a)\n",
    "    print(d)\n",
    "    print(c)\n",
    "except Exception as e:\n",
    "    print(f'error encountered: {e}')"
   ]
  },
  {
   "cell_type": "code",
   "execution_count": 20,
   "id": "fc546fa3",
   "metadata": {},
   "outputs": [
    {
     "name": "stdout",
     "output_type": "stream",
     "text": [
      "10\n",
      "error encountered: name 'c' is not defined\n"
     ]
    }
   ],
   "source": [
    "try:\n",
    "    a1 = 5\n",
    "\n",
    "    def add(a,b):\n",
    "        c = a+b\n",
    "        print(c)\n",
    "    add(5,a1)\n",
    "    print(c)\n",
    "except Exception as e:\n",
    "    print(f'error encountered: {e}')"
   ]
  },
  {
   "cell_type": "code",
   "execution_count": 21,
   "id": "5d0fa500",
   "metadata": {},
   "outputs": [
    {
     "name": "stdout",
     "output_type": "stream",
     "text": [
      "PYTHON\n"
     ]
    }
   ],
   "source": [
    "try:\n",
    "    p = \"PYTHON\"\n",
    "\n",
    "    def fun1():\n",
    "        print(p)\n",
    "\n",
    "    fun1()\n",
    "except Exception as e:\n",
    "    print(f'error encountered: {e}')"
   ]
  },
  {
   "cell_type": "markdown",
   "id": "62872fef",
   "metadata": {},
   "source": [
    "#### Restart kernel"
   ]
  },
  {
   "cell_type": "code",
   "execution_count": 3,
   "id": "05970a44",
   "metadata": {},
   "outputs": [
    {
     "name": "stdout",
     "output_type": "stream",
     "text": [
      "PYTHON\n"
     ]
    }
   ],
   "source": [
    "try:\n",
    "    def fun1():\n",
    "        print(p1)\n",
    "    p1 = \"PYTHON\" # This still worked as variable was defined before the function calling\n",
    "    fun1()\n",
    "except Exception as e:\n",
    "    print(f'error encountered: {e}')"
   ]
  },
  {
   "cell_type": "code",
   "execution_count": 6,
   "id": "0ce6f906",
   "metadata": {},
   "outputs": [
    {
     "name": "stdout",
     "output_type": "stream",
     "text": [
      "PYTHON\n"
     ]
    }
   ],
   "source": [
    "try:\n",
    "    def fun1():\n",
    "        print(p1)\n",
    "    p1 = \"PYTHON\" # This still worked as variable was defined before the function calling\n",
    "    fun1()\n",
    "except Exception as e:\n",
    "    print(f'error encountered: {e}')"
   ]
  },
  {
   "cell_type": "code",
   "execution_count": 7,
   "id": "350a641f",
   "metadata": {},
   "outputs": [
    {
     "name": "stdout",
     "output_type": "stream",
     "text": [
      "error encountered: name 'p2' is not defined\n"
     ]
    }
   ],
   "source": [
    "try:\n",
    "    def fun1():\n",
    "        print(p2)\n",
    "    \n",
    "    fun1()\n",
    "    p2 = \"PYTHON\"\n",
    "except Exception as e:\n",
    "    print(f'error encountered: {e}')"
   ]
  },
  {
   "cell_type": "code",
   "execution_count": 9,
   "id": "0bb23d2c",
   "metadata": {},
   "outputs": [],
   "source": [
    "a = 5"
   ]
  },
  {
   "cell_type": "code",
   "execution_count": 11,
   "id": "046dbe3b",
   "metadata": {},
   "outputs": [
    {
     "name": "stdout",
     "output_type": "stream",
     "text": [
      "5\n",
      "10\n",
      "error encountered: name 'c' is not defined\n"
     ]
    }
   ],
   "source": [
    "try:\n",
    "    def g():\n",
    "        c=10\n",
    "        print(a)\n",
    "        print(c)\n",
    "\n",
    "    g()\n",
    "    print(c)\n",
    "except Exception as e:\n",
    "    print(f'error encountered: {e}')"
   ]
  },
  {
   "cell_type": "code",
   "execution_count": 14,
   "id": "d0a5c21d",
   "metadata": {},
   "outputs": [
    {
     "name": "stdout",
     "output_type": "stream",
     "text": [
      "10\n",
      "10\n",
      "10\n"
     ]
    }
   ],
   "source": [
    "try:\n",
    "    a=10\n",
    "    def g():\n",
    "        global c\n",
    "        c=10\n",
    "        print(a)\n",
    "        print(c)\n",
    "\n",
    "    g()\n",
    "    print(c)\n",
    "except Exception as e:\n",
    "    print(f'error encountered: {e}')"
   ]
  },
  {
   "cell_type": "code",
   "execution_count": 15,
   "id": "2830180f",
   "metadata": {},
   "outputs": [
    {
     "name": "stdout",
     "output_type": "stream",
     "text": [
      "I Love JS\n",
      "I Love JS\n"
     ]
    }
   ],
   "source": [
    "s1 = 'I Love Python'\n",
    "\n",
    "def h():\n",
    "    global s1\n",
    "    s1 = 'I Love JS'\n",
    "    print(s1)\n",
    "\n",
    "h()\n",
    "print(s1)"
   ]
  },
  {
   "cell_type": "code",
   "execution_count": 16,
   "id": "b6d40533",
   "metadata": {},
   "outputs": [
    {
     "name": "stdout",
     "output_type": "stream",
     "text": [
      "I Love JS\n",
      "I Love Python\n"
     ]
    }
   ],
   "source": [
    "s1 = 'I Love Python'\n",
    "\n",
    "def h():\n",
    "    # global s1\n",
    "    s1 = 'I Love JS'\n",
    "    print(s1)\n",
    "\n",
    "h()\n",
    "print(s1)"
   ]
  },
  {
   "cell_type": "code",
   "execution_count": null,
   "id": "9698903c",
   "metadata": {},
   "outputs": [],
   "source": []
  }
 ],
 "metadata": {
  "kernelspec": {
   "display_name": "Python 3",
   "language": "python",
   "name": "python3"
  },
  "language_info": {
   "codemirror_mode": {
    "name": "ipython",
    "version": 3
   },
   "file_extension": ".py",
   "mimetype": "text/x-python",
   "name": "python",
   "nbconvert_exporter": "python",
   "pygments_lexer": "ipython3",
   "version": "3.12.0"
  }
 },
 "nbformat": 4,
 "nbformat_minor": 5
}
