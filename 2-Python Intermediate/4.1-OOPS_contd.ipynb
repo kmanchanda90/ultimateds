{
 "cells": [
  {
   "cell_type": "markdown",
   "id": "24f8b964",
   "metadata": {},
   "source": [
    "### OOP - Creating properties/Data members"
   ]
  },
  {
   "cell_type": "code",
   "execution_count": null,
   "id": "d5ed303e",
   "metadata": {},
   "outputs": [],
   "source": [
    "class Student:\n",
    "    def __init__(self):\n",
    "        name = 'karan' # This name is created under the class's init method and is inaccessible with the object"
   ]
  },
  {
   "cell_type": "code",
   "execution_count": 2,
   "id": "1b5b79d1",
   "metadata": {},
   "outputs": [],
   "source": [
    "s1 = Student()"
   ]
  },
  {
   "cell_type": "code",
   "execution_count": 3,
   "id": "512f13bd",
   "metadata": {},
   "outputs": [],
   "source": [
    "# So far, I can't access name in the constructor"
   ]
  },
  {
   "cell_type": "code",
   "execution_count": 8,
   "id": "eee6b5c4",
   "metadata": {},
   "outputs": [],
   "source": [
    "class Student:\n",
    "    def __init__(self):\n",
    "        self.name = 'karan' # This name is not created under the class's init method instead it gets created in Student instance\n",
    "        self.rollNumber = 1\n",
    "        self.marks = 90"
   ]
  },
  {
   "cell_type": "code",
   "execution_count": null,
   "id": "b1f896c5",
   "metadata": {},
   "outputs": [],
   "source": [
    "s1 = Student()"
   ]
  },
  {
   "cell_type": "code",
   "execution_count": null,
   "id": "c0bc14c4",
   "metadata": {},
   "outputs": [
    {
     "data": {
      "text/plain": [
       "'karan'"
      ]
     },
     "execution_count": 9,
     "metadata": {},
     "output_type": "execute_result"
    }
   ],
   "source": [
    "# Now, it is accessible\n",
    "s1.name"
   ]
  },
  {
   "cell_type": "code",
   "execution_count": null,
   "id": "003d643c",
   "metadata": {},
   "outputs": [
    {
     "data": {
      "text/plain": [
       "90"
      ]
     },
     "execution_count": 10,
     "metadata": {},
     "output_type": "execute_result"
    }
   ],
   "source": [
    "# Now, it is accessible\n",
    "s1.marks"
   ]
  },
  {
   "cell_type": "code",
   "execution_count": 7,
   "id": "07628cbc",
   "metadata": {},
   "outputs": [
    {
     "data": {
      "text/plain": [
       "90"
      ]
     },
     "execution_count": 7,
     "metadata": {},
     "output_type": "execute_result"
    }
   ],
   "source": [
    "# Now, it is accessible\n",
    "s1.marks"
   ]
  },
  {
   "cell_type": "code",
   "execution_count": 12,
   "id": "17bbffcb",
   "metadata": {},
   "outputs": [],
   "source": [
    "s2 = Student()"
   ]
  },
  {
   "cell_type": "code",
   "execution_count": 14,
   "id": "6502ea83",
   "metadata": {},
   "outputs": [
    {
     "data": {
      "text/plain": [
       "('karan', 1, 90)"
      ]
     },
     "execution_count": 14,
     "metadata": {},
     "output_type": "execute_result"
    }
   ],
   "source": [
    "s1.name,s1.rollNumber,s1.marks"
   ]
  },
  {
   "cell_type": "code",
   "execution_count": 13,
   "id": "2581145a",
   "metadata": {},
   "outputs": [
    {
     "data": {
      "text/plain": [
       "('karan', 1, 90)"
      ]
     },
     "execution_count": 13,
     "metadata": {},
     "output_type": "execute_result"
    }
   ],
   "source": [
    "s2.name,s2.rollNumber,s2.marks"
   ]
  },
  {
   "cell_type": "code",
   "execution_count": 15,
   "id": "9c692273",
   "metadata": {},
   "outputs": [],
   "source": [
    "class Student:\n",
    "    def __init__(self,studentName,rollNumber,marks):\n",
    "        self.name = 'karan' # This name is not created under the class's init method instead it gets created in Student instance\n",
    "        self.rollNumber = 1\n",
    "        self.marks = 90"
   ]
  },
  {
   "cell_type": "code",
   "execution_count": 16,
   "id": "15a41655",
   "metadata": {},
   "outputs": [
    {
     "name": "stdout",
     "output_type": "stream",
     "text": [
      "error encountered: Student.__init__() missing 3 required positional arguments: 'studentName', 'rollNumber', and 'marks'\n"
     ]
    }
   ],
   "source": [
    "try:\n",
    "    s1 = Student()\n",
    "except Exception as e:\n",
    "    print(f'error encountered: {e}')"
   ]
  },
  {
   "cell_type": "code",
   "execution_count": 38,
   "id": "5dd9747a",
   "metadata": {},
   "outputs": [],
   "source": [
    "try:\n",
    "    s1 = Student('himani',1,90)\n",
    "except Exception as e:\n",
    "    print(f'error encountered: {e}')"
   ]
  },
  {
   "cell_type": "code",
   "execution_count": null,
   "id": "99574de0",
   "metadata": {},
   "outputs": [],
   "source": [
    "try:\n",
    "    s2 = Student('Goku',2,50)\n",
    "except Exception as e:\n",
    "    print(f'error encountered: {e}')"
   ]
  },
  {
   "cell_type": "markdown",
   "id": "034c0a80",
   "metadata": {},
   "source": [
    "#### Even after passing the different set of arguments, why do we get the same output for both objects?"
   ]
  },
  {
   "cell_type": "code",
   "execution_count": 19,
   "id": "bc00ac14",
   "metadata": {},
   "outputs": [
    {
     "data": {
      "text/plain": [
       "('karan', 1, 90)"
      ]
     },
     "execution_count": 19,
     "metadata": {},
     "output_type": "execute_result"
    }
   ],
   "source": [
    "s1.name,s1.rollNumber,s1.marks"
   ]
  },
  {
   "cell_type": "code",
   "execution_count": 20,
   "id": "4c1bcde1",
   "metadata": {},
   "outputs": [
    {
     "data": {
      "text/plain": [
       "('karan', 1, 90)"
      ]
     },
     "execution_count": 20,
     "metadata": {},
     "output_type": "execute_result"
    }
   ],
   "source": [
    "s2.name,s2.rollNumber,s2.marks"
   ]
  },
  {
   "cell_type": "code",
   "execution_count": 21,
   "id": "6958497b",
   "metadata": {},
   "outputs": [],
   "source": [
    "class Student:\n",
    "    def __init__(self,studentName,rollNumber,marks):\n",
    "        self.name = studentName\n",
    "        self.rollNumber = rollNumber\n",
    "        self.marks = marks"
   ]
  },
  {
   "cell_type": "code",
   "execution_count": 32,
   "id": "ae60a095",
   "metadata": {},
   "outputs": [],
   "source": [
    "try:\n",
    "    s1 = Student('himani',1,90)\n",
    "except Exception as e:\n",
    "    print(f'error encountered: {e}')"
   ]
  },
  {
   "cell_type": "code",
   "execution_count": 28,
   "id": "cd91c735",
   "metadata": {},
   "outputs": [],
   "source": [
    "try:\n",
    "    s2 = Student('Goku',2,50)\n",
    "except Exception as e:\n",
    "    print(f'error encountered: {e}')"
   ]
  },
  {
   "cell_type": "code",
   "execution_count": 27,
   "id": "565fa0f1",
   "metadata": {},
   "outputs": [
    {
     "data": {
      "text/plain": [
       "('himani', 1, 90)"
      ]
     },
     "execution_count": 27,
     "metadata": {},
     "output_type": "execute_result"
    }
   ],
   "source": [
    "s1.name,s1.rollNumber,s1.marks"
   ]
  },
  {
   "cell_type": "code",
   "execution_count": 29,
   "id": "43f6685d",
   "metadata": {},
   "outputs": [
    {
     "data": {
      "text/plain": [
       "('Goku', 2, 50)"
      ]
     },
     "execution_count": 29,
     "metadata": {},
     "output_type": "execute_result"
    }
   ],
   "source": [
    "s2.name,s2.rollNumber,s2.marks"
   ]
  },
  {
   "cell_type": "markdown",
   "id": "0e79655a",
   "metadata": {},
   "source": [
    "### Creating methods"
   ]
  },
  {
   "cell_type": "code",
   "execution_count": 37,
   "id": "9a8c24ed",
   "metadata": {},
   "outputs": [],
   "source": [
    "class Student:\n",
    "    def __init__(self,studentName,rollNumber,marks):\n",
    "        self.name = studentName\n",
    "        self.rollNumber = rollNumber\n",
    "        self.marks = marks\n",
    "    def study(self):\n",
    "        print(f'I am {self.name} and I am studying')\n",
    "    def play(self):\n",
    "        print('Pdh liya, now going to play')"
   ]
  },
  {
   "cell_type": "code",
   "execution_count": 39,
   "id": "5a68f46f",
   "metadata": {},
   "outputs": [
    {
     "name": "stdout",
     "output_type": "stream",
     "text": [
      "I am himani and I am studying\n"
     ]
    }
   ],
   "source": [
    "try:\n",
    "    s1.study()\n",
    "except Exception as e:\n",
    "    print(f'error encountered: {e}')"
   ]
  },
  {
   "cell_type": "markdown",
   "id": "9abc7f49",
   "metadata": {},
   "source": [
    "#### 'self' is a link between the data members/properties and the methods inside a class. Only 'self' knows everything. The 'self.name' is only known to 'self' else we can't access it. To access data property anywhere within the class, you would need 'self' or object."
   ]
  },
  {
   "cell_type": "code",
   "execution_count": 40,
   "id": "e3b0364f",
   "metadata": {},
   "outputs": [],
   "source": [
    "class Student:\n",
    "    def __init__(self,studentName,rollNumber,marks):\n",
    "        self.name = studentName\n",
    "        self.rollNumber = rollNumber\n",
    "        self.marks = marks\n",
    "    def study(self):\n",
    "        print(f'I am {self.play()} and I am studying')\n",
    "    def play(self):\n",
    "        print('Pdh liya, now going to play')"
   ]
  },
  {
   "cell_type": "code",
   "execution_count": 41,
   "id": "85f2f2bf",
   "metadata": {},
   "outputs": [],
   "source": [
    "try:\n",
    "    s1 = Student('himani',1,90)\n",
    "except Exception as e:\n",
    "    print(f'error encountered: {e}')"
   ]
  },
  {
   "cell_type": "code",
   "execution_count": 42,
   "id": "89a2265d",
   "metadata": {},
   "outputs": [
    {
     "name": "stdout",
     "output_type": "stream",
     "text": [
      "Pdh liya, now going to play\n",
      "I am None and I am studying\n"
     ]
    }
   ],
   "source": [
    "try:\n",
    "    s1.study()\n",
    "except Exception as e:\n",
    "    print(f'error encountered: {e}')"
   ]
  },
  {
   "cell_type": "code",
   "execution_count": 43,
   "id": "d55c2496",
   "metadata": {},
   "outputs": [],
   "source": [
    "class Student:\n",
    "    def __init__(self,studentName,rollNumber,marks):\n",
    "        self.name = studentName\n",
    "        self.rollNumber = rollNumber\n",
    "        self.marks = marks\n",
    "    def study(self):\n",
    "        print(f'I am {self.rollNumber} and I am studying')\n",
    "    def play(self):\n",
    "        print('Pdh liya, now going to play')"
   ]
  },
  {
   "cell_type": "code",
   "execution_count": 44,
   "id": "3b8b6720",
   "metadata": {},
   "outputs": [
    {
     "name": "stdout",
     "output_type": "stream",
     "text": [
      "I am 1 and I am studying\n"
     ]
    }
   ],
   "source": [
    "try:\n",
    "    s1 = Student('himani',1,90)\n",
    "    s1.study()\n",
    "except Exception as e:\n",
    "    print(f'error encountered: {e}')"
   ]
  },
  {
   "cell_type": "code",
   "execution_count": 45,
   "id": "97451a97",
   "metadata": {},
   "outputs": [],
   "source": [
    "c1 = 3+4j\n",
    "c2 = 4+5j"
   ]
  },
  {
   "cell_type": "code",
   "execution_count": 150,
   "id": "a933238b",
   "metadata": {},
   "outputs": [],
   "source": [
    "c = complex(0,6)"
   ]
  },
  {
   "cell_type": "code",
   "execution_count": 151,
   "id": "a3e8cae0",
   "metadata": {},
   "outputs": [
    {
     "data": {
      "text/plain": [
       "6j"
      ]
     },
     "execution_count": 151,
     "metadata": {},
     "output_type": "execute_result"
    }
   ],
   "source": [
    "c"
   ]
  },
  {
   "cell_type": "code",
   "execution_count": 55,
   "id": "c58e9086",
   "metadata": {},
   "outputs": [
    {
     "data": {
      "text/plain": [
       "(3.0, 5.0)"
      ]
     },
     "execution_count": 55,
     "metadata": {},
     "output_type": "execute_result"
    }
   ],
   "source": [
    "c.real,c.imag"
   ]
  },
  {
   "cell_type": "code",
   "execution_count": 89,
   "id": "6e525279",
   "metadata": {},
   "outputs": [
    {
     "data": {
      "text/plain": [
       "(3+5j)"
      ]
     },
     "execution_count": 89,
     "metadata": {},
     "output_type": "execute_result"
    }
   ],
   "source": [
    "c"
   ]
  },
  {
   "cell_type": "code",
   "execution_count": 152,
   "id": "7c052f76",
   "metadata": {},
   "outputs": [
    {
     "data": {
      "text/plain": [
       "-6j"
      ]
     },
     "execution_count": 152,
     "metadata": {},
     "output_type": "execute_result"
    }
   ],
   "source": [
    "c.conjugate()"
   ]
  },
  {
   "cell_type": "code",
   "execution_count": 48,
   "id": "6d090ff2",
   "metadata": {},
   "outputs": [
    {
     "name": "stdout",
     "output_type": "stream",
     "text": [
      "<class 'type'>\n"
     ]
    }
   ],
   "source": [
    "print(type(complex))"
   ]
  },
  {
   "cell_type": "code",
   "execution_count": 46,
   "id": "7a2ee02b",
   "metadata": {},
   "outputs": [
    {
     "data": {
      "text/plain": [
       "(complex, complex)"
      ]
     },
     "execution_count": 46,
     "metadata": {},
     "output_type": "execute_result"
    }
   ],
   "source": [
    "type(c1),type(c2)"
   ]
  },
  {
   "cell_type": "code",
   "execution_count": 47,
   "id": "aead49f3",
   "metadata": {},
   "outputs": [
    {
     "data": {
      "text/plain": [
       "((7+9j), (-1-1j), (-8+31j), (0.7804878048780489+0.02439024390243905j))"
      ]
     },
     "execution_count": 47,
     "metadata": {},
     "output_type": "execute_result"
    }
   ],
   "source": [
    "c1+c2,c1-c2,c1*c2,c1/c2"
   ]
  },
  {
   "cell_type": "markdown",
   "id": "dd15d6df",
   "metadata": {},
   "source": [
    "### Complex Number class - An example to understand OOP"
   ]
  },
  {
   "cell_type": "markdown",
   "id": "4a155476",
   "metadata": {},
   "source": [
    "#### Create a Python class named `ComplexNumber` to represent complex numbers\n",
    "\n",
    "> Theory: A complex number is a number that comprises a real part and an imaginary part. It is typically written in the form a + bi, where 'a' is the real part, and 'b' is the imaginary part, and 'i' is the imaginary unit (✓-1).\n",
    "\n",
    "#### Operations:\n",
    "1. Addition (+)\n",
    "2. Subtraction (-)\n",
    "3. Multiplication (*)\n",
    "4. Division (/)\n",
    "5. Comparison (==, !=)"
   ]
  },
  {
   "cell_type": "code",
   "execution_count": null,
   "id": "10534ffe",
   "metadata": {},
   "outputs": [],
   "source": [
    "class ComplexNumber:\n",
    "    def __init__(self,real=0.0,imag=0.0):\n",
    "        self.imag = imag\n",
    "        self.real = real\n",
    "\n",
    "    def __str__(self): # Magic Method for print()\n",
    "        if(self.real==0):\n",
    "            return f'{self.imag}i'\n",
    "        elif(self.imag<0):\n",
    "            s = f'({self.real}{self.imag}i)'\n",
    "        else:\n",
    "            s = f'({self.real}+{self.imag}i)'\n",
    "        return s\n",
    "        \n",
    "    def __add__(self,other):\n",
    "        resultReal = 0\n",
    "        resultImag = 0\n",
    "\n",
    "        resultReal = self.real + other.real\n",
    "        resultImag = self.imag + other.imag\n",
    "        ans = ComplexNumber(resultReal,resultImag)\n",
    "\n",
    "        return ans\n",
    "    \n",
    "    \n",
    "    def __sub__(self,other):\n",
    "        resultReal = 0\n",
    "        resultImag = 0\n",
    "\n",
    "        resultReal = self.real - other.real\n",
    "        resultImag = self.imag - other.imag\n",
    "        ans = ComplexNumber(resultReal,resultImag)\n",
    "\n",
    "        return ans\n",
    "    \n",
    "    def __mul__(self,other):\n",
    "        resultReal = 0\n",
    "        resultImag = 0\n",
    "\n",
    "        resultReal = self.real * other.real-self.imag * other.imag\n",
    "        resultImag = self.real * other.imag+other.real * self.imag\n",
    "        ans = ComplexNumber(resultReal,resultImag)\n",
    "\n",
    "        return ans\n",
    "    \n",
    "    def __truediv__(self,other):\n",
    "        resultReal = 0\n",
    "        resultImag = 0\n",
    "\n",
    "        den = other.real**2 + other.imag**2\n",
    "\n",
    "        ans = self * ComplexNumber(other.real/den,(-1*other.imag)/den)\n",
    "        # ans = self * other.conjugate() - another way\n",
    "\n",
    "        return ans\n",
    "    \n",
    "    def __eq__(self,other):\n",
    "        return (self.real == other.real) and (self.imag == other.imag)\n",
    "    \n",
    "    def __ne__(self,other):\n",
    "        return (self.real != other.real) or (self.imag != other.imag)\n",
    "       \n",
    "    \n",
    "    def conjugate(self):\n",
    "        return ComplexNumber(self.real,-1*self.imag)\n",
    "        \n",
    "\n",
    "    # def conjugate(self):\n",
    "    #     conjImag = self.imag * -1\n",
    "    #     if(conjImag<0):\n",
    "    #         ci = f'({self.real}{conjImag}i)'\n",
    "    #     else:\n",
    "    #         ci = f'({self.real}+{conjImag}i)'\n",
    "    #     return ci"
   ]
  },
  {
   "cell_type": "code",
   "execution_count": 25,
   "id": "4f809369",
   "metadata": {},
   "outputs": [],
   "source": [
    "try:\n",
    "    cn1 = ComplexNumber(3,4)\n",
    "except Exception as e:\n",
    "    print(f'error encountered: {e}')"
   ]
  },
  {
   "cell_type": "code",
   "execution_count": 24,
   "id": "786765d7",
   "metadata": {},
   "outputs": [],
   "source": [
    "try:\n",
    "    cn2 = ComplexNumber(3,3)\n",
    "except Exception as e:\n",
    "    print(f'error encountered: {e}')"
   ]
  },
  {
   "cell_type": "code",
   "execution_count": 26,
   "id": "ecccc49a",
   "metadata": {},
   "outputs": [
    {
     "data": {
      "text/plain": [
       "True"
      ]
     },
     "execution_count": 26,
     "metadata": {},
     "output_type": "execute_result"
    }
   ],
   "source": [
    "cn1 != cn2"
   ]
  },
  {
   "cell_type": "code",
   "execution_count": 182,
   "id": "330f558d",
   "metadata": {},
   "outputs": [
    {
     "data": {
      "text/plain": [
       "(3, 4)"
      ]
     },
     "execution_count": 182,
     "metadata": {},
     "output_type": "execute_result"
    }
   ],
   "source": [
    "cn1.real,cn1.imag"
   ]
  },
  {
   "cell_type": "code",
   "execution_count": 183,
   "id": "54f51005",
   "metadata": {},
   "outputs": [
    {
     "name": "stdout",
     "output_type": "stream",
     "text": [
      "(3+4i)\n"
     ]
    }
   ],
   "source": [
    "print(cn1)"
   ]
  },
  {
   "cell_type": "code",
   "execution_count": 184,
   "id": "33385fa2",
   "metadata": {},
   "outputs": [
    {
     "name": "stdout",
     "output_type": "stream",
     "text": [
      "(3-4i)\n"
     ]
    }
   ],
   "source": [
    "print(cn1.conjugate())"
   ]
  },
  {
   "cell_type": "code",
   "execution_count": 205,
   "id": "dc6d6b95",
   "metadata": {},
   "outputs": [],
   "source": [
    "try:\n",
    "    cn2 = ComplexNumber(4,5)\n",
    "except Exception as e:\n",
    "    print(f'error encountered: {e}')"
   ]
  },
  {
   "cell_type": "code",
   "execution_count": 186,
   "id": "d0cc02fc",
   "metadata": {},
   "outputs": [
    {
     "name": "stdout",
     "output_type": "stream",
     "text": [
      "(4+5i)\n"
     ]
    }
   ],
   "source": [
    "print(cn2)"
   ]
  },
  {
   "cell_type": "code",
   "execution_count": 187,
   "id": "8dbaae1e",
   "metadata": {},
   "outputs": [
    {
     "data": {
      "text/plain": [
       "(4, 5)"
      ]
     },
     "execution_count": 187,
     "metadata": {},
     "output_type": "execute_result"
    }
   ],
   "source": [
    "cn2.real,cn2.imag"
   ]
  },
  {
   "cell_type": "code",
   "execution_count": 188,
   "id": "5c9b2245",
   "metadata": {},
   "outputs": [
    {
     "name": "stdout",
     "output_type": "stream",
     "text": [
      "(4-5i)\n"
     ]
    }
   ],
   "source": [
    "print(cn2.conjugate())"
   ]
  },
  {
   "cell_type": "code",
   "execution_count": 160,
   "id": "1549d030",
   "metadata": {},
   "outputs": [
    {
     "name": "stdout",
     "output_type": "stream",
     "text": [
      "error encountered: unsupported operand type(s) for +: 'ComplexNumber' and 'ComplexNumber'\n"
     ]
    }
   ],
   "source": [
    "try:\n",
    "    cn1 + cn2\n",
    "except Exception as e:\n",
    "    print(f'error encountered: {e}')"
   ]
  },
  {
   "cell_type": "code",
   "execution_count": 189,
   "id": "922e9109",
   "metadata": {},
   "outputs": [],
   "source": [
    "try:\n",
    "    cn1 + cn2\n",
    "except Exception as e:\n",
    "    print(f'error encountered: {e}')"
   ]
  },
  {
   "cell_type": "code",
   "execution_count": 190,
   "id": "3ac9c679",
   "metadata": {},
   "outputs": [
    {
     "name": "stdout",
     "output_type": "stream",
     "text": [
      "(7+9i)\n"
     ]
    }
   ],
   "source": [
    "print(cn1 + cn2)"
   ]
  },
  {
   "cell_type": "code",
   "execution_count": 191,
   "id": "dc199d5e",
   "metadata": {},
   "outputs": [
    {
     "name": "stdout",
     "output_type": "stream",
     "text": [
      "(-1-1i)\n"
     ]
    }
   ],
   "source": [
    "print(cn1-cn2)"
   ]
  },
  {
   "cell_type": "code",
   "execution_count": null,
   "id": "17a21d06",
   "metadata": {},
   "outputs": [
    {
     "name": "stdout",
     "output_type": "stream",
     "text": [
      "(-8+31i)\n"
     ]
    }
   ],
   "source": [
    "print(cn1*cn2)"
   ]
  },
  {
   "cell_type": "code",
   "execution_count": 206,
   "id": "fa87cba6",
   "metadata": {},
   "outputs": [
    {
     "data": {
      "text/plain": [
       "(0.7804878048780489+0.02439024390243905j)"
      ]
     },
     "execution_count": 206,
     "metadata": {},
     "output_type": "execute_result"
    }
   ],
   "source": [
    "c1/c2"
   ]
  },
  {
   "cell_type": "code",
   "execution_count": 207,
   "id": "c3c58cd4",
   "metadata": {},
   "outputs": [
    {
     "name": "stdout",
     "output_type": "stream",
     "text": [
      "(0.7804878048780488+0.024390243902439046i)\n"
     ]
    }
   ],
   "source": [
    "print(cn1/cn2)"
   ]
  },
  {
   "cell_type": "markdown",
   "id": "b9437a8a",
   "metadata": {},
   "source": [
    "### Instance Variable"
   ]
  },
  {
   "cell_type": "code",
   "execution_count": 12,
   "id": "ccc6a974",
   "metadata": {},
   "outputs": [],
   "source": [
    "class Student:\n",
    "    numberofStudents = 0\n",
    "    def __init__(self,name,rollNumber,marks):\n",
    "        self.name = name\n",
    "        self.marks = marks\n",
    "        self.rollNumber = rollNumber\n",
    "        self.numberofStudents = Student.numberofStudents + 1\n",
    "        Student.numberofStudents = Student.numberofStudents + 1\n",
    "\n",
    "    def study(self):\n",
    "        s_study = f'I am {self.rollNumber} and I am studying'\n",
    "        return s_study\n",
    "    \n",
    "    def play(self):\n",
    "        s_play = f'Pdh liya! now going to play'\n",
    "        return s_play"
   ]
  },
  {
   "cell_type": "code",
   "execution_count": 13,
   "id": "2f22336e",
   "metadata": {},
   "outputs": [],
   "source": [
    "s1 = Student('karan',1,90)"
   ]
  },
  {
   "cell_type": "code",
   "execution_count": 14,
   "id": "4c943c38",
   "metadata": {},
   "outputs": [],
   "source": [
    "s2 = Student('himani',2,50)"
   ]
  },
  {
   "cell_type": "code",
   "execution_count": 15,
   "id": "8fa2ba68",
   "metadata": {},
   "outputs": [
    {
     "data": {
      "text/plain": [
       "(1, 2)"
      ]
     },
     "execution_count": 15,
     "metadata": {},
     "output_type": "execute_result"
    }
   ],
   "source": [
    "s1.numberofStudents, s2.numberofStudents"
   ]
  },
  {
   "cell_type": "code",
   "execution_count": 16,
   "id": "14d4274c",
   "metadata": {},
   "outputs": [
    {
     "data": {
      "text/plain": [
       "2"
      ]
     },
     "execution_count": 16,
     "metadata": {},
     "output_type": "execute_result"
    }
   ],
   "source": [
    "Student.numberofStudents # caling class variable"
   ]
  },
  {
   "cell_type": "code",
   "execution_count": 17,
   "id": "5e755857",
   "metadata": {},
   "outputs": [
    {
     "data": {
      "text/plain": [
       "90"
      ]
     },
     "execution_count": 17,
     "metadata": {},
     "output_type": "execute_result"
    }
   ],
   "source": [
    "s1.marks"
   ]
  },
  {
   "cell_type": "code",
   "execution_count": 18,
   "id": "76f65b6f",
   "metadata": {},
   "outputs": [
    {
     "data": {
      "text/plain": [
       "50"
      ]
     },
     "execution_count": 18,
     "metadata": {},
     "output_type": "execute_result"
    }
   ],
   "source": [
    "s2.marks"
   ]
  },
  {
   "cell_type": "code",
   "execution_count": 19,
   "id": "186fe8c1",
   "metadata": {},
   "outputs": [],
   "source": [
    "s1.marks = 45"
   ]
  },
  {
   "cell_type": "code",
   "execution_count": 20,
   "id": "bf671d99",
   "metadata": {},
   "outputs": [
    {
     "data": {
      "text/plain": [
       "45"
      ]
     },
     "execution_count": 20,
     "metadata": {},
     "output_type": "execute_result"
    }
   ],
   "source": [
    "s1.marks"
   ]
  },
  {
   "cell_type": "code",
   "execution_count": 21,
   "id": "027f8e90",
   "metadata": {},
   "outputs": [
    {
     "data": {
      "text/plain": [
       "50"
      ]
     },
     "execution_count": 21,
     "metadata": {},
     "output_type": "execute_result"
    }
   ],
   "source": [
    "s2.marks"
   ]
  },
  {
   "cell_type": "markdown",
   "id": "bb76a72a",
   "metadata": {},
   "source": [
    "### Encapsulation"
   ]
  },
  {
   "cell_type": "code",
   "execution_count": 231,
   "id": "3ef6b276",
   "metadata": {},
   "outputs": [],
   "source": [
    "class StudentNew:\n",
    "    __numberofStudents = 0 # Class variable or Static Property\n",
    "    __schoolName = 'Chitkara'\n",
    "\n",
    "    def __init__(self,name,rollNumber,marks):\n",
    "        self.name = name\n",
    "        self.__marks = marks\n",
    "        self.rollNumber = rollNumber\n",
    "        self.numberofStudents = StudentNew.__numberofStudents + 1\n",
    "        StudentNew.__numberofStudents = StudentNew.__numberofStudents + 1\n",
    "\n",
    "    # getter\n",
    "    def getMarks(self):\n",
    "        return self.__marks\n",
    "    \n",
    "    # setter\n",
    "    def setMarks(self,newMarks,passKey):\n",
    "        if passKey == self.__auth(): # Security\n",
    "            self.__marks = newMarks\n",
    "        else:\n",
    "            return 'abhe chal!'\n",
    "        \n",
    "    @staticmethod \n",
    "    def getSchoolName(): # class's method. No relation to object. Instead of an object, we use class to access it \n",
    "        return StudentNew.__schoolName\n",
    "\n",
    "    def getStudentSchoolName(self): #not a static method so require self\n",
    "        return StudentNew.__schoolName            \n",
    "\n",
    "    @staticmethod    \n",
    "    def getNumberofStudents():\n",
    "        return StudentNew.__numberofStudents\n",
    "    \n",
    "    @staticmethod\n",
    "    def setNumberofStudents(newCount):\n",
    "        StudentNew.__numberofStudents = newCount\n",
    "\n",
    "    @staticmethod\n",
    "    def setSchoolName(newSchoolName,passCode):\n",
    "        StudentNew.__sendMail()\n",
    "        StudentNew.__schoolName = newSchoolName\n",
    "\n",
    "    @staticmethod\n",
    "    def __sendMail():\n",
    "        print(f'sending the mail to all the committee members')\n",
    "        \n",
    "    def __auth(self):\n",
    "        return '0000'    \n",
    "\n",
    "    def study(self):\n",
    "        s_study = f'I am {self.rollNumber} and I am studying'\n",
    "        return s_study\n",
    "    \n",
    "    def play(self):\n",
    "        s_play = f'Pdh liya! now going to play'\n",
    "        return s_play"
   ]
  },
  {
   "cell_type": "code",
   "execution_count": 232,
   "id": "05dc9f64",
   "metadata": {},
   "outputs": [],
   "source": [
    "sn1 = StudentNew('drake',1,85)"
   ]
  },
  {
   "cell_type": "code",
   "execution_count": 233,
   "id": "6dcf6d29",
   "metadata": {},
   "outputs": [],
   "source": [
    "sn2 = StudentNew('austin',2,80)"
   ]
  },
  {
   "cell_type": "code",
   "execution_count": 234,
   "id": "9c2f7e05",
   "metadata": {},
   "outputs": [
    {
     "name": "stdout",
     "output_type": "stream",
     "text": [
      "Error encountered: 'StudentNew' object has no attribute 'marks'\n"
     ]
    }
   ],
   "source": [
    "try:\n",
    "    sn1.marks\n",
    "except Exception as e:\n",
    "    print(f'Error encountered: {e}')"
   ]
  },
  {
   "cell_type": "code",
   "execution_count": 235,
   "id": "7d2be40d",
   "metadata": {},
   "outputs": [
    {
     "data": {
      "text/plain": [
       "85"
      ]
     },
     "execution_count": 235,
     "metadata": {},
     "output_type": "execute_result"
    }
   ],
   "source": [
    "sn1.getMarks()"
   ]
  },
  {
   "cell_type": "code",
   "execution_count": 236,
   "id": "3e991c2a",
   "metadata": {},
   "outputs": [
    {
     "data": {
      "text/plain": [
       "80"
      ]
     },
     "execution_count": 236,
     "metadata": {},
     "output_type": "execute_result"
    }
   ],
   "source": [
    "sn2.getMarks()"
   ]
  },
  {
   "cell_type": "code",
   "execution_count": 237,
   "id": "23815c89",
   "metadata": {},
   "outputs": [
    {
     "data": {
      "text/plain": [
       "'abhe chal!'"
      ]
     },
     "execution_count": 237,
     "metadata": {},
     "output_type": "execute_result"
    }
   ],
   "source": [
    "sn1.setMarks(70,'4545')"
   ]
  },
  {
   "cell_type": "code",
   "execution_count": 238,
   "id": "194bc46a",
   "metadata": {},
   "outputs": [],
   "source": [
    "sn1.setMarks(95,'0000')"
   ]
  },
  {
   "cell_type": "code",
   "execution_count": 239,
   "id": "aca94bfd",
   "metadata": {},
   "outputs": [
    {
     "data": {
      "text/plain": [
       "95"
      ]
     },
     "execution_count": 239,
     "metadata": {},
     "output_type": "execute_result"
    }
   ],
   "source": [
    "sn1.getMarks()"
   ]
  },
  {
   "cell_type": "code",
   "execution_count": 240,
   "id": "af4b81d5",
   "metadata": {},
   "outputs": [
    {
     "data": {
      "text/plain": [
       "1"
      ]
     },
     "execution_count": 240,
     "metadata": {},
     "output_type": "execute_result"
    }
   ],
   "source": [
    "sn1.numberofStudents"
   ]
  },
  {
   "cell_type": "code",
   "execution_count": 241,
   "id": "baf68c56",
   "metadata": {},
   "outputs": [
    {
     "data": {
      "text/plain": [
       "2"
      ]
     },
     "execution_count": 241,
     "metadata": {},
     "output_type": "execute_result"
    }
   ],
   "source": [
    "sn2.numberofStudents"
   ]
  },
  {
   "cell_type": "code",
   "execution_count": 242,
   "id": "74cb3f08",
   "metadata": {},
   "outputs": [
    {
     "data": {
      "text/plain": [
       "2"
      ]
     },
     "execution_count": 242,
     "metadata": {},
     "output_type": "execute_result"
    }
   ],
   "source": [
    "StudentNew.getNumberofStudents()"
   ]
  },
  {
   "cell_type": "code",
   "execution_count": 243,
   "id": "fa2e8b4e",
   "metadata": {},
   "outputs": [],
   "source": [
    "StudentNew.setNumberofStudents(745)"
   ]
  },
  {
   "cell_type": "code",
   "execution_count": 244,
   "id": "3fbf3f51",
   "metadata": {},
   "outputs": [
    {
     "data": {
      "text/plain": [
       "745"
      ]
     },
     "execution_count": 244,
     "metadata": {},
     "output_type": "execute_result"
    }
   ],
   "source": [
    "StudentNew.getNumberofStudents()"
   ]
  },
  {
   "cell_type": "code",
   "execution_count": 245,
   "id": "69968884",
   "metadata": {},
   "outputs": [
    {
     "data": {
      "text/plain": [
       "'Chitkara'"
      ]
     },
     "execution_count": 245,
     "metadata": {},
     "output_type": "execute_result"
    }
   ],
   "source": [
    "StudentNew.getSchoolName()"
   ]
  },
  {
   "cell_type": "code",
   "execution_count": 246,
   "id": "97025d4d",
   "metadata": {},
   "outputs": [],
   "source": [
    "try:\n",
    "    sn1.getSchoolName()\n",
    "except Exception as e:\n",
    "    print(f'error encountered: {e}')"
   ]
  },
  {
   "cell_type": "code",
   "execution_count": 247,
   "id": "1aec5480",
   "metadata": {},
   "outputs": [
    {
     "data": {
      "text/plain": [
       "'Chitkara'"
      ]
     },
     "execution_count": 247,
     "metadata": {},
     "output_type": "execute_result"
    }
   ],
   "source": [
    "sn1.getSchoolName()"
   ]
  },
  {
   "cell_type": "code",
   "execution_count": 248,
   "id": "65ddcf08",
   "metadata": {},
   "outputs": [
    {
     "data": {
      "text/plain": [
       "'Chitkara'"
      ]
     },
     "execution_count": 248,
     "metadata": {},
     "output_type": "execute_result"
    }
   ],
   "source": [
    "sn2.getSchoolName() # this works because this is a static method who doesn't require self"
   ]
  },
  {
   "cell_type": "code",
   "execution_count": 249,
   "id": "62255757",
   "metadata": {},
   "outputs": [
    {
     "name": "stdout",
     "output_type": "stream",
     "text": [
      "Chitkara\n"
     ]
    }
   ],
   "source": [
    "try:\n",
    "    print(sn1.getStudentSchoolName())\n",
    "except Exception as e:\n",
    "    print(f'error encountered: {e}')"
   ]
  },
  {
   "cell_type": "code",
   "execution_count": 251,
   "id": "c987fa14",
   "metadata": {},
   "outputs": [
    {
     "name": "stdout",
     "output_type": "stream",
     "text": [
      "sending the mail to all the committee members\n"
     ]
    }
   ],
   "source": [
    "StudentNew.setSchoolName('Chitkara University','1215')"
   ]
  },
  {
   "cell_type": "code",
   "execution_count": 252,
   "id": "0a594324",
   "metadata": {},
   "outputs": [
    {
     "data": {
      "text/plain": [
       "'Chitkara University'"
      ]
     },
     "execution_count": 252,
     "metadata": {},
     "output_type": "execute_result"
    }
   ],
   "source": [
    "StudentNew.getSchoolName()"
   ]
  }
 ],
 "metadata": {
  "kernelspec": {
   "display_name": "Python 3",
   "language": "python",
   "name": "python3"
  },
  "language_info": {
   "codemirror_mode": {
    "name": "ipython",
    "version": 3
   },
   "file_extension": ".py",
   "mimetype": "text/x-python",
   "name": "python",
   "nbconvert_exporter": "python",
   "pygments_lexer": "ipython3",
   "version": "3.12.0"
  }
 },
 "nbformat": 4,
 "nbformat_minor": 5
}
