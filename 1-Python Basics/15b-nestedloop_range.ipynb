{
 "cells": [
  {
   "cell_type": "markdown",
   "id": "a74b6ecb",
   "metadata": {},
   "source": [
    "### WAP to accept a name from the user and output it back by removing all vowels in it"
   ]
  },
  {
   "cell_type": "code",
   "execution_count": 18,
   "id": "a2d7c8a4",
   "metadata": {},
   "outputs": [
    {
     "name": "stdout",
     "output_type": "stream",
     "text": [
      "The entered name 'karan' without vowels is 'krn'\n"
     ]
    }
   ],
   "source": [
    "nameWoVowel = ''\n",
    "getName = input(\"Enter a name: \")\n",
    "for char in getName:\n",
    "    if char in 'aeiou' or char in 'AEIOU':\n",
    "        continue\n",
    "    nameWoVowel+= char\n",
    "print(f'The entered name \\'{getName}\\' without vowels is \\'{nameWoVowel}\\'')"
   ]
  },
  {
   "cell_type": "markdown",
   "id": "b2cd1529",
   "metadata": {},
   "source": [
    "## WAP to take a positive number from user and find the sum of natural numbers till that number (included)"
   ]
  },
  {
   "cell_type": "code",
   "execution_count": null,
   "id": "7bf1ea31",
   "metadata": {},
   "outputs": [
    {
     "name": "stdout",
     "output_type": "stream",
     "text": [
      "15\n"
     ]
    }
   ],
   "source": [
    "# Option 1\n",
    "getNum = int(input(\"Enter a positive natural number: \"))\n",
    "start = 0\n",
    "add = 0\n",
    "end = getNum\n",
    "\n",
    "while start<=end:\n",
    "    add = add + start\n",
    "    start+=1\n",
    "\n",
    "print(add)"
   ]
  },
  {
   "cell_type": "code",
   "execution_count": 27,
   "id": "0203c85d",
   "metadata": {},
   "outputs": [
    {
     "name": "stdout",
     "output_type": "stream",
     "text": [
      "15\n"
     ]
    }
   ],
   "source": [
    "# Option 2\n",
    "getNum = int(input(\"Enter a positive natural number: \"))\n",
    "start = 0\n",
    "add = 0\n",
    "\n",
    "while start!=getNum+1:\n",
    "    add = add + start\n",
    "    start+=1\n",
    "\n",
    "print(add)"
   ]
  },
  {
   "cell_type": "markdown",
   "id": "6d303a8b",
   "metadata": {},
   "source": [
    "## WAP to take an input string from the user and check if its a palindrome"
   ]
  },
  {
   "cell_type": "code",
   "execution_count": null,
   "id": "7cd97d43",
   "metadata": {},
   "outputs": [
    {
     "name": "stdout",
     "output_type": "stream",
     "text": [
      "Not palindrome\n"
     ]
    }
   ],
   "source": [
    "# Without using loops\n",
    "checkStr = input(\"Enter a string: \")\n",
    "if checkStr == checkStr[::-1]:\n",
    "    print(\"Palindrome\")\n",
    "else:\n",
    "    print(\"Not palindrome\")"
   ]
  },
  {
   "cell_type": "code",
   "execution_count": 1,
   "id": "6f572b64",
   "metadata": {},
   "outputs": [
    {
     "name": "stdout",
     "output_type": "stream",
     "text": [
      "palindrome\n"
     ]
    }
   ],
   "source": [
    "# Using loops\n",
    "checkStr = input(\"Enter a string: \")\n",
    "start = 0\n",
    "end = len(checkStr)-1\n",
    "is_palindrome = 1\n",
    "\n",
    "while (start<end):\n",
    "    if checkStr[start]!=checkStr[end]:\n",
    "        is_palindrome = 0\n",
    "        break\n",
    "    start+=1\n",
    "    end-=1\n",
    "\n",
    "if is_palindrome == 0:\n",
    "    print(\"Not a palindrome\")\n",
    "else:\n",
    "    print(\"palindrome\")"
   ]
  },
  {
   "cell_type": "markdown",
   "id": "5e08c6c4",
   "metadata": {},
   "source": [
    "## WAP to take a number from user and find its factorial"
   ]
  },
  {
   "cell_type": "code",
   "execution_count": 5,
   "id": "445bc913",
   "metadata": {},
   "outputs": [
    {
     "name": "stdout",
     "output_type": "stream",
     "text": [
      "5040\n"
     ]
    }
   ],
   "source": [
    "getNum = int(input(\"Enter a positive natural number: \"))\n",
    "start = 1\n",
    "fact = 1\n",
    "end = getNum\n",
    "\n",
    "while start<=end:\n",
    "    fact = fact * start\n",
    "    start+=1\n",
    "\n",
    "print(fact)"
   ]
  },
  {
   "cell_type": "markdown",
   "id": "0243e77a",
   "metadata": {},
   "source": [
    "## for loop\n",
    "\n",
    "### Iterable / Sequence\n",
    "\n",
    "1. string\n",
    "\n",
    "2. list\n",
    "\n",
    "3. tuple\n",
    "\n",
    "4. set"
   ]
  },
  {
   "cell_type": "code",
   "execution_count": null,
   "id": "e1dba3a8",
   "metadata": {},
   "outputs": [],
   "source": [
    "str1 = 'karan' # string - sequence\n",
    "l1 = ['k','a','r','a','n'] # list - sequence\n",
    "t1 = ('k','a','r','a','n') # tuple - sequence\n",
    "s1 = {'k','a','r','a','n'} # set is not a sequence but it is an iterable (like bag example)"
   ]
  },
  {
   "cell_type": "code",
   "execution_count": 7,
   "id": "09216995",
   "metadata": {},
   "outputs": [
    {
     "name": "stdout",
     "output_type": "stream",
     "text": [
      "k\n",
      "a\n",
      "r\n",
      "a\n",
      "n\n"
     ]
    }
   ],
   "source": [
    "for eachElem in str1:\n",
    "    print(eachElem)"
   ]
  },
  {
   "cell_type": "code",
   "execution_count": 8,
   "id": "697c2d56",
   "metadata": {},
   "outputs": [
    {
     "name": "stdout",
     "output_type": "stream",
     "text": [
      "k\n",
      "a\n",
      "r\n",
      "a\n",
      "n\n"
     ]
    }
   ],
   "source": [
    "for eachElem in l1:\n",
    "    print(eachElem)"
   ]
  },
  {
   "cell_type": "code",
   "execution_count": 9,
   "id": "63c023b5",
   "metadata": {},
   "outputs": [
    {
     "name": "stdout",
     "output_type": "stream",
     "text": [
      "k\n",
      "a\n",
      "r\n",
      "a\n",
      "n\n"
     ]
    }
   ],
   "source": [
    "for eachElem in t1:\n",
    "    print(eachElem)"
   ]
  },
  {
   "cell_type": "code",
   "execution_count": 11,
   "id": "396eb0fc",
   "metadata": {},
   "outputs": [
    {
     "name": "stdout",
     "output_type": "stream",
     "text": [
      "n\n",
      "a\n",
      "r\n",
      "k\n"
     ]
    }
   ],
   "source": [
    "for eachElem in s1:\n",
    "    print(eachElem)"
   ]
  },
  {
   "cell_type": "markdown",
   "id": "00d6cb1e",
   "metadata": {},
   "source": [
    "## Range function"
   ]
  },
  {
   "cell_type": "markdown",
   "id": "458ba92a",
   "metadata": {},
   "source": [
    "### range function with 1 element"
   ]
  },
  {
   "cell_type": "code",
   "execution_count": 12,
   "id": "e9099e2c",
   "metadata": {},
   "outputs": [
    {
     "data": {
      "text/plain": [
       "range(0, 5)"
      ]
     },
     "execution_count": 12,
     "metadata": {},
     "output_type": "execute_result"
    }
   ],
   "source": [
    "range(5)"
   ]
  },
  {
   "cell_type": "code",
   "execution_count": 14,
   "id": "35b6569e",
   "metadata": {},
   "outputs": [
    {
     "data": {
      "text/plain": [
       "[0, 1, 2, 3, 4]"
      ]
     },
     "execution_count": 14,
     "metadata": {},
     "output_type": "execute_result"
    }
   ],
   "source": [
    "list(range(5))"
   ]
  },
  {
   "cell_type": "code",
   "execution_count": 17,
   "id": "a441e587",
   "metadata": {},
   "outputs": [
    {
     "data": {
      "text/plain": [
       "(0, 1, 2, 3, 4)"
      ]
     },
     "execution_count": 17,
     "metadata": {},
     "output_type": "execute_result"
    }
   ],
   "source": [
    "tuple(range(5))"
   ]
  },
  {
   "cell_type": "code",
   "execution_count": 15,
   "id": "5195c87c",
   "metadata": {},
   "outputs": [
    {
     "data": {
      "text/plain": [
       "[0, 1, 2, 3, 4]"
      ]
     },
     "execution_count": 15,
     "metadata": {},
     "output_type": "execute_result"
    }
   ],
   "source": [
    "list(range(0,5,1))"
   ]
  },
  {
   "cell_type": "code",
   "execution_count": 16,
   "id": "756a05ae",
   "metadata": {},
   "outputs": [
    {
     "data": {
      "text/plain": [
       "[0, 2]"
      ]
     },
     "execution_count": 16,
     "metadata": {},
     "output_type": "execute_result"
    }
   ],
   "source": [
    "list(range(0,4,2))"
   ]
  },
  {
   "cell_type": "code",
   "execution_count": null,
   "id": "f053bc9c",
   "metadata": {},
   "outputs": [
    {
     "data": {
      "text/plain": [
       "range(0, -3)"
      ]
     },
     "execution_count": 19,
     "metadata": {},
     "output_type": "execute_result"
    }
   ],
   "source": [
    "range(-3) # we can't move in this direction similar to slicing"
   ]
  },
  {
   "cell_type": "code",
   "execution_count": 18,
   "id": "c48d97ee",
   "metadata": {},
   "outputs": [
    {
     "data": {
      "text/plain": [
       "[]"
      ]
     },
     "execution_count": 18,
     "metadata": {},
     "output_type": "execute_result"
    }
   ],
   "source": [
    "list(range(-3))"
   ]
  },
  {
   "cell_type": "code",
   "execution_count": 20,
   "id": "83bda6c1",
   "metadata": {},
   "outputs": [
    {
     "data": {
      "text/plain": [
       "[5, 6, 7]"
      ]
     },
     "execution_count": 20,
     "metadata": {},
     "output_type": "execute_result"
    }
   ],
   "source": [
    "list(range(5,8))"
   ]
  },
  {
   "cell_type": "code",
   "execution_count": 21,
   "id": "c6b4965e",
   "metadata": {},
   "outputs": [
    {
     "data": {
      "text/plain": [
       "[-7, -6]"
      ]
     },
     "execution_count": 21,
     "metadata": {},
     "output_type": "execute_result"
    }
   ],
   "source": [
    "list(range(-7,-5))"
   ]
  },
  {
   "cell_type": "code",
   "execution_count": 22,
   "id": "658efa0a",
   "metadata": {},
   "outputs": [
    {
     "data": {
      "text/plain": [
       "range(10, 1)"
      ]
     },
     "execution_count": 22,
     "metadata": {},
     "output_type": "execute_result"
    }
   ],
   "source": [
    "range(10,1)"
   ]
  },
  {
   "cell_type": "code",
   "execution_count": 23,
   "id": "c5ad1966",
   "metadata": {},
   "outputs": [
    {
     "data": {
      "text/plain": [
       "[]"
      ]
     },
     "execution_count": 23,
     "metadata": {},
     "output_type": "execute_result"
    }
   ],
   "source": [
    "list(range(10,1))"
   ]
  },
  {
   "cell_type": "code",
   "execution_count": 24,
   "id": "2f12f499",
   "metadata": {},
   "outputs": [
    {
     "data": {
      "text/plain": [
       "[-2, -1, 0, 1]"
      ]
     },
     "execution_count": 24,
     "metadata": {},
     "output_type": "execute_result"
    }
   ],
   "source": [
    "list(range(-2,2))"
   ]
  },
  {
   "cell_type": "code",
   "execution_count": 25,
   "id": "7471807e",
   "metadata": {},
   "outputs": [
    {
     "data": {
      "text/plain": [
       "[1, 3, 5, 7, 9]"
      ]
     },
     "execution_count": 25,
     "metadata": {},
     "output_type": "execute_result"
    }
   ],
   "source": [
    "list(range(1,10,2))"
   ]
  },
  {
   "cell_type": "code",
   "execution_count": 27,
   "id": "b477764c",
   "metadata": {},
   "outputs": [
    {
     "name": "stdout",
     "output_type": "stream",
     "text": [
      "0\n",
      "2\n",
      "4\n",
      "6\n",
      "8\n"
     ]
    }
   ],
   "source": [
    "for evenNum in range(0,10,2):\n",
    "    print(evenNum)"
   ]
  },
  {
   "cell_type": "code",
   "execution_count": 28,
   "id": "233a132c",
   "metadata": {},
   "outputs": [
    {
     "data": {
      "text/plain": [
       "[7, 5, 3]"
      ]
     },
     "execution_count": 28,
     "metadata": {},
     "output_type": "execute_result"
    }
   ],
   "source": [
    "list(range(7,1,-2))"
   ]
  },
  {
   "cell_type": "code",
   "execution_count": 29,
   "id": "02bf1292",
   "metadata": {},
   "outputs": [
    {
     "data": {
      "text/plain": [
       "[5]"
      ]
     },
     "execution_count": 29,
     "metadata": {},
     "output_type": "execute_result"
    }
   ],
   "source": [
    "list(range(5,10,20))"
   ]
  },
  {
   "cell_type": "code",
   "execution_count": 35,
   "id": "46bd0922",
   "metadata": {},
   "outputs": [
    {
     "name": "stdout",
     "output_type": "stream",
     "text": [
      "120\n",
      "15\n"
     ]
    }
   ],
   "source": [
    "s = 0\n",
    "fact = 1\n",
    "n = 5\n",
    "for i in range(1,n+1):\n",
    "    s = s+i\n",
    "    fact = fact*i\n",
    "print(fact)\n",
    "print(s)"
   ]
  },
  {
   "attachments": {
    "image.png": {
     "image/png": "[encoded data removed]"
    }
   },
   "cell_type": "markdown",
   "id": "05ed122e",
   "metadata": {},
   "source": [
    "## You have to take an input from the user and print out a * pattern:\n",
    "\n",
    "![image.png](attachment:image.png)"
   ]
  },
  {
   "cell_type": "code",
   "execution_count": null,
   "id": "6ed56b9c",
   "metadata": {},
   "outputs": [
    {
     "name": "stdout",
     "output_type": "stream",
     "text": [
      "****\n",
      "****\n",
      "****\n",
      "****\n"
     ]
    }
   ],
   "source": [
    "n = 4\n",
    "for num in range(n):\n",
    "    for i in range(n): \n",
    "        print(\"*\",end=\"\")\n",
    "    print() # this print brings the cursor to the next line"
   ]
  },
  {
   "cell_type": "markdown",
   "id": "2c1bbd55",
   "metadata": {},
   "source": [
    "## Nested Loop"
   ]
  },
  {
   "cell_type": "code",
   "execution_count": null,
   "id": "118a48d4",
   "metadata": {},
   "outputs": [
    {
     "name": "stdout",
     "output_type": "stream",
     "text": [
      "O\n",
      "I\n",
      "I\n",
      "02\n",
      "O\n",
      "I\n",
      "I\n",
      "02\n",
      "O\n",
      "I\n",
      "I\n",
      "02\n"
     ]
    }
   ],
   "source": [
    "for outerloop in range(3):\n",
    "    print(\"O\") # outer statement\n",
    "    for innerloop in range(2):\n",
    "        print(\"I\") # inner statement\n",
    "    print(\"02\") # outer statement 2"
   ]
  },
  {
   "cell_type": "code",
   "execution_count": 5,
   "id": "beecda25",
   "metadata": {},
   "outputs": [
    {
     "name": "stdout",
     "output_type": "stream",
     "text": [
      "1111\n",
      "2222\n",
      "3333\n",
      "4444\n"
     ]
    }
   ],
   "source": [
    "n = 4\n",
    "for outerLoop in range(n):\n",
    "    for innerLoop in range(n): \n",
    "        print(outerLoop+1,end=\"\")\n",
    "    print() # this print brings the cursor to the next line"
   ]
  },
  {
   "cell_type": "code",
   "execution_count": null,
   "id": "cdadcea2",
   "metadata": {},
   "outputs": [
    {
     "name": "stdout",
     "output_type": "stream",
     "text": [
      "1 \n",
      "2 2 \n",
      "3 3 3 \n",
      "4 4 4 4 \n"
     ]
    }
   ],
   "source": [
    "n = 4\n",
    "for outerLoop in range(n):\n",
    "    for innerLoop in range(outerLoop+1):\n",
    "        print(outerLoop+1,end=\" \")\n",
    "    print()"
   ]
  },
  {
   "cell_type": "code",
   "execution_count": 13,
   "id": "eed433d5",
   "metadata": {},
   "outputs": [
    {
     "name": "stdout",
     "output_type": "stream",
     "text": [
      "1 1 1 1 1 \n",
      "2 2 2 2 \n",
      "3 3 3 \n",
      "4 4 \n",
      "5 \n"
     ]
    }
   ],
   "source": [
    "n = 5\n",
    "for outerLoop in range(n):\n",
    "    for innerLoop in range(5-outerLoop):\n",
    "        print(outerLoop+1,end=\" \")\n",
    "    print()"
   ]
  },
  {
   "cell_type": "code",
   "execution_count": 15,
   "id": "b85a58e1",
   "metadata": {},
   "outputs": [
    {
     "name": "stdout",
     "output_type": "stream",
     "text": [
      "5 5 5 5 5 \n",
      "5 5 5 5 \n",
      "5 5 5 \n",
      "5 5 \n",
      "5 \n"
     ]
    }
   ],
   "source": [
    "n = 5\n",
    "for outerLoop in range(n):\n",
    "    for innerLoop in range(5-outerLoop):\n",
    "        print(n,end=\" \")\n",
    "    print()"
   ]
  },
  {
   "cell_type": "code",
   "execution_count": 18,
   "id": "48952886",
   "metadata": {},
   "outputs": [
    {
     "name": "stdout",
     "output_type": "stream",
     "text": [
      "1 \n",
      "3 3 \n",
      "5 5 5 \n",
      "7 7 7 7 \n",
      "9 9 9 9 9 \n"
     ]
    }
   ],
   "source": [
    "n = 5\n",
    "for outerLoop in range(n):\n",
    "    for innerLoop in range(outerLoop+1):\n",
    "        print(2*outerLoop+1,end=\" \")\n",
    "    print()"
   ]
  },
  {
   "cell_type": "code",
   "execution_count": null,
   "id": "cea8e33c",
   "metadata": {},
   "outputs": [],
   "source": []
  }
 ],
 "metadata": {
  "kernelspec": {
   "display_name": "Python 3",
   "language": "python",
   "name": "python3"
  },
  "language_info": {
   "codemirror_mode": {
    "name": "ipython",
    "version": 3
   },
   "file_extension": ".py",
   "mimetype": "text/x-python",
   "name": "python",
   "nbconvert_exporter": "python",
   "pygments_lexer": "ipython3",
   "version": "3.12.0"
  }
 },
 "nbformat": 4,
 "nbformat_minor": 5
}
