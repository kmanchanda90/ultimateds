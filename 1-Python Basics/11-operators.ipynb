{
 "cells": [
  {
   "cell_type": "markdown",
   "id": "9987739d",
   "metadata": {},
   "source": [
    "## Operators in Python"
   ]
  },
  {
   "cell_type": "code",
   "execution_count": 1,
   "id": "c554b2d9",
   "metadata": {},
   "outputs": [
    {
     "data": {
      "text/plain": [
       "2.5"
      ]
     },
     "execution_count": 1,
     "metadata": {},
     "output_type": "execute_result"
    }
   ],
   "source": [
    "5/2"
   ]
  },
  {
   "cell_type": "code",
   "execution_count": 2,
   "id": "36201f6a",
   "metadata": {},
   "outputs": [
    {
     "data": {
      "text/plain": [
       "float"
      ]
     },
     "execution_count": 2,
     "metadata": {},
     "output_type": "execute_result"
    }
   ],
   "source": [
    "type(5/2)"
   ]
  },
  {
   "cell_type": "markdown",
   "id": "4da075b4",
   "metadata": {},
   "source": [
    "#### Modulus"
   ]
  },
  {
   "cell_type": "code",
   "execution_count": 3,
   "id": "eaa7d5b3",
   "metadata": {},
   "outputs": [
    {
     "data": {
      "text/plain": [
       "2"
      ]
     },
     "execution_count": 3,
     "metadata": {},
     "output_type": "execute_result"
    }
   ],
   "source": [
    "555%7"
   ]
  },
  {
   "cell_type": "markdown",
   "id": "6cad3133",
   "metadata": {},
   "source": [
    "#### Exponential"
   ]
  },
  {
   "cell_type": "code",
   "execution_count": 4,
   "id": "aa730c6b",
   "metadata": {},
   "outputs": [
    {
     "data": {
      "text/plain": [
       "16"
      ]
     },
     "execution_count": 4,
     "metadata": {},
     "output_type": "execute_result"
    }
   ],
   "source": [
    "2**4"
   ]
  },
  {
   "cell_type": "markdown",
   "id": "7367bc08",
   "metadata": {},
   "source": [
    "#### Floor Division"
   ]
  },
  {
   "cell_type": "code",
   "execution_count": 5,
   "id": "88133054",
   "metadata": {},
   "outputs": [
    {
     "data": {
      "text/plain": [
       "2.5"
      ]
     },
     "execution_count": 5,
     "metadata": {},
     "output_type": "execute_result"
    }
   ],
   "source": [
    "5/2"
   ]
  },
  {
   "cell_type": "code",
   "execution_count": 6,
   "id": "ee0ae382",
   "metadata": {},
   "outputs": [
    {
     "data": {
      "text/plain": [
       "9.9"
      ]
     },
     "execution_count": 6,
     "metadata": {},
     "output_type": "execute_result"
    }
   ],
   "source": [
    "99/10"
   ]
  },
  {
   "cell_type": "code",
   "execution_count": 7,
   "id": "850617b1",
   "metadata": {},
   "outputs": [
    {
     "data": {
      "text/plain": [
       "2.4"
      ]
     },
     "execution_count": 7,
     "metadata": {},
     "output_type": "execute_result"
    }
   ],
   "source": [
    "24/10"
   ]
  },
  {
   "cell_type": "markdown",
   "id": "1132cb81",
   "metadata": {},
   "source": [
    "##### Don't confuse with rounding off"
   ]
  },
  {
   "cell_type": "code",
   "execution_count": 8,
   "id": "ddf2c447",
   "metadata": {},
   "outputs": [
    {
     "data": {
      "text/plain": [
       "2"
      ]
     },
     "execution_count": 8,
     "metadata": {},
     "output_type": "execute_result"
    }
   ],
   "source": [
    "5//2"
   ]
  },
  {
   "cell_type": "code",
   "execution_count": 9,
   "id": "91421209",
   "metadata": {},
   "outputs": [
    {
     "data": {
      "text/plain": [
       "9"
      ]
     },
     "execution_count": 9,
     "metadata": {},
     "output_type": "execute_result"
    }
   ],
   "source": [
    "99//10"
   ]
  },
  {
   "cell_type": "code",
   "execution_count": 10,
   "id": "67ab5e71",
   "metadata": {},
   "outputs": [
    {
     "data": {
      "text/plain": [
       "2"
      ]
     },
     "execution_count": 10,
     "metadata": {},
     "output_type": "execute_result"
    }
   ],
   "source": [
    "24//10"
   ]
  },
  {
   "cell_type": "code",
   "execution_count": 11,
   "id": "de2afde1",
   "metadata": {},
   "outputs": [
    {
     "data": {
      "text/plain": [
       "11"
      ]
     },
     "execution_count": 11,
     "metadata": {},
     "output_type": "execute_result"
    }
   ],
   "source": [
    "56//5"
   ]
  },
  {
   "cell_type": "markdown",
   "id": "58100a9d",
   "metadata": {},
   "source": [
    "### Relational Operators in Integers (Boolean)"
   ]
  },
  {
   "cell_type": "code",
   "execution_count": 12,
   "id": "9995e70f",
   "metadata": {},
   "outputs": [
    {
     "data": {
      "text/plain": [
       "False"
      ]
     },
     "execution_count": 12,
     "metadata": {},
     "output_type": "execute_result"
    }
   ],
   "source": [
    "4 > 5"
   ]
  },
  {
   "cell_type": "code",
   "execution_count": 13,
   "id": "5b46d5c5",
   "metadata": {},
   "outputs": [],
   "source": [
    "a = 10 # Assignment Operator"
   ]
  },
  {
   "cell_type": "code",
   "execution_count": 14,
   "id": "6378eed2",
   "metadata": {},
   "outputs": [
    {
     "data": {
      "text/plain": [
       "False"
      ]
     },
     "execution_count": 14,
     "metadata": {},
     "output_type": "execute_result"
    }
   ],
   "source": [
    "a == 12"
   ]
  },
  {
   "cell_type": "code",
   "execution_count": 15,
   "id": "807f89d5",
   "metadata": {},
   "outputs": [
    {
     "data": {
      "text/plain": [
       "True"
      ]
     },
     "execution_count": 15,
     "metadata": {},
     "output_type": "execute_result"
    }
   ],
   "source": [
    "a != 12"
   ]
  },
  {
   "cell_type": "code",
   "execution_count": 16,
   "id": "78a01aa2",
   "metadata": {},
   "outputs": [
    {
     "data": {
      "text/plain": [
       "True"
      ]
     },
     "execution_count": 16,
     "metadata": {},
     "output_type": "execute_result"
    }
   ],
   "source": [
    "a >= 5"
   ]
  },
  {
   "cell_type": "code",
   "execution_count": 17,
   "id": "51874726",
   "metadata": {},
   "outputs": [
    {
     "data": {
      "text/plain": [
       "True"
      ]
     },
     "execution_count": 17,
     "metadata": {},
     "output_type": "execute_result"
    }
   ],
   "source": [
    "a >= 10"
   ]
  },
  {
   "cell_type": "code",
   "execution_count": 18,
   "id": "92089380",
   "metadata": {},
   "outputs": [
    {
     "data": {
      "text/plain": [
       "False"
      ]
     },
     "execution_count": 18,
     "metadata": {},
     "output_type": "execute_result"
    }
   ],
   "source": [
    "a <= 5"
   ]
  },
  {
   "cell_type": "code",
   "execution_count": 19,
   "id": "3766184e",
   "metadata": {},
   "outputs": [
    {
     "data": {
      "text/plain": [
       "True"
      ]
     },
     "execution_count": 19,
     "metadata": {},
     "output_type": "execute_result"
    }
   ],
   "source": [
    "a <= 11"
   ]
  },
  {
   "cell_type": "code",
   "execution_count": 20,
   "id": "cc34901e",
   "metadata": {},
   "outputs": [
    {
     "data": {
      "text/plain": [
       "False"
      ]
     },
     "execution_count": 20,
     "metadata": {},
     "output_type": "execute_result"
    }
   ],
   "source": [
    "a <= 9"
   ]
  },
  {
   "cell_type": "code",
   "execution_count": 22,
   "id": "a23cf710",
   "metadata": {},
   "outputs": [
    {
     "data": {
      "text/plain": [
       "False"
      ]
     },
     "execution_count": 22,
     "metadata": {},
     "output_type": "execute_result"
    }
   ],
   "source": [
    "a != 10"
   ]
  },
  {
   "cell_type": "markdown",
   "id": "47d14686",
   "metadata": {},
   "source": [
    "#### Relational Operators in String"
   ]
  },
  {
   "cell_type": "code",
   "execution_count": 2,
   "id": "12c19bc7",
   "metadata": {},
   "outputs": [],
   "source": [
    "s1 = 'abc'\n",
    "s2 = 'def'\n",
    "s3 = 'abc'\n",
    "s4 = 'ABC'"
   ]
  },
  {
   "cell_type": "code",
   "execution_count": 3,
   "id": "6e917ec8",
   "metadata": {},
   "outputs": [
    {
     "data": {
      "text/plain": [
       "False"
      ]
     },
     "execution_count": 3,
     "metadata": {},
     "output_type": "execute_result"
    }
   ],
   "source": [
    "s1 == s2"
   ]
  },
  {
   "cell_type": "code",
   "execution_count": 4,
   "id": "6e5e4c3b",
   "metadata": {},
   "outputs": [
    {
     "data": {
      "text/plain": [
       "True"
      ]
     },
     "execution_count": 4,
     "metadata": {},
     "output_type": "execute_result"
    }
   ],
   "source": [
    "s1 == s3"
   ]
  },
  {
   "cell_type": "code",
   "execution_count": 5,
   "id": "fb64e5aa",
   "metadata": {},
   "outputs": [
    {
     "data": {
      "text/plain": [
       "False"
      ]
     },
     "execution_count": 5,
     "metadata": {},
     "output_type": "execute_result"
    }
   ],
   "source": [
    "s1 == s4"
   ]
  },
  {
   "cell_type": "code",
   "execution_count": 6,
   "id": "e183b554",
   "metadata": {},
   "outputs": [
    {
     "data": {
      "text/plain": [
       "False"
      ]
     },
     "execution_count": 6,
     "metadata": {},
     "output_type": "execute_result"
    }
   ],
   "source": [
    "'abc' > 'x'"
   ]
  },
  {
   "cell_type": "code",
   "execution_count": 7,
   "id": "23693d3f",
   "metadata": {},
   "outputs": [
    {
     "data": {
      "text/plain": [
       "True"
      ]
     },
     "execution_count": 7,
     "metadata": {},
     "output_type": "execute_result"
    }
   ],
   "source": [
    "'abc' < 'x'"
   ]
  },
  {
   "cell_type": "code",
   "execution_count": 9,
   "id": "81fe83dc",
   "metadata": {},
   "outputs": [
    {
     "data": {
      "text/plain": [
       "True"
      ]
     },
     "execution_count": 9,
     "metadata": {},
     "output_type": "execute_result"
    }
   ],
   "source": [
    "'axa' > 'aba'"
   ]
  },
  {
   "cell_type": "code",
   "execution_count": 10,
   "id": "09e8a7fc",
   "metadata": {},
   "outputs": [
    {
     "data": {
      "text/plain": [
       "True"
      ]
     },
     "execution_count": 10,
     "metadata": {},
     "output_type": "execute_result"
    }
   ],
   "source": [
    "'abc' < 'adc'"
   ]
  },
  {
   "cell_type": "code",
   "execution_count": 11,
   "id": "75ba226e",
   "metadata": {},
   "outputs": [
    {
     "data": {
      "text/plain": [
       "False"
      ]
     },
     "execution_count": 11,
     "metadata": {},
     "output_type": "execute_result"
    }
   ],
   "source": [
    "'a' > 'ab'"
   ]
  },
  {
   "cell_type": "code",
   "execution_count": 13,
   "id": "1fba468d",
   "metadata": {},
   "outputs": [
    {
     "data": {
      "text/plain": [
       "False"
      ]
     },
     "execution_count": 13,
     "metadata": {},
     "output_type": "execute_result"
    }
   ],
   "source": [
    "'abc' > 'abc'"
   ]
  },
  {
   "cell_type": "code",
   "execution_count": 14,
   "id": "cf287e0c",
   "metadata": {},
   "outputs": [
    {
     "data": {
      "text/plain": [
       "True"
      ]
     },
     "execution_count": 14,
     "metadata": {},
     "output_type": "execute_result"
    }
   ],
   "source": [
    "'abc' >= 'abc'"
   ]
  },
  {
   "cell_type": "code",
   "execution_count": 15,
   "id": "2a8458f4",
   "metadata": {},
   "outputs": [
    {
     "data": {
      "text/plain": [
       "True"
      ]
     },
     "execution_count": 15,
     "metadata": {},
     "output_type": "execute_result"
    }
   ],
   "source": [
    "'abc' <= 'abc'"
   ]
  },
  {
   "cell_type": "code",
   "execution_count": 17,
   "id": "afa1586a",
   "metadata": {},
   "outputs": [
    {
     "data": {
      "text/plain": [
       "False"
      ]
     },
     "execution_count": 17,
     "metadata": {},
     "output_type": "execute_result"
    }
   ],
   "source": [
    "7 > 7"
   ]
  },
  {
   "cell_type": "code",
   "execution_count": 18,
   "id": "553ea2b8",
   "metadata": {},
   "outputs": [
    {
     "data": {
      "text/plain": [
       "True"
      ]
     },
     "execution_count": 18,
     "metadata": {},
     "output_type": "execute_result"
    }
   ],
   "source": [
    "7 >= 7"
   ]
  },
  {
   "cell_type": "code",
   "execution_count": 16,
   "id": "562afe8c",
   "metadata": {},
   "outputs": [
    {
     "data": {
      "text/plain": [
       "True"
      ]
     },
     "execution_count": 16,
     "metadata": {},
     "output_type": "execute_result"
    }
   ],
   "source": [
    "'xab' > 'x'"
   ]
  },
  {
   "cell_type": "code",
   "execution_count": 19,
   "id": "512e486e",
   "metadata": {},
   "outputs": [
    {
     "data": {
      "text/plain": [
       "True"
      ]
     },
     "execution_count": 19,
     "metadata": {},
     "output_type": "execute_result"
    }
   ],
   "source": [
    "'a' > 'A'"
   ]
  },
  {
   "cell_type": "code",
   "execution_count": 1,
   "id": "9a033d04",
   "metadata": {},
   "outputs": [
    {
     "data": {
      "text/plain": [
       "True"
      ]
     },
     "execution_count": 1,
     "metadata": {},
     "output_type": "execute_result"
    }
   ],
   "source": [
    "'abc' < 'cbd'"
   ]
  },
  {
   "cell_type": "code",
   "execution_count": 6,
   "id": "a0c35fd6",
   "metadata": {},
   "outputs": [
    {
     "data": {
      "text/plain": [
       "False"
      ]
     },
     "execution_count": 6,
     "metadata": {},
     "output_type": "execute_result"
    }
   ],
   "source": [
    "'True' > 'false'"
   ]
  },
  {
   "cell_type": "code",
   "execution_count": 7,
   "id": "13cdc0de",
   "metadata": {},
   "outputs": [
    {
     "data": {
      "text/plain": [
       "False"
      ]
     },
     "execution_count": 7,
     "metadata": {},
     "output_type": "execute_result"
    }
   ],
   "source": [
    "'abc' > 'x'"
   ]
  },
  {
   "cell_type": "code",
   "execution_count": 8,
   "id": "0a03e08a",
   "metadata": {},
   "outputs": [
    {
     "data": {
      "text/plain": [
       "True"
      ]
     },
     "execution_count": 8,
     "metadata": {},
     "output_type": "execute_result"
    }
   ],
   "source": [
    "True > False"
   ]
  },
  {
   "cell_type": "code",
   "execution_count": 10,
   "id": "51f74080",
   "metadata": {},
   "outputs": [
    {
     "data": {
      "text/plain": [
       "True"
      ]
     },
     "execution_count": 10,
     "metadata": {},
     "output_type": "execute_result"
    }
   ],
   "source": [
    "'true' > 'false'"
   ]
  },
  {
   "cell_type": "code",
   "execution_count": 11,
   "id": "79425115",
   "metadata": {},
   "outputs": [
    {
     "data": {
      "text/plain": [
       "False"
      ]
     },
     "execution_count": 11,
     "metadata": {},
     "output_type": "execute_result"
    }
   ],
   "source": [
    "'true' == True"
   ]
  },
  {
   "cell_type": "code",
   "execution_count": 16,
   "id": "2f00dde8",
   "metadata": {},
   "outputs": [
    {
     "data": {
      "text/plain": [
       "True"
      ]
     },
     "execution_count": 16,
     "metadata": {},
     "output_type": "execute_result"
    }
   ],
   "source": [
    "'9' > '6+4'"
   ]
  },
  {
   "cell_type": "code",
   "execution_count": 17,
   "id": "de76cc56",
   "metadata": {},
   "outputs": [],
   "source": [
    "s = '6+4'"
   ]
  },
  {
   "cell_type": "code",
   "execution_count": 12,
   "id": "6c65de85",
   "metadata": {},
   "outputs": [
    {
     "data": {
      "text/plain": [
       "57"
      ]
     },
     "execution_count": 12,
     "metadata": {},
     "output_type": "execute_result"
    }
   ],
   "source": [
    "ord('9')"
   ]
  },
  {
   "cell_type": "code",
   "execution_count": 15,
   "id": "b1b0dfce",
   "metadata": {},
   "outputs": [
    {
     "data": {
      "text/plain": [
       "54"
      ]
     },
     "execution_count": 15,
     "metadata": {},
     "output_type": "execute_result"
    }
   ],
   "source": [
    "ord('6')"
   ]
  },
  {
   "cell_type": "markdown",
   "id": "fa50ebf1",
   "metadata": {},
   "source": [
    "#### Nesting of Relational Operator"
   ]
  },
  {
   "cell_type": "code",
   "execution_count": 19,
   "id": "e6f890c8",
   "metadata": {},
   "outputs": [
    {
     "name": "stdout",
     "output_type": "stream",
     "text": [
      "True\n"
     ]
    }
   ],
   "source": [
    "print(7>6>5)"
   ]
  },
  {
   "cell_type": "code",
   "execution_count": 20,
   "id": "48036d68",
   "metadata": {},
   "outputs": [
    {
     "name": "stdout",
     "output_type": "stream",
     "text": [
      "False\n"
     ]
    }
   ],
   "source": [
    "print(5<6>7)"
   ]
  },
  {
   "cell_type": "code",
   "execution_count": 21,
   "id": "39f0f782",
   "metadata": {},
   "outputs": [
    {
     "name": "stdout",
     "output_type": "stream",
     "text": [
      "False\n"
     ]
    }
   ],
   "source": [
    "print('a' > 'b' > 'c')"
   ]
  },
  {
   "cell_type": "code",
   "execution_count": 22,
   "id": "96a1815b",
   "metadata": {},
   "outputs": [
    {
     "name": "stdout",
     "output_type": "stream",
     "text": [
      "False\n"
     ]
    }
   ],
   "source": [
    "print('A' > 'a' > 'B')"
   ]
  },
  {
   "cell_type": "code",
   "execution_count": 23,
   "id": "b98838e4",
   "metadata": {},
   "outputs": [
    {
     "data": {
      "text/plain": [
       "False"
      ]
     },
     "execution_count": 23,
     "metadata": {},
     "output_type": "execute_result"
    }
   ],
   "source": [
    "'5' == 5"
   ]
  },
  {
   "cell_type": "code",
   "execution_count": null,
   "id": "c76fb3db",
   "metadata": {},
   "outputs": [
    {
     "data": {
      "text/plain": [
       "True"
      ]
     },
     "execution_count": 24,
     "metadata": {},
     "output_type": "execute_result"
    }
   ],
   "source": [
    "True == 1 # Exception"
   ]
  },
  {
   "cell_type": "code",
   "execution_count": null,
   "id": "1cf8fbd5",
   "metadata": {},
   "outputs": [
    {
     "data": {
      "text/plain": [
       "True"
      ]
     },
     "execution_count": 26,
     "metadata": {},
     "output_type": "execute_result"
    }
   ],
   "source": [
    "False == 0 # Exception"
   ]
  },
  {
   "cell_type": "code",
   "execution_count": 27,
   "id": "675c8fa9",
   "metadata": {},
   "outputs": [
    {
     "data": {
      "text/plain": [
       "False"
      ]
     },
     "execution_count": 27,
     "metadata": {},
     "output_type": "execute_result"
    }
   ],
   "source": [
    "'3.5' == 3.5"
   ]
  },
  {
   "cell_type": "code",
   "execution_count": 28,
   "id": "e9fa8d7d",
   "metadata": {},
   "outputs": [
    {
     "data": {
      "text/plain": [
       "True"
      ]
     },
     "execution_count": 28,
     "metadata": {},
     "output_type": "execute_result"
    }
   ],
   "source": [
    "3.0 == 3"
   ]
  },
  {
   "cell_type": "code",
   "execution_count": 29,
   "id": "df9faaee",
   "metadata": {},
   "outputs": [
    {
     "data": {
      "text/plain": [
       "False"
      ]
     },
     "execution_count": 29,
     "metadata": {},
     "output_type": "execute_result"
    }
   ],
   "source": [
    "'A' == 65"
   ]
  },
  {
   "cell_type": "code",
   "execution_count": 31,
   "id": "2ed6a668",
   "metadata": {},
   "outputs": [
    {
     "data": {
      "text/plain": [
       "True"
      ]
     },
     "execution_count": 31,
     "metadata": {},
     "output_type": "execute_result"
    }
   ],
   "source": [
    "ord('A') == 65"
   ]
  },
  {
   "cell_type": "code",
   "execution_count": 30,
   "id": "454cdc18",
   "metadata": {},
   "outputs": [
    {
     "data": {
      "text/plain": [
       "True"
      ]
     },
     "execution_count": 30,
     "metadata": {},
     "output_type": "execute_result"
    }
   ],
   "source": [
    "'A' == \"A\""
   ]
  },
  {
   "cell_type": "markdown",
   "id": "1c47c780",
   "metadata": {},
   "source": [
    "#### Logical Operators"
   ]
  },
  {
   "cell_type": "markdown",
   "id": "b0807892",
   "metadata": {},
   "source": [
    "##### and"
   ]
  },
  {
   "cell_type": "code",
   "execution_count": 33,
   "id": "2ac0b803",
   "metadata": {},
   "outputs": [
    {
     "data": {
      "text/plain": [
       "True"
      ]
     },
     "execution_count": 33,
     "metadata": {},
     "output_type": "execute_result"
    }
   ],
   "source": [
    "5 > 4 and 3 >2"
   ]
  },
  {
   "cell_type": "code",
   "execution_count": 34,
   "id": "8e79e14e",
   "metadata": {},
   "outputs": [
    {
     "data": {
      "text/plain": [
       "True"
      ]
     },
     "execution_count": 34,
     "metadata": {},
     "output_type": "execute_result"
    }
   ],
   "source": [
    "'a' > 'A' and 5 > 3 and True > False and 6.34 > 6.33"
   ]
  },
  {
   "cell_type": "markdown",
   "id": "fa1231de",
   "metadata": {},
   "source": [
    "##### or"
   ]
  },
  {
   "cell_type": "code",
   "execution_count": 35,
   "id": "a61fa0d3",
   "metadata": {},
   "outputs": [
    {
     "data": {
      "text/plain": [
       "True"
      ]
     },
     "execution_count": 35,
     "metadata": {},
     "output_type": "execute_result"
    }
   ],
   "source": [
    "5 > 3 or 'a' > 'x'"
   ]
  },
  {
   "cell_type": "markdown",
   "id": "3d5fbfd3",
   "metadata": {},
   "source": [
    "##### not"
   ]
  },
  {
   "cell_type": "code",
   "execution_count": 36,
   "id": "5a643fdb",
   "metadata": {},
   "outputs": [
    {
     "data": {
      "text/plain": [
       "False"
      ]
     },
     "execution_count": 36,
     "metadata": {},
     "output_type": "execute_result"
    }
   ],
   "source": [
    "not(5 > 3 or 'a' > 'x')"
   ]
  },
  {
   "cell_type": "code",
   "execution_count": 38,
   "id": "97064a32",
   "metadata": {},
   "outputs": [
    {
     "data": {
      "text/plain": [
       "True"
      ]
     },
     "execution_count": 38,
     "metadata": {},
     "output_type": "execute_result"
    }
   ],
   "source": [
    "not(5>4 and 4>6)"
   ]
  },
  {
   "cell_type": "markdown",
   "id": "1e34d33d",
   "metadata": {},
   "source": [
    "#### Logical Operator Non-Boolean value"
   ]
  },
  {
   "cell_type": "markdown",
   "id": "142b5726",
   "metadata": {},
   "source": [
    "##### and\n",
    "\n",
    "> *return 1st value if its False*\n",
    "\n",
    "> *else return 2nd value*"
   ]
  },
  {
   "cell_type": "code",
   "execution_count": 39,
   "id": "98a8a86b",
   "metadata": {},
   "outputs": [
    {
     "data": {
      "text/plain": [
       "0"
      ]
     },
     "execution_count": 39,
     "metadata": {},
     "output_type": "execute_result"
    }
   ],
   "source": [
    "0 and 5"
   ]
  },
  {
   "cell_type": "code",
   "execution_count": 41,
   "id": "587715f6",
   "metadata": {},
   "outputs": [
    {
     "data": {
      "text/plain": [
       "'karan'"
      ]
     },
     "execution_count": 41,
     "metadata": {},
     "output_type": "execute_result"
    }
   ],
   "source": [
    "5 and \"karan\""
   ]
  },
  {
   "cell_type": "code",
   "execution_count": 40,
   "id": "bd37eaf4",
   "metadata": {},
   "outputs": [
    {
     "data": {
      "text/plain": [
       "0"
      ]
     },
     "execution_count": 40,
     "metadata": {},
     "output_type": "execute_result"
    }
   ],
   "source": [
    "5 and 0"
   ]
  },
  {
   "cell_type": "code",
   "execution_count": 42,
   "id": "cca1d17c",
   "metadata": {},
   "outputs": [
    {
     "data": {
      "text/plain": [
       "'krish'"
      ]
     },
     "execution_count": 42,
     "metadata": {},
     "output_type": "execute_result"
    }
   ],
   "source": [
    "\"ineuron\" and \"krish\""
   ]
  },
  {
   "cell_type": "code",
   "execution_count": 43,
   "id": "f5d98ed0",
   "metadata": {},
   "outputs": [
    {
     "data": {
      "text/plain": [
       "7"
      ]
     },
     "execution_count": 43,
     "metadata": {},
     "output_type": "execute_result"
    }
   ],
   "source": [
    "5 and 7"
   ]
  },
  {
   "cell_type": "code",
   "execution_count": 44,
   "metadata": {},
   "outputs": [
    {
     "data": {
      "text/plain": [
       "0"
      ]
     },
     "execution_count": 44,
     "metadata": {},
     "output_type": "execute_result"
    }
   ],
   "source": [
    "0 and \"anything\""
   ]
  },
  {
   "cell_type": "code",
   "execution_count": 45,
   "id": "1a207cbe",
   "metadata": {},
   "outputs": [],
   "source": [
    "None and True"
   ]
  },
  {
   "cell_type": "code",
   "execution_count": 48,
   "id": "4dc0fae6",
   "metadata": {},
   "outputs": [
    {
     "name": "stdout",
     "output_type": "stream",
     "text": [
      "None\n"
     ]
    }
   ],
   "source": [
    "print(None and True)"
   ]
  },
  {
   "cell_type": "code",
   "execution_count": 46,
   "id": "78f387d7",
   "metadata": {},
   "outputs": [
    {
     "data": {
      "text/plain": [
       "'something else'"
      ]
     },
     "execution_count": 46,
     "metadata": {},
     "output_type": "execute_result"
    }
   ],
   "source": [
    "0.1 and 'something else'"
   ]
  },
  {
   "cell_type": "code",
   "execution_count": 47,
   "id": "7f236c3b",
   "metadata": {},
   "outputs": [
    {
     "data": {
      "text/plain": [
       "''"
      ]
     },
     "execution_count": 47,
     "metadata": {},
     "output_type": "execute_result"
    }
   ],
   "source": [
    "'' and '1234'"
   ]
  },
  {
   "cell_type": "markdown",
   "id": "f73b5f7d",
   "metadata": {},
   "source": [
    "##### or\n",
    "\n",
    "> *return first value if its True*\n",
    "\n",
    "> *else return 2nd value*"
   ]
  },
  {
   "cell_type": "code",
   "execution_count": 49,
   "id": "c01ce624",
   "metadata": {},
   "outputs": [
    {
     "data": {
      "text/plain": [
       "'True'"
      ]
     },
     "execution_count": 49,
     "metadata": {},
     "output_type": "execute_result"
    }
   ],
   "source": [
    "'True' or 'some other thing'"
   ]
  },
  {
   "cell_type": "code",
   "execution_count": 50,
   "id": "00748f5c",
   "metadata": {},
   "outputs": [
    {
     "data": {
      "text/plain": [
       "True"
      ]
     },
     "execution_count": 50,
     "metadata": {},
     "output_type": "execute_result"
    }
   ],
   "source": [
    "True or 'test'"
   ]
  },
  {
   "cell_type": "code",
   "execution_count": 51,
   "id": "5a1ea095",
   "metadata": {},
   "outputs": [
    {
     "data": {
      "text/plain": [
       "'something else'"
      ]
     },
     "execution_count": 51,
     "metadata": {},
     "output_type": "execute_result"
    }
   ],
   "source": [
    "False or 'something else'"
   ]
  },
  {
   "cell_type": "code",
   "execution_count": 52,
   "id": "ee0285fa",
   "metadata": {},
   "outputs": [
    {
     "name": "stdout",
     "output_type": "stream",
     "text": [
      "my answer\n"
     ]
    }
   ],
   "source": [
    "print(None or 'my answer')"
   ]
  },
  {
   "cell_type": "code",
   "execution_count": 53,
   "id": "5f807c5d",
   "metadata": {},
   "outputs": [
    {
     "name": "stdout",
     "output_type": "stream",
     "text": [
      "None\n"
     ]
    }
   ],
   "source": [
    "print(0 or None)"
   ]
  },
  {
   "cell_type": "code",
   "execution_count": 54,
   "id": "f3f10896",
   "metadata": {},
   "outputs": [
    {
     "data": {
      "text/plain": [
       "''"
      ]
     },
     "execution_count": 54,
     "metadata": {},
     "output_type": "execute_result"
    }
   ],
   "source": [
    "0 or \"\""
   ]
  },
  {
   "cell_type": "code",
   "execution_count": 55,
   "id": "5148e475",
   "metadata": {},
   "outputs": [
    {
     "data": {
      "text/plain": [
       "1"
      ]
     },
     "execution_count": 55,
     "metadata": {},
     "output_type": "execute_result"
    }
   ],
   "source": [
    "1 or \"\""
   ]
  },
  {
   "cell_type": "code",
   "execution_count": 56,
   "id": "b36e0801",
   "metadata": {},
   "outputs": [
    {
     "data": {
      "text/plain": [
       "0"
      ]
     },
     "execution_count": 56,
     "metadata": {},
     "output_type": "execute_result"
    }
   ],
   "source": [
    "'false' and 0"
   ]
  },
  {
   "cell_type": "code",
   "execution_count": 57,
   "id": "0bf6eb02",
   "metadata": {},
   "outputs": [
    {
     "data": {
      "text/plain": [
       "'def'"
      ]
     },
     "execution_count": 57,
     "metadata": {},
     "output_type": "execute_result"
    }
   ],
   "source": [
    "'abc' and 'def' or 'ghi'"
   ]
  },
  {
   "cell_type": "markdown",
   "id": "af336b3d",
   "metadata": {},
   "source": [
    "##### not operator"
   ]
  },
  {
   "cell_type": "code",
   "execution_count": 58,
   "id": "d7ddd5eb",
   "metadata": {},
   "outputs": [
    {
     "data": {
      "text/plain": [
       "False"
      ]
     },
     "execution_count": 58,
     "metadata": {},
     "output_type": "execute_result"
    }
   ],
   "source": [
    "not \"karan\""
   ]
  },
  {
   "cell_type": "code",
   "execution_count": 59,
   "id": "fa9ee7c4",
   "metadata": {},
   "outputs": [
    {
     "data": {
      "text/plain": [
       "True"
      ]
     },
     "execution_count": 59,
     "metadata": {},
     "output_type": "execute_result"
    }
   ],
   "source": [
    "not 0.0"
   ]
  },
  {
   "cell_type": "code",
   "execution_count": 60,
   "id": "a19adc30",
   "metadata": {},
   "outputs": [
    {
     "data": {
      "text/plain": [
       "True"
      ]
     },
     "execution_count": 60,
     "metadata": {},
     "output_type": "execute_result"
    }
   ],
   "source": [
    "not None"
   ]
  },
  {
   "cell_type": "code",
   "execution_count": 61,
   "id": "347387c9",
   "metadata": {},
   "outputs": [
    {
     "data": {
      "text/plain": [
       "False"
      ]
     },
     "execution_count": 61,
     "metadata": {},
     "output_type": "execute_result"
    }
   ],
   "source": [
    "not 'False'"
   ]
  },
  {
   "cell_type": "markdown",
   "id": "551e12a8",
   "metadata": {},
   "source": [
    "#### Assignment Operator"
   ]
  },
  {
   "cell_type": "code",
   "execution_count": 62,
   "id": "611a4b9a",
   "metadata": {},
   "outputs": [],
   "source": [
    "a = 10"
   ]
  },
  {
   "cell_type": "code",
   "execution_count": 63,
   "id": "c112ab69",
   "metadata": {},
   "outputs": [],
   "source": [
    "b = 20"
   ]
  },
  {
   "cell_type": "code",
   "execution_count": 64,
   "id": "a90d6cdc",
   "metadata": {},
   "outputs": [],
   "source": [
    "e = c = d = 5"
   ]
  },
  {
   "cell_type": "code",
   "execution_count": 65,
   "id": "a557c29e",
   "metadata": {},
   "outputs": [
    {
     "data": {
      "text/plain": [
       "(5, 5)"
      ]
     },
     "execution_count": 65,
     "metadata": {},
     "output_type": "execute_result"
    }
   ],
   "source": [
    "c,d"
   ]
  },
  {
   "cell_type": "code",
   "execution_count": 66,
   "id": "9731bfb2",
   "metadata": {},
   "outputs": [],
   "source": [
    "a,b,c = 2,4,6"
   ]
  },
  {
   "cell_type": "code",
   "execution_count": 67,
   "id": "1a7aceb0",
   "metadata": {},
   "outputs": [
    {
     "name": "stdout",
     "output_type": "stream",
     "text": [
      "Error encountered: too many values to unpack (expected 2)\n",
      "this was a test for invalid assigment\n"
     ]
    }
   ],
   "source": [
    "try:\n",
    "    a,b = 2,4,6\n",
    "except Exception as e:\n",
    "    print(\"Error encountered\",e,sep=\": \")\n",
    "finally:\n",
    "    print('this was a test for invalid assigment')"
   ]
  },
  {
   "cell_type": "code",
   "execution_count": 68,
   "id": "342d43a1",
   "metadata": {},
   "outputs": [
    {
     "name": "stdout",
     "output_type": "stream",
     "text": [
      "Error encountered: not enough values to unpack (expected 4, got 3)\n",
      "this was a test for invalid assigment\n"
     ]
    }
   ],
   "source": [
    "try:\n",
    "    a,b,c,d = 2,4,5\n",
    "except Exception as e:\n",
    "    print(\"Error encountered\",e,sep=\": \")\n",
    "finally:\n",
    "    print('this was a test for invalid assigment')"
   ]
  },
  {
   "cell_type": "markdown",
   "id": "d1e28c26",
   "metadata": {},
   "source": [
    "#### Compound Assignment Operator"
   ]
  },
  {
   "cell_type": "code",
   "execution_count": 69,
   "id": "c13d8d41",
   "metadata": {},
   "outputs": [],
   "source": [
    "a = 5"
   ]
  },
  {
   "cell_type": "code",
   "execution_count": 70,
   "id": "f8eb6e83",
   "metadata": {},
   "outputs": [],
   "source": [
    "a+=5 # a = a+5"
   ]
  },
  {
   "cell_type": "code",
   "execution_count": 71,
   "id": "dd1623af",
   "metadata": {},
   "outputs": [
    {
     "data": {
      "text/plain": [
       "10"
      ]
     },
     "execution_count": 71,
     "metadata": {},
     "output_type": "execute_result"
    }
   ],
   "source": [
    "a"
   ]
  },
  {
   "cell_type": "code",
   "execution_count": 73,
   "id": "20377191",
   "metadata": {},
   "outputs": [],
   "source": [
    "a-= 4"
   ]
  },
  {
   "cell_type": "code",
   "execution_count": 74,
   "id": "857d5091",
   "metadata": {},
   "outputs": [
    {
     "data": {
      "text/plain": [
       "6"
      ]
     },
     "execution_count": 74,
     "metadata": {},
     "output_type": "execute_result"
    }
   ],
   "source": [
    "a"
   ]
  },
  {
   "cell_type": "code",
   "execution_count": null,
   "id": "e5917149",
   "metadata": {},
   "outputs": [
    {
     "ename": "SyntaxError",
     "evalue": "invalid syntax (1277751513.py, line 1)",
     "output_type": "error",
     "traceback": [
      "  \u001b[36mCell\u001b[39m\u001b[36m \u001b[39m\u001b[32mIn[75]\u001b[39m\u001b[32m, line 1\u001b[39m\n\u001b[31m    \u001b[39m\u001b[31ma++\u001b[39m\n       ^\n\u001b[31mSyntaxError\u001b[39m\u001b[31m:\u001b[39m invalid syntax\n"
     ]
    }
   ],
   "source": [
    "a++  # => error"
   ]
  },
  {
   "cell_type": "code",
   "execution_count": null,
   "id": "455b9b4d",
   "metadata": {},
   "outputs": [
    {
     "ename": "SyntaxError",
     "evalue": "invalid syntax (1562500846.py, line 1)",
     "output_type": "error",
     "traceback": [
      "  \u001b[36mCell\u001b[39m\u001b[36m \u001b[39m\u001b[32mIn[76]\u001b[39m\u001b[32m, line 1\u001b[39m\n\u001b[31m    \u001b[39m\u001b[31ma--\u001b[39m\n       ^\n\u001b[31mSyntaxError\u001b[39m\u001b[31m:\u001b[39m invalid syntax\n"
     ]
    }
   ],
   "source": [
    "a-- # => error"
   ]
  },
  {
   "cell_type": "code",
   "execution_count": 77,
   "id": "9f7d6a64",
   "metadata": {},
   "outputs": [],
   "source": [
    "b = 10\n",
    "b = b+10"
   ]
  },
  {
   "cell_type": "code",
   "execution_count": 78,
   "id": "7bbe7d45",
   "metadata": {},
   "outputs": [
    {
     "data": {
      "text/plain": [
       "20"
      ]
     },
     "execution_count": 78,
     "metadata": {},
     "output_type": "execute_result"
    }
   ],
   "source": [
    "b"
   ]
  },
  {
   "cell_type": "code",
   "execution_count": 79,
   "id": "ef9de1c4",
   "metadata": {},
   "outputs": [],
   "source": [
    "b = 10"
   ]
  },
  {
   "cell_type": "code",
   "execution_count": 80,
   "id": "b7125807",
   "metadata": {},
   "outputs": [],
   "source": [
    "b+= 10"
   ]
  },
  {
   "cell_type": "code",
   "execution_count": 81,
   "id": "b461707a",
   "metadata": {},
   "outputs": [
    {
     "data": {
      "text/plain": [
       "20"
      ]
     },
     "execution_count": 81,
     "metadata": {},
     "output_type": "execute_result"
    }
   ],
   "source": [
    "b"
   ]
  },
  {
   "cell_type": "code",
   "execution_count": 1,
   "id": "46253bb0",
   "metadata": {},
   "outputs": [
    {
     "data": {
      "text/plain": [
       "10"
      ]
     },
     "execution_count": 1,
     "metadata": {},
     "output_type": "execute_result"
    }
   ],
   "source": [
    "a = 10\n",
    "a++5\n",
    "a"
   ]
  },
  {
   "cell_type": "code",
   "execution_count": 2,
   "id": "0bb221d0",
   "metadata": {},
   "outputs": [
    {
     "data": {
      "text/plain": [
       "10"
      ]
     },
     "execution_count": 2,
     "metadata": {},
     "output_type": "execute_result"
    }
   ],
   "source": [
    "++a"
   ]
  },
  {
   "cell_type": "code",
   "execution_count": 3,
   "id": "4c93dcb2",
   "metadata": {},
   "outputs": [
    {
     "data": {
      "text/plain": [
       "-10"
      ]
     },
     "execution_count": 3,
     "metadata": {},
     "output_type": "execute_result"
    }
   ],
   "source": [
    "+-a"
   ]
  },
  {
   "cell_type": "code",
   "execution_count": 9,
   "id": "aa918a15",
   "metadata": {},
   "outputs": [],
   "source": [
    "a = 10"
   ]
  },
  {
   "cell_type": "code",
   "execution_count": 10,
   "id": "3421128c",
   "metadata": {},
   "outputs": [],
   "source": [
    "a+=10"
   ]
  },
  {
   "cell_type": "code",
   "execution_count": 11,
   "id": "57e744d7",
   "metadata": {},
   "outputs": [
    {
     "data": {
      "text/plain": [
       "20"
      ]
     },
     "execution_count": 11,
     "metadata": {},
     "output_type": "execute_result"
    }
   ],
   "source": [
    "a"
   ]
  },
  {
   "cell_type": "code",
   "execution_count": 12,
   "id": "1d7fb959",
   "metadata": {},
   "outputs": [
    {
     "data": {
      "text/plain": [
       "20"
      ]
     },
     "execution_count": 12,
     "metadata": {},
     "output_type": "execute_result"
    }
   ],
   "source": [
    "++a"
   ]
  },
  {
   "cell_type": "code",
   "execution_count": 13,
   "id": "de97c21a",
   "metadata": {},
   "outputs": [
    {
     "data": {
      "text/plain": [
       "-20"
      ]
     },
     "execution_count": 13,
     "metadata": {},
     "output_type": "execute_result"
    }
   ],
   "source": [
    "+-a"
   ]
  },
  {
   "cell_type": "code",
   "execution_count": 14,
   "id": "b4434633",
   "metadata": {},
   "outputs": [
    {
     "data": {
      "text/plain": [
       "-20"
      ]
     },
     "execution_count": 14,
     "metadata": {},
     "output_type": "execute_result"
    }
   ],
   "source": [
    "-+a"
   ]
  },
  {
   "cell_type": "code",
   "execution_count": 15,
   "id": "9f970f16",
   "metadata": {},
   "outputs": [],
   "source": [
    "b = 5"
   ]
  },
  {
   "cell_type": "code",
   "execution_count": 16,
   "id": "41d509dd",
   "metadata": {},
   "outputs": [
    {
     "data": {
      "text/plain": [
       "5"
      ]
     },
     "execution_count": 16,
     "metadata": {},
     "output_type": "execute_result"
    }
   ],
   "source": [
    "++b"
   ]
  },
  {
   "cell_type": "code",
   "execution_count": 17,
   "id": "01c22b01",
   "metadata": {},
   "outputs": [
    {
     "data": {
      "text/plain": [
       "5"
      ]
     },
     "execution_count": 17,
     "metadata": {},
     "output_type": "execute_result"
    }
   ],
   "source": [
    "--b"
   ]
  },
  {
   "cell_type": "code",
   "execution_count": 18,
   "id": "09661482",
   "metadata": {},
   "outputs": [
    {
     "data": {
      "text/plain": [
       "-5"
      ]
     },
     "execution_count": 18,
     "metadata": {},
     "output_type": "execute_result"
    }
   ],
   "source": [
    "---b"
   ]
  },
  {
   "cell_type": "code",
   "execution_count": 19,
   "id": "89b3655c",
   "metadata": {},
   "outputs": [
    {
     "data": {
      "text/plain": [
       "10"
      ]
     },
     "execution_count": 19,
     "metadata": {},
     "output_type": "execute_result"
    }
   ],
   "source": [
    "b++5"
   ]
  },
  {
   "cell_type": "code",
   "execution_count": 20,
   "id": "0d33cc33",
   "metadata": {},
   "outputs": [
    {
     "data": {
      "text/plain": [
       "5"
      ]
     },
     "execution_count": 20,
     "metadata": {},
     "output_type": "execute_result"
    }
   ],
   "source": [
    "b"
   ]
  },
  {
   "cell_type": "code",
   "execution_count": null,
   "id": "42437da7",
   "metadata": {},
   "outputs": [
    {
     "data": {
      "text/plain": [
       "0"
      ]
     },
     "execution_count": 21,
     "metadata": {},
     "output_type": "execute_result"
    }
   ],
   "source": [
    "b+-5 # => b+(-5)"
   ]
  },
  {
   "cell_type": "code",
   "execution_count": 22,
   "id": "c79983b4",
   "metadata": {},
   "outputs": [],
   "source": [
    "c = 5"
   ]
  },
  {
   "cell_type": "code",
   "execution_count": 23,
   "id": "86afe468",
   "metadata": {},
   "outputs": [
    {
     "data": {
      "text/plain": [
       "int"
      ]
     },
     "execution_count": 23,
     "metadata": {},
     "output_type": "execute_result"
    }
   ],
   "source": [
    "type(c)"
   ]
  },
  {
   "cell_type": "code",
   "execution_count": 24,
   "id": "5bc0f263",
   "metadata": {},
   "outputs": [
    {
     "data": {
      "text/plain": [
       "True"
      ]
     },
     "execution_count": 24,
     "metadata": {},
     "output_type": "execute_result"
    }
   ],
   "source": [
    "type(c) is int"
   ]
  },
  {
   "cell_type": "code",
   "execution_count": 25,
   "id": "454684e2",
   "metadata": {},
   "outputs": [],
   "source": [
    "# eCommerce\n",
    "totalValue = 6000.2"
   ]
  },
  {
   "cell_type": "code",
   "execution_count": null,
   "id": "215ef447",
   "metadata": {},
   "outputs": [
    {
     "data": {
      "text/plain": [
       "False"
      ]
     },
     "execution_count": 27,
     "metadata": {},
     "output_type": "execute_result"
    }
   ],
   "source": [
    "type(totalValue) is int # cart value of an order: we may need to round it off if not integer"
   ]
  },
  {
   "cell_type": "code",
   "execution_count": 29,
   "id": "fabebf64",
   "metadata": {},
   "outputs": [],
   "source": [
    "# We send a survey to get a form filled - Name, Address, Aadhaar\n",
    "mobile = \"96353ea\""
   ]
  },
  {
   "cell_type": "code",
   "execution_count": 30,
   "id": "5cc9e82f",
   "metadata": {},
   "outputs": [
    {
     "data": {
      "text/plain": [
       "False"
      ]
     },
     "execution_count": 30,
     "metadata": {},
     "output_type": "execute_result"
    }
   ],
   "source": [
    "type(mobile) is int"
   ]
  },
  {
   "cell_type": "code",
   "execution_count": 31,
   "id": "01e7cedd",
   "metadata": {},
   "outputs": [
    {
     "data": {
      "text/plain": [
       "True"
      ]
     },
     "execution_count": 31,
     "metadata": {},
     "output_type": "execute_result"
    }
   ],
   "source": [
    "type(c) is not str"
   ]
  },
  {
   "cell_type": "code",
   "execution_count": 32,
   "id": "2508d166",
   "metadata": {},
   "outputs": [
    {
     "data": {
      "text/plain": [
       "True"
      ]
     },
     "execution_count": 32,
     "metadata": {},
     "output_type": "execute_result"
    }
   ],
   "source": [
    "type(c) == int"
   ]
  },
  {
   "cell_type": "code",
   "execution_count": 1,
   "id": "307ef0d5",
   "metadata": {},
   "outputs": [],
   "source": [
    "a = 5\n",
    "b = 7"
   ]
  },
  {
   "cell_type": "code",
   "execution_count": 2,
   "id": "a928c87e",
   "metadata": {},
   "outputs": [
    {
     "data": {
      "text/plain": [
       "False"
      ]
     },
     "execution_count": 2,
     "metadata": {},
     "output_type": "execute_result"
    }
   ],
   "source": [
    "a is b"
   ]
  },
  {
   "cell_type": "code",
   "execution_count": 3,
   "id": "57b5225e",
   "metadata": {},
   "outputs": [],
   "source": [
    "c = 5"
   ]
  },
  {
   "cell_type": "code",
   "execution_count": 4,
   "id": "35fa52fc",
   "metadata": {},
   "outputs": [
    {
     "data": {
      "text/plain": [
       "True"
      ]
     },
     "execution_count": 4,
     "metadata": {},
     "output_type": "execute_result"
    }
   ],
   "source": [
    "a is c"
   ]
  },
  {
   "cell_type": "code",
   "execution_count": 5,
   "id": "3d0cff7f",
   "metadata": {},
   "outputs": [
    {
     "name": "stdout",
     "output_type": "stream",
     "text": [
      "True\n"
     ]
    }
   ],
   "source": [
    "print(a is c)"
   ]
  },
  {
   "cell_type": "code",
   "execution_count": 6,
   "id": "6aef927f",
   "metadata": {},
   "outputs": [
    {
     "data": {
      "text/plain": [
       "(5, 7, 5)"
      ]
     },
     "execution_count": 6,
     "metadata": {},
     "output_type": "execute_result"
    }
   ],
   "source": [
    "a,b,c"
   ]
  },
  {
   "cell_type": "code",
   "execution_count": 7,
   "id": "255f9ff0",
   "metadata": {},
   "outputs": [
    {
     "name": "stdout",
     "output_type": "stream",
     "text": [
      "140712055097912\n"
     ]
    }
   ],
   "source": [
    "print(id(a))"
   ]
  },
  {
   "cell_type": "code",
   "execution_count": 8,
   "id": "2542e9a9",
   "metadata": {},
   "outputs": [
    {
     "name": "stdout",
     "output_type": "stream",
     "text": [
      "140712055097976\n"
     ]
    }
   ],
   "source": [
    "print(id(b))"
   ]
  },
  {
   "cell_type": "code",
   "execution_count": 9,
   "id": "9a7d216e",
   "metadata": {},
   "outputs": [
    {
     "name": "stdout",
     "output_type": "stream",
     "text": [
      "140712055097912\n"
     ]
    }
   ],
   "source": [
    "print(id(c))"
   ]
  },
  {
   "cell_type": "code",
   "execution_count": 10,
   "id": "69501e91",
   "metadata": {},
   "outputs": [],
   "source": [
    "a = 8"
   ]
  },
  {
   "cell_type": "code",
   "execution_count": null,
   "id": "b875b387",
   "metadata": {},
   "outputs": [
    {
     "name": "stdout",
     "output_type": "stream",
     "text": [
      "140712055098008\n"
     ]
    }
   ],
   "source": [
    "print(id(a))"
   ]
  },
  {
   "cell_type": "markdown",
   "id": "3104fc82",
   "metadata": {},
   "source": [
    "##### In Python, the address of variable can change in comparison to another languages.\n",
    "\n",
    "> Addresses are also dynamic."
   ]
  },
  {
   "cell_type": "code",
   "execution_count": 12,
   "id": "2417bd5a",
   "metadata": {},
   "outputs": [],
   "source": [
    "a = 5"
   ]
  },
  {
   "cell_type": "code",
   "execution_count": 13,
   "id": "378cd7cb",
   "metadata": {},
   "outputs": [
    {
     "name": "stdout",
     "output_type": "stream",
     "text": [
      "140712055097912\n"
     ]
    }
   ],
   "source": [
    "print(id(a))"
   ]
  },
  {
   "cell_type": "code",
   "execution_count": 14,
   "id": "897fdf96",
   "metadata": {},
   "outputs": [],
   "source": [
    "d = 6+7j"
   ]
  },
  {
   "cell_type": "code",
   "execution_count": 15,
   "id": "3f434c71",
   "metadata": {},
   "outputs": [],
   "source": [
    "e = 6+7J"
   ]
  },
  {
   "cell_type": "code",
   "execution_count": 16,
   "id": "855afdd7",
   "metadata": {},
   "outputs": [
    {
     "name": "stdout",
     "output_type": "stream",
     "text": [
      "2339213603472\n"
     ]
    }
   ],
   "source": [
    "print(id(d))"
   ]
  },
  {
   "cell_type": "code",
   "execution_count": 17,
   "id": "7b53777a",
   "metadata": {},
   "outputs": [
    {
     "name": "stdout",
     "output_type": "stream",
     "text": [
      "2339213603504\n"
     ]
    }
   ],
   "source": [
    "print(id(e))"
   ]
  },
  {
   "cell_type": "code",
   "execution_count": 18,
   "id": "52e37243",
   "metadata": {},
   "outputs": [],
   "source": [
    "f = 6+7j"
   ]
  },
  {
   "cell_type": "code",
   "execution_count": 19,
   "id": "ff502d2f",
   "metadata": {},
   "outputs": [
    {
     "name": "stdout",
     "output_type": "stream",
     "text": [
      "2339213604400\n"
     ]
    }
   ],
   "source": [
    "print(id(f))"
   ]
  },
  {
   "cell_type": "code",
   "execution_count": 20,
   "id": "225931d8",
   "metadata": {},
   "outputs": [],
   "source": [
    "g = 6+7J"
   ]
  },
  {
   "cell_type": "code",
   "execution_count": 21,
   "id": "728c29ca",
   "metadata": {},
   "outputs": [
    {
     "name": "stdout",
     "output_type": "stream",
     "text": [
      "2339213603952\n"
     ]
    }
   ],
   "source": [
    "print(id(g))"
   ]
  },
  {
   "cell_type": "code",
   "execution_count": 22,
   "id": "c228b868",
   "metadata": {},
   "outputs": [],
   "source": [
    "str1 = 'karan'"
   ]
  },
  {
   "cell_type": "code",
   "execution_count": 23,
   "id": "cdb07a69",
   "metadata": {},
   "outputs": [],
   "source": [
    "str2 = \"karan\""
   ]
  },
  {
   "cell_type": "code",
   "execution_count": 24,
   "id": "4cfbd25d",
   "metadata": {},
   "outputs": [
    {
     "name": "stdout",
     "output_type": "stream",
     "text": [
      "2339214616608\n",
      "2339214616608\n"
     ]
    }
   ],
   "source": [
    "print(id(str1))\n",
    "print(id(str2))"
   ]
  },
  {
   "cell_type": "code",
   "execution_count": 1,
   "id": "fad2a246",
   "metadata": {},
   "outputs": [],
   "source": [
    "a,b,c = 4,4,4"
   ]
  },
  {
   "cell_type": "code",
   "execution_count": 2,
   "id": "2294d9cd",
   "metadata": {},
   "outputs": [],
   "source": [
    "p,k,l = 4,4,4"
   ]
  },
  {
   "cell_type": "code",
   "execution_count": 4,
   "id": "8c546258",
   "metadata": {},
   "outputs": [
    {
     "name": "stdout",
     "output_type": "stream",
     "text": [
      "140712564509208\n",
      "140712564509208\n",
      "140712564509208\n",
      "140712564509208\n",
      "140712564509208\n",
      "140712564509208\n"
     ]
    }
   ],
   "source": [
    "print(id(a))\n",
    "print(id(b))\n",
    "print(id(c))\n",
    "print(id(p))\n",
    "print(id(k))\n",
    "print(id(l))"
   ]
  },
  {
   "cell_type": "code",
   "execution_count": 5,
   "id": "f44402fc",
   "metadata": {},
   "outputs": [],
   "source": [
    "orders = [\"biryani\",\"iceceream\",\"dosa\"]"
   ]
  },
  {
   "cell_type": "code",
   "execution_count": 6,
   "id": "c511eb32",
   "metadata": {},
   "outputs": [
    {
     "data": {
      "text/plain": [
       "True"
      ]
     },
     "execution_count": 6,
     "metadata": {},
     "output_type": "execute_result"
    }
   ],
   "source": [
    "\"biryani\" in orders"
   ]
  },
  {
   "cell_type": "code",
   "execution_count": null,
   "id": "f29852de",
   "metadata": {},
   "outputs": [
    {
     "data": {
      "text/plain": [
       "True"
      ]
     },
     "execution_count": 7,
     "metadata": {},
     "output_type": "execute_result"
    }
   ],
   "source": [
    "'ar' in 'karan' # sequence under another sequence"
   ]
  },
  {
   "cell_type": "code",
   "execution_count": 10,
   "id": "f459ab95",
   "metadata": {},
   "outputs": [
    {
     "data": {
      "text/plain": [
       "True"
      ]
     },
     "execution_count": 10,
     "metadata": {},
     "output_type": "execute_result"
    }
   ],
   "source": [
    "'a' in 'karan'"
   ]
  },
  {
   "cell_type": "code",
   "execution_count": 8,
   "id": "4edf127f",
   "metadata": {},
   "outputs": [
    {
     "data": {
      "text/plain": [
       "False"
      ]
     },
     "execution_count": 8,
     "metadata": {},
     "output_type": "execute_result"
    }
   ],
   "source": [
    "[\"biryani\",\"dosa\"] in orders"
   ]
  },
  {
   "cell_type": "code",
   "execution_count": 9,
   "id": "2cceafb4",
   "metadata": {},
   "outputs": [
    {
     "data": {
      "text/plain": [
       "False"
      ]
     },
     "execution_count": 9,
     "metadata": {},
     "output_type": "execute_result"
    }
   ],
   "source": [
    "[\"biryani\",\"icecream\"] in orders"
   ]
  },
  {
   "cell_type": "code",
   "execution_count": 11,
   "id": "d2fb8c76",
   "metadata": {},
   "outputs": [
    {
     "data": {
      "text/plain": [
       "True"
      ]
     },
     "execution_count": 11,
     "metadata": {},
     "output_type": "execute_result"
    }
   ],
   "source": [
    "\"biryani\" in orders and \"dosa\" in orders"
   ]
  },
  {
   "cell_type": "code",
   "execution_count": 12,
   "id": "919bfe1c",
   "metadata": {},
   "outputs": [],
   "source": [
    "orders = [\"biryani\",\"iceceream\",\"dosa\",[\"biryani\",\"icecream\"]]"
   ]
  },
  {
   "cell_type": "code",
   "execution_count": 13,
   "id": "8be6becf",
   "metadata": {},
   "outputs": [
    {
     "data": {
      "text/plain": [
       "True"
      ]
     },
     "execution_count": 13,
     "metadata": {},
     "output_type": "execute_result"
    }
   ],
   "source": [
    "[\"biryani\",\"icecream\"] in orders"
   ]
  }
 ],
 "metadata": {
  "kernelspec": {
   "display_name": "Python 3",
   "language": "python",
   "name": "python3"
  },
  "language_info": {
   "codemirror_mode": {
    "name": "ipython",
    "version": 3
   },
   "file_extension": ".py",
   "mimetype": "text/x-python",
   "name": "python",
   "nbconvert_exporter": "python",
   "pygments_lexer": "ipython3",
   "version": "3.12.0"
  }
 },
 "nbformat": 4,
 "nbformat_minor": 5
}
