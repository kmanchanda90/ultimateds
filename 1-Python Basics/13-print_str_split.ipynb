{
 "cells": [
  {
   "cell_type": "markdown",
   "id": "65f25ecd",
   "metadata": {},
   "source": [
    "WAP to take input of two numbers from user and add them."
   ]
  },
  {
   "cell_type": "code",
   "execution_count": 2,
   "id": "72d26386",
   "metadata": {},
   "outputs": [
    {
     "name": "stdout",
     "output_type": "stream",
     "text": [
      "It's your personal calculator. I will help you add two numbers. So, what are you waiting for?\n",
      "Here you go! The addition of your given numbers: 54 and 78 is: 132\n"
     ]
    }
   ],
   "source": [
    "try:\n",
    "    print(\"It's your personal calculator. I will help you add two numbers. So, what are you waiting for?\")\n",
    "    num1 = int(input(\"Enter the first number: \"))\n",
    "    num2 = int(input(\"Enter the first number: \"))\n",
    "    addition = num1 + num2\n",
    "    print(\"Here you go! The addition of your given numbers:\", num1, \"and\", num2, \"is:\", addition, sep=\" \")\n",
    "except Exception as e:\n",
    "    print(\"Error encountered\",e,sep=\" \")\n",
    "    print(\"Try again as you entered an non-integer or string which is an invalid input!\")"
   ]
  },
  {
   "cell_type": "code",
   "execution_count": 3,
   "id": "fcb6472c",
   "metadata": {},
   "outputs": [],
   "source": [
    "str = '5 10'"
   ]
  },
  {
   "cell_type": "code",
   "execution_count": 4,
   "id": "f8dc9644",
   "metadata": {},
   "outputs": [
    {
     "data": {
      "text/plain": [
       "['5', '10']"
      ]
     },
     "execution_count": 4,
     "metadata": {},
     "output_type": "execute_result"
    }
   ],
   "source": [
    "str.split( )"
   ]
  },
  {
   "cell_type": "code",
   "execution_count": 5,
   "id": "7f9b2e2f",
   "metadata": {},
   "outputs": [],
   "source": [
    "str_sp_char = '4@5@6'"
   ]
  },
  {
   "cell_type": "code",
   "execution_count": 7,
   "id": "59c4ec9c",
   "metadata": {},
   "outputs": [
    {
     "data": {
      "text/plain": [
       "['4', '5', '6']"
      ]
     },
     "execution_count": 7,
     "metadata": {},
     "output_type": "execute_result"
    }
   ],
   "source": [
    "str_sp_char.split('@')"
   ]
  },
  {
   "cell_type": "code",
   "execution_count": 8,
   "id": "6ad11a88",
   "metadata": {},
   "outputs": [
    {
     "data": {
      "text/plain": [
       "'4@5@6'"
      ]
     },
     "execution_count": 8,
     "metadata": {},
     "output_type": "execute_result"
    }
   ],
   "source": [
    "str_sp_char"
   ]
  },
  {
   "cell_type": "code",
   "execution_count": 9,
   "id": "f78382b6",
   "metadata": {},
   "outputs": [],
   "source": [
    "a,b,c = str_sp_char.split('@')"
   ]
  },
  {
   "cell_type": "code",
   "execution_count": 12,
   "id": "133d872b",
   "metadata": {},
   "outputs": [
    {
     "name": "stdout",
     "output_type": "stream",
     "text": [
      "4\n",
      "5\n",
      "6\n"
     ]
    }
   ],
   "source": [
    "print(a,b,c,sep=\"\\n\")"
   ]
  },
  {
   "cell_type": "markdown",
   "id": "be1b6267",
   "metadata": {},
   "source": [
    "#### WAP to take input from user his age, name, and marks and show output as\n",
    "\n",
    "1. name in opposite direction (reversed)\n",
    "\n",
    "2. age as how many years left in turning 100\n",
    "\n",
    "3. marks as how much are they out of 100"
   ]
  },
  {
   "cell_type": "code",
   "execution_count": 7,
   "id": "9e76dde1",
   "metadata": {},
   "outputs": [
    {
     "name": "stdout",
     "output_type": "stream",
     "text": [
      "I am student school directory but with a twist. I will save your information but encrypt it. Wanna see?🤖\n",
      "Let me show you the magic. Your encrypted name is🧙‍♂️inamiH🧙‍♂️,\n",
      "You have 65 years to be 100!\n",
      "Your marks are 0.87 in proportion to 1🤖\n"
     ]
    }
   ],
   "source": [
    "try:\n",
    "    print(\"I am student school directory but with a twist. I will save your information but encrypt it. Wanna see?🤖\")\n",
    "    std_name = input(\"Enter your name: \")\n",
    "    std_age = int(input(\"Enter your age: \"))\n",
    "    std_marks = int(input(\"Enter your marks: \"))\n",
    "    std_name_rvrsd = std_name[::-1]\n",
    "    std_ytc = 100 - std_age\n",
    "    std_o100 = std_marks/100\n",
    "    print(\"Let me show you the magic. Your encrypted name is🧙‍♂️\", std_name_rvrsd, \"🧙‍♂️,\"\"\\n\",\"You have \", std_ytc,\" years to be 100!\",\"\\n\",\"Your marks are \", std_o100,\" in proportion to 1🤖\",sep=\"\")\n",
    "except Exception as e:\n",
    "    print(\"Uh-oh! Error encounted. Try again!:\",e,sep=\" \")"
   ]
  },
  {
   "cell_type": "markdown",
   "id": "2cfe8300",
   "metadata": {},
   "source": [
    "## Very very important\n",
    "\n",
    "### print( ) statement"
   ]
  },
  {
   "cell_type": "code",
   "execution_count": null,
   "id": "60b90644",
   "metadata": {},
   "outputs": [
    {
     "name": "stdout",
     "output_type": "stream",
     "text": [
      "Years left to turn century 65\n"
     ]
    }
   ],
   "source": [
    "# Option 1 - Traditional method \n",
    "print(\"Years left to turn century \"+str(std_ytc)) # concatenate two strings"
   ]
  },
  {
   "cell_type": "markdown",
   "id": "60b4e63d",
   "metadata": {},
   "source": [
    "#### Option 2 - Format Specifier"
   ]
  },
  {
   "cell_type": "code",
   "execution_count": 1,
   "id": "9954080a",
   "metadata": {},
   "outputs": [],
   "source": [
    "name = 'karan'\n",
    "age = 15"
   ]
  },
  {
   "cell_type": "code",
   "execution_count": null,
   "id": "c1ee3eef",
   "metadata": {},
   "outputs": [
    {
     "name": "stdout",
     "output_type": "stream",
     "text": [
      "name is karan and age is 15\n"
     ]
    }
   ],
   "source": [
    "print(\"name is %s and age is %i\" %(name,age))"
   ]
  },
  {
   "cell_type": "code",
   "execution_count": 8,
   "id": "48aa0caa",
   "metadata": {},
   "outputs": [
    {
     "name": "stdout",
     "output_type": "stream",
     "text": [
      "Error encountered: not enough arguments for format string\n"
     ]
    }
   ],
   "source": [
    "# No. of format specifier and variable should match\n",
    "try:\n",
    "    print(\"name is %s and age is %d\" %(name))\n",
    "except Exception as e:\n",
    "    print(\"Error encountered: \",e,sep=\"\")"
   ]
  },
  {
   "cell_type": "code",
   "execution_count": 6,
   "id": "4fa5e0ac",
   "metadata": {},
   "outputs": [
    {
     "name": "stdout",
     "output_type": "stream",
     "text": [
      "name is karan and age is 15\n"
     ]
    }
   ],
   "source": [
    "print(\"name is %s and age is %d\" %(name,age))"
   ]
  },
  {
   "cell_type": "code",
   "execution_count": null,
   "id": "07b6ed6e",
   "metadata": {},
   "outputs": [
    {
     "name": "stdout",
     "output_type": "stream",
     "text": [
      "name is karan and age is 15\n"
     ]
    }
   ],
   "source": [
    "# str can be used for non-str value\n",
    "print(\"name is %s and age is %s\" %(name,age))"
   ]
  },
  {
   "cell_type": "code",
   "execution_count": 10,
   "id": "363d09ec",
   "metadata": {},
   "outputs": [
    {
     "name": "stdout",
     "output_type": "stream",
     "text": [
      "Error encountered: %d format: a real number is required, not str\n"
     ]
    }
   ],
   "source": [
    "# %d cannot be used for strings\n",
    "try:\n",
    "    print(\"name is %d and age is %s\" %(name))\n",
    "except Exception as e:\n",
    "    print(\"Error encountered: \",e,sep=\"\")"
   ]
  },
  {
   "cell_type": "code",
   "execution_count": 11,
   "id": "7d3b1796",
   "metadata": {},
   "outputs": [],
   "source": [
    "decNumber = 5.66463264"
   ]
  },
  {
   "cell_type": "code",
   "execution_count": 12,
   "id": "09e19eec",
   "metadata": {},
   "outputs": [
    {
     "name": "stdout",
     "output_type": "stream",
     "text": [
      "number is 5\n"
     ]
    }
   ],
   "source": [
    "print(\"number is %d\" %(decNumber))"
   ]
  },
  {
   "cell_type": "code",
   "execution_count": 13,
   "id": "96472663",
   "metadata": {},
   "outputs": [
    {
     "name": "stdout",
     "output_type": "stream",
     "text": [
      "number is 5.664633\n"
     ]
    }
   ],
   "source": [
    "print(\"number is %f\" %(decNumber))"
   ]
  },
  {
   "cell_type": "code",
   "execution_count": 14,
   "id": "b687c4a0",
   "metadata": {},
   "outputs": [
    {
     "name": "stdout",
     "output_type": "stream",
     "text": [
      "number is 5.66463264\n"
     ]
    }
   ],
   "source": [
    "print(\"number is %s\" %(decNumber))"
   ]
  },
  {
   "cell_type": "code",
   "execution_count": null,
   "id": "33fdd53a",
   "metadata": {},
   "outputs": [
    {
     "name": "stdout",
     "output_type": "stream",
     "text": [
      "number is 5.66\n"
     ]
    }
   ],
   "source": [
    "print(\"number is %.2f\" %(decNumber)) # upto 2 decimal places"
   ]
  },
  {
   "cell_type": "code",
   "execution_count": null,
   "id": "02208d0e",
   "metadata": {},
   "outputs": [
    {
     "name": "stdout",
     "output_type": "stream",
     "text": [
      "number is 5.665\n"
     ]
    }
   ],
   "source": [
    "print(\"number is %.3f\" %(decNumber)) # upto 3 decimal places"
   ]
  },
  {
   "cell_type": "code",
   "execution_count": null,
   "id": "4cab5d56",
   "metadata": {},
   "outputs": [
    {
     "name": "stdout",
     "output_type": "stream",
     "text": [
      "number is 5.6646\n"
     ]
    }
   ],
   "source": [
    "print(\"number is %.4f\" %(decNumber)) # upto 4 decimal places"
   ]
  },
  {
   "cell_type": "code",
   "execution_count": null,
   "id": "359c9599",
   "metadata": {},
   "outputs": [
    {
     "name": "stdout",
     "output_type": "stream",
     "text": [
      "number is 5.66463\n"
     ]
    }
   ],
   "source": [
    "print(\"number is %.5f\" %(decNumber)) # upto 5 decimal places"
   ]
  },
  {
   "cell_type": "markdown",
   "id": "53c33a14",
   "metadata": {},
   "source": [
    "#### Option 3 - Format Argument (New way)"
   ]
  },
  {
   "cell_type": "code",
   "execution_count": 19,
   "id": "25243134",
   "metadata": {},
   "outputs": [
    {
     "name": "stdout",
     "output_type": "stream",
     "text": [
      "my name is karan and my age is 15\n"
     ]
    }
   ],
   "source": [
    "print(\"my name is {} and my age is {}\".format(name,age))"
   ]
  },
  {
   "cell_type": "code",
   "execution_count": 20,
   "id": "264dc744",
   "metadata": {},
   "outputs": [
    {
     "name": "stdout",
     "output_type": "stream",
     "text": [
      "my name is karan and my age is 15\n"
     ]
    }
   ],
   "source": [
    "print(\"my name is {0} and my age is {1}\".format(name,age))"
   ]
  },
  {
   "cell_type": "code",
   "execution_count": 21,
   "id": "bec28c42",
   "metadata": {},
   "outputs": [
    {
     "name": "stdout",
     "output_type": "stream",
     "text": [
      "my name is 15 and my age is karan\n"
     ]
    }
   ],
   "source": [
    "print(\"my name is {1} and my age is {0}\".format(name,age))"
   ]
  },
  {
   "cell_type": "code",
   "execution_count": 22,
   "id": "7ff9c3c6",
   "metadata": {},
   "outputs": [
    {
     "name": "stdout",
     "output_type": "stream",
     "text": [
      "my name is karan and my age is karan\n"
     ]
    }
   ],
   "source": [
    "print(\"my name is {0} and my age is {0}\".format(name,age))"
   ]
  },
  {
   "cell_type": "code",
   "execution_count": 23,
   "id": "accf10cb",
   "metadata": {},
   "outputs": [
    {
     "name": "stdout",
     "output_type": "stream",
     "text": [
      "Error encountered: cannot switch from automatic field numbering to manual field specification\n",
      "Summary: It has to be either all empty or all full.\n"
     ]
    }
   ],
   "source": [
    "try:\n",
    "    print(\"my name is {} and my age is {0}\".format(name,age))\n",
    "except Exception as e:\n",
    "    print(\"Error encountered: {}\".format(e))\n",
    "finally:\n",
    "    print(\"Summary: It has to be either all empty or all full.\")"
   ]
  },
  {
   "cell_type": "code",
   "execution_count": 26,
   "id": "3b9af7bb",
   "metadata": {},
   "outputs": [
    {
     "name": "stdout",
     "output_type": "stream",
     "text": [
      "Error encountered: Replacement index 1 out of range for positional args tuple\n",
      "Summary: Even in formatting, we need two arguments.\n"
     ]
    }
   ],
   "source": [
    "try:\n",
    "    print(\"my name is {0} and my age is {1}\".format(name,))\n",
    "except Exception as e:\n",
    "    print(\"Error encountered: {}\".format(e))\n",
    "finally:\n",
    "    print(\"Summary: Even in formatting, we need two arguments.\")"
   ]
  },
  {
   "cell_type": "code",
   "execution_count": 28,
   "id": "af084365",
   "metadata": {},
   "outputs": [
    {
     "name": "stdout",
     "output_type": "stream",
     "text": [
      "my name is karan and my age is 15\n"
     ]
    }
   ],
   "source": [
    "print(\"my name is {name} and my age is {age}\".format(name=name,age=age))"
   ]
  },
  {
   "cell_type": "code",
   "execution_count": 29,
   "id": "1b43cfa1",
   "metadata": {},
   "outputs": [
    {
     "name": "stdout",
     "output_type": "stream",
     "text": [
      "my name is karan and my age is 15\n"
     ]
    }
   ],
   "source": [
    "print(\"my name is {a} and my age is {b}\".format(a=name,b=age))"
   ]
  }
 ],
 "metadata": {
  "kernelspec": {
   "display_name": "Python 3",
   "language": "python",
   "name": "python3"
  },
  "language_info": {
   "codemirror_mode": {
    "name": "ipython",
    "version": 3
   },
   "file_extension": ".py",
   "mimetype": "text/x-python",
   "name": "python",
   "nbconvert_exporter": "python",
   "pygments_lexer": "ipython3",
   "version": "3.12.0"
  }
 },
 "nbformat": 4,
 "nbformat_minor": 5
}
