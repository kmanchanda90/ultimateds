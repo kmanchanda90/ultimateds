{
 "cells": [
  {
   "cell_type": "markdown",
   "id": "2348c2db",
   "metadata": {},
   "source": [
    "## Decision Control"
   ]
  },
  {
   "cell_type": "markdown",
   "id": "c71b6221",
   "metadata": {},
   "source": [
    "### *if statement*"
   ]
  },
  {
   "cell_type": "code",
   "execution_count": 1,
   "id": "66964bca",
   "metadata": {},
   "outputs": [],
   "source": [
    "hungry = True"
   ]
  },
  {
   "cell_type": "code",
   "execution_count": 2,
   "id": "73f65c34",
   "metadata": {},
   "outputs": [
    {
     "name": "stdout",
     "output_type": "stream",
     "text": [
      "order Biryani\n",
      "eat it\n"
     ]
    }
   ],
   "source": [
    "if hungry:\n",
    "    print(\"order Biryani\")\n",
    "\n",
    "print(\"eat it\")"
   ]
  },
  {
   "cell_type": "code",
   "execution_count": 3,
   "id": "c7055a96",
   "metadata": {},
   "outputs": [],
   "source": [
    "hungry = False"
   ]
  },
  {
   "cell_type": "code",
   "execution_count": null,
   "id": "0a0a6ab7",
   "metadata": {},
   "outputs": [
    {
     "name": "stdout",
     "output_type": "stream",
     "text": [
      "eat it\n"
     ]
    }
   ],
   "source": [
    "if hungry:\n",
    "    print(\"order Biryani\")\n",
    "\n",
    "print(\"eat it\")"
   ]
  },
  {
   "cell_type": "code",
   "execution_count": 7,
   "id": "0ada73b2",
   "metadata": {},
   "outputs": [],
   "source": [
    "if hungry:\n",
    "\n",
    "# Tab or 4 spaces    \n",
    "    print(\"order Biryani\")\n",
    "    print(\"eat it\")\n",
    "    print(\"now i am not hungry\")"
   ]
  },
  {
   "cell_type": "code",
   "execution_count": 11,
   "id": "5370b417",
   "metadata": {},
   "outputs": [
    {
     "name": "stdout",
     "output_type": "stream",
     "text": [
      "order Biryani\n",
      "eat it\n",
      "now i am not hungry\n"
     ]
    }
   ],
   "source": [
    "# This also works\n",
    "hungry = True\n",
    "if (hungry):\n",
    "    print(\"order Biryani\")\n",
    "    print(\"eat it\")\n",
    "    print(\"now i am not hungry\")"
   ]
  },
  {
   "cell_type": "code",
   "execution_count": null,
   "id": "9c03cc51",
   "metadata": {},
   "outputs": [],
   "source": [
    "if hungry:\n",
    "    print(\"order Biryani\")\n",
    "    print(\"eat it\")\n",
    "else:\n"
   ]
  },
  {
   "cell_type": "markdown",
   "id": "8384c751",
   "metadata": {},
   "source": [
    "### WAP to take a number and check if it is even or not"
   ]
  },
  {
   "cell_type": "code",
   "execution_count": 17,
   "id": "00138128",
   "metadata": {},
   "outputs": [
    {
     "name": "stdout",
     "output_type": "stream",
     "text": [
      "The entered number, i.e., 4854845 is not Even☹️\n",
      "Have a nice day!\n"
     ]
    }
   ],
   "source": [
    "try:\n",
    "    checkNum = int(input(\"Enter the number to check if it is Even or not: \"))\n",
    "    if (checkNum%2==0):\n",
    "        print(f'The enterted number, i.e., {checkNum} is Even👌')\n",
    "    else:\n",
    "        print(f'The entered number, i.e., {checkNum} is not Even☹️')\n",
    "except Exception as e:\n",
    "    print(f\"Uh-oh🤦‍♀️! Error encountered: {e}.\",\"You need to try again with another number.\",sep=\"\\n\")\n",
    "finally:\n",
    "    print(\"Have a nice day!\")    "
   ]
  },
  {
   "cell_type": "markdown",
   "id": "855a5b31",
   "metadata": {},
   "source": [
    "### WAP to ask user if he is hungry and order food if he is not else order dessert"
   ]
  },
  {
   "cell_type": "code",
   "execution_count": null,
   "id": "f9e65e4c",
   "metadata": {},
   "outputs": [
    {
     "name": "stdout",
     "output_type": "stream",
     "text": [
      "User responded if he is hungry, i.e., No❌ => Let's order dessert.\n",
      "Enjoy your icecream!\n"
     ]
    }
   ],
   "source": [
    "try:\n",
    "    userHungryCheck = input(\"Are you hungry, answer Yes or No: \")\n",
    "    if (userHungryCheck=='Yes'):\n",
    "        foodOrder = 'food'\n",
    "        print(f'User responded if he is hungry, i.e., {userHungryCheck}✅ => Let\\'s order food.')\n",
    "    if (userHungryCheck=='No'):\n",
    "        foodOrder = 'icecream'\n",
    "        print(f'User responded if he is hungry, i.e., {userHungryCheck}❌ => Let\\'s order dessert.')\n",
    "except Exception as e:\n",
    "    print(f\"Uh-oh🤦‍♀️! Error encountered: {e}.\",\"You need to try again with a valid input.\",sep=\"\\n\")\n",
    "finally:\n",
    "    print(f\"Enjoy your {foodOrder}!\")"
   ]
  },
  {
   "cell_type": "code",
   "execution_count": null,
   "id": "cc85928e",
   "metadata": {},
   "outputs": [
    {
     "name": "stdout",
     "output_type": "stream",
     "text": [
      "User responded if he is hungry, i.e., No❌ => Let's order dessert.\n",
      "Enjoy your icecream!\n"
     ]
    }
   ],
   "source": [
    "try:\n",
    "    userHungryCheck = input(\"Are you hungry, answer Yes or No: \")\n",
    "    if (userHungryCheck=='Yes'):\n",
    "        foodOrder = 'food'\n",
    "        print(f'User responded if he is hungry, i.e., {userHungryCheck}✅ => Let\\'s order food.')\n",
    "    if (userHungryCheck=='No'):\n",
    "        foodOrder = 'icecream'\n",
    "        print(f'User responded if he is hungry, i.e., {userHungryCheck}❌ => Let\\'s order dessert.')\n",
    "except Exception as e:\n",
    "    print(f\"Uh-oh🤦‍♀️! Error encountered: {e}.\",\"You need to try again with a valid input.\",sep=\"\\n\")\n",
    "finally:\n",
    "    print(f\"Enjoy your {foodOrder}!\")"
   ]
  },
  {
   "cell_type": "code",
   "execution_count": 2,
   "id": "3b1bb1e9",
   "metadata": {},
   "outputs": [
    {
     "name": "stdout",
     "output_type": "stream",
     "text": [
      "Your marks 45 are greater than passing marks 40 => your result is PASS\n"
     ]
    }
   ],
   "source": [
    "marks = 45\n",
    "passingMarks = 40\n",
    "\n",
    "if(marks>passingMarks):\n",
    "    print(f\"Your marks {marks} are greater than passing marks {passingMarks} => your result is PASS\")\n",
    "else:\n",
    "    print(f'Your marks {marks} are less than passing marks {passingMarks} => your result is FAIL')"
   ]
  },
  {
   "cell_type": "code",
   "execution_count": 3,
   "id": "346c3883",
   "metadata": {},
   "outputs": [
    {
     "name": "stdout",
     "output_type": "stream",
     "text": [
      "Your marks 40 are less than passing marks 40 => your result is FAIL\n"
     ]
    }
   ],
   "source": [
    "marks = 40\n",
    "passingMarks = 40\n",
    "\n",
    "if(marks>passingMarks):\n",
    "    print(f\"Your marks {marks} are greater than passing marks {passingMarks} => your result is PASS\")\n",
    "else:\n",
    "    print(f'Your marks {marks} are less than passing marks {passingMarks} => your result is FAIL')"
   ]
  },
  {
   "cell_type": "code",
   "execution_count": 4,
   "id": "3b12d8b6",
   "metadata": {},
   "outputs": [
    {
     "name": "stdout",
     "output_type": "stream",
     "text": [
      "Your marks 40 are greater than passing marks 40 => your result is PASS\n"
     ]
    }
   ],
   "source": [
    "marks = 40\n",
    "passingMarks = 40\n",
    "\n",
    "if(marks>=passingMarks):\n",
    "    print(f\"Your marks {marks} are greater than passing marks {passingMarks} => your result is PASS\")\n",
    "else:\n",
    "    print(f'Your marks {marks} are less than passing marks {passingMarks} => your result is FAIL')"
   ]
  },
  {
   "cell_type": "markdown",
   "id": "c3816663",
   "metadata": {},
   "source": [
    "#### WAP where we get students' marks and give him the Grade.\n",
    "\n",
    "- 80-100: 'A'\n",
    "\n",
    "- 60-80: 'B'\n",
    "\n",
    "- 50-60: 'C'\n",
    "\n",
    "- 40-50: 'D'\n",
    "\n",
    "- <40: 'F'"
   ]
  },
  {
   "cell_type": "code",
   "execution_count": 14,
   "id": "000c49a5",
   "metadata": {},
   "outputs": [
    {
     "name": "stdout",
     "output_type": "stream",
     "text": [
      "My name is Grady🤖. I can help you with your transcripts where I can help you convert your marks to international grade.\n",
      "The entered marks 60 have the grade B😃.\n",
      "I hope that helped. See you again🧙‍♂️.\n"
     ]
    }
   ],
   "source": [
    "try:\n",
    "    print(\"My name is Grady🤖. I can help you with your transcripts where I can help you convert your marks to international grade.\")\n",
    "    studentMarks = int(input(\"Enter your marks to see your grade: \"))\n",
    "    if (studentMarks >= 80 and studentMarks <= 100):\n",
    "        print(f'The entered marks {studentMarks} have the grade A😊.')\n",
    "    elif (studentMarks >= 60 and studentMarks < 80):\n",
    "        print(f'The entered marks {studentMarks} have the grade B😃.')\n",
    "    elif (studentMarks >= 50 and studentMarks < 60):\n",
    "        print(f'The entered marks {studentMarks} have the grade C🙂.')\n",
    "    elif (studentMarks >= 40 and studentMarks < 50):\n",
    "        print(f'The entered marks {studentMarks} have the grade D😐.')\n",
    "    else:\n",
    "        print(f'The entered marks {studentMarks} have the grade F☹️.')\n",
    "except Exception as e:\n",
    "    print(f'Error encountered: {e}',\"Uh-oh! Invalid input. Please try again.\",sep=\"\\n\")\n",
    "finally:\n",
    "    print(\"I hope that helped. See you again🧙‍♂️.\")"
   ]
  },
  {
   "cell_type": "code",
   "execution_count": 18,
   "id": "212f27d8",
   "metadata": {},
   "outputs": [
    {
     "name": "stdout",
     "output_type": "stream",
     "text": [
      "B\n",
      "C\n"
     ]
    }
   ],
   "source": [
    "marks = 40\n",
    "\n",
    "if(marks >= 80):\n",
    "    print(\"A\")\n",
    "if(marks>=40 and marks < 80):\n",
    "    print(\"B\")\n",
    "if(marks>=30 and marks < 60):\n",
    "    print(\"C\")\n",
    "else:\n",
    "    print(\"Fail\")"
   ]
  },
  {
   "cell_type": "code",
   "execution_count": 19,
   "id": "2058190b",
   "metadata": {},
   "outputs": [
    {
     "name": "stdout",
     "output_type": "stream",
     "text": [
      "B\n"
     ]
    }
   ],
   "source": [
    "marks = 40\n",
    "\n",
    "if(marks >= 80):\n",
    "    print(\"A\")\n",
    "elif(marks>=40 and marks < 80):\n",
    "    print(\"B\")\n",
    "elif(marks>=30 and marks < 60):\n",
    "    print(\"C\")\n",
    "else:\n",
    "    print(\"Fail\")"
   ]
  },
  {
   "cell_type": "markdown",
   "id": "70dffff2",
   "metadata": {},
   "source": [
    "#### WAP to take an input of a character from the user and show below:\n",
    "\n",
    "1. A-Z: Capital Letter\n",
    "\n",
    "2. a-z: small letter\n",
    "\n",
    "3. 0-9: Number\n",
    "\n",
    "4. special character"
   ]
  },
  {
   "cell_type": "code",
   "execution_count": null,
   "id": "962bfc84",
   "metadata": {},
   "outputs": [
    {
     "name": "stdout",
     "output_type": "stream",
     "text": [
      "Hi!👻. I am here to decode your input based on ASCII value.\n",
      "The entered character, i.e., '$' belongs to special characters.\n",
      "Program aborted. Have a good night!\n"
     ]
    }
   ],
   "source": [
    "# Approach 1\n",
    "try:\n",
    "    print(\"Hi!👻. I am here to decode your input based on ASCII value.\")\n",
    "    getChar = input(\"Please enter the character to check (enter only one character): \")\n",
    "    if len(getChar)>1:\n",
    "        raise ValueError(\"Only one character is expected. Please try again with a valid input.\")\n",
    "    charAsciiValue = ord(getChar)\n",
    "    if (charAsciiValue>=97 and charAsciiValue <=(97+26-1)): # Why -1 as we begin from 97, so it is already included.\n",
    "        print(f'The entered character, i.e., \\'{getChar}\\' belongs to small letters.')\n",
    "    elif (charAsciiValue>=65 and charAsciiValue <=(65+26-1)):\n",
    "        print(f'The entered character, i.e., \\'{getChar}\\' belongs to Capital letters.')\n",
    "    elif (charAsciiValue>=48 and charAsciiValue <=(48+10-1)):\n",
    "        print(f'The entered character, i.e., \\'{getChar}\\' belongs to numbers.')\n",
    "    else:\n",
    "        print(f'The entered character, i.e., \\'{getChar}\\' belongs to special characters.')\n",
    "except Exception as e:\n",
    "    print(f'Error encountered: {e}')\n",
    "finally:\n",
    "    print(\"Program aborted. Have a good night!\")"
   ]
  },
  {
   "cell_type": "markdown",
   "id": "24a59e9f",
   "metadata": {},
   "source": [
    "##### The below method also works as it does the lexicographic comparison (internally compares the ascii value only.)"
   ]
  },
  {
   "cell_type": "code",
   "execution_count": null,
   "id": "d2e4566e",
   "metadata": {},
   "outputs": [
    {
     "name": "stdout",
     "output_type": "stream",
     "text": [
      "Hi!👻. I am here to decode your input based on ASCII value.\n",
      "The entered character, i.e., 'D' belongs to Capital letters.\n",
      "Program aborted. Have a good night!\n"
     ]
    }
   ],
   "source": [
    "# Approach 2\n",
    "try:\n",
    "    print(\"Hi!👻. I am here to decode your input based on ASCII value.\")\n",
    "    getChar = input(\"Please enter the character to check (enter only one character): \")\n",
    "    if len(getChar)>1:\n",
    "        raise ValueError(\"Only one character is expected. Please try again with a valid input.\")\n",
    "    if (getChar>='a' and getChar <='z'): # Why -1 as we begin from 97, so it is already included.\n",
    "        print(f'The entered character, i.e., \\'{getChar}\\' belongs to small letters.')\n",
    "    elif (getChar>='A' and getChar <='Z'):\n",
    "        print(f'The entered character, i.e., \\'{getChar}\\' belongs to Capital letters.')\n",
    "    elif (getChar>='0' and getChar <='9'):\n",
    "        print(f'The entered character, i.e., \\'{getChar}\\' belongs to numbers.')\n",
    "    else:\n",
    "        print(f'The entered character, i.e., \\'{getChar}\\' belongs to special characters.')\n",
    "except Exception as e:\n",
    "    print(f'Error encountered: {e}')\n",
    "finally:\n",
    "    print(\"Program aborted. Have a good night!\")"
   ]
  },
  {
   "cell_type": "markdown",
   "id": "40eda0aa",
   "metadata": {},
   "source": [
    "#### WAP for the following:\n",
    "\n",
    "hungry\n",
    "\n",
    "1. 400 + -> restaurent\n",
    "\n",
    "2. 200 <  < 400 -> order in\n",
    "\n",
    "3. 100 <  < 200 -> snack\n",
    "\n",
    "4. no money : will put a towel on stomach and sleep :'(\n",
    "\n",
    "not hungry\n",
    "sleep"
   ]
  },
  {
   "cell_type": "code",
   "execution_count": 52,
   "id": "2bfa48b5",
   "metadata": {},
   "outputs": [
    {
     "name": "stdout",
     "output_type": "stream",
     "text": [
      "you are not hungry\n",
      "Invest it\n"
     ]
    }
   ],
   "source": [
    "hungry = False\n",
    "money = 100\n",
    "\n",
    "if hungry:\n",
    "    print(\"you are hungry\")\n",
    "    if (money >= 400):\n",
    "        print(\"Eat at a restaurent\")\n",
    "    elif (money > 200 and money <= 400):\n",
    "        print(\"You can order in\")\n",
    "    elif (money > 100 and money <= 200):\n",
    "        print(\"Eat a snack\")\n",
    "    else:\n",
    "        print(\"Not sufficient money. Put a towel on stomach and sleep.\")\n",
    "    \n",
    "    print(\"This is 1st indentation\")\n",
    "else:\n",
    "    print(\"you are not hungry\")\n",
    "    if(money>0):\n",
    "        print(\"Invest it\")\n",
    "    else:\n",
    "        print(\"sleep\")"
   ]
  },
  {
   "cell_type": "markdown",
   "id": "82cc04b7",
   "metadata": {},
   "source": [
    "#### WAP to input a year from user and check if it is a leap year\n",
    "\n",
    "2000 -> yes\n",
    "\n",
    "2001 -> no"
   ]
  },
  {
   "cell_type": "code",
   "execution_count": null,
   "id": "b1161984",
   "metadata": {},
   "outputs": [
    {
     "name": "stdout",
     "output_type": "stream",
     "text": [
      "My name is Calendrly. I can identify if an entered year is a leap year or not.\n",
      "The entered year, i.e., 2024 is a leap year.\n",
      "See you soon!\n"
     ]
    }
   ],
   "source": [
    "try:\n",
    "    print(\"My name is Calendrly. I can identify if an entered year is a leap year or not.\")\n",
    "    checkYear = int(input(\"Enter the year to be checked for leap year: \"))\n",
    "    if (checkYear%4==0): # Leap year logic for non-century years like 2024\n",
    "        if(checkYear%100==0): # To check if an year is a century year\n",
    "            if(checkYear%400==0):\n",
    "                print(f'The entered year, i.e., {checkYear} is a leap year.') # To check century years for leap years\n",
    "            else:\n",
    "                print(f'The entered year, i.e., {checkYear} is not a leap year.')\n",
    "        else:        \n",
    "            print(f'The entered year, i.e., {checkYear} is a leap year.') # Non-century years for leap years       \n",
    "    else:\n",
    "        print(f'The entered year, i.e., {checkYear} is not a leap year.') # Non-century years not divisble by 4, so not leap years\n",
    "except Exception as e:\n",
    "    print(f'Error encountered: {e}.',\"Invalid input, try again.\",\"\\n\")\n",
    "finally:\n",
    "    print(\"See you soon!\")"
   ]
  },
  {
   "cell_type": "code",
   "execution_count": null,
   "id": "a736fb89",
   "metadata": {},
   "outputs": [],
   "source": []
  }
 ],
 "metadata": {
  "kernelspec": {
   "display_name": "Python 3",
   "language": "python",
   "name": "python3"
  },
  "language_info": {
   "codemirror_mode": {
    "name": "ipython",
    "version": 3
   },
   "file_extension": ".py",
   "mimetype": "text/x-python",
   "name": "python",
   "nbconvert_exporter": "python",
   "pygments_lexer": "ipython3",
   "version": "3.12.0"
  }
 },
 "nbformat": 4,
 "nbformat_minor": 5
}
