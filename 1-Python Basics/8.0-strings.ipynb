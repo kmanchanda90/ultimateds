{
 "cells": [
  {
   "cell_type": "markdown",
   "id": "2bc07874",
   "metadata": {},
   "source": [
    "## Strings"
   ]
  },
  {
   "cell_type": "code",
   "execution_count": 1,
   "id": "c94cafae",
   "metadata": {},
   "outputs": [],
   "source": [
    "str1 = \"karan\""
   ]
  },
  {
   "cell_type": "code",
   "execution_count": 2,
   "id": "c4a1d5ad",
   "metadata": {},
   "outputs": [
    {
     "data": {
      "text/plain": [
       "str"
      ]
     },
     "execution_count": 2,
     "metadata": {},
     "output_type": "execute_result"
    }
   ],
   "source": [
    "type(str1)"
   ]
  },
  {
   "cell_type": "code",
   "execution_count": 3,
   "id": "56626675",
   "metadata": {},
   "outputs": [
    {
     "data": {
      "text/plain": [
       "str"
      ]
     },
     "execution_count": 3,
     "metadata": {},
     "output_type": "execute_result"
    }
   ],
   "source": [
    "str2 = \"k\"\n",
    "type(str2)"
   ]
  },
  {
   "cell_type": "code",
   "execution_count": 4,
   "id": "5a40fd7d",
   "metadata": {},
   "outputs": [],
   "source": [
    "str2 = 'karan'\n",
    "str3 = \"karan1\""
   ]
  },
  {
   "cell_type": "code",
   "execution_count": 5,
   "id": "887fc98c",
   "metadata": {},
   "outputs": [
    {
     "name": "stdout",
     "output_type": "stream",
     "text": [
      "karan\n"
     ]
    }
   ],
   "source": [
    "print(str2)"
   ]
  },
  {
   "cell_type": "code",
   "execution_count": 6,
   "id": "b64adcd3",
   "metadata": {},
   "outputs": [
    {
     "name": "stdout",
     "output_type": "stream",
     "text": [
      "karan1\n"
     ]
    }
   ],
   "source": [
    "print(str3)"
   ]
  },
  {
   "cell_type": "code",
   "execution_count": 7,
   "id": "19ac67ab",
   "metadata": {},
   "outputs": [
    {
     "data": {
      "text/plain": [
       "'karan'"
      ]
     },
     "execution_count": 7,
     "metadata": {},
     "output_type": "execute_result"
    }
   ],
   "source": [
    "str2"
   ]
  },
  {
   "cell_type": "code",
   "execution_count": 8,
   "id": "91914285",
   "metadata": {},
   "outputs": [
    {
     "data": {
      "text/plain": [
       "'karan1'"
      ]
     },
     "execution_count": 8,
     "metadata": {},
     "output_type": "execute_result"
    }
   ],
   "source": [
    "str3"
   ]
  },
  {
   "cell_type": "code",
   "execution_count": 9,
   "id": "c78d9890",
   "metadata": {},
   "outputs": [],
   "source": [
    "str4 = '0'\n",
    "str5 = 0"
   ]
  },
  {
   "cell_type": "code",
   "execution_count": null,
   "id": "8264e86e",
   "metadata": {},
   "outputs": [
    {
     "data": {
      "text/plain": [
       "False"
      ]
     },
     "execution_count": 10,
     "metadata": {},
     "output_type": "execute_result"
    }
   ],
   "source": [
    "str4 == str5 # 0 (integer) ≠≠ '0' (string)"
   ]
  },
  {
   "cell_type": "code",
   "execution_count": 11,
   "id": "c9a36d16",
   "metadata": {},
   "outputs": [
    {
     "data": {
      "text/plain": [
       "'soma'"
      ]
     },
     "execution_count": 11,
     "metadata": {},
     "output_type": "execute_result"
    }
   ],
   "source": [
    "str6 = \"soma\"\n",
    "str6"
   ]
  },
  {
   "cell_type": "code",
   "execution_count": 12,
   "id": "0a1862da",
   "metadata": {},
   "outputs": [
    {
     "data": {
      "text/plain": [
       "'soma'"
      ]
     },
     "execution_count": 12,
     "metadata": {},
     "output_type": "execute_result"
    }
   ],
   "source": [
    "str7 = 'soma'\n",
    "str7"
   ]
  },
  {
   "cell_type": "code",
   "execution_count": 13,
   "id": "7be7dd2c",
   "metadata": {},
   "outputs": [
    {
     "data": {
      "text/plain": [
       "True"
      ]
     },
     "execution_count": 13,
     "metadata": {},
     "output_type": "execute_result"
    }
   ],
   "source": [
    "str6 == str7"
   ]
  },
  {
   "cell_type": "markdown",
   "id": "b4f4ddf3",
   "metadata": {},
   "source": [
    "### Unicode way of storing my values"
   ]
  },
  {
   "cell_type": "code",
   "execution_count": 14,
   "id": "e43e0d07",
   "metadata": {},
   "outputs": [
    {
     "data": {
      "text/plain": [
       "48"
      ]
     },
     "execution_count": 14,
     "metadata": {},
     "output_type": "execute_result"
    }
   ],
   "source": [
    "ord('0')"
   ]
  },
  {
   "cell_type": "code",
   "execution_count": 15,
   "id": "105fdbde",
   "metadata": {},
   "outputs": [
    {
     "data": {
      "text/plain": [
       "65"
      ]
     },
     "execution_count": 15,
     "metadata": {},
     "output_type": "execute_result"
    }
   ],
   "source": [
    "ord('A')"
   ]
  },
  {
   "cell_type": "code",
   "execution_count": 16,
   "id": "aa32f07f",
   "metadata": {},
   "outputs": [
    {
     "data": {
      "text/plain": [
       "42"
      ]
     },
     "execution_count": 16,
     "metadata": {},
     "output_type": "execute_result"
    }
   ],
   "source": [
    "ord('*')"
   ]
  },
  {
   "cell_type": "code",
   "execution_count": 17,
   "id": "0cf80c79",
   "metadata": {},
   "outputs": [
    {
     "ename": "TypeError",
     "evalue": "ord() expected a character, but string of length 2 found",
     "output_type": "error",
     "traceback": [
      "\u001b[31m---------------------------------------------------------------------------\u001b[39m",
      "\u001b[31mTypeError\u001b[39m                                 Traceback (most recent call last)",
      "\u001b[36mCell\u001b[39m\u001b[36m \u001b[39m\u001b[32mIn[17]\u001b[39m\u001b[32m, line 1\u001b[39m\n\u001b[32m----> \u001b[39m\u001b[32m1\u001b[39m \u001b[38;5;28;43mord\u001b[39;49m\u001b[43m(\u001b[49m\u001b[33;43m'\u001b[39;49m\u001b[33;43mma\u001b[39;49m\u001b[33;43m'\u001b[39;49m\u001b[43m)\u001b[49m\n",
      "\u001b[31mTypeError\u001b[39m: ord() expected a character, but string of length 2 found"
     ]
    }
   ],
   "source": [
    "ord('ma')"
   ]
  },
  {
   "cell_type": "code",
   "execution_count": 18,
   "id": "6b3079ec",
   "metadata": {},
   "outputs": [
    {
     "data": {
      "text/plain": [
       "97"
      ]
     },
     "execution_count": 18,
     "metadata": {},
     "output_type": "execute_result"
    }
   ],
   "source": [
    "ord('a')"
   ]
  },
  {
   "cell_type": "markdown",
   "id": "17825888",
   "metadata": {},
   "source": [
    "### Give Python code to save the below strings into a variable?\n",
    "\n",
    "1. Karan's Code\n",
    "\n",
    "2. Let us \"Code\"\n",
    "\n",
    "3. Let's \"Code\"\n"
   ]
  },
  {
   "cell_type": "code",
   "execution_count": null,
   "id": "70df59ac",
   "metadata": {},
   "outputs": [],
   "source": [
    "myStr1 = \"Karan's Code\" # Used double quotes when single quote is in the string inheritly"
   ]
  },
  {
   "cell_type": "code",
   "execution_count": 38,
   "id": "31d14b25",
   "metadata": {},
   "outputs": [
    {
     "name": "stdout",
     "output_type": "stream",
     "text": [
      "Karan's Code\n"
     ]
    }
   ],
   "source": [
    "print(myStr1)"
   ]
  },
  {
   "cell_type": "code",
   "execution_count": 39,
   "id": "c53323de",
   "metadata": {},
   "outputs": [],
   "source": [
    "myStr2 = 'Let us \"Code\" today' # Used single quotes when double quote is in the string inheritly"
   ]
  },
  {
   "cell_type": "code",
   "execution_count": 37,
   "id": "575f3454",
   "metadata": {},
   "outputs": [
    {
     "name": "stdout",
     "output_type": "stream",
     "text": [
      "Let us \"Code\" today\n"
     ]
    }
   ],
   "source": [
    "print(myStr2)"
   ]
  },
  {
   "cell_type": "code",
   "execution_count": null,
   "id": "6c7c0909",
   "metadata": {},
   "outputs": [
    {
     "name": "stdout",
     "output_type": "stream",
     "text": [
      "Let's \"Code\"\n"
     ]
    }
   ],
   "source": [
    "myStr3 = '''Let's \"Code\"''' # using triple quotes when there's a mix of single & double quotes\n",
    "print(myStr3)"
   ]
  },
  {
   "cell_type": "code",
   "execution_count": 58,
   "id": "57907f2b",
   "metadata": {},
   "outputs": [
    {
     "ename": "SyntaxError",
     "evalue": "unterminated string literal (detected at line 1) (2684233334.py, line 1)",
     "output_type": "error",
     "traceback": [
      "  \u001b[36mCell\u001b[39m\u001b[36m \u001b[39m\u001b[32mIn[58]\u001b[39m\u001b[32m, line 1\u001b[39m\n\u001b[31m    \u001b[39m\u001b[31mmyStr4 = \"\"\"Let's \"Code\"\"\"\" # This should have also worked but didn't. Why?: Because we had four closing quotes\u001b[39m\n                              ^\n\u001b[31mSyntaxError\u001b[39m\u001b[31m:\u001b[39m unterminated string literal (detected at line 1)\n"
     ]
    }
   ],
   "source": [
    "myStr4 = \"\"\"Let's \"Code\"\"\"\" # This should have also worked but didn't. Why?: Because we had four closing quotes\n",
    "print(myStr4)"
   ]
  },
  {
   "cell_type": "code",
   "execution_count": 59,
   "id": "9b35fc07",
   "metadata": {},
   "outputs": [
    {
     "name": "stdout",
     "output_type": "stream",
     "text": [
      "Let's \"Code\"\n"
     ]
    }
   ],
   "source": [
    "myStr4 = \"\"\"Let's \"Code\\\"\"\"\" # This should have also worked but didn't. Why?: Because we had four closing quotes\n",
    "print(myStr4)"
   ]
  },
  {
   "cell_type": "code",
   "execution_count": null,
   "id": "c60cfd28",
   "metadata": {},
   "outputs": [
    {
     "name": "stdout",
     "output_type": "stream",
     "text": [
      "Let\"s 'Code'\n"
     ]
    }
   ],
   "source": [
    "myStr5 = \"\"\"Let\"s 'Code'\"\"\" # This also works\n",
    "print(myStr5)"
   ]
  },
  {
   "cell_type": "code",
   "execution_count": null,
   "id": "986606ab",
   "metadata": {},
   "outputs": [
    {
     "name": "stdout",
     "output_type": "stream",
     "text": [
      "Let' \"Code\"\n"
     ]
    }
   ],
   "source": [
    "myStr6 = 'Let\\' \"Code\"' # Use of an escape character\n",
    "print(myStr6)"
   ]
  },
  {
   "cell_type": "markdown",
   "id": "84dd0ae2",
   "metadata": {},
   "source": [
    "> It is recommended to use the escape character when you have an illegal character in our string. **For example**: In the above code, we have single quote after the letter t as illegal character. Why? As we already are using single quotes to define the string here and if we have single quote in our string, then it acts as an illegal character."
   ]
  },
  {
   "cell_type": "code",
   "execution_count": 62,
   "id": "09b2d5ac",
   "metadata": {},
   "outputs": [
    {
     "name": "stdout",
     "output_type": "stream",
     "text": [
      "Let\"s 'Code'\n"
     ]
    }
   ],
   "source": [
    "myStr7 = \"Let\\\"s 'Code'\"\n",
    "print(myStr7)"
   ]
  },
  {
   "cell_type": "markdown",
   "id": "c9c23827",
   "metadata": {},
   "source": [
    "### Multi Line String"
   ]
  },
  {
   "cell_type": "code",
   "execution_count": 42,
   "id": "8b94a680",
   "metadata": {},
   "outputs": [
    {
     "ename": "SyntaxError",
     "evalue": "unterminated string literal (detected at line 1) (4111579104.py, line 1)",
     "output_type": "error",
     "traceback": [
      "  \u001b[36mCell\u001b[39m\u001b[36m \u001b[39m\u001b[32mIn[42]\u001b[39m\u001b[32m, line 1\u001b[39m\n\u001b[31m    \u001b[39m\u001b[31mMultiLineString = \" line 1\u001b[39m\n                      ^\n\u001b[31mSyntaxError\u001b[39m\u001b[31m:\u001b[39m unterminated string literal (detected at line 1)\n"
     ]
    }
   ],
   "source": [
    "MultiLineString = \" line 1\n",
    "line 2\n",
    "line 3\""
   ]
  },
  {
   "cell_type": "code",
   "execution_count": 43,
   "id": "849f26cc",
   "metadata": {},
   "outputs": [
    {
     "ename": "SyntaxError",
     "evalue": "unterminated string literal (detected at line 1) (1516577379.py, line 1)",
     "output_type": "error",
     "traceback": [
      "  \u001b[36mCell\u001b[39m\u001b[36m \u001b[39m\u001b[32mIn[43]\u001b[39m\u001b[32m, line 1\u001b[39m\n\u001b[31m    \u001b[39m\u001b[31mMultiLineString = ' line 1\u001b[39m\n                      ^\n\u001b[31mSyntaxError\u001b[39m\u001b[31m:\u001b[39m unterminated string literal (detected at line 1)\n"
     ]
    }
   ],
   "source": [
    "MultiLineString = ' line 1\n",
    "line 2\n",
    "line 3'"
   ]
  },
  {
   "cell_type": "code",
   "execution_count": 44,
   "id": "4e4dd3fa",
   "metadata": {},
   "outputs": [],
   "source": [
    "MultiLineString = ''' line 1\n",
    "line 2\n",
    "line 3'''"
   ]
  },
  {
   "cell_type": "code",
   "execution_count": 46,
   "id": "616b1798",
   "metadata": {},
   "outputs": [
    {
     "name": "stdout",
     "output_type": "stream",
     "text": [
      " line 1\n",
      "line 2\n",
      "line 3\n"
     ]
    }
   ],
   "source": [
    "print(MultiLineString)"
   ]
  },
  {
   "cell_type": "code",
   "execution_count": 45,
   "id": "e88d5946",
   "metadata": {},
   "outputs": [
    {
     "data": {
      "text/plain": [
       "' line 1\\nline 2\\nline 3'"
      ]
     },
     "execution_count": 45,
     "metadata": {},
     "output_type": "execute_result"
    }
   ],
   "source": [
    "MultiLineString"
   ]
  },
  {
   "attachments": {
    "image.png": {
     "image/png": "[encoded data removed]"
    }
   },
   "cell_type": "markdown",
   "id": "2793e305",
   "metadata": {},
   "source": [
    "## Indexing ![image.png](attachment:image.png)\n",
    "\n",
    "> Very important topic in all the Sequences:\n",
    "\n",
    "- string\n",
    "\n",
    "- list\n",
    "\n",
    "- tuple\n",
    "\n",
    "- range"
   ]
  },
  {
   "cell_type": "code",
   "execution_count": 63,
   "id": "82765449",
   "metadata": {},
   "outputs": [],
   "source": [
    "str = 'PYTHON'"
   ]
  },
  {
   "cell_type": "code",
   "execution_count": 64,
   "id": "6db39664",
   "metadata": {},
   "outputs": [
    {
     "data": {
      "text/plain": [
       "'PYTHON'"
      ]
     },
     "execution_count": 64,
     "metadata": {},
     "output_type": "execute_result"
    }
   ],
   "source": [
    "str"
   ]
  },
  {
   "cell_type": "code",
   "execution_count": 65,
   "id": "22b9aece",
   "metadata": {},
   "outputs": [
    {
     "data": {
      "text/plain": [
       "'P'"
      ]
     },
     "execution_count": 65,
     "metadata": {},
     "output_type": "execute_result"
    }
   ],
   "source": [
    "str[0]"
   ]
  },
  {
   "cell_type": "code",
   "execution_count": 68,
   "id": "be305e13",
   "metadata": {},
   "outputs": [],
   "source": [
    "myStr2 = \"HELLO WORLD\""
   ]
  },
  {
   "cell_type": "code",
   "execution_count": 69,
   "id": "3e4e01f1",
   "metadata": {},
   "outputs": [
    {
     "data": {
      "text/plain": [
       "'H'"
      ]
     },
     "execution_count": 69,
     "metadata": {},
     "output_type": "execute_result"
    }
   ],
   "source": [
    "myStr2[0]"
   ]
  },
  {
   "cell_type": "code",
   "execution_count": 70,
   "id": "2db16533",
   "metadata": {},
   "outputs": [
    {
     "data": {
      "text/plain": [
       "' '"
      ]
     },
     "execution_count": 70,
     "metadata": {},
     "output_type": "execute_result"
    }
   ],
   "source": [
    "myStr2[5]"
   ]
  },
  {
   "cell_type": "code",
   "execution_count": 71,
   "id": "439db855",
   "metadata": {},
   "outputs": [
    {
     "data": {
      "text/plain": [
       "'D'"
      ]
     },
     "execution_count": 71,
     "metadata": {},
     "output_type": "execute_result"
    }
   ],
   "source": [
    "myStr2[10]"
   ]
  },
  {
   "cell_type": "code",
   "execution_count": 72,
   "id": "459a6d17",
   "metadata": {},
   "outputs": [
    {
     "ename": "IndexError",
     "evalue": "string index out of range",
     "output_type": "error",
     "traceback": [
      "\u001b[31m---------------------------------------------------------------------------\u001b[39m",
      "\u001b[31mIndexError\u001b[39m                                Traceback (most recent call last)",
      "\u001b[36mCell\u001b[39m\u001b[36m \u001b[39m\u001b[32mIn[72]\u001b[39m\u001b[32m, line 1\u001b[39m\n\u001b[32m----> \u001b[39m\u001b[32m1\u001b[39m \u001b[43mmyStr2\u001b[49m\u001b[43m[\u001b[49m\u001b[32;43m11\u001b[39;49m\u001b[43m]\u001b[49m\n",
      "\u001b[31mIndexError\u001b[39m: string index out of range"
     ]
    }
   ],
   "source": [
    "myStr2[11]"
   ]
  },
  {
   "cell_type": "code",
   "execution_count": null,
   "id": "9e102450",
   "metadata": {},
   "outputs": [
    {
     "ename": "TypeError",
     "evalue": "'str' object is not callable",
     "output_type": "error",
     "traceback": [
      "\u001b[31m---------------------------------------------------------------------------\u001b[39m",
      "\u001b[31mTypeError\u001b[39m                                 Traceback (most recent call last)",
      "\u001b[36mCell\u001b[39m\u001b[36m \u001b[39m\u001b[32mIn[73]\u001b[39m\u001b[32m, line 1\u001b[39m\n\u001b[32m----> \u001b[39m\u001b[32m1\u001b[39m \u001b[43mmyStr2\u001b[49m\u001b[43m(\u001b[49m\u001b[32;43m6\u001b[39;49m\u001b[43m)\u001b[49m\n",
      "\u001b[31mTypeError\u001b[39m: 'str' object is not callable"
     ]
    }
   ],
   "source": [
    "myStr2(6) # Round brackets or parenthesis do not work"
   ]
  },
  {
   "cell_type": "markdown",
   "id": "14901157",
   "metadata": {},
   "source": [
    "## Negative Indexing"
   ]
  },
  {
   "cell_type": "code",
   "execution_count": 75,
   "id": "e1639b18",
   "metadata": {},
   "outputs": [
    {
     "data": {
      "text/plain": [
       "'PYTHON'"
      ]
     },
     "execution_count": 75,
     "metadata": {},
     "output_type": "execute_result"
    }
   ],
   "source": [
    "str"
   ]
  },
  {
   "cell_type": "code",
   "execution_count": 74,
   "id": "a391082c",
   "metadata": {},
   "outputs": [
    {
     "data": {
      "text/plain": [
       "'N'"
      ]
     },
     "execution_count": 74,
     "metadata": {},
     "output_type": "execute_result"
    }
   ],
   "source": [
    "str[-1]"
   ]
  },
  {
   "cell_type": "code",
   "execution_count": 76,
   "id": "2142e161",
   "metadata": {},
   "outputs": [
    {
     "data": {
      "text/plain": [
       "'H'"
      ]
     },
     "execution_count": 76,
     "metadata": {},
     "output_type": "execute_result"
    }
   ],
   "source": [
    "str[-3]"
   ]
  },
  {
   "cell_type": "code",
   "execution_count": 77,
   "id": "209b5662",
   "metadata": {},
   "outputs": [
    {
     "data": {
      "text/plain": [
       "'T'"
      ]
     },
     "execution_count": 77,
     "metadata": {},
     "output_type": "execute_result"
    }
   ],
   "source": [
    "str[-4]"
   ]
  },
  {
   "cell_type": "code",
   "execution_count": 78,
   "id": "579a5dfa",
   "metadata": {},
   "outputs": [
    {
     "data": {
      "text/plain": [
       "'P'"
      ]
     },
     "execution_count": 78,
     "metadata": {},
     "output_type": "execute_result"
    }
   ],
   "source": [
    "str[-6]"
   ]
  },
  {
   "cell_type": "code",
   "execution_count": 79,
   "id": "f63e8516",
   "metadata": {},
   "outputs": [
    {
     "ename": "IndexError",
     "evalue": "string index out of range",
     "output_type": "error",
     "traceback": [
      "\u001b[31m---------------------------------------------------------------------------\u001b[39m",
      "\u001b[31mIndexError\u001b[39m                                Traceback (most recent call last)",
      "\u001b[36mCell\u001b[39m\u001b[36m \u001b[39m\u001b[32mIn[79]\u001b[39m\u001b[32m, line 1\u001b[39m\n\u001b[32m----> \u001b[39m\u001b[32m1\u001b[39m \u001b[38;5;28;43mstr\u001b[39;49m\u001b[43m[\u001b[49m\u001b[43m-\u001b[49m\u001b[32;43m7\u001b[39;49m\u001b[43m]\u001b[49m\n",
      "\u001b[31mIndexError\u001b[39m: string index out of range"
     ]
    }
   ],
   "source": [
    "str[-7]"
   ]
  },
  {
   "cell_type": "code",
   "execution_count": 80,
   "id": "680f6560",
   "metadata": {},
   "outputs": [
    {
     "data": {
      "text/plain": [
       "6"
      ]
     },
     "execution_count": 80,
     "metadata": {},
     "output_type": "execute_result"
    }
   ],
   "source": [
    "len(str)"
   ]
  },
  {
   "cell_type": "markdown",
   "id": "455daaea",
   "metadata": {},
   "source": [
    "## How do we get the last character?"
   ]
  },
  {
   "cell_type": "code",
   "execution_count": 82,
   "id": "8297d231",
   "metadata": {},
   "outputs": [
    {
     "data": {
      "text/plain": [
       "'N'"
      ]
     },
     "execution_count": 82,
     "metadata": {},
     "output_type": "execute_result"
    }
   ],
   "source": [
    "str[len(str)-1]"
   ]
  },
  {
   "cell_type": "markdown",
   "id": "354a4318",
   "metadata": {},
   "source": [
    "> This would be computionally heavy if our string is of very long length, let's say, billions of characters. So, what's the alternative?"
   ]
  },
  {
   "cell_type": "markdown",
   "id": "88339122",
   "metadata": {},
   "source": [
    "**<ins>We use negative string</ins>**"
   ]
  },
  {
   "cell_type": "code",
   "execution_count": 83,
   "id": "186bfa6e",
   "metadata": {},
   "outputs": [
    {
     "data": {
      "text/plain": [
       "'N'"
      ]
     },
     "execution_count": 83,
     "metadata": {},
     "output_type": "execute_result"
    }
   ],
   "source": [
    "str[-1]"
   ]
  },
  {
   "cell_type": "markdown",
   "id": "3e563429",
   "metadata": {},
   "source": [
    "#### Why do we use len() to get our last character?"
   ]
  },
  {
   "cell_type": "code",
   "execution_count": 85,
   "id": "b6a3d5cc",
   "metadata": {},
   "outputs": [],
   "source": [
    "myLongStr = \"fdjhfrhfdgdfvcmvbdfukgv dfmbdfhjbdfhsdfbvcxbsdfgsfdd vhjdfbvjdhgfvdfvhjbsdvhjdfbv dfvbcvhfjdvbyvdfvbdfjvhgdfvdhfvdf$\""
   ]
  },
  {
   "cell_type": "code",
   "execution_count": 87,
   "id": "59bccd53",
   "metadata": {},
   "outputs": [
    {
     "data": {
      "text/plain": [
       "'$'"
      ]
     },
     "execution_count": 87,
     "metadata": {},
     "output_type": "execute_result"
    }
   ],
   "source": [
    "myLongStr[len(myLongStr)-1]"
   ]
  },
  {
   "cell_type": "markdown",
   "id": "7f35aef4",
   "metadata": {},
   "source": [
    "#### Other way to get the last character"
   ]
  },
  {
   "cell_type": "code",
   "execution_count": 88,
   "id": "9927586f",
   "metadata": {},
   "outputs": [
    {
     "data": {
      "text/plain": [
       "'$'"
      ]
     },
     "execution_count": 88,
     "metadata": {},
     "output_type": "execute_result"
    }
   ],
   "source": [
    "myLongStr[-1]"
   ]
  },
  {
   "cell_type": "code",
   "execution_count": 91,
   "id": "0abbc70b",
   "metadata": {},
   "outputs": [
    {
     "data": {
      "text/plain": [
       "116"
      ]
     },
     "execution_count": 91,
     "metadata": {},
     "output_type": "execute_result"
    }
   ],
   "source": [
    "len(myLongStr)"
   ]
  },
  {
   "cell_type": "code",
   "execution_count": null,
   "id": "25e3f93d",
   "metadata": {},
   "outputs": [
    {
     "data": {
      "text/plain": [
       "'b'"
      ]
     },
     "execution_count": 92,
     "metadata": {},
     "output_type": "execute_result"
    }
   ],
   "source": [
    "myLongStr[int(len(myLongStr)/2)] # mid character"
   ]
  },
  {
   "cell_type": "code",
   "execution_count": 3,
   "id": "774cebc0",
   "metadata": {},
   "outputs": [],
   "source": [
    "myStr = 'Python'"
   ]
  },
  {
   "cell_type": "code",
   "execution_count": 5,
   "id": "fe42b2c4",
   "metadata": {},
   "outputs": [
    {
     "data": {
      "text/plain": [
       "'n'"
      ]
     },
     "execution_count": 5,
     "metadata": {},
     "output_type": "execute_result"
    }
   ],
   "source": [
    "myStr[-1]"
   ]
  },
  {
   "cell_type": "code",
   "execution_count": 8,
   "id": "4542e267",
   "metadata": {},
   "outputs": [
    {
     "data": {
      "text/plain": [
       "True"
      ]
     },
     "execution_count": 8,
     "metadata": {},
     "output_type": "execute_result"
    }
   ],
   "source": [
    "myStr[-1] == myStr[-1+len(myStr)] # Convert negative index to positive index"
   ]
  },
  {
   "cell_type": "markdown",
   "id": "c3898997",
   "metadata": {},
   "source": [
    "Type conversion"
   ]
  },
  {
   "cell_type": "code",
   "execution_count": 9,
   "id": "f07ace78",
   "metadata": {},
   "outputs": [
    {
     "name": "stdout",
     "output_type": "stream",
     "text": [
      "2\n"
     ]
    }
   ],
   "source": [
    "print(True + True)"
   ]
  },
  {
   "cell_type": "code",
   "execution_count": 10,
   "id": "5e83f0de",
   "metadata": {},
   "outputs": [],
   "source": [
    "mystrnumber = '34'"
   ]
  },
  {
   "cell_type": "code",
   "execution_count": 11,
   "id": "e3a690ad",
   "metadata": {},
   "outputs": [
    {
     "ename": "TypeError",
     "evalue": "can only concatenate str (not \"int\") to str",
     "output_type": "error",
     "traceback": [
      "\u001b[31m---------------------------------------------------------------------------\u001b[39m",
      "\u001b[31mTypeError\u001b[39m                                 Traceback (most recent call last)",
      "\u001b[36mCell\u001b[39m\u001b[36m \u001b[39m\u001b[32mIn[11]\u001b[39m\u001b[32m, line 1\u001b[39m\n\u001b[32m----> \u001b[39m\u001b[32m1\u001b[39m \u001b[43mmystrnumber\u001b[49m\u001b[43m \u001b[49m\u001b[43m+\u001b[49m\u001b[43m \u001b[49m\u001b[32;43m5\u001b[39;49m\n",
      "\u001b[31mTypeError\u001b[39m: can only concatenate str (not \"int\") to str"
     ]
    }
   ],
   "source": [
    "mystrnumber + 5"
   ]
  },
  {
   "cell_type": "code",
   "execution_count": 12,
   "id": "4a5b15c7",
   "metadata": {},
   "outputs": [
    {
     "data": {
      "text/plain": [
       "39"
      ]
     },
     "execution_count": 12,
     "metadata": {},
     "output_type": "execute_result"
    }
   ],
   "source": [
    "int(mystrnumber) + 5"
   ]
  },
  {
   "cell_type": "code",
   "execution_count": 13,
   "id": "1319161b",
   "metadata": {},
   "outputs": [
    {
     "data": {
      "text/plain": [
       "5.0"
      ]
     },
     "execution_count": 13,
     "metadata": {},
     "output_type": "execute_result"
    }
   ],
   "source": [
    "5.0"
   ]
  },
  {
   "cell_type": "code",
   "execution_count": 14,
   "id": "6500fdd7",
   "metadata": {},
   "outputs": [
    {
     "data": {
      "text/plain": [
       "5"
      ]
     },
     "execution_count": 14,
     "metadata": {},
     "output_type": "execute_result"
    }
   ],
   "source": [
    "int(5.0)"
   ]
  },
  {
   "cell_type": "code",
   "execution_count": 16,
   "id": "2a04d056",
   "metadata": {},
   "outputs": [
    {
     "data": {
      "text/plain": [
       "'0'"
      ]
     },
     "execution_count": 16,
     "metadata": {},
     "output_type": "execute_result"
    }
   ],
   "source": [
    "chr(48)"
   ]
  }
 ],
 "metadata": {
  "kernelspec": {
   "display_name": "Python 3",
   "language": "python",
   "name": "python3"
  },
  "language_info": {
   "codemirror_mode": {
    "name": "ipython",
    "version": 3
   },
   "file_extension": ".py",
   "mimetype": "text/x-python",
   "name": "python",
   "nbconvert_exporter": "python",
   "pygments_lexer": "ipython3",
   "version": "3.12.0"
  }
 },
 "nbformat": 4,
 "nbformat_minor": 5
}
