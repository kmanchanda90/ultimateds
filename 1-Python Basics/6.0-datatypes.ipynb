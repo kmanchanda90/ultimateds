{
 "cells": [
  {
   "cell_type": "markdown",
   "id": "a01ec783",
   "metadata": {},
   "source": [
    "## Data Types in Python"
   ]
  },
  {
   "cell_type": "code",
   "execution_count": null,
   "id": "02c1eaa4",
   "metadata": {},
   "outputs": [
    {
     "ename": "SyntaxError",
     "evalue": "invalid syntax (184005221.py, line 1)",
     "output_type": "error",
     "traceback": [
      "  \u001b[36mCell\u001b[39m\u001b[36m \u001b[39m\u001b[32mIn[1]\u001b[39m\u001b[32m, line 1\u001b[39m\n\u001b[31m    \u001b[39m\u001b[31mint a = 5\u001b[39m\n        ^\n\u001b[31mSyntaxError\u001b[39m\u001b[31m:\u001b[39m invalid syntax\n"
     ]
    }
   ],
   "source": [
    "int a = 5 # ❌ as Python is a dynamically Typed"
   ]
  },
  {
   "cell_type": "code",
   "execution_count": 2,
   "id": "c441d9d6",
   "metadata": {},
   "outputs": [],
   "source": [
    "b =5"
   ]
  },
  {
   "cell_type": "code",
   "execution_count": 3,
   "id": "22274acb",
   "metadata": {},
   "outputs": [],
   "source": [
    "c = 10.5"
   ]
  },
  {
   "cell_type": "code",
   "execution_count": 4,
   "id": "f4310686",
   "metadata": {},
   "outputs": [
    {
     "data": {
      "text/plain": [
       "int"
      ]
     },
     "execution_count": 4,
     "metadata": {},
     "output_type": "execute_result"
    }
   ],
   "source": [
    "type(b)"
   ]
  },
  {
   "cell_type": "code",
   "execution_count": 5,
   "id": "c48e93ee",
   "metadata": {},
   "outputs": [
    {
     "data": {
      "text/plain": [
       "float"
      ]
     },
     "execution_count": 5,
     "metadata": {},
     "output_type": "execute_result"
    }
   ],
   "source": [
    "type(c)"
   ]
  },
  {
   "cell_type": "code",
   "execution_count": 6,
   "id": "365e8f3c",
   "metadata": {},
   "outputs": [],
   "source": [
    "s = \"karan\""
   ]
  },
  {
   "cell_type": "code",
   "execution_count": 7,
   "id": "c3634429",
   "metadata": {},
   "outputs": [
    {
     "data": {
      "text/plain": [
       "str"
      ]
     },
     "execution_count": 7,
     "metadata": {},
     "output_type": "execute_result"
    }
   ],
   "source": [
    "type(s)"
   ]
  },
  {
   "cell_type": "code",
   "execution_count": 8,
   "id": "e8e56465",
   "metadata": {},
   "outputs": [],
   "source": [
    "s2 = 'm'"
   ]
  },
  {
   "cell_type": "code",
   "execution_count": 9,
   "id": "1466dc3e",
   "metadata": {},
   "outputs": [
    {
     "data": {
      "text/plain": [
       "str"
      ]
     },
     "execution_count": 9,
     "metadata": {},
     "output_type": "execute_result"
    }
   ],
   "source": [
    "type(s2)"
   ]
  },
  {
   "cell_type": "code",
   "execution_count": 10,
   "id": "aa383d59",
   "metadata": {},
   "outputs": [],
   "source": [
    "x = 5\n",
    "y = 5.5"
   ]
  },
  {
   "cell_type": "code",
   "execution_count": 12,
   "id": "5a7c2516",
   "metadata": {},
   "outputs": [
    {
     "data": {
      "text/plain": [
       "int"
      ]
     },
     "execution_count": 12,
     "metadata": {},
     "output_type": "execute_result"
    }
   ],
   "source": [
    "type(x)"
   ]
  },
  {
   "cell_type": "code",
   "execution_count": 13,
   "id": "43fe7a80",
   "metadata": {},
   "outputs": [
    {
     "data": {
      "text/plain": [
       "float"
      ]
     },
     "execution_count": 13,
     "metadata": {},
     "output_type": "execute_result"
    }
   ],
   "source": [
    "type(y)"
   ]
  },
  {
   "cell_type": "markdown",
   "id": "c8e9e3b9",
   "metadata": {},
   "source": [
    "### Dynamic Properties of Data "
   ]
  },
  {
   "cell_type": "code",
   "execution_count": 14,
   "id": "1fe62d03",
   "metadata": {},
   "outputs": [],
   "source": [
    "a = 5"
   ]
  },
  {
   "cell_type": "code",
   "execution_count": 15,
   "id": "15a677e5",
   "metadata": {},
   "outputs": [
    {
     "data": {
      "text/plain": [
       "int"
      ]
     },
     "execution_count": 15,
     "metadata": {},
     "output_type": "execute_result"
    }
   ],
   "source": [
    "type(a)"
   ]
  },
  {
   "cell_type": "code",
   "execution_count": 16,
   "id": "71a44fce",
   "metadata": {},
   "outputs": [],
   "source": [
    "a = \"karan\""
   ]
  },
  {
   "cell_type": "code",
   "execution_count": 17,
   "id": "0d5d06f6",
   "metadata": {},
   "outputs": [
    {
     "data": {
      "text/plain": [
       "str"
      ]
     },
     "execution_count": 17,
     "metadata": {},
     "output_type": "execute_result"
    }
   ],
   "source": [
    "type(a)"
   ]
  },
  {
   "cell_type": "markdown",
   "id": "a674601f",
   "metadata": {},
   "source": [
    "### Dynamicity of Size"
   ]
  },
  {
   "cell_type": "code",
   "execution_count": 1,
   "id": "17c64c3d",
   "metadata": {},
   "outputs": [],
   "source": [
    "m = 4132"
   ]
  },
  {
   "cell_type": "code",
   "execution_count": 3,
   "id": "799e0f81",
   "metadata": {},
   "outputs": [
    {
     "name": "stdout",
     "output_type": "stream",
     "text": [
      "28\n"
     ]
    }
   ],
   "source": [
    "from sys import getsizeof as gtsz\n",
    "print(gtsz(m))\n",
    "\n",
    "# Size of m variable is 28 bytes"
   ]
  },
  {
   "cell_type": "code",
   "execution_count": 4,
   "id": "74b54154",
   "metadata": {},
   "outputs": [],
   "source": [
    "m = 4564615415156485646518486515416521856484156416481541684685"
   ]
  },
  {
   "cell_type": "code",
   "execution_count": 5,
   "id": "194cec8a",
   "metadata": {},
   "outputs": [
    {
     "data": {
      "text/plain": [
       "int"
      ]
     },
     "execution_count": 5,
     "metadata": {},
     "output_type": "execute_result"
    }
   ],
   "source": [
    "type(m)"
   ]
  },
  {
   "cell_type": "code",
   "execution_count": 6,
   "id": "0fcaad92",
   "metadata": {},
   "outputs": [
    {
     "name": "stdout",
     "output_type": "stream",
     "text": [
      "52\n"
     ]
    }
   ],
   "source": [
    "print(gtsz(m))"
   ]
  },
  {
   "cell_type": "code",
   "execution_count": 7,
   "id": "5f777579",
   "metadata": {},
   "outputs": [],
   "source": [
    "m = \"karan_manchanda_34\""
   ]
  },
  {
   "cell_type": "code",
   "execution_count": 8,
   "id": "19cef41a",
   "metadata": {},
   "outputs": [
    {
     "data": {
      "text/plain": [
       "str"
      ]
     },
     "execution_count": 8,
     "metadata": {},
     "output_type": "execute_result"
    }
   ],
   "source": [
    "type(m)"
   ]
  },
  {
   "cell_type": "code",
   "execution_count": 9,
   "id": "9e0aa297",
   "metadata": {},
   "outputs": [
    {
     "name": "stdout",
     "output_type": "stream",
     "text": [
      "59\n"
     ]
    }
   ],
   "source": [
    "print(gtsz(m))"
   ]
  },
  {
   "cell_type": "code",
   "execution_count": 10,
   "id": "eb71198f",
   "metadata": {},
   "outputs": [],
   "source": [
    "m = \"karan_manchanda_34_dsdshrjdkefhjewrfewjfehfdfrhdfdhfdjkfhdfc\""
   ]
  },
  {
   "cell_type": "code",
   "execution_count": 11,
   "id": "d1e391dd",
   "metadata": {},
   "outputs": [
    {
     "data": {
      "text/plain": [
       "str"
      ]
     },
     "execution_count": 11,
     "metadata": {},
     "output_type": "execute_result"
    }
   ],
   "source": [
    "type(m)"
   ]
  },
  {
   "cell_type": "code",
   "execution_count": 12,
   "id": "fef689c8",
   "metadata": {},
   "outputs": [
    {
     "name": "stdout",
     "output_type": "stream",
     "text": [
      "101\n"
     ]
    }
   ],
   "source": [
    "print(gtsz(m))"
   ]
  },
  {
   "cell_type": "code",
   "execution_count": 13,
   "id": "455e2ed0",
   "metadata": {},
   "outputs": [],
   "source": [
    "m=\"karan_manchanda_34_dsdshrjdkefhjewrfewjfehfdfrhdfdhfdjkfhdfckaran_manchanda_34_dsdshrjdkefhjewrfewjfehfdfrhdfdhfdjkfhdfc\""
   ]
  },
  {
   "cell_type": "code",
   "execution_count": 14,
   "id": "43f101f5",
   "metadata": {},
   "outputs": [
    {
     "name": "stdout",
     "output_type": "stream",
     "text": [
      "161\n"
     ]
    }
   ],
   "source": [
    "print(gtsz(m))"
   ]
  },
  {
   "cell_type": "code",
   "execution_count": 15,
   "id": "0848f61f",
   "metadata": {},
   "outputs": [],
   "source": [
    "intVar = 26151515151515"
   ]
  },
  {
   "cell_type": "code",
   "execution_count": 16,
   "id": "17e507dc",
   "metadata": {},
   "outputs": [
    {
     "data": {
      "text/plain": [
       "26151515151515"
      ]
     },
     "execution_count": 16,
     "metadata": {},
     "output_type": "execute_result"
    }
   ],
   "source": [
    "intVar"
   ]
  },
  {
   "cell_type": "code",
   "execution_count": 17,
   "id": "2dc782ab",
   "metadata": {},
   "outputs": [],
   "source": [
    "intVar = 26151515151515261515151515152615151515151526151515151515"
   ]
  },
  {
   "cell_type": "code",
   "execution_count": 18,
   "id": "40071c1d",
   "metadata": {},
   "outputs": [
    {
     "data": {
      "text/plain": [
       "26151515151515261515151515152615151515151526151515151515"
      ]
     },
     "execution_count": 18,
     "metadata": {},
     "output_type": "execute_result"
    }
   ],
   "source": [
    "intVar"
   ]
  },
  {
   "cell_type": "code",
   "execution_count": 19,
   "id": "d7ba898c",
   "metadata": {},
   "outputs": [
    {
     "data": {
      "text/plain": [
       "52"
      ]
     },
     "execution_count": 19,
     "metadata": {},
     "output_type": "execute_result"
    }
   ],
   "source": [
    "gtsz(intVar)"
   ]
  },
  {
   "cell_type": "code",
   "execution_count": 20,
   "id": "c84bb616",
   "metadata": {},
   "outputs": [],
   "source": [
    "intVar = 2615151515151526151515151515261515151515152615151515151526151515151515261515151515152615151515151526151515151515261515151515152615151515151526151515151515261515151515152615151515151526151515151515261515151515152615151515151526151515151515261515151515152615151515151526151515151515261515151515152615151515151526151515151515261515151515152615151515151526151515151515261515151515152615151515151526151515151515261515151515152615151515151526151515151515"
   ]
  },
  {
   "cell_type": "code",
   "execution_count": 21,
   "id": "1ebae115",
   "metadata": {},
   "outputs": [
    {
     "data": {
      "text/plain": [
       "2615151515151526151515151515261515151515152615151515151526151515151515261515151515152615151515151526151515151515261515151515152615151515151526151515151515261515151515152615151515151526151515151515261515151515152615151515151526151515151515261515151515152615151515151526151515151515261515151515152615151515151526151515151515261515151515152615151515151526151515151515261515151515152615151515151526151515151515261515151515152615151515151526151515151515"
      ]
     },
     "execution_count": 21,
     "metadata": {},
     "output_type": "execute_result"
    }
   ],
   "source": [
    "intVar"
   ]
  },
  {
   "cell_type": "markdown",
   "id": "3c38c8d3",
   "metadata": {},
   "source": [
    "### Numeric Data types"
   ]
  },
  {
   "cell_type": "code",
   "execution_count": 1,
   "id": "c9e11be1",
   "metadata": {},
   "outputs": [],
   "source": [
    "a = 553531"
   ]
  },
  {
   "cell_type": "code",
   "execution_count": 2,
   "id": "34c44a23",
   "metadata": {},
   "outputs": [
    {
     "data": {
      "text/plain": [
       "int"
      ]
     },
     "execution_count": 2,
     "metadata": {},
     "output_type": "execute_result"
    }
   ],
   "source": [
    "type(a)"
   ]
  },
  {
   "cell_type": "code",
   "execution_count": 3,
   "id": "1bb0238a",
   "metadata": {},
   "outputs": [],
   "source": [
    "a = 1e3"
   ]
  },
  {
   "cell_type": "markdown",
   "id": "0758e906",
   "metadata": {},
   "source": [
    "#### Hint: \n",
    "\n",
    "1e<sup>3</sup> => 10<sup>3</sup>\n",
    "\n",
    "1e<sup>-3</sup> => 10<sup>-3</sup>"
   ]
  },
  {
   "cell_type": "code",
   "execution_count": 4,
   "id": "2d57c7e8",
   "metadata": {},
   "outputs": [
    {
     "data": {
      "text/plain": [
       "1000.0"
      ]
     },
     "execution_count": 4,
     "metadata": {},
     "output_type": "execute_result"
    }
   ],
   "source": [
    "a"
   ]
  },
  {
   "cell_type": "code",
   "execution_count": 6,
   "id": "485166f1",
   "metadata": {},
   "outputs": [
    {
     "data": {
      "text/plain": [
       "float"
      ]
     },
     "execution_count": 6,
     "metadata": {},
     "output_type": "execute_result"
    }
   ],
   "source": [
    "type(a)"
   ]
  },
  {
   "cell_type": "code",
   "execution_count": 5,
   "id": "dbefb22b",
   "metadata": {},
   "outputs": [
    {
     "data": {
      "text/plain": [
       "1000"
      ]
     },
     "execution_count": 5,
     "metadata": {},
     "output_type": "execute_result"
    }
   ],
   "source": [
    "b = 1000\n",
    "b"
   ]
  },
  {
   "cell_type": "code",
   "execution_count": 7,
   "id": "3d80cf06",
   "metadata": {},
   "outputs": [
    {
     "data": {
      "text/plain": [
       "int"
      ]
     },
     "execution_count": 7,
     "metadata": {},
     "output_type": "execute_result"
    }
   ],
   "source": [
    "type(b)"
   ]
  },
  {
   "cell_type": "code",
   "execution_count": 8,
   "id": "8dc007af",
   "metadata": {},
   "outputs": [
    {
     "data": {
      "text/plain": [
       "True"
      ]
     },
     "execution_count": 8,
     "metadata": {},
     "output_type": "execute_result"
    }
   ],
   "source": [
    "a == b"
   ]
  },
  {
   "cell_type": "code",
   "execution_count": 12,
   "id": "8a8990af",
   "metadata": {},
   "outputs": [
    {
     "data": {
      "text/plain": [
       "2000.0"
      ]
     },
     "execution_count": 12,
     "metadata": {},
     "output_type": "execute_result"
    }
   ],
   "source": [
    "c = 2e3\n",
    "c"
   ]
  },
  {
   "cell_type": "code",
   "execution_count": 13,
   "id": "917322cb",
   "metadata": {},
   "outputs": [
    {
     "data": {
      "text/plain": [
       "200000.0"
      ]
     },
     "execution_count": 13,
     "metadata": {},
     "output_type": "execute_result"
    }
   ],
   "source": [
    "c = 2e5\n",
    "c"
   ]
  },
  {
   "cell_type": "code",
   "execution_count": 16,
   "id": "d90e4a77",
   "metadata": {},
   "outputs": [
    {
     "name": "stdout",
     "output_type": "stream",
     "text": [
      "24\n"
     ]
    }
   ],
   "source": [
    "from sys import getsizeof as gtsz\n",
    "print(gtsz(a))"
   ]
  },
  {
   "cell_type": "code",
   "execution_count": 17,
   "id": "c8835d92",
   "metadata": {},
   "outputs": [
    {
     "name": "stdout",
     "output_type": "stream",
     "text": [
      "24\n"
     ]
    }
   ],
   "source": [
    "print(gtsz(c))"
   ]
  },
  {
   "cell_type": "markdown",
   "id": "e5458e49",
   "metadata": {},
   "source": [
    "### float"
   ]
  },
  {
   "cell_type": "code",
   "execution_count": 18,
   "id": "5f496d65",
   "metadata": {},
   "outputs": [],
   "source": [
    "fl =5.5"
   ]
  },
  {
   "cell_type": "code",
   "execution_count": 19,
   "id": "81447d73",
   "metadata": {},
   "outputs": [
    {
     "data": {
      "text/plain": [
       "float"
      ]
     },
     "execution_count": 19,
     "metadata": {},
     "output_type": "execute_result"
    }
   ],
   "source": [
    "type(fl)"
   ]
  },
  {
   "cell_type": "code",
   "execution_count": 20,
   "id": "d44c4db6",
   "metadata": {},
   "outputs": [],
   "source": [
    "fl2 = 1e-3"
   ]
  },
  {
   "cell_type": "code",
   "execution_count": 21,
   "id": "378b2765",
   "metadata": {},
   "outputs": [
    {
     "data": {
      "text/plain": [
       "0.001"
      ]
     },
     "execution_count": 21,
     "metadata": {},
     "output_type": "execute_result"
    }
   ],
   "source": [
    "fl2"
   ]
  },
  {
   "cell_type": "code",
   "execution_count": 22,
   "id": "8b585c31",
   "metadata": {},
   "outputs": [
    {
     "data": {
      "text/plain": [
       "float"
      ]
     },
     "execution_count": 22,
     "metadata": {},
     "output_type": "execute_result"
    }
   ],
   "source": [
    "type(fl2)"
   ]
  },
  {
   "cell_type": "code",
   "execution_count": null,
   "id": "42d99e1b",
   "metadata": {},
   "outputs": [
    {
     "data": {
      "text/plain": [
       "0.3333333333333333"
      ]
     },
     "execution_count": 23,
     "metadata": {},
     "output_type": "execute_result"
    }
   ],
   "source": [
    "fl3 = 1/3\n",
    "fl3 #it has 16 digits precision"
   ]
  },
  {
   "cell_type": "code",
   "execution_count": 24,
   "id": "6bec31b6",
   "metadata": {},
   "outputs": [
    {
     "data": {
      "text/plain": [
       "0"
      ]
     },
     "execution_count": 24,
     "metadata": {},
     "output_type": "execute_result"
    }
   ],
   "source": [
    "1//3"
   ]
  },
  {
   "cell_type": "code",
   "execution_count": 25,
   "id": "b8297cab",
   "metadata": {},
   "outputs": [
    {
     "data": {
      "text/plain": [
       "0.3333333333333333"
      ]
     },
     "execution_count": 25,
     "metadata": {},
     "output_type": "execute_result"
    }
   ],
   "source": [
    "1/3"
   ]
  },
  {
   "cell_type": "markdown",
   "id": "70c1108a",
   "metadata": {},
   "source": [
    "## Complex Numbers"
   ]
  },
  {
   "cell_type": "code",
   "execution_count": 26,
   "id": "ab4c31c3",
   "metadata": {},
   "outputs": [],
   "source": [
    "com1 = 3+2j"
   ]
  },
  {
   "cell_type": "code",
   "execution_count": 30,
   "id": "79dceea2",
   "metadata": {},
   "outputs": [
    {
     "ename": "SyntaxError",
     "evalue": "invalid decimal literal (3314655472.py, line 1)",
     "output_type": "error",
     "traceback": [
      "  \u001b[36mCell\u001b[39m\u001b[36m \u001b[39m\u001b[32mIn[30]\u001b[39m\u001b[32m, line 1\u001b[39m\n\u001b[31m    \u001b[39m\u001b[31mcom2 = 3+5i\u001b[39m\n             ^\n\u001b[31mSyntaxError\u001b[39m\u001b[31m:\u001b[39m invalid decimal literal\n"
     ]
    }
   ],
   "source": [
    "com2 = 3+5i"
   ]
  },
  {
   "cell_type": "code",
   "execution_count": 31,
   "id": "6ef90eed",
   "metadata": {},
   "outputs": [],
   "source": [
    "com2 = 3+5J"
   ]
  },
  {
   "cell_type": "code",
   "execution_count": 33,
   "id": "0469bd03",
   "metadata": {},
   "outputs": [
    {
     "data": {
      "text/plain": [
       "complex"
      ]
     },
     "execution_count": 33,
     "metadata": {},
     "output_type": "execute_result"
    }
   ],
   "source": [
    "type(com2)"
   ]
  },
  {
   "cell_type": "code",
   "execution_count": 27,
   "id": "2c8e8725",
   "metadata": {},
   "outputs": [
    {
     "data": {
      "text/plain": [
       "complex"
      ]
     },
     "execution_count": 27,
     "metadata": {},
     "output_type": "execute_result"
    }
   ],
   "source": [
    "type(com1)"
   ]
  },
  {
   "cell_type": "code",
   "execution_count": 29,
   "id": "2a6c40d6",
   "metadata": {},
   "outputs": [
    {
     "data": {
      "text/plain": [
       "32"
      ]
     },
     "execution_count": 29,
     "metadata": {},
     "output_type": "execute_result"
    }
   ],
   "source": [
    "gtsz(com1)"
   ]
  },
  {
   "cell_type": "code",
   "execution_count": 34,
   "id": "41594f02",
   "metadata": {},
   "outputs": [
    {
     "data": {
      "text/plain": [
       "(6+7j)"
      ]
     },
     "execution_count": 34,
     "metadata": {},
     "output_type": "execute_result"
    }
   ],
   "source": [
    "com1 + com2"
   ]
  }
 ],
 "metadata": {
  "kernelspec": {
   "display_name": "Python 3",
   "language": "python",
   "name": "python3"
  },
  "language_info": {
   "codemirror_mode": {
    "name": "ipython",
    "version": 3
   },
   "file_extension": ".py",
   "mimetype": "text/x-python",
   "name": "python",
   "nbconvert_exporter": "python",
   "pygments_lexer": "ipython3",
   "version": "3.12.0"
  }
 },
 "nbformat": 4,
 "nbformat_minor": 5
}
