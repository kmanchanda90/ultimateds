{
 "cells": [
  {
   "cell_type": "markdown",
   "id": "9ed3d8a6",
   "metadata": {},
   "source": [
    "## tuple"
   ]
  },
  {
   "cell_type": "code",
   "execution_count": 3,
   "id": "c55433eb",
   "metadata": {},
   "outputs": [],
   "source": [
    "t1 = (1,2,3,4)"
   ]
  },
  {
   "cell_type": "code",
   "execution_count": 4,
   "id": "03858eb3",
   "metadata": {},
   "outputs": [
    {
     "data": {
      "text/plain": [
       "tuple"
      ]
     },
     "execution_count": 4,
     "metadata": {},
     "output_type": "execute_result"
    }
   ],
   "source": [
    "type(t1)"
   ]
  },
  {
   "cell_type": "code",
   "execution_count": 5,
   "id": "00e7bfb7",
   "metadata": {},
   "outputs": [
    {
     "data": {
      "text/plain": [
       "0"
      ]
     },
     "execution_count": 5,
     "metadata": {},
     "output_type": "execute_result"
    }
   ],
   "source": [
    "5 + -5"
   ]
  },
  {
   "cell_type": "code",
   "execution_count": 6,
   "id": "27bae014",
   "metadata": {},
   "outputs": [
    {
     "data": {
      "text/plain": [
       "10"
      ]
     },
     "execution_count": 6,
     "metadata": {},
     "output_type": "execute_result"
    }
   ],
   "source": [
    "5 + --5 # int and int"
   ]
  },
  {
   "cell_type": "code",
   "execution_count": 7,
   "id": "a24b30f9",
   "metadata": {},
   "outputs": [
    {
     "data": {
      "text/plain": [
       "20"
      ]
     },
     "execution_count": 7,
     "metadata": {},
     "output_type": "execute_result"
    }
   ],
   "source": [
    "5 + (15) # int and int, similar to maths"
   ]
  },
  {
   "cell_type": "code",
   "execution_count": 8,
   "id": "158fb7f4",
   "metadata": {},
   "outputs": [
    {
     "name": "stdout",
     "output_type": "stream",
     "text": [
      "error: unsupported operand type(s) for +: 'int' and 'tuple'\n"
     ]
    }
   ],
   "source": [
    "try:\n",
    "    5 + (15,) # int and tuple\n",
    "except Exception as e:\n",
    "    print(f'error: {e}')"
   ]
  },
  {
   "cell_type": "code",
   "execution_count": 9,
   "id": "b130c470",
   "metadata": {},
   "outputs": [
    {
     "data": {
      "text/plain": [
       "int"
      ]
     },
     "execution_count": 9,
     "metadata": {},
     "output_type": "execute_result"
    }
   ],
   "source": [
    "t2 = 5\n",
    "type(t2)"
   ]
  },
  {
   "cell_type": "code",
   "execution_count": 10,
   "id": "5b1c7163",
   "metadata": {},
   "outputs": [
    {
     "data": {
      "text/plain": [
       "int"
      ]
     },
     "execution_count": 10,
     "metadata": {},
     "output_type": "execute_result"
    }
   ],
   "source": [
    "t2 = (5)\n",
    "type(t2)"
   ]
  },
  {
   "cell_type": "code",
   "execution_count": 11,
   "id": "8f3cffc4",
   "metadata": {},
   "outputs": [
    {
     "data": {
      "text/plain": [
       "tuple"
      ]
     },
     "execution_count": 11,
     "metadata": {},
     "output_type": "execute_result"
    }
   ],
   "source": [
    "t3 = (5,) # for a single element\n",
    "type(t3)"
   ]
  },
  {
   "cell_type": "code",
   "execution_count": 12,
   "id": "d49705c2",
   "metadata": {},
   "outputs": [
    {
     "name": "stdout",
     "output_type": "stream",
     "text": [
      "error: 'int' object is not iterable\n"
     ]
    }
   ],
   "source": [
    "try:\n",
    "    t4 = tuple(5)\n",
    "except Exception as e:\n",
    "    print(f'error: {e}')"
   ]
  },
  {
   "cell_type": "code",
   "execution_count": 13,
   "id": "fd36308e",
   "metadata": {},
   "outputs": [],
   "source": [
    "t4 = tuple(range(5))"
   ]
  },
  {
   "cell_type": "code",
   "execution_count": 14,
   "id": "060ca31a",
   "metadata": {},
   "outputs": [
    {
     "data": {
      "text/plain": [
       "(0, 1, 2, 3, 4)"
      ]
     },
     "execution_count": 14,
     "metadata": {},
     "output_type": "execute_result"
    }
   ],
   "source": [
    "t4"
   ]
  },
  {
   "cell_type": "markdown",
   "id": "d4b40db7",
   "metadata": {},
   "source": [
    "### Can we iterate over a single element?"
   ]
  },
  {
   "cell_type": "code",
   "execution_count": 15,
   "id": "e8f521b0",
   "metadata": {},
   "outputs": [
    {
     "name": "stdout",
     "output_type": "stream",
     "text": [
      "5\n"
     ]
    }
   ],
   "source": [
    "# Yes. We use list\n",
    "li = [5]\n",
    "\n",
    "for elem in li:\n",
    "    print(elem)"
   ]
  },
  {
   "cell_type": "markdown",
   "id": "5879a178",
   "metadata": {},
   "source": [
    "### We can also do this with tuple."
   ]
  },
  {
   "cell_type": "code",
   "execution_count": 16,
   "id": "04012da8",
   "metadata": {},
   "outputs": [
    {
     "data": {
      "text/plain": [
       "(5,)"
      ]
     },
     "execution_count": 16,
     "metadata": {},
     "output_type": "execute_result"
    }
   ],
   "source": [
    "t10 = tuple(li)\n",
    "t10"
   ]
  },
  {
   "cell_type": "code",
   "execution_count": 17,
   "id": "482f7762",
   "metadata": {},
   "outputs": [
    {
     "name": "stdout",
     "output_type": "stream",
     "text": [
      "5\n"
     ]
    }
   ],
   "source": [
    "for elem in t10:\n",
    "    print(elem)"
   ]
  },
  {
   "cell_type": "code",
   "execution_count": 18,
   "id": "a8b48ff0",
   "metadata": {},
   "outputs": [],
   "source": [
    "t11 = (1,2,3,4)\n",
    "t12 = (1,'karan',5,10,[1,2])"
   ]
  },
  {
   "cell_type": "code",
   "execution_count": 19,
   "id": "b3797b28",
   "metadata": {},
   "outputs": [
    {
     "name": "stdout",
     "output_type": "stream",
     "text": [
      "(1, 2, 3, 4)\n",
      "(1, 'karan', 5, 10, [1, 2])\n",
      "<class 'tuple'>\n",
      "<class 'tuple'>\n"
     ]
    }
   ],
   "source": [
    "print(t11)\n",
    "print(t12)\n",
    "print(type(t11))\n",
    "print(type(t12))"
   ]
  },
  {
   "cell_type": "code",
   "execution_count": 20,
   "id": "e4553609",
   "metadata": {},
   "outputs": [
    {
     "data": {
      "text/plain": [
       "2"
      ]
     },
     "execution_count": 20,
     "metadata": {},
     "output_type": "execute_result"
    }
   ],
   "source": [
    "t11[1]"
   ]
  },
  {
   "cell_type": "code",
   "execution_count": 21,
   "id": "f7fae4a1",
   "metadata": {},
   "outputs": [
    {
     "data": {
      "text/plain": [
       "2"
      ]
     },
     "execution_count": 21,
     "metadata": {},
     "output_type": "execute_result"
    }
   ],
   "source": [
    "t12[4][1]"
   ]
  },
  {
   "cell_type": "code",
   "execution_count": 22,
   "id": "8cd2281e",
   "metadata": {},
   "outputs": [
    {
     "data": {
      "text/plain": [
       "4"
      ]
     },
     "execution_count": 22,
     "metadata": {},
     "output_type": "execute_result"
    }
   ],
   "source": [
    "t11[-1]"
   ]
  },
  {
   "cell_type": "code",
   "execution_count": 23,
   "id": "29f03995",
   "metadata": {},
   "outputs": [],
   "source": [
    "t13 = (1,1)"
   ]
  },
  {
   "cell_type": "code",
   "execution_count": 24,
   "id": "22a545d7",
   "metadata": {},
   "outputs": [
    {
     "data": {
      "text/plain": [
       "tuple"
      ]
     },
     "execution_count": 24,
     "metadata": {},
     "output_type": "execute_result"
    }
   ],
   "source": [
    "type(t13)"
   ]
  },
  {
   "cell_type": "code",
   "execution_count": 25,
   "id": "10c60af3",
   "metadata": {},
   "outputs": [
    {
     "data": {
      "text/plain": [
       "(1, 1)"
      ]
     },
     "execution_count": 25,
     "metadata": {},
     "output_type": "execute_result"
    }
   ],
   "source": [
    "t13"
   ]
  },
  {
   "cell_type": "code",
   "execution_count": 26,
   "id": "b3d785e4",
   "metadata": {},
   "outputs": [
    {
     "name": "stdout",
     "output_type": "stream",
     "text": [
      "error encountered: 'tuple' object does not support item assignment\n"
     ]
    }
   ],
   "source": [
    "try:\n",
    "    t12[2] = 6\n",
    "except Exception as e:\n",
    "    print(f'error encountered: {e}')"
   ]
  },
  {
   "cell_type": "code",
   "execution_count": 27,
   "id": "27285e2c",
   "metadata": {},
   "outputs": [
    {
     "name": "stdout",
     "output_type": "stream",
     "text": [
      "error encountered: 'tuple' object does not support item assignment\n"
     ]
    }
   ],
   "source": [
    "try:\n",
    "    t12[4] = [1,2,3]\n",
    "except Exception as e:\n",
    "    print(f'error encountered: {e}')"
   ]
  },
  {
   "cell_type": "code",
   "execution_count": 28,
   "id": "1d3a056e",
   "metadata": {},
   "outputs": [],
   "source": [
    "t14 = (1,2,3,[[1,2],3])"
   ]
  },
  {
   "cell_type": "code",
   "execution_count": 29,
   "id": "4ccd5a5d",
   "metadata": {},
   "outputs": [],
   "source": [
    "try:\n",
    "    t14[3][0][1] = 6 # Elements nested inside list which is nested in tuple can be changed\n",
    "except Exception as e:\n",
    "    print(f'error encountered: {e}')"
   ]
  },
  {
   "cell_type": "code",
   "execution_count": 30,
   "id": "770d1947",
   "metadata": {},
   "outputs": [
    {
     "data": {
      "text/plain": [
       "6"
      ]
     },
     "execution_count": 30,
     "metadata": {},
     "output_type": "execute_result"
    }
   ],
   "source": [
    "t14[3][0][1]"
   ]
  },
  {
   "cell_type": "code",
   "execution_count": 31,
   "id": "1ad41e4b",
   "metadata": {},
   "outputs": [
    {
     "data": {
      "text/plain": [
       "(1, 2, 3, [[1, 6], 3])"
      ]
     },
     "execution_count": 31,
     "metadata": {},
     "output_type": "execute_result"
    }
   ],
   "source": [
    "t14"
   ]
  },
  {
   "cell_type": "code",
   "execution_count": 32,
   "id": "6332aaf0",
   "metadata": {},
   "outputs": [],
   "source": [
    "## Re-assignment is possible\n",
    "t14 = (1,2,3)"
   ]
  },
  {
   "cell_type": "code",
   "execution_count": 33,
   "id": "cb4d8a9a",
   "metadata": {},
   "outputs": [
    {
     "data": {
      "text/plain": [
       "(1, 2, 3)"
      ]
     },
     "execution_count": 33,
     "metadata": {},
     "output_type": "execute_result"
    }
   ],
   "source": [
    "t14"
   ]
  },
  {
   "cell_type": "code",
   "execution_count": 34,
   "id": "d5b86e32",
   "metadata": {},
   "outputs": [
    {
     "data": {
      "text/plain": [
       "(1, 'karan')"
      ]
     },
     "execution_count": 34,
     "metadata": {},
     "output_type": "execute_result"
    }
   ],
   "source": [
    "t14 = t12[0:2]\n",
    "t14"
   ]
  },
  {
   "cell_type": "code",
   "execution_count": 35,
   "id": "33d63163",
   "metadata": {},
   "outputs": [],
   "source": [
    "## Can have tuple inside tuple\n",
    "t5 = ((1,2),3,4)"
   ]
  },
  {
   "cell_type": "code",
   "execution_count": 36,
   "id": "7beaa5ad",
   "metadata": {},
   "outputs": [
    {
     "data": {
      "text/plain": [
       "((1, 2), 3, 4)"
      ]
     },
     "execution_count": 36,
     "metadata": {},
     "output_type": "execute_result"
    }
   ],
   "source": [
    "t5"
   ]
  },
  {
   "cell_type": "markdown",
   "id": "7fce1ac2",
   "metadata": {},
   "source": [
    "### How things are stored in tuple."
   ]
  },
  {
   "cell_type": "code",
   "execution_count": 37,
   "id": "32550ab4",
   "metadata": {},
   "outputs": [],
   "source": [
    "t15 = (1,2,3,[[5,6],9])"
   ]
  },
  {
   "cell_type": "code",
   "execution_count": 38,
   "id": "d20bdbc3",
   "metadata": {},
   "outputs": [
    {
     "data": {
      "text/plain": [
       "(1, 2, 3, [[5, 6], 9])"
      ]
     },
     "execution_count": 38,
     "metadata": {},
     "output_type": "execute_result"
    }
   ],
   "source": [
    "t15"
   ]
  },
  {
   "cell_type": "code",
   "execution_count": 39,
   "id": "519cc9fd",
   "metadata": {},
   "outputs": [],
   "source": [
    "a = 1\n",
    "b = 5"
   ]
  },
  {
   "cell_type": "code",
   "execution_count": 40,
   "id": "b39feafd",
   "metadata": {},
   "outputs": [
    {
     "data": {
      "text/plain": [
       "140703500683704"
      ]
     },
     "execution_count": 40,
     "metadata": {},
     "output_type": "execute_result"
    }
   ],
   "source": [
    "id(a)"
   ]
  },
  {
   "cell_type": "code",
   "execution_count": 41,
   "id": "93425035",
   "metadata": {},
   "outputs": [
    {
     "data": {
      "text/plain": [
       "140703500683704"
      ]
     },
     "execution_count": 41,
     "metadata": {},
     "output_type": "execute_result"
    }
   ],
   "source": [
    "id(1)"
   ]
  },
  {
   "cell_type": "code",
   "execution_count": 42,
   "id": "453a8a11",
   "metadata": {},
   "outputs": [
    {
     "data": {
      "text/plain": [
       "140703500683832"
      ]
     },
     "execution_count": 42,
     "metadata": {},
     "output_type": "execute_result"
    }
   ],
   "source": [
    "id(b)"
   ]
  },
  {
   "cell_type": "code",
   "execution_count": 43,
   "id": "e733cc39",
   "metadata": {},
   "outputs": [
    {
     "name": "stdout",
     "output_type": "stream",
     "text": [
      "140703500683704\n",
      "140703500683736\n",
      "140703500683768\n",
      "2990786996480\n"
     ]
    }
   ],
   "source": [
    "for i in t15:\n",
    "    print(id(i))"
   ]
  },
  {
   "cell_type": "markdown",
   "id": "81dd1605",
   "metadata": {},
   "source": [
    "### Observations:\n",
    "\n",
    "- The first element is 1, which is having the same reference as a or the value 1\n",
    "\n",
    "- Observe the last element's reference"
   ]
  },
  {
   "cell_type": "markdown",
   "id": "54c473df",
   "metadata": {},
   "source": [
    "#### EXCP - The element inside list in a tuple can be changed as the reference remain the same."
   ]
  },
  {
   "cell_type": "code",
   "execution_count": 44,
   "id": "b2f28b01",
   "metadata": {},
   "outputs": [],
   "source": [
    "t15[3][0][1] = 15"
   ]
  },
  {
   "cell_type": "code",
   "execution_count": 45,
   "id": "ff035d71",
   "metadata": {},
   "outputs": [
    {
     "data": {
      "text/plain": [
       "(1, 2, 3, [[5, 15], 9])"
      ]
     },
     "execution_count": 45,
     "metadata": {},
     "output_type": "execute_result"
    }
   ],
   "source": [
    "t15"
   ]
  },
  {
   "cell_type": "code",
   "execution_count": 46,
   "id": "dd27098c",
   "metadata": {},
   "outputs": [
    {
     "name": "stdout",
     "output_type": "stream",
     "text": [
      "140703500683704\n",
      "140703500683736\n",
      "140703500683768\n",
      "2990786996480\n"
     ]
    }
   ],
   "source": [
    "for i in t15:\n",
    "    print(id(i))"
   ]
  },
  {
   "cell_type": "markdown",
   "id": "de9738a7",
   "metadata": {},
   "source": [
    "### Observation:\n",
    "\n",
    "- The last reference still remains the same."
   ]
  },
  {
   "cell_type": "markdown",
   "id": "c2078c97",
   "metadata": {},
   "source": [
    "### Then how do we test tuple immutability?"
   ]
  },
  {
   "cell_type": "code",
   "execution_count": 47,
   "id": "09179906",
   "metadata": {},
   "outputs": [
    {
     "name": "stdout",
     "output_type": "stream",
     "text": [
      "error encountered: 'tuple' object does not support item assignment\n"
     ]
    }
   ],
   "source": [
    "try:\n",
    "    t15[1] = 15 # This will get a new ID and this ID then try to get stored in tuple\n",
    "except Exception as e:\n",
    "    print(f'error encountered: {e}')"
   ]
  },
  {
   "cell_type": "code",
   "execution_count": 48,
   "id": "5bd31cca",
   "metadata": {},
   "outputs": [],
   "source": [
    "t16 = (1,2,3,[[5,6],9],[1,2])"
   ]
  },
  {
   "cell_type": "code",
   "execution_count": 49,
   "id": "4190524f",
   "metadata": {},
   "outputs": [
    {
     "name": "stdout",
     "output_type": "stream",
     "text": [
      "error encountered: 'tuple' object does not support item assignment\n"
     ]
    }
   ],
   "source": [
    "try:\n",
    "    t16[4] = [11,12] # This will get a new ID and this ID then try to get stored in tuple\n",
    "except Exception as e:\n",
    "    print(f'error encountered: {e}')"
   ]
  },
  {
   "cell_type": "code",
   "execution_count": 52,
   "id": "78e773d8",
   "metadata": {},
   "outputs": [
    {
     "name": "stdout",
     "output_type": "stream",
     "text": [
      "(1, 2, 3, [[5, 6], 9], [[11, 12], 2])\n"
     ]
    }
   ],
   "source": [
    "try:\n",
    "    t16[4][0] = [11,12] # This works as we are changing inside a list which is inside the tuple. Reference remains same.\n",
    "except Exception as e:\n",
    "    print(f'error encountered: {e}')\n",
    "finally:\n",
    "    print(t16)"
   ]
  },
  {
   "cell_type": "code",
   "execution_count": 53,
   "id": "514ccadb",
   "metadata": {},
   "outputs": [],
   "source": [
    "li = [1,2,3,(4,5)]"
   ]
  },
  {
   "cell_type": "code",
   "execution_count": 54,
   "id": "154161ae",
   "metadata": {},
   "outputs": [],
   "source": [
    "li[2] = (1,2)"
   ]
  },
  {
   "cell_type": "code",
   "execution_count": 55,
   "id": "f5a7e433",
   "metadata": {},
   "outputs": [
    {
     "data": {
      "text/plain": [
       "[1, 2, (1, 2), (4, 5)]"
      ]
     },
     "execution_count": 55,
     "metadata": {},
     "output_type": "execute_result"
    }
   ],
   "source": [
    "li"
   ]
  },
  {
   "cell_type": "code",
   "execution_count": 58,
   "id": "772dbee0",
   "metadata": {},
   "outputs": [
    {
     "name": "stdout",
     "output_type": "stream",
     "text": [
      "error encountered: 'tuple' object does not support item assignment\n"
     ]
    }
   ],
   "source": [
    "try:\n",
    "    li[3][0] = 1 # this doesn't work as you are trying to change an element inside a tuple\n",
    "except Exception as e:\n",
    "    print(f'error encountered: {e}')"
   ]
  },
  {
   "cell_type": "code",
   "execution_count": 59,
   "id": "c99eb4c8",
   "metadata": {},
   "outputs": [],
   "source": [
    "li = [1,2,3,t16]"
   ]
  },
  {
   "cell_type": "code",
   "execution_count": 60,
   "id": "001839ef",
   "metadata": {},
   "outputs": [
    {
     "data": {
      "text/plain": [
       "[1, 2, 3, (1, 2, 3, [[5, 6], 9], [[11, 12], 2])]"
      ]
     },
     "execution_count": 60,
     "metadata": {},
     "output_type": "execute_result"
    }
   ],
   "source": [
    "li"
   ]
  },
  {
   "cell_type": "code",
   "execution_count": 62,
   "id": "39199198",
   "metadata": {},
   "outputs": [
    {
     "data": {
      "text/plain": [
       "6"
      ]
     },
     "execution_count": 62,
     "metadata": {},
     "output_type": "execute_result"
    }
   ],
   "source": [
    "li[3][3][0][1]"
   ]
  },
  {
   "cell_type": "markdown",
   "id": "51668c7c",
   "metadata": {},
   "source": [
    "## Packing and unpacking"
   ]
  },
  {
   "cell_type": "code",
   "execution_count": null,
   "id": "2a980a3b",
   "metadata": {},
   "outputs": [],
   "source": [
    "# Packing\n",
    "a = 1,2,3,4 # By default, Python handles a lot of things in tuple as it is fast"
   ]
  },
  {
   "cell_type": "code",
   "execution_count": 67,
   "id": "705eb199",
   "metadata": {},
   "outputs": [
    {
     "data": {
      "text/plain": [
       "tuple"
      ]
     },
     "execution_count": 67,
     "metadata": {},
     "output_type": "execute_result"
    }
   ],
   "source": [
    "type(a)"
   ]
  },
  {
   "cell_type": "code",
   "execution_count": 68,
   "id": "7e2d0b60",
   "metadata": {},
   "outputs": [
    {
     "data": {
      "text/plain": [
       "(1, 2, 3, 4)"
      ]
     },
     "execution_count": 68,
     "metadata": {},
     "output_type": "execute_result"
    }
   ],
   "source": [
    "a"
   ]
  },
  {
   "cell_type": "markdown",
   "id": "17d65584",
   "metadata": {},
   "source": [
    "#### Unpacking"
   ]
  },
  {
   "cell_type": "code",
   "execution_count": 69,
   "id": "88add259",
   "metadata": {},
   "outputs": [],
   "source": [
    "w,x,y,z = a"
   ]
  },
  {
   "cell_type": "code",
   "execution_count": 70,
   "id": "0fffff09",
   "metadata": {},
   "outputs": [
    {
     "name": "stdout",
     "output_type": "stream",
     "text": [
      "1\n",
      "2\n",
      "3\n",
      "4\n"
     ]
    }
   ],
   "source": [
    "print(w,x,y,z,sep=\"\\n\")"
   ]
  },
  {
   "cell_type": "markdown",
   "id": "a0635bd4",
   "metadata": {},
   "source": [
    "## Function for tuple\n",
    "\n",
    "- len()\n",
    "- max()\n",
    "- min()\n",
    "- sum()\n",
    "- sorted()\n",
    "- any()\n",
    "- all()\n",
    "- tuple()"
   ]
  },
  {
   "cell_type": "code",
   "execution_count": 1,
   "id": "b43dbbb5",
   "metadata": {},
   "outputs": [],
   "source": [
    "t1 = (1,2,3,4)\n",
    "t2 = (1,\"python\",5.0,True)\n",
    "t3 = ('a','b','c')"
   ]
  },
  {
   "cell_type": "markdown",
   "id": "9dfd8da7",
   "metadata": {},
   "source": [
    "### Membership in tuple"
   ]
  },
  {
   "cell_type": "code",
   "execution_count": 2,
   "id": "9a6fa360",
   "metadata": {},
   "outputs": [
    {
     "data": {
      "text/plain": [
       "False"
      ]
     },
     "execution_count": 2,
     "metadata": {},
     "output_type": "execute_result"
    }
   ],
   "source": [
    "'py' in t2"
   ]
  },
  {
   "cell_type": "code",
   "execution_count": 3,
   "id": "c03e865f",
   "metadata": {},
   "outputs": [
    {
     "data": {
      "text/plain": [
       "True"
      ]
     },
     "execution_count": 3,
     "metadata": {},
     "output_type": "execute_result"
    }
   ],
   "source": [
    "'python' in t2"
   ]
  },
  {
   "cell_type": "code",
   "execution_count": 4,
   "id": "f109d8d5",
   "metadata": {},
   "outputs": [
    {
     "data": {
      "text/plain": [
       "True"
      ]
     },
     "execution_count": 4,
     "metadata": {},
     "output_type": "execute_result"
    }
   ],
   "source": [
    "'a' in t3"
   ]
  },
  {
   "cell_type": "markdown",
   "id": "f4d1a364",
   "metadata": {},
   "source": [
    "### len()"
   ]
  },
  {
   "cell_type": "code",
   "execution_count": 5,
   "id": "802406bc",
   "metadata": {},
   "outputs": [
    {
     "data": {
      "text/plain": [
       "4"
      ]
     },
     "execution_count": 5,
     "metadata": {},
     "output_type": "execute_result"
    }
   ],
   "source": [
    "len(t2)"
   ]
  },
  {
   "cell_type": "markdown",
   "id": "3d0346f3",
   "metadata": {},
   "source": [
    "### sum()"
   ]
  },
  {
   "cell_type": "code",
   "execution_count": 6,
   "id": "d945dcec",
   "metadata": {},
   "outputs": [
    {
     "data": {
      "text/plain": [
       "10"
      ]
     },
     "execution_count": 6,
     "metadata": {},
     "output_type": "execute_result"
    }
   ],
   "source": [
    "sum(t1)"
   ]
  },
  {
   "cell_type": "code",
   "execution_count": 7,
   "id": "6fa46db6",
   "metadata": {},
   "outputs": [
    {
     "name": "stdout",
     "output_type": "stream",
     "text": [
      "error encountered: unsupported operand type(s) for +: 'int' and 'str'\n"
     ]
    }
   ],
   "source": [
    "try:\n",
    "    sum(t2)\n",
    "except Exception as e:\n",
    "    print(f'error encountered: {e}')"
   ]
  },
  {
   "cell_type": "code",
   "execution_count": 8,
   "id": "d4756647",
   "metadata": {},
   "outputs": [
    {
     "data": {
      "text/plain": [
       "('a', 'b', 'c')"
      ]
     },
     "execution_count": 8,
     "metadata": {},
     "output_type": "execute_result"
    }
   ],
   "source": [
    "t3"
   ]
  },
  {
   "cell_type": "code",
   "execution_count": 9,
   "id": "9d1392ae",
   "metadata": {},
   "outputs": [
    {
     "name": "stdout",
     "output_type": "stream",
     "text": [
      "error encountered: unsupported operand type(s) for +: 'int' and 'str'\n"
     ]
    }
   ],
   "source": [
    "try:\n",
    "    sum(t3)\n",
    "except Exception as e:\n",
    "    print(f'error encountered: {e}')"
   ]
  },
  {
   "cell_type": "markdown",
   "id": "6ad7e374",
   "metadata": {},
   "source": [
    "### min()"
   ]
  },
  {
   "cell_type": "code",
   "execution_count": 10,
   "id": "a0b722ac",
   "metadata": {},
   "outputs": [
    {
     "data": {
      "text/plain": [
       "1"
      ]
     },
     "execution_count": 10,
     "metadata": {},
     "output_type": "execute_result"
    }
   ],
   "source": [
    "min(t1)"
   ]
  },
  {
   "cell_type": "code",
   "execution_count": 14,
   "id": "902ab87b",
   "metadata": {},
   "outputs": [
    {
     "name": "stdout",
     "output_type": "stream",
     "text": [
      "a\n"
     ]
    }
   ],
   "source": [
    "try:\n",
    "    print(min(t3))\n",
    "except Exception as e:\n",
    "    print(f'error encountered: {e}')"
   ]
  },
  {
   "cell_type": "code",
   "execution_count": 15,
   "id": "9034a94d",
   "metadata": {},
   "outputs": [
    {
     "name": "stdout",
     "output_type": "stream",
     "text": [
      "error encountered: '<' not supported between instances of 'str' and 'int'\n"
     ]
    }
   ],
   "source": [
    "try:\n",
    "    print(min(t2))\n",
    "except Exception as e:\n",
    "    print(f'error encountered: {e}')"
   ]
  },
  {
   "cell_type": "markdown",
   "id": "56390123",
   "metadata": {},
   "source": [
    "### max()"
   ]
  },
  {
   "cell_type": "code",
   "execution_count": 16,
   "id": "90a087cc",
   "metadata": {},
   "outputs": [
    {
     "data": {
      "text/plain": [
       "4"
      ]
     },
     "execution_count": 16,
     "metadata": {},
     "output_type": "execute_result"
    }
   ],
   "source": [
    "max(t1)"
   ]
  },
  {
   "cell_type": "code",
   "execution_count": 17,
   "id": "c458f360",
   "metadata": {},
   "outputs": [
    {
     "name": "stdout",
     "output_type": "stream",
     "text": [
      "error encountered: '>' not supported between instances of 'str' and 'int'\n"
     ]
    }
   ],
   "source": [
    "try:\n",
    "    print(max(t2))\n",
    "except Exception as e:\n",
    "    print(f'error encountered: {e}')"
   ]
  },
  {
   "cell_type": "code",
   "execution_count": 18,
   "id": "4b042cd2",
   "metadata": {},
   "outputs": [],
   "source": [
    "t4 = [0j,1 ,'mayank']"
   ]
  },
  {
   "cell_type": "code",
   "execution_count": 19,
   "id": "b9eb693e",
   "metadata": {},
   "outputs": [
    {
     "data": {
      "text/plain": [
       "True"
      ]
     },
     "execution_count": 19,
     "metadata": {},
     "output_type": "execute_result"
    }
   ],
   "source": [
    "any(t4)"
   ]
  },
  {
   "cell_type": "code",
   "execution_count": 20,
   "id": "24edd06a",
   "metadata": {},
   "outputs": [
    {
     "data": {
      "text/plain": [
       "False"
      ]
     },
     "execution_count": 20,
     "metadata": {},
     "output_type": "execute_result"
    }
   ],
   "source": [
    "all(t4)"
   ]
  },
  {
   "cell_type": "markdown",
   "id": "d041b3d5",
   "metadata": {},
   "source": [
    "## Concatenation in Tuple"
   ]
  },
  {
   "cell_type": "code",
   "execution_count": 26,
   "id": "87bbcb09",
   "metadata": {},
   "outputs": [],
   "source": [
    "t1 = (1,2,3,4)\n",
    "t2 = (1,\"python\",5.0,True)\n",
    "t3 = ('a','b','c')"
   ]
  },
  {
   "cell_type": "code",
   "execution_count": 33,
   "id": "e6afda17",
   "metadata": {},
   "outputs": [
    {
     "data": {
      "text/plain": [
       "(1, 2, 3, 4, 1, 'python', 5.0, True)"
      ]
     },
     "execution_count": 33,
     "metadata": {},
     "output_type": "execute_result"
    }
   ],
   "source": [
    "t1"
   ]
  },
  {
   "cell_type": "code",
   "execution_count": 34,
   "id": "98487ee7",
   "metadata": {},
   "outputs": [
    {
     "data": {
      "text/plain": [
       "(1, 'python', 5.0, True)"
      ]
     },
     "execution_count": 34,
     "metadata": {},
     "output_type": "execute_result"
    }
   ],
   "source": [
    "t2"
   ]
  },
  {
   "cell_type": "code",
   "execution_count": 36,
   "id": "1fb14764",
   "metadata": {},
   "outputs": [],
   "source": [
    "t5 = t1+t2"
   ]
  },
  {
   "cell_type": "code",
   "execution_count": 37,
   "id": "7680f87a",
   "metadata": {},
   "outputs": [
    {
     "data": {
      "text/plain": [
       "(1, 2, 3, 4, 1, 'python', 5.0, True, 1, 'python', 5.0, True)"
      ]
     },
     "execution_count": 37,
     "metadata": {},
     "output_type": "execute_result"
    }
   ],
   "source": [
    "t5"
   ]
  },
  {
   "cell_type": "code",
   "execution_count": 38,
   "id": "e40aa96a",
   "metadata": {},
   "outputs": [
    {
     "data": {
      "text/plain": [
       "1186700342080"
      ]
     },
     "execution_count": 38,
     "metadata": {},
     "output_type": "execute_result"
    }
   ],
   "source": [
    "id(t1)"
   ]
  },
  {
   "cell_type": "code",
   "execution_count": 39,
   "id": "5f0cc9e3",
   "metadata": {},
   "outputs": [],
   "source": [
    "t1 = t1 + t2"
   ]
  },
  {
   "cell_type": "code",
   "execution_count": 40,
   "id": "8ac0f241",
   "metadata": {},
   "outputs": [
    {
     "data": {
      "text/plain": [
       "(1, 2, 3, 4, 1, 'python', 5.0, True, 1, 'python', 5.0, True)"
      ]
     },
     "execution_count": 40,
     "metadata": {},
     "output_type": "execute_result"
    }
   ],
   "source": [
    "t1"
   ]
  },
  {
   "cell_type": "code",
   "execution_count": 41,
   "id": "4bfbe1d4",
   "metadata": {},
   "outputs": [
    {
     "data": {
      "text/plain": [
       "1186700309216"
      ]
     },
     "execution_count": 41,
     "metadata": {},
     "output_type": "execute_result"
    }
   ],
   "source": [
    "id(t1)"
   ]
  },
  {
   "cell_type": "code",
   "execution_count": 42,
   "id": "3f82fc19",
   "metadata": {},
   "outputs": [
    {
     "data": {
      "text/plain": [
       "1186700563440"
      ]
     },
     "execution_count": 42,
     "metadata": {},
     "output_type": "execute_result"
    }
   ],
   "source": [
    "id(t2)"
   ]
  },
  {
   "cell_type": "code",
   "execution_count": 43,
   "id": "56c24e78",
   "metadata": {},
   "outputs": [
    {
     "data": {
      "text/plain": [
       "(1, 2, 3, 4, 1, 'python', 5.0, True, 1, 'python', 5.0, True)"
      ]
     },
     "execution_count": 43,
     "metadata": {},
     "output_type": "execute_result"
    }
   ],
   "source": [
    "t1"
   ]
  },
  {
   "cell_type": "code",
   "execution_count": 44,
   "id": "089c1e78",
   "metadata": {},
   "outputs": [
    {
     "data": {
      "text/plain": [
       "(1,\n",
       " 2,\n",
       " 3,\n",
       " 4,\n",
       " 1,\n",
       " 'python',\n",
       " 5.0,\n",
       " True,\n",
       " 1,\n",
       " 'python',\n",
       " 5.0,\n",
       " True,\n",
       " 1,\n",
       " 2,\n",
       " 3,\n",
       " 4,\n",
       " 1,\n",
       " 'python',\n",
       " 5.0,\n",
       " True,\n",
       " 1,\n",
       " 'python',\n",
       " 5.0,\n",
       " True,\n",
       " 1,\n",
       " 2,\n",
       " 3,\n",
       " 4,\n",
       " 1,\n",
       " 'python',\n",
       " 5.0,\n",
       " True,\n",
       " 1,\n",
       " 'python',\n",
       " 5.0,\n",
       " True)"
      ]
     },
     "execution_count": 44,
     "metadata": {},
     "output_type": "execute_result"
    }
   ],
   "source": [
    "t1*3"
   ]
  },
  {
   "cell_type": "code",
   "execution_count": 45,
   "id": "37086920",
   "metadata": {},
   "outputs": [
    {
     "data": {
      "text/plain": [
       "(1, 'python', 5.0, True, 1, 'python', 5.0, True, 1, 'python', 5.0, True)"
      ]
     },
     "execution_count": 45,
     "metadata": {},
     "output_type": "execute_result"
    }
   ],
   "source": [
    "t2*3    "
   ]
  },
  {
   "cell_type": "code",
   "execution_count": 47,
   "id": "e5e1e924",
   "metadata": {},
   "outputs": [],
   "source": [
    "a = (1,2,3)\n",
    "b = (4,5,6)"
   ]
  },
  {
   "cell_type": "code",
   "execution_count": 48,
   "id": "7ba0be81",
   "metadata": {},
   "outputs": [
    {
     "data": {
      "text/plain": [
       "False"
      ]
     },
     "execution_count": 48,
     "metadata": {},
     "output_type": "execute_result"
    }
   ],
   "source": [
    "a>b"
   ]
  },
  {
   "cell_type": "code",
   "execution_count": 49,
   "id": "c6839fb8",
   "metadata": {},
   "outputs": [],
   "source": [
    "a = (1,2,3)\n",
    "b = (4,5,6,7)"
   ]
  },
  {
   "cell_type": "code",
   "execution_count": 50,
   "id": "69109eec",
   "metadata": {},
   "outputs": [
    {
     "data": {
      "text/plain": [
       "False"
      ]
     },
     "execution_count": 50,
     "metadata": {},
     "output_type": "execute_result"
    }
   ],
   "source": [
    "a>b"
   ]
  },
  {
   "cell_type": "code",
   "execution_count": 51,
   "id": "0986bf6d",
   "metadata": {},
   "outputs": [],
   "source": [
    "a = ('a','b','c')\n",
    "b = ('x',)"
   ]
  },
  {
   "cell_type": "code",
   "execution_count": 52,
   "id": "fbe78118",
   "metadata": {},
   "outputs": [
    {
     "data": {
      "text/plain": [
       "False"
      ]
     },
     "execution_count": 52,
     "metadata": {},
     "output_type": "execute_result"
    }
   ],
   "source": [
    "a > b"
   ]
  },
  {
   "cell_type": "code",
   "execution_count": 53,
   "id": "29b2549c",
   "metadata": {},
   "outputs": [
    {
     "data": {
      "text/plain": [
       "120"
      ]
     },
     "execution_count": 53,
     "metadata": {},
     "output_type": "execute_result"
    }
   ],
   "source": [
    "ord('x')"
   ]
  },
  {
   "cell_type": "code",
   "execution_count": 54,
   "id": "72ba2b75",
   "metadata": {},
   "outputs": [
    {
     "data": {
      "text/plain": [
       "97"
      ]
     },
     "execution_count": 54,
     "metadata": {},
     "output_type": "execute_result"
    }
   ],
   "source": [
    "ord('a')"
   ]
  },
  {
   "cell_type": "markdown",
   "id": "6050a073",
   "metadata": {},
   "source": [
    "### sorted()"
   ]
  },
  {
   "cell_type": "code",
   "execution_count": 56,
   "id": "6410a2d9",
   "metadata": {},
   "outputs": [],
   "source": [
    "t1 = (2,3,766,4)\n",
    "t2 = (1,\"python\",5.0,True)\n",
    "t3 = ('a','b','c')"
   ]
  },
  {
   "cell_type": "code",
   "execution_count": 57,
   "id": "4e09258c",
   "metadata": {},
   "outputs": [
    {
     "data": {
      "text/plain": [
       "[2, 3, 4, 766]"
      ]
     },
     "execution_count": 57,
     "metadata": {},
     "output_type": "execute_result"
    }
   ],
   "source": [
    "sorted(t1)"
   ]
  },
  {
   "cell_type": "code",
   "execution_count": 58,
   "id": "80afced2",
   "metadata": {},
   "outputs": [
    {
     "data": {
      "text/plain": [
       "[766, 4, 3, 2]"
      ]
     },
     "execution_count": 58,
     "metadata": {},
     "output_type": "execute_result"
    }
   ],
   "source": [
    "sorted(t1,reverse=1)"
   ]
  },
  {
   "cell_type": "markdown",
   "id": "c75ba29b",
   "metadata": {},
   "source": [
    "## Methods in Tuple\n",
    "\n",
    "1. index()  \n",
    "2. count()"
   ]
  },
  {
   "cell_type": "code",
   "execution_count": 1,
   "id": "cdf26245",
   "metadata": {},
   "outputs": [],
   "source": [
    "t1 = (1,2,3,4)\n",
    "t2 = (1,\"python\",5.0,True)\n",
    "t3 = ('a','b','c')"
   ]
  },
  {
   "cell_type": "code",
   "execution_count": 2,
   "id": "8bfeb67e",
   "metadata": {},
   "outputs": [],
   "source": [
    "del(t1)"
   ]
  },
  {
   "cell_type": "code",
   "execution_count": 4,
   "id": "90f0d64a",
   "metadata": {},
   "outputs": [
    {
     "name": "stdout",
     "output_type": "stream",
     "text": [
      "name 't1' is not defined\n"
     ]
    }
   ],
   "source": [
    "try:\n",
    "    t1\n",
    "except Exception as e:\n",
    "    print(e)"
   ]
  },
  {
   "cell_type": "code",
   "execution_count": 5,
   "id": "a162b477",
   "metadata": {},
   "outputs": [
    {
     "data": {
      "text/plain": [
       "0"
      ]
     },
     "execution_count": 5,
     "metadata": {},
     "output_type": "execute_result"
    }
   ],
   "source": [
    "t2.count('a')"
   ]
  },
  {
   "cell_type": "code",
   "execution_count": 6,
   "id": "153f31e3",
   "metadata": {},
   "outputs": [
    {
     "data": {
      "text/plain": [
       "2"
      ]
     },
     "execution_count": 6,
     "metadata": {},
     "output_type": "execute_result"
    }
   ],
   "source": [
    "t2.count(1)"
   ]
  },
  {
   "cell_type": "code",
   "execution_count": 7,
   "id": "3ccd4456",
   "metadata": {},
   "outputs": [
    {
     "data": {
      "text/plain": [
       "(1, 'python', 5.0, True)"
      ]
     },
     "execution_count": 7,
     "metadata": {},
     "output_type": "execute_result"
    }
   ],
   "source": [
    "t2"
   ]
  },
  {
   "cell_type": "code",
   "execution_count": 8,
   "id": "36d97b61",
   "metadata": {},
   "outputs": [
    {
     "data": {
      "text/plain": [
       "2"
      ]
     },
     "execution_count": 8,
     "metadata": {},
     "output_type": "execute_result"
    }
   ],
   "source": [
    "t2.count(True)"
   ]
  },
  {
   "cell_type": "code",
   "execution_count": 9,
   "id": "bcf8ff21",
   "metadata": {},
   "outputs": [
    {
     "data": {
      "text/plain": [
       "0"
      ]
     },
     "execution_count": 9,
     "metadata": {},
     "output_type": "execute_result"
    }
   ],
   "source": [
    "t2.index(True)"
   ]
  },
  {
   "cell_type": "code",
   "execution_count": 10,
   "id": "a28a0ab0",
   "metadata": {},
   "outputs": [
    {
     "data": {
      "text/plain": [
       "1"
      ]
     },
     "execution_count": 10,
     "metadata": {},
     "output_type": "execute_result"
    }
   ],
   "source": [
    "t2.index('python')"
   ]
  },
  {
   "cell_type": "code",
   "execution_count": 15,
   "id": "e4a00b14",
   "metadata": {},
   "outputs": [],
   "source": [
    "t3 = (5,1,2,3,5,6,4,5)"
   ]
  },
  {
   "cell_type": "code",
   "execution_count": 16,
   "id": "7b6bafed",
   "metadata": {},
   "outputs": [
    {
     "data": {
      "text/plain": [
       "4"
      ]
     },
     "execution_count": 16,
     "metadata": {},
     "output_type": "execute_result"
    }
   ],
   "source": [
    "t3.index(5,1)"
   ]
  },
  {
   "cell_type": "code",
   "execution_count": 17,
   "id": "b196f11e",
   "metadata": {},
   "outputs": [
    {
     "data": {
      "text/plain": [
       "7"
      ]
     },
     "execution_count": 17,
     "metadata": {},
     "output_type": "execute_result"
    }
   ],
   "source": [
    "t3.index(5,5)"
   ]
  }
 ],
 "metadata": {
  "kernelspec": {
   "display_name": "Python 3",
   "language": "python",
   "name": "python3"
  },
  "language_info": {
   "codemirror_mode": {
    "name": "ipython",
    "version": 3
   },
   "file_extension": ".py",
   "mimetype": "text/x-python",
   "name": "python",
   "nbconvert_exporter": "python",
   "pygments_lexer": "ipython3",
   "version": "3.12.0"
  }
 },
 "nbformat": 4,
 "nbformat_minor": 5
}
