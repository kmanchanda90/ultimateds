{
 "cells": [
  {
   "cell_type": "markdown",
   "id": "6470ed3d",
   "metadata": {},
   "source": [
    "## List"
   ]
  },
  {
   "cell_type": "code",
   "execution_count": 1,
   "id": "d358ba1c",
   "metadata": {},
   "outputs": [],
   "source": [
    "myList = []"
   ]
  },
  {
   "cell_type": "code",
   "execution_count": 2,
   "id": "7b32a0fc",
   "metadata": {},
   "outputs": [
    {
     "data": {
      "text/plain": [
       "list"
      ]
     },
     "execution_count": 2,
     "metadata": {},
     "output_type": "execute_result"
    }
   ],
   "source": [
    "type(myList)"
   ]
  },
  {
   "cell_type": "code",
   "execution_count": null,
   "id": "96ef57ad",
   "metadata": {},
   "outputs": [],
   "source": [
    "myList2 = [1, 2, 3, 4,5] # homogenous list"
   ]
  },
  {
   "cell_type": "code",
   "execution_count": 5,
   "id": "a9b3c652",
   "metadata": {},
   "outputs": [
    {
     "data": {
      "text/plain": [
       "list"
      ]
     },
     "execution_count": 5,
     "metadata": {},
     "output_type": "execute_result"
    }
   ],
   "source": [
    "type(myList2)"
   ]
  },
  {
   "cell_type": "code",
   "execution_count": null,
   "id": "16f749dc",
   "metadata": {},
   "outputs": [],
   "source": [
    "myList3 = [1,'karan',2.4,True,2+5j] # heterogenous list"
   ]
  },
  {
   "cell_type": "code",
   "execution_count": 3,
   "id": "0334a6e0",
   "metadata": {},
   "outputs": [
    {
     "data": {
      "text/plain": [
       "[1, 'karan', 2.4, True, (2+5j)]"
      ]
     },
     "execution_count": 3,
     "metadata": {},
     "output_type": "execute_result"
    }
   ],
   "source": [
    "myList3"
   ]
  },
  {
   "cell_type": "code",
   "execution_count": 8,
   "id": "01ab9bb6",
   "metadata": {},
   "outputs": [
    {
     "data": {
      "text/plain": [
       "5"
      ]
     },
     "execution_count": 8,
     "metadata": {},
     "output_type": "execute_result"
    }
   ],
   "source": [
    "len(myList3)"
   ]
  },
  {
   "cell_type": "code",
   "execution_count": null,
   "id": "983e607a",
   "metadata": {},
   "outputs": [],
   "source": [
    "# How to create your own length function\n",
    "def myLenFunc(l):\n",
    "    length = 0\n",
    "    for i in l:\n",
    "        length+=1\n",
    "    print(length)"
   ]
  },
  {
   "cell_type": "code",
   "execution_count": 10,
   "id": "ed062c81",
   "metadata": {},
   "outputs": [
    {
     "name": "stdout",
     "output_type": "stream",
     "text": [
      "5\n"
     ]
    }
   ],
   "source": [
    "myLenFunc(myList3)"
   ]
  },
  {
   "cell_type": "code",
   "execution_count": 4,
   "id": "460a8295",
   "metadata": {},
   "outputs": [
    {
     "data": {
      "text/plain": [
       "[1, 'karan', 2.4, True, (2+5j)]"
      ]
     },
     "execution_count": 4,
     "metadata": {},
     "output_type": "execute_result"
    }
   ],
   "source": [
    "myList3"
   ]
  },
  {
   "cell_type": "code",
   "execution_count": 5,
   "id": "eb2fe3b5",
   "metadata": {},
   "outputs": [
    {
     "data": {
      "text/plain": [
       "1"
      ]
     },
     "execution_count": 5,
     "metadata": {},
     "output_type": "execute_result"
    }
   ],
   "source": [
    "myList3[0]"
   ]
  },
  {
   "cell_type": "code",
   "execution_count": 8,
   "id": "656c7de0",
   "metadata": {},
   "outputs": [
    {
     "data": {
      "text/plain": [
       "2.4"
      ]
     },
     "execution_count": 8,
     "metadata": {},
     "output_type": "execute_result"
    }
   ],
   "source": [
    "myList3[2]"
   ]
  },
  {
   "cell_type": "markdown",
   "id": "1eb373cf",
   "metadata": {},
   "source": [
    "### List elements are changaeble and can be modified"
   ]
  },
  {
   "cell_type": "code",
   "execution_count": 9,
   "id": "127ae730",
   "metadata": {},
   "outputs": [],
   "source": [
    "myList3[0] = 10000"
   ]
  },
  {
   "cell_type": "code",
   "execution_count": 10,
   "id": "1e462de1",
   "metadata": {},
   "outputs": [
    {
     "data": {
      "text/plain": [
       "[10000, 'karan', 2.4, True, (2+5j)]"
      ]
     },
     "execution_count": 10,
     "metadata": {},
     "output_type": "execute_result"
    }
   ],
   "source": [
    "myList3"
   ]
  },
  {
   "cell_type": "code",
   "execution_count": 11,
   "id": "d51861c2",
   "metadata": {},
   "outputs": [],
   "source": [
    "myNewList = myList3[0:2]"
   ]
  },
  {
   "cell_type": "code",
   "execution_count": 12,
   "id": "84c7e678",
   "metadata": {},
   "outputs": [
    {
     "data": {
      "text/plain": [
       "[10000, 'karan']"
      ]
     },
     "execution_count": 12,
     "metadata": {},
     "output_type": "execute_result"
    }
   ],
   "source": [
    "myNewList"
   ]
  },
  {
   "cell_type": "code",
   "execution_count": 13,
   "id": "f5cba6cd",
   "metadata": {},
   "outputs": [],
   "source": [
    "myNewList2 = myList3[0:5:2]"
   ]
  },
  {
   "cell_type": "code",
   "execution_count": 14,
   "id": "60a9cb9a",
   "metadata": {},
   "outputs": [
    {
     "data": {
      "text/plain": [
       "[10000, 2.4, (2+5j)]"
      ]
     },
     "execution_count": 14,
     "metadata": {},
     "output_type": "execute_result"
    }
   ],
   "source": [
    "myNewList2"
   ]
  },
  {
   "cell_type": "code",
   "execution_count": null,
   "id": "bae1e9e9",
   "metadata": {},
   "outputs": [
    {
     "name": "stdout",
     "output_type": "stream",
     "text": [
      "10000\n",
      "karan\n",
      "2.4\n",
      "True\n",
      "(2+5j)\n"
     ]
    }
   ],
   "source": [
    "for i in myList3: # element\n",
    "    print(i)"
   ]
  },
  {
   "cell_type": "code",
   "execution_count": null,
   "id": "fd38fd1c",
   "metadata": {},
   "outputs": [
    {
     "name": "stdout",
     "output_type": "stream",
     "text": [
      "10000\n",
      "karan\n",
      "2.4\n",
      "True\n",
      "(2+5j)\n"
     ]
    }
   ],
   "source": [
    "for i in range(len(myList3)): # position or index\n",
    "    print(myList3[i])"
   ]
  },
  {
   "cell_type": "markdown",
   "id": "ade7a9ca",
   "metadata": {},
   "source": [
    "## List function"
   ]
  },
  {
   "cell_type": "code",
   "execution_count": 1,
   "id": "08a5e730",
   "metadata": {},
   "outputs": [],
   "source": [
    "li = list()"
   ]
  },
  {
   "cell_type": "code",
   "execution_count": 2,
   "id": "ff0b32ec",
   "metadata": {},
   "outputs": [
    {
     "data": {
      "text/plain": [
       "[]"
      ]
     },
     "execution_count": 2,
     "metadata": {},
     "output_type": "execute_result"
    }
   ],
   "source": [
    "li"
   ]
  },
  {
   "cell_type": "code",
   "execution_count": 3,
   "id": "ece216eb",
   "metadata": {},
   "outputs": [
    {
     "data": {
      "text/plain": [
       "list"
      ]
     },
     "execution_count": 3,
     "metadata": {},
     "output_type": "execute_result"
    }
   ],
   "source": [
    "type(li)"
   ]
  },
  {
   "cell_type": "code",
   "execution_count": 4,
   "id": "1af3463c",
   "metadata": {},
   "outputs": [],
   "source": [
    "li2 = list('karan manchanda')"
   ]
  },
  {
   "cell_type": "code",
   "execution_count": 5,
   "id": "7a9a8ab9",
   "metadata": {},
   "outputs": [
    {
     "data": {
      "text/plain": [
       "['k', 'a', 'r', 'a', 'n', ' ', 'm', 'a', 'n', 'c', 'h', 'a', 'n', 'd', 'a']"
      ]
     },
     "execution_count": 5,
     "metadata": {},
     "output_type": "execute_result"
    }
   ],
   "source": [
    "li2"
   ]
  },
  {
   "cell_type": "code",
   "execution_count": 7,
   "id": "817b5aa6",
   "metadata": {},
   "outputs": [
    {
     "name": "stdout",
     "output_type": "stream",
     "text": [
      "error encountered: 'int' object is not iterable\n"
     ]
    }
   ],
   "source": [
    "try:\n",
    "    li3 = list(100)\n",
    "except Exception as e:\n",
    "    print(f'error encountered: {e}')"
   ]
  },
  {
   "cell_type": "code",
   "execution_count": 8,
   "id": "deb5ab9e",
   "metadata": {},
   "outputs": [
    {
     "name": "stdout",
     "output_type": "stream",
     "text": [
      "k\n",
      "a\n",
      "r\n",
      "a\n",
      "n\n",
      " \n",
      "m\n",
      "a\n",
      "n\n",
      "c\n",
      "h\n",
      "a\n",
      "n\n",
      "d\n",
      "a\n"
     ]
    }
   ],
   "source": [
    "for i in 'karan manchanda':\n",
    "    print(i)"
   ]
  },
  {
   "cell_type": "code",
   "execution_count": 9,
   "id": "0285dead",
   "metadata": {},
   "outputs": [
    {
     "name": "stdout",
     "output_type": "stream",
     "text": [
      "error encountered: list expected at most 1 argument, got 3\n"
     ]
    }
   ],
   "source": [
    "try:\n",
    "    list(10,20,30)\n",
    "except Exception as e:\n",
    "    print(f'error encountered: {e}')    "
   ]
  },
  {
   "cell_type": "code",
   "execution_count": 10,
   "id": "b1854722",
   "metadata": {},
   "outputs": [],
   "source": [
    "li4 = list((10,20,30))"
   ]
  },
  {
   "cell_type": "code",
   "execution_count": 11,
   "id": "b5c7de8e",
   "metadata": {},
   "outputs": [
    {
     "data": {
      "text/plain": [
       "[10, 20, 30]"
      ]
     },
     "execution_count": 11,
     "metadata": {},
     "output_type": "execute_result"
    }
   ],
   "source": [
    "li4"
   ]
  },
  {
   "cell_type": "markdown",
   "id": "fdfe1716",
   "metadata": {},
   "source": [
    "## Indexing and Slicing"
   ]
  },
  {
   "cell_type": "code",
   "execution_count": 12,
   "id": "2d5054ba",
   "metadata": {},
   "outputs": [
    {
     "name": "stdout",
     "output_type": "stream",
     "text": [
      "error encountered: 'int' object is not iterable\n"
     ]
    }
   ],
   "source": [
    "try:\n",
    "    li5=list((10))\n",
    "except Exception as e:\n",
    "    print(f'error encountered: {e}')  "
   ]
  },
  {
   "cell_type": "code",
   "execution_count": null,
   "id": "eaad5afe",
   "metadata": {},
   "outputs": [],
   "source": [
    "li5=list((10,)) # tuple - for a single element"
   ]
  },
  {
   "cell_type": "code",
   "execution_count": 14,
   "id": "bd72330e",
   "metadata": {},
   "outputs": [
    {
     "data": {
      "text/plain": [
       "[10]"
      ]
     },
     "execution_count": 14,
     "metadata": {},
     "output_type": "execute_result"
    }
   ],
   "source": [
    "li5"
   ]
  },
  {
   "cell_type": "code",
   "execution_count": 17,
   "id": "94c2ed3f",
   "metadata": {},
   "outputs": [],
   "source": [
    "li6=list('m')"
   ]
  },
  {
   "cell_type": "code",
   "execution_count": 18,
   "id": "d8ed3059",
   "metadata": {},
   "outputs": [
    {
     "data": {
      "text/plain": [
       "['m']"
      ]
     },
     "execution_count": 18,
     "metadata": {},
     "output_type": "execute_result"
    }
   ],
   "source": [
    "li6"
   ]
  },
  {
   "cell_type": "code",
   "execution_count": 19,
   "id": "83cd9c09",
   "metadata": {},
   "outputs": [],
   "source": [
    "li7 = [1,2,3,'mayank',5,8]"
   ]
  },
  {
   "cell_type": "code",
   "execution_count": 21,
   "id": "9a7c668a",
   "metadata": {},
   "outputs": [
    {
     "data": {
      "text/plain": [
       "str"
      ]
     },
     "execution_count": 21,
     "metadata": {},
     "output_type": "execute_result"
    }
   ],
   "source": [
    "type(li7[3])"
   ]
  },
  {
   "cell_type": "markdown",
   "id": "cb58a649",
   "metadata": {},
   "source": [
    "### How to access 'y' in mayank in above list"
   ]
  },
  {
   "cell_type": "code",
   "execution_count": 20,
   "id": "d1785476",
   "metadata": {},
   "outputs": [
    {
     "data": {
      "text/plain": [
       "'y'"
      ]
     },
     "execution_count": 20,
     "metadata": {},
     "output_type": "execute_result"
    }
   ],
   "source": [
    "li7[3][2]"
   ]
  },
  {
   "cell_type": "code",
   "execution_count": 23,
   "id": "d1706d24",
   "metadata": {},
   "outputs": [],
   "source": [
    "li8 = [1,2,3,'mayank',5,8,['first','second']]"
   ]
  },
  {
   "cell_type": "code",
   "execution_count": 25,
   "id": "a8dbe2b8",
   "metadata": {},
   "outputs": [
    {
     "data": {
      "text/plain": [
       "'o'"
      ]
     },
     "execution_count": 25,
     "metadata": {},
     "output_type": "execute_result"
    }
   ],
   "source": [
    "li8[-1][-1][-3] # How to access 'o' from second in the above list"
   ]
  },
  {
   "cell_type": "markdown",
   "id": "c6e9b76b",
   "metadata": {},
   "source": [
    "### Membership in List"
   ]
  },
  {
   "cell_type": "code",
   "execution_count": 26,
   "id": "d10f49eb",
   "metadata": {},
   "outputs": [
    {
     "data": {
      "text/plain": [
       "[1, 2, 3, 'mayank', 5, 8, ['first', 'second']]"
      ]
     },
     "execution_count": 26,
     "metadata": {},
     "output_type": "execute_result"
    }
   ],
   "source": [
    "li8"
   ]
  },
  {
   "cell_type": "code",
   "execution_count": 27,
   "id": "c1f03ea7",
   "metadata": {},
   "outputs": [
    {
     "data": {
      "text/plain": [
       "True"
      ]
     },
     "execution_count": 27,
     "metadata": {},
     "output_type": "execute_result"
    }
   ],
   "source": [
    "2 in li8"
   ]
  },
  {
   "cell_type": "code",
   "execution_count": 28,
   "id": "5becca3b",
   "metadata": {},
   "outputs": [
    {
     "data": {
      "text/plain": [
       "True"
      ]
     },
     "execution_count": 28,
     "metadata": {},
     "output_type": "execute_result"
    }
   ],
   "source": [
    "'mayank' in li8"
   ]
  },
  {
   "cell_type": "code",
   "execution_count": 29,
   "id": "0c9b45c1",
   "metadata": {},
   "outputs": [
    {
     "data": {
      "text/plain": [
       "False"
      ]
     },
     "execution_count": 29,
     "metadata": {},
     "output_type": "execute_result"
    }
   ],
   "source": [
    "'Mayank' in li8"
   ]
  },
  {
   "cell_type": "code",
   "execution_count": 30,
   "id": "b90305c1",
   "metadata": {},
   "outputs": [
    {
     "data": {
      "text/plain": [
       "False"
      ]
     },
     "execution_count": 30,
     "metadata": {},
     "output_type": "execute_result"
    }
   ],
   "source": [
    "'first' in li8"
   ]
  },
  {
   "cell_type": "code",
   "execution_count": 31,
   "id": "ea0b9e20",
   "metadata": {},
   "outputs": [
    {
     "data": {
      "text/plain": [
       "True"
      ]
     },
     "execution_count": 31,
     "metadata": {},
     "output_type": "execute_result"
    }
   ],
   "source": [
    "['first', 'second'] in li8"
   ]
  },
  {
   "cell_type": "code",
   "execution_count": 32,
   "id": "4a5b6b57",
   "metadata": {},
   "outputs": [
    {
     "data": {
      "text/plain": [
       "True"
      ]
     },
     "execution_count": 32,
     "metadata": {},
     "output_type": "execute_result"
    }
   ],
   "source": [
    "'123' not in li8"
   ]
  },
  {
   "cell_type": "code",
   "execution_count": 33,
   "id": "18fc47e0",
   "metadata": {},
   "outputs": [],
   "source": [
    "reviews = ['good food','bad food','great service','bad service']"
   ]
  },
  {
   "cell_type": "code",
   "execution_count": 37,
   "id": "601d3c6a",
   "metadata": {},
   "outputs": [],
   "source": [
    "service_reviews = list()\n",
    "for item in reviews:\n",
    "    if 'service' in item:\n",
    "        service_reviews.append(item)"
   ]
  },
  {
   "cell_type": "code",
   "execution_count": 38,
   "id": "4fde329e",
   "metadata": {},
   "outputs": [
    {
     "data": {
      "text/plain": [
       "['great service', 'bad service']"
      ]
     },
     "execution_count": 38,
     "metadata": {},
     "output_type": "execute_result"
    }
   ],
   "source": [
    "service_reviews"
   ]
  },
  {
   "cell_type": "code",
   "execution_count": 43,
   "id": "67d152b0",
   "metadata": {},
   "outputs": [],
   "source": [
    "all_emails = ['abc@gmail.com','abc@gmail.com','abc@gmail.com','abc@gmail.com','abc@yahoo.com','abc@yahoo.com']"
   ]
  },
  {
   "cell_type": "code",
   "execution_count": 44,
   "id": "561315a5",
   "metadata": {},
   "outputs": [
    {
     "data": {
      "text/plain": [
       "['abc@gmail.com', 'abc@gmail.com', 'abc@gmail.com', 'abc@gmail.com']"
      ]
     },
     "execution_count": 44,
     "metadata": {},
     "output_type": "execute_result"
    }
   ],
   "source": [
    "gmail_accounts = list()\n",
    "\n",
    "for email in all_emails:\n",
    "    if '@gmail.com' in email:\n",
    "        gmail_accounts.append(email)\n",
    "\n",
    "gmail_accounts"
   ]
  },
  {
   "cell_type": "markdown",
   "id": "9bb48119",
   "metadata": {},
   "source": [
    "## Methods vs. Function"
   ]
  },
  {
   "cell_type": "code",
   "execution_count": 48,
   "id": "03e1425c",
   "metadata": {},
   "outputs": [
    {
     "data": {
      "text/plain": [
       "6"
      ]
     },
     "execution_count": 48,
     "metadata": {},
     "output_type": "execute_result"
    }
   ],
   "source": [
    "len(all_emails) # Function"
   ]
  },
  {
   "cell_type": "code",
   "execution_count": 49,
   "id": "9e434225",
   "metadata": {},
   "outputs": [
    {
     "data": {
      "text/plain": [
       "list"
      ]
     },
     "execution_count": 49,
     "metadata": {},
     "output_type": "execute_result"
    }
   ],
   "source": [
    "type(all_emails)"
   ]
  },
  {
   "cell_type": "code",
   "execution_count": null,
   "id": "5f6dad57",
   "metadata": {},
   "outputs": [
    {
     "data": {
      "text/plain": [
       "4"
      ]
     },
     "execution_count": 50,
     "metadata": {},
     "output_type": "execute_result"
    }
   ],
   "source": [
    "all_emails.count('abc@gmail.com') # Method"
   ]
  },
  {
   "cell_type": "markdown",
   "id": "eef9f480",
   "metadata": {},
   "source": [
    "## Functions\n",
    "\n",
    "1. len()\n",
    "\n",
    "2. max()\n",
    "\n",
    "3. min()\n",
    "\n",
    "4. sum()\n",
    "\n",
    "5. sorted()\n",
    "\n",
    "6. any()\n",
    "\n",
    "7. all()\n",
    "\n",
    "8. list()"
   ]
  },
  {
   "cell_type": "code",
   "execution_count": 51,
   "id": "f16574af",
   "metadata": {},
   "outputs": [],
   "source": [
    "newList = [1,2531,5310,21,513]"
   ]
  },
  {
   "cell_type": "code",
   "execution_count": 52,
   "id": "77702657",
   "metadata": {},
   "outputs": [],
   "source": [
    "newList2 = [1,'karan','python',True,513]"
   ]
  },
  {
   "cell_type": "code",
   "execution_count": 53,
   "id": "96782d80",
   "metadata": {},
   "outputs": [
    {
     "data": {
      "text/plain": [
       "5"
      ]
     },
     "execution_count": 53,
     "metadata": {},
     "output_type": "execute_result"
    }
   ],
   "source": [
    "len(newList)"
   ]
  },
  {
   "cell_type": "code",
   "execution_count": 54,
   "id": "663668fc",
   "metadata": {},
   "outputs": [
    {
     "data": {
      "text/plain": [
       "5310"
      ]
     },
     "execution_count": 54,
     "metadata": {},
     "output_type": "execute_result"
    }
   ],
   "source": [
    "max(newList)"
   ]
  },
  {
   "cell_type": "code",
   "execution_count": 56,
   "id": "c7bd6375",
   "metadata": {},
   "outputs": [
    {
     "name": "stdout",
     "output_type": "stream",
     "text": [
      "Error encountered: '>' not supported between instances of 'str' and 'int'\n"
     ]
    }
   ],
   "source": [
    "try:\n",
    "    max(newList2)\n",
    "except Exception as e:\n",
    "    print(f'Error encountered: {e}')"
   ]
  },
  {
   "cell_type": "code",
   "execution_count": 57,
   "id": "3d3ec4af",
   "metadata": {},
   "outputs": [],
   "source": [
    "newList3 = [1,2,'3',4,'5']"
   ]
  },
  {
   "cell_type": "code",
   "execution_count": 58,
   "id": "5f44120b",
   "metadata": {},
   "outputs": [
    {
     "name": "stdout",
     "output_type": "stream",
     "text": [
      "Error encountered: '>' not supported between instances of 'str' and 'int'\n"
     ]
    }
   ],
   "source": [
    "try:\n",
    "    max(newList3)\n",
    "except Exception as e:\n",
    "    print(f'Error encountered: {e}')"
   ]
  },
  {
   "cell_type": "code",
   "execution_count": 60,
   "id": "af92c7cf",
   "metadata": {},
   "outputs": [],
   "source": [
    "# How to solve above?\n",
    "myMax = 0\n",
    "for num in newList3:\n",
    "    if(myMax < int(num)):\n",
    "        myMax = int(num)"
   ]
  },
  {
   "cell_type": "code",
   "execution_count": 61,
   "id": "400de77f",
   "metadata": {},
   "outputs": [
    {
     "data": {
      "text/plain": [
       "5"
      ]
     },
     "execution_count": 61,
     "metadata": {},
     "output_type": "execute_result"
    }
   ],
   "source": [
    "myMax"
   ]
  },
  {
   "cell_type": "code",
   "execution_count": 62,
   "id": "cff3031a",
   "metadata": {},
   "outputs": [],
   "source": [
    "myStringList = ['a','b','c']"
   ]
  },
  {
   "cell_type": "code",
   "execution_count": null,
   "id": "e66d5fcc",
   "metadata": {},
   "outputs": [
    {
     "data": {
      "text/plain": [
       "'c'"
      ]
     },
     "execution_count": 63,
     "metadata": {},
     "output_type": "execute_result"
    }
   ],
   "source": [
    "max(myStringList)"
   ]
  },
  {
   "cell_type": "code",
   "execution_count": 64,
   "id": "725c63cc",
   "metadata": {},
   "outputs": [
    {
     "data": {
      "text/plain": [
       "1"
      ]
     },
     "execution_count": 64,
     "metadata": {},
     "output_type": "execute_result"
    }
   ],
   "source": [
    "min(newList)"
   ]
  },
  {
   "cell_type": "code",
   "execution_count": 65,
   "id": "98c6f699",
   "metadata": {},
   "outputs": [
    {
     "name": "stdout",
     "output_type": "stream",
     "text": [
      "Error encountered: '>' not supported between instances of 'str' and 'int'\n"
     ]
    }
   ],
   "source": [
    "try:\n",
    "    max(newList2)\n",
    "except Exception as e:\n",
    "    print(f'Error encountered: {e}')"
   ]
  },
  {
   "cell_type": "code",
   "execution_count": 66,
   "id": "e8db1f76",
   "metadata": {},
   "outputs": [
    {
     "data": {
      "text/plain": [
       "'a'"
      ]
     },
     "execution_count": 66,
     "metadata": {},
     "output_type": "execute_result"
    }
   ],
   "source": [
    "min(myStringList)"
   ]
  },
  {
   "cell_type": "code",
   "execution_count": 67,
   "id": "7b35bc21",
   "metadata": {},
   "outputs": [
    {
     "name": "stdout",
     "output_type": "stream",
     "text": [
      "[1, 2531, 5310, 21, 513]\n",
      "[1, 'karan', 'python', True, 513]\n",
      "['a', 'b', 'c']\n"
     ]
    }
   ],
   "source": [
    "print(newList)\n",
    "print(newList2)\n",
    "print(myStringList)"
   ]
  },
  {
   "cell_type": "code",
   "execution_count": 68,
   "id": "66058ef3",
   "metadata": {},
   "outputs": [
    {
     "name": "stdout",
     "output_type": "stream",
     "text": [
      "8376\n"
     ]
    }
   ],
   "source": [
    "print(sum(newList))"
   ]
  },
  {
   "cell_type": "code",
   "execution_count": 69,
   "id": "e5f66793",
   "metadata": {},
   "outputs": [
    {
     "name": "stdout",
     "output_type": "stream",
     "text": [
      "Error encountered: unsupported operand type(s) for +: 'int' and 'str'\n"
     ]
    }
   ],
   "source": [
    "try:\n",
    "    print(sum(newList2))\n",
    "except Exception as e:\n",
    "    print(f'Error encountered: {e}')"
   ]
  },
  {
   "cell_type": "code",
   "execution_count": 70,
   "id": "4700a6f2",
   "metadata": {},
   "outputs": [
    {
     "name": "stdout",
     "output_type": "stream",
     "text": [
      "Error encountered: unsupported operand type(s) for +: 'int' and 'str'\n"
     ]
    }
   ],
   "source": [
    "try:\n",
    "    print(sum(myStringList))\n",
    "except Exception as e:\n",
    "    print(f'Error encountered: {e}')"
   ]
  },
  {
   "cell_type": "markdown",
   "id": "f205bfc8",
   "metadata": {},
   "source": [
    "Note: A natural question arises that why did we not contatenate here as sum means concatenate strings. The reason is simple. It is sum, which can also means addition or also the addition of their ascii values, so there is ambiguity."
   ]
  },
  {
   "cell_type": "code",
   "execution_count": null,
   "id": "10de93e0",
   "metadata": {},
   "outputs": [
    {
     "data": {
      "text/plain": [
       "[1, 21, 513, 2531, 5310]"
      ]
     },
     "execution_count": 71,
     "metadata": {},
     "output_type": "execute_result"
    }
   ],
   "source": [
    "sorted(newList) # By default, it is ascending order."
   ]
  },
  {
   "cell_type": "code",
   "execution_count": 72,
   "id": "078710bc",
   "metadata": {},
   "outputs": [
    {
     "name": "stdout",
     "output_type": "stream",
     "text": [
      "Error encountered: '<' not supported between instances of 'str' and 'int'\n"
     ]
    }
   ],
   "source": [
    "try:\n",
    "    sorted(newList2)\n",
    "except Exception as e:\n",
    "    print(f'Error encountered: {e}')"
   ]
  },
  {
   "cell_type": "code",
   "execution_count": null,
   "id": "9fde294f",
   "metadata": {},
   "outputs": [
    {
     "data": {
      "text/plain": [
       "['c', 'b', 'a']"
      ]
     },
     "execution_count": 74,
     "metadata": {},
     "output_type": "execute_result"
    }
   ],
   "source": [
    "sorted(myStringList,reverse=True) # Use reverse argument to change the order to descending"
   ]
  },
  {
   "cell_type": "code",
   "execution_count": 75,
   "id": "47fd74eb",
   "metadata": {},
   "outputs": [
    {
     "data": {
      "text/plain": [
       "['c', 'b', 'a']"
      ]
     },
     "execution_count": 75,
     "metadata": {},
     "output_type": "execute_result"
    }
   ],
   "source": [
    "sorted(myStringList,reverse=1)"
   ]
  },
  {
   "cell_type": "code",
   "execution_count": 76,
   "id": "eae99976",
   "metadata": {},
   "outputs": [
    {
     "data": {
      "text/plain": [
       "True"
      ]
     },
     "execution_count": 76,
     "metadata": {},
     "output_type": "execute_result"
    }
   ],
   "source": [
    "any(newList)"
   ]
  },
  {
   "cell_type": "code",
   "execution_count": 77,
   "id": "4bc9f678",
   "metadata": {},
   "outputs": [],
   "source": [
    "listToExplainAny = [0,0,0,False]"
   ]
  },
  {
   "cell_type": "code",
   "execution_count": 79,
   "id": "19057c06",
   "metadata": {},
   "outputs": [
    {
     "data": {
      "text/plain": [
       "False"
      ]
     },
     "execution_count": 79,
     "metadata": {},
     "output_type": "execute_result"
    }
   ],
   "source": [
    "any(listToExplainAny)\n",
    "\n",
    "# Return True if bool(x) is True for any x in the iterable."
   ]
  },
  {
   "cell_type": "code",
   "execution_count": 80,
   "id": "2644315d",
   "metadata": {},
   "outputs": [],
   "source": [
    "listToExplainAny = [0,0,0,1]"
   ]
  },
  {
   "cell_type": "code",
   "execution_count": 81,
   "id": "47b256be",
   "metadata": {},
   "outputs": [
    {
     "data": {
      "text/plain": [
       "True"
      ]
     },
     "execution_count": 81,
     "metadata": {},
     "output_type": "execute_result"
    }
   ],
   "source": [
    "any(listToExplainAny)"
   ]
  },
  {
   "cell_type": "code",
   "execution_count": 82,
   "id": "7fd2501a",
   "metadata": {},
   "outputs": [
    {
     "data": {
      "text/plain": [
       "False"
      ]
     },
     "execution_count": 82,
     "metadata": {},
     "output_type": "execute_result"
    }
   ],
   "source": [
    "all(listToExplainAny)"
   ]
  },
  {
   "cell_type": "code",
   "execution_count": 83,
   "id": "d19afd25",
   "metadata": {},
   "outputs": [],
   "source": [
    "list1 = [True,True,True,False]"
   ]
  },
  {
   "cell_type": "code",
   "execution_count": 84,
   "id": "fcefd53d",
   "metadata": {},
   "outputs": [
    {
     "data": {
      "text/plain": [
       "True"
      ]
     },
     "execution_count": 84,
     "metadata": {},
     "output_type": "execute_result"
    }
   ],
   "source": [
    "any(list1)"
   ]
  },
  {
   "cell_type": "code",
   "execution_count": 85,
   "id": "cd0904ff",
   "metadata": {},
   "outputs": [
    {
     "data": {
      "text/plain": [
       "False"
      ]
     },
     "execution_count": 85,
     "metadata": {},
     "output_type": "execute_result"
    }
   ],
   "source": [
    "all(list1)"
   ]
  },
  {
   "cell_type": "code",
   "execution_count": 86,
   "id": "fd8cd211",
   "metadata": {},
   "outputs": [],
   "source": [
    "list2 = [-1,0,False]"
   ]
  },
  {
   "cell_type": "code",
   "execution_count": 87,
   "id": "8c31ca59",
   "metadata": {},
   "outputs": [
    {
     "data": {
      "text/plain": [
       "True"
      ]
     },
     "execution_count": 87,
     "metadata": {},
     "output_type": "execute_result"
    }
   ],
   "source": [
    "any(list2)"
   ]
  },
  {
   "cell_type": "code",
   "execution_count": 88,
   "id": "13c71866",
   "metadata": {},
   "outputs": [
    {
     "data": {
      "text/plain": [
       "False"
      ]
     },
     "execution_count": 88,
     "metadata": {},
     "output_type": "execute_result"
    }
   ],
   "source": [
    "all(list2)"
   ]
  },
  {
   "cell_type": "code",
   "execution_count": 90,
   "id": "99e9f71d",
   "metadata": {},
   "outputs": [
    {
     "data": {
      "text/plain": [
       "['a', 'a', 'k', 'm', 'n', 'y']"
      ]
     },
     "execution_count": 90,
     "metadata": {},
     "output_type": "execute_result"
    }
   ],
   "source": [
    "a='mayank'\n",
    "sorted(a) # sorted takes an iterable as an argument and returns a sorted list"
   ]
  },
  {
   "cell_type": "markdown",
   "id": "4c4dabac",
   "metadata": {},
   "source": [
    "## List Concatenation"
   ]
  },
  {
   "cell_type": "code",
   "execution_count": 91,
   "id": "84f06e8c",
   "metadata": {},
   "outputs": [],
   "source": [
    "l1 = ['a','b','c']"
   ]
  },
  {
   "cell_type": "code",
   "execution_count": 92,
   "id": "2e6dba37",
   "metadata": {},
   "outputs": [],
   "source": [
    "l2 = ['d','e','f']"
   ]
  },
  {
   "cell_type": "code",
   "execution_count": 93,
   "id": "bafbe2a2",
   "metadata": {},
   "outputs": [
    {
     "data": {
      "text/plain": [
       "['a', 'b', 'c', 'd', 'e', 'f']"
      ]
     },
     "execution_count": 93,
     "metadata": {},
     "output_type": "execute_result"
    }
   ],
   "source": [
    "l1+l2"
   ]
  },
  {
   "cell_type": "code",
   "execution_count": 94,
   "id": "384f1b6e",
   "metadata": {},
   "outputs": [
    {
     "data": {
      "text/plain": [
       "['a', 'b', 'c', 'a', 'b', 'c', 'a', 'b', 'c']"
      ]
     },
     "execution_count": 94,
     "metadata": {},
     "output_type": "execute_result"
    }
   ],
   "source": [
    "l1*3"
   ]
  },
  {
   "cell_type": "code",
   "execution_count": 95,
   "id": "fafb9c5e",
   "metadata": {},
   "outputs": [
    {
     "name": "stdout",
     "output_type": "stream",
     "text": [
      "Error encountered: can only concatenate list (not \"int\") to list\n"
     ]
    }
   ],
   "source": [
    "try:\n",
    "    l1+3\n",
    "except Exception as e:\n",
    "    print(f'Error encountered: {e}')"
   ]
  },
  {
   "cell_type": "code",
   "execution_count": 96,
   "id": "7b7be1d2",
   "metadata": {},
   "outputs": [
    {
     "name": "stdout",
     "output_type": "stream",
     "text": [
      "Error encountered: unsupported operand type(s) for -: 'list' and 'int'\n"
     ]
    }
   ],
   "source": [
    "try:\n",
    "    l1-3\n",
    "except Exception as e:\n",
    "    print(f'Error encountered: {e}')"
   ]
  },
  {
   "cell_type": "code",
   "execution_count": 97,
   "id": "c2e59b82",
   "metadata": {},
   "outputs": [
    {
     "name": "stdout",
     "output_type": "stream",
     "text": [
      "Error encountered: unsupported operand type(s) for /: 'list' and 'int'\n"
     ]
    }
   ],
   "source": [
    "try:\n",
    "    l1/3\n",
    "except Exception as e:\n",
    "    print(f'Error encountered: {e}')"
   ]
  },
  {
   "cell_type": "code",
   "execution_count": 99,
   "id": "9c806eed",
   "metadata": {},
   "outputs": [
    {
     "name": "stdout",
     "output_type": "stream",
     "text": [
      "Error encountered: can't multiply sequence by non-int of type 'list'\n"
     ]
    }
   ],
   "source": [
    "try:\n",
    "    l1*l2\n",
    "except Exception as e:\n",
    "    print(f'Error encountered: {e}')"
   ]
  },
  {
   "cell_type": "code",
   "execution_count": 100,
   "id": "b1fc6ef0",
   "metadata": {},
   "outputs": [
    {
     "name": "stdout",
     "output_type": "stream",
     "text": [
      "Error encountered: unsupported operand type(s) for -: 'list' and 'list'\n"
     ]
    }
   ],
   "source": [
    "try:\n",
    "    l1-l2\n",
    "except Exception as e:\n",
    "    print(f'Error encountered: {e}')"
   ]
  },
  {
   "cell_type": "code",
   "execution_count": 98,
   "id": "53183f85",
   "metadata": {},
   "outputs": [
    {
     "name": "stdout",
     "output_type": "stream",
     "text": [
      "Error encountered: unsupported operand type(s) for /: 'list' and 'list'\n"
     ]
    }
   ],
   "source": [
    "try:\n",
    "    l1/l2\n",
    "except Exception as e:\n",
    "    print(f'Error encountered: {e}')"
   ]
  },
  {
   "cell_type": "markdown",
   "id": "ad57e727",
   "metadata": {},
   "source": [
    "## List Methods\n",
    "\n",
    "1. append()\n",
    "\n",
    "2. extend()\n",
    "\n",
    "3. insert()\n",
    "\n",
    "4. index()\n",
    "\n",
    "5. count()\n",
    "\n",
    "6. remove()\n",
    "\n",
    "7. pop()\n",
    "\n",
    "8. clear()\n",
    "\n",
    "9. reverse()\n",
    "\n",
    "10. sort()\n",
    "\n",
    "11. copy()"
   ]
  },
  {
   "cell_type": "markdown",
   "id": "85c411ca",
   "metadata": {},
   "source": [
    "### append()"
   ]
  },
  {
   "cell_type": "code",
   "execution_count": 101,
   "id": "1d0af418",
   "metadata": {},
   "outputs": [
    {
     "data": {
      "text/plain": [
       "['a', 'b', 'c']"
      ]
     },
     "execution_count": 101,
     "metadata": {},
     "output_type": "execute_result"
    }
   ],
   "source": [
    "l1"
   ]
  },
  {
   "cell_type": "code",
   "execution_count": 102,
   "id": "df3939cd",
   "metadata": {},
   "outputs": [],
   "source": [
    "l1.append(1)"
   ]
  },
  {
   "cell_type": "code",
   "execution_count": 103,
   "id": "5882671f",
   "metadata": {},
   "outputs": [
    {
     "data": {
      "text/plain": [
       "['a', 'b', 'c', 1]"
      ]
     },
     "execution_count": 103,
     "metadata": {},
     "output_type": "execute_result"
    }
   ],
   "source": [
    "l1"
   ]
  },
  {
   "cell_type": "code",
   "execution_count": 104,
   "id": "db401831",
   "metadata": {},
   "outputs": [],
   "source": [
    "l1.append('abc')"
   ]
  },
  {
   "cell_type": "code",
   "execution_count": 105,
   "id": "7dfbb684",
   "metadata": {},
   "outputs": [
    {
     "data": {
      "text/plain": [
       "['a', 'b', 'c', 1, 'abc']"
      ]
     },
     "execution_count": 105,
     "metadata": {},
     "output_type": "execute_result"
    }
   ],
   "source": [
    "l1"
   ]
  },
  {
   "cell_type": "code",
   "execution_count": 107,
   "id": "4a034bae",
   "metadata": {},
   "outputs": [],
   "source": [
    "l1.append((1,2))"
   ]
  },
  {
   "cell_type": "code",
   "execution_count": 108,
   "id": "ae03b926",
   "metadata": {},
   "outputs": [
    {
     "data": {
      "text/plain": [
       "['a', 'b', 'c', 1, 'abc', (1, 2)]"
      ]
     },
     "execution_count": 108,
     "metadata": {},
     "output_type": "execute_result"
    }
   ],
   "source": [
    "l1"
   ]
  },
  {
   "cell_type": "code",
   "execution_count": 112,
   "id": "4c2bed48",
   "metadata": {},
   "outputs": [],
   "source": [
    "l1.append(list(range(2)))"
   ]
  },
  {
   "cell_type": "code",
   "execution_count": 113,
   "id": "b59d4b49",
   "metadata": {},
   "outputs": [
    {
     "data": {
      "text/plain": [
       "['a', 'b', 'c', 1, 'abc', (1, 2), [0, 1]]"
      ]
     },
     "execution_count": 113,
     "metadata": {},
     "output_type": "execute_result"
    }
   ],
   "source": [
    "l1"
   ]
  },
  {
   "cell_type": "markdown",
   "id": "0ad9c9a0",
   "metadata": {},
   "source": [
    "### extend()"
   ]
  },
  {
   "cell_type": "code",
   "execution_count": 114,
   "id": "a478f430",
   "metadata": {},
   "outputs": [],
   "source": [
    "l1.extend('karan')"
   ]
  },
  {
   "cell_type": "code",
   "execution_count": 115,
   "id": "06862615",
   "metadata": {},
   "outputs": [
    {
     "data": {
      "text/plain": [
       "['a', 'b', 'c', 1, 'abc', (1, 2), [0, 1], 'k', 'a', 'r', 'a', 'n']"
      ]
     },
     "execution_count": 115,
     "metadata": {},
     "output_type": "execute_result"
    }
   ],
   "source": [
    "l1"
   ]
  },
  {
   "cell_type": "code",
   "execution_count": 116,
   "id": "161fbeab",
   "metadata": {},
   "outputs": [],
   "source": [
    "l1.extend([1,2,3,'karan',True])"
   ]
  },
  {
   "cell_type": "code",
   "execution_count": 117,
   "id": "f1c2dfb0",
   "metadata": {},
   "outputs": [
    {
     "data": {
      "text/plain": [
       "['a',\n",
       " 'b',\n",
       " 'c',\n",
       " 1,\n",
       " 'abc',\n",
       " (1, 2),\n",
       " [0, 1],\n",
       " 'k',\n",
       " 'a',\n",
       " 'r',\n",
       " 'a',\n",
       " 'n',\n",
       " 1,\n",
       " 2,\n",
       " 3,\n",
       " 'karan',\n",
       " True]"
      ]
     },
     "execution_count": 117,
     "metadata": {},
     "output_type": "execute_result"
    }
   ],
   "source": [
    "l1"
   ]
  },
  {
   "cell_type": "code",
   "execution_count": 118,
   "id": "907a8751",
   "metadata": {},
   "outputs": [],
   "source": [
    "l3 = list('999999999999999')"
   ]
  },
  {
   "cell_type": "code",
   "execution_count": 120,
   "id": "3e667cfd",
   "metadata": {},
   "outputs": [],
   "source": [
    "l3.extend('000')"
   ]
  },
  {
   "cell_type": "code",
   "execution_count": 121,
   "id": "761e3cdb",
   "metadata": {},
   "outputs": [
    {
     "data": {
      "text/plain": [
       "['9',\n",
       " '9',\n",
       " '9',\n",
       " '9',\n",
       " '9',\n",
       " '9',\n",
       " '9',\n",
       " '9',\n",
       " '9',\n",
       " '9',\n",
       " '9',\n",
       " '9',\n",
       " '9',\n",
       " '9',\n",
       " '9',\n",
       " '0',\n",
       " '0',\n",
       " '0']"
      ]
     },
     "execution_count": 121,
     "metadata": {},
     "output_type": "execute_result"
    }
   ],
   "source": [
    "l3"
   ]
  },
  {
   "cell_type": "markdown",
   "id": "3dce4cd1",
   "metadata": {},
   "source": [
    "### insert()"
   ]
  },
  {
   "cell_type": "code",
   "execution_count": 122,
   "id": "f42e29af",
   "metadata": {},
   "outputs": [],
   "source": [
    "l1 = ['a','b','c']"
   ]
  },
  {
   "cell_type": "code",
   "execution_count": 123,
   "id": "dfb17e90",
   "metadata": {},
   "outputs": [
    {
     "data": {
      "text/plain": [
       "['a', 'b', 'c']"
      ]
     },
     "execution_count": 123,
     "metadata": {},
     "output_type": "execute_result"
    }
   ],
   "source": [
    "l1"
   ]
  },
  {
   "cell_type": "code",
   "execution_count": 124,
   "id": "d4f2d4a2",
   "metadata": {},
   "outputs": [],
   "source": [
    "l1.insert(2,'d')"
   ]
  },
  {
   "cell_type": "code",
   "execution_count": 125,
   "id": "fa120f5b",
   "metadata": {},
   "outputs": [
    {
     "data": {
      "text/plain": [
       "['a', 'b', 'd', 'c']"
      ]
     },
     "execution_count": 125,
     "metadata": {},
     "output_type": "execute_result"
    }
   ],
   "source": [
    "l1"
   ]
  },
  {
   "cell_type": "code",
   "execution_count": 126,
   "id": "e88b34ef",
   "metadata": {},
   "outputs": [],
   "source": [
    "l1.insert(1,'e')"
   ]
  },
  {
   "cell_type": "code",
   "execution_count": 127,
   "id": "fb3bee4b",
   "metadata": {},
   "outputs": [
    {
     "data": {
      "text/plain": [
       "['a', 'e', 'b', 'd', 'c']"
      ]
     },
     "execution_count": 127,
     "metadata": {},
     "output_type": "execute_result"
    }
   ],
   "source": [
    "l1"
   ]
  },
  {
   "cell_type": "code",
   "execution_count": 128,
   "id": "66e3bd38",
   "metadata": {},
   "outputs": [],
   "source": [
    "l1.insert(100,'f')"
   ]
  },
  {
   "cell_type": "code",
   "execution_count": 130,
   "id": "165b9b0c",
   "metadata": {},
   "outputs": [
    {
     "data": {
      "text/plain": [
       "['a', 'e', 'b', 'd', 'c', 'f']"
      ]
     },
     "execution_count": 130,
     "metadata": {},
     "output_type": "execute_result"
    }
   ],
   "source": [
    "# if we are giving beyond index, it adds to the end.\n",
    "l1"
   ]
  },
  {
   "cell_type": "code",
   "execution_count": 131,
   "id": "56318520",
   "metadata": {},
   "outputs": [],
   "source": [
    "l1.insert(99,'abc')"
   ]
  },
  {
   "cell_type": "code",
   "execution_count": 132,
   "id": "4075aeb4",
   "metadata": {},
   "outputs": [
    {
     "data": {
      "text/plain": [
       "['a', 'e', 'b', 'd', 'c', 'f', 'abc']"
      ]
     },
     "execution_count": 132,
     "metadata": {},
     "output_type": "execute_result"
    }
   ],
   "source": [
    "l1"
   ]
  },
  {
   "cell_type": "code",
   "execution_count": 133,
   "id": "1798144f",
   "metadata": {},
   "outputs": [],
   "source": [
    "l1.insert(3,'def')"
   ]
  },
  {
   "cell_type": "code",
   "execution_count": 134,
   "id": "88287036",
   "metadata": {},
   "outputs": [
    {
     "data": {
      "text/plain": [
       "['a', 'e', 'b', 'def', 'd', 'c', 'f', 'abc']"
      ]
     },
     "execution_count": 134,
     "metadata": {},
     "output_type": "execute_result"
    }
   ],
   "source": [
    "l1"
   ]
  },
  {
   "cell_type": "markdown",
   "id": "2cd6d400",
   "metadata": {},
   "source": [
    "### index()"
   ]
  },
  {
   "cell_type": "code",
   "execution_count": 135,
   "id": "351d2acf",
   "metadata": {},
   "outputs": [
    {
     "data": {
      "text/plain": [
       "['a', 'e', 'b', 'def', 'd', 'c', 'f', 'abc']"
      ]
     },
     "execution_count": 135,
     "metadata": {},
     "output_type": "execute_result"
    }
   ],
   "source": [
    "l1"
   ]
  },
  {
   "cell_type": "code",
   "execution_count": 136,
   "id": "5349984a",
   "metadata": {},
   "outputs": [],
   "source": [
    "l4 = [1,2,3,2,1,6]"
   ]
  },
  {
   "cell_type": "code",
   "execution_count": 137,
   "id": "f97789dc",
   "metadata": {},
   "outputs": [
    {
     "data": {
      "text/plain": [
       "1"
      ]
     },
     "execution_count": 137,
     "metadata": {},
     "output_type": "execute_result"
    }
   ],
   "source": [
    "l4.index(2)"
   ]
  },
  {
   "cell_type": "markdown",
   "id": "e5afbe89",
   "metadata": {},
   "source": [
    "### append(): add the object value at the end.\n",
    "\n",
    "### extend(): will place the elements of the iterable at the end, will throw error error if a non-iterable value is passed.\n",
    "\n",
    "### insert(): will place the value in the index defined. Even if the index passed while inserting is out of range, Python doesn't throw error but will add the value at the end."
   ]
  },
  {
   "cell_type": "markdown",
   "id": "9e997e69",
   "metadata": {},
   "source": [
    "### count()"
   ]
  },
  {
   "cell_type": "code",
   "execution_count": 139,
   "id": "caeb9531",
   "metadata": {},
   "outputs": [
    {
     "data": {
      "text/plain": [
       "[1, 2, 3, 2, 1, 6]"
      ]
     },
     "execution_count": 139,
     "metadata": {},
     "output_type": "execute_result"
    }
   ],
   "source": [
    "l4"
   ]
  },
  {
   "cell_type": "code",
   "execution_count": 140,
   "id": "20017af5",
   "metadata": {},
   "outputs": [
    {
     "data": {
      "text/plain": [
       "2"
      ]
     },
     "execution_count": 140,
     "metadata": {},
     "output_type": "execute_result"
    }
   ],
   "source": [
    "l4.count(1)"
   ]
  },
  {
   "cell_type": "code",
   "execution_count": 141,
   "id": "2beb4c3c",
   "metadata": {},
   "outputs": [
    {
     "data": {
      "text/plain": [
       "0"
      ]
     },
     "execution_count": 141,
     "metadata": {},
     "output_type": "execute_result"
    }
   ],
   "source": [
    "l4.count(5)"
   ]
  },
  {
   "cell_type": "markdown",
   "id": "5b3780ef",
   "metadata": {},
   "source": [
    "### remove()"
   ]
  },
  {
   "cell_type": "code",
   "execution_count": 142,
   "id": "6dc9db0f",
   "metadata": {},
   "outputs": [],
   "source": [
    "l4.remove(1)"
   ]
  },
  {
   "cell_type": "code",
   "execution_count": 143,
   "id": "e1edce43",
   "metadata": {},
   "outputs": [
    {
     "data": {
      "text/plain": [
       "[2, 3, 2, 1, 6]"
      ]
     },
     "execution_count": 143,
     "metadata": {},
     "output_type": "execute_result"
    }
   ],
   "source": [
    "l4"
   ]
  },
  {
   "cell_type": "code",
   "execution_count": 144,
   "id": "739e530e",
   "metadata": {},
   "outputs": [
    {
     "name": "stdout",
     "output_type": "stream",
     "text": [
      "error encountered: list.remove(x): x not in list\n"
     ]
    }
   ],
   "source": [
    "try:\n",
    "    l4.remove(5)\n",
    "except Exception as e:\n",
    "    print(f'error encountered: {e}')"
   ]
  },
  {
   "cell_type": "code",
   "execution_count": 145,
   "id": "800312fc",
   "metadata": {},
   "outputs": [],
   "source": [
    "if l4.count(5)!=0:\n",
    "    l4.remove(5)"
   ]
  },
  {
   "cell_type": "markdown",
   "id": "3f6d3268",
   "metadata": {},
   "source": [
    "#### WAP to remove all occurence of 1 from the below list. Don't create new list."
   ]
  },
  {
   "cell_type": "code",
   "execution_count": 152,
   "id": "a4cdbd38",
   "metadata": {},
   "outputs": [],
   "source": [
    "givenList = [1,4,6,2,1,4,1,5,1,54,1,6]"
   ]
  },
  {
   "cell_type": "code",
   "execution_count": 148,
   "id": "2ece6074",
   "metadata": {},
   "outputs": [
    {
     "name": "stdout",
     "output_type": "stream",
     "text": [
      "[4, 6, 2, 4, 5, 54, 6]\n"
     ]
    }
   ],
   "source": [
    "for num in givenList:\n",
    "    if num==1 and givenList.count(num)!= 0:\n",
    "        givenList.remove(num)\n",
    "print(givenList)"
   ]
  },
  {
   "cell_type": "code",
   "execution_count": 150,
   "id": "8e73f328",
   "metadata": {},
   "outputs": [],
   "source": [
    "while givenList.count(1) !=0:\n",
    "    givenList.remove(1)"
   ]
  },
  {
   "cell_type": "code",
   "execution_count": 151,
   "id": "3b329607",
   "metadata": {},
   "outputs": [
    {
     "data": {
      "text/plain": [
       "[4, 6, 2, 4, 5, 54, 6]"
      ]
     },
     "execution_count": 151,
     "metadata": {},
     "output_type": "execute_result"
    }
   ],
   "source": [
    "givenList"
   ]
  },
  {
   "cell_type": "code",
   "execution_count": 153,
   "id": "896bdda9",
   "metadata": {},
   "outputs": [],
   "source": [
    "while 1 in givenList:\n",
    "    givenList.remove(1)"
   ]
  },
  {
   "cell_type": "code",
   "execution_count": 154,
   "id": "0d9eaf77",
   "metadata": {},
   "outputs": [
    {
     "data": {
      "text/plain": [
       "[4, 6, 2, 4, 5, 54, 6]"
      ]
     },
     "execution_count": 154,
     "metadata": {},
     "output_type": "execute_result"
    }
   ],
   "source": [
    "givenList"
   ]
  },
  {
   "cell_type": "code",
   "execution_count": 156,
   "id": "b8893bbc",
   "metadata": {},
   "outputs": [],
   "source": [
    "givenList.remove(2)"
   ]
  },
  {
   "cell_type": "code",
   "execution_count": 157,
   "id": "32452ddc",
   "metadata": {},
   "outputs": [
    {
     "data": {
      "text/plain": [
       "[4, 6, 4, 5, 54, 6]"
      ]
     },
     "execution_count": 157,
     "metadata": {},
     "output_type": "execute_result"
    }
   ],
   "source": [
    "givenList"
   ]
  },
  {
   "cell_type": "markdown",
   "id": "3dd77aca",
   "metadata": {},
   "source": [
    "### pop()"
   ]
  },
  {
   "cell_type": "code",
   "execution_count": 158,
   "id": "5b72309f",
   "metadata": {},
   "outputs": [
    {
     "data": {
      "text/plain": [
       "[4, 6, 4, 5, 54, 6]"
      ]
     },
     "execution_count": 158,
     "metadata": {},
     "output_type": "execute_result"
    }
   ],
   "source": [
    "givenList"
   ]
  },
  {
   "cell_type": "code",
   "execution_count": 159,
   "id": "d6841e21",
   "metadata": {},
   "outputs": [
    {
     "data": {
      "text/plain": [
       "4"
      ]
     },
     "execution_count": 159,
     "metadata": {},
     "output_type": "execute_result"
    }
   ],
   "source": [
    "givenList[2]"
   ]
  },
  {
   "cell_type": "code",
   "execution_count": 162,
   "id": "b98f66b3",
   "metadata": {},
   "outputs": [
    {
     "data": {
      "text/plain": [
       "54"
      ]
     },
     "execution_count": 162,
     "metadata": {},
     "output_type": "execute_result"
    }
   ],
   "source": [
    "# Remove and return item at index (default last).\n",
    "givenList.pop()"
   ]
  },
  {
   "cell_type": "code",
   "execution_count": 163,
   "id": "d32f8012",
   "metadata": {},
   "outputs": [
    {
     "data": {
      "text/plain": [
       "[4, 6, 4, 5]"
      ]
     },
     "execution_count": 163,
     "metadata": {},
     "output_type": "execute_result"
    }
   ],
   "source": [
    "givenList"
   ]
  },
  {
   "cell_type": "code",
   "execution_count": 164,
   "id": "29b100c0",
   "metadata": {},
   "outputs": [
    {
     "data": {
      "text/plain": [
       "4"
      ]
     },
     "execution_count": 164,
     "metadata": {},
     "output_type": "execute_result"
    }
   ],
   "source": [
    "givenList.pop(0)"
   ]
  },
  {
   "cell_type": "code",
   "execution_count": 165,
   "id": "aff002c2",
   "metadata": {},
   "outputs": [
    {
     "data": {
      "text/plain": [
       "[6, 4, 5]"
      ]
     },
     "execution_count": 165,
     "metadata": {},
     "output_type": "execute_result"
    }
   ],
   "source": [
    "givenList"
   ]
  },
  {
   "cell_type": "code",
   "execution_count": 166,
   "id": "6a69de04",
   "metadata": {},
   "outputs": [
    {
     "data": {
      "text/plain": [
       "6"
      ]
     },
     "execution_count": 166,
     "metadata": {},
     "output_type": "execute_result"
    }
   ],
   "source": [
    "givenList.pop()\n",
    "givenList.pop()\n",
    "givenList.pop()"
   ]
  },
  {
   "cell_type": "code",
   "execution_count": 167,
   "id": "8be788fc",
   "metadata": {},
   "outputs": [
    {
     "data": {
      "text/plain": [
       "[]"
      ]
     },
     "execution_count": 167,
     "metadata": {},
     "output_type": "execute_result"
    }
   ],
   "source": [
    "givenList"
   ]
  },
  {
   "cell_type": "code",
   "execution_count": 169,
   "id": "2933d521",
   "metadata": {},
   "outputs": [],
   "source": [
    "givenList = [1,2,3,4,5,6]"
   ]
  },
  {
   "cell_type": "code",
   "execution_count": null,
   "id": "dce9a984",
   "metadata": {},
   "outputs": [
    {
     "name": "stdout",
     "output_type": "stream",
     "text": [
      "6\n",
      "5\n",
      "4\n",
      "3\n",
      "2\n",
      "1\n"
     ]
    }
   ],
   "source": [
    "# Can also help to print a list in reverse order\n",
    "while len(givenList)!= 0:\n",
    "    print(givenList.pop())"
   ]
  },
  {
   "cell_type": "markdown",
   "id": "357183b2",
   "metadata": {},
   "source": [
    "#### removes work on value\n",
    "\n",
    "#### pop works on index"
   ]
  },
  {
   "cell_type": "markdown",
   "id": "ec135dab",
   "metadata": {},
   "source": [
    "### clear()"
   ]
  },
  {
   "cell_type": "code",
   "execution_count": 179,
   "id": "cad6d379",
   "metadata": {},
   "outputs": [],
   "source": [
    "givenList = [1,2,3,4,5,6]"
   ]
  },
  {
   "cell_type": "code",
   "execution_count": 180,
   "id": "999f2f8a",
   "metadata": {},
   "outputs": [],
   "source": [
    "givenList.clear()"
   ]
  },
  {
   "cell_type": "code",
   "execution_count": 181,
   "id": "dee56ef6",
   "metadata": {},
   "outputs": [
    {
     "data": {
      "text/plain": [
       "[]"
      ]
     },
     "execution_count": 181,
     "metadata": {},
     "output_type": "execute_result"
    }
   ],
   "source": [
    "givenList"
   ]
  },
  {
   "cell_type": "code",
   "execution_count": 176,
   "id": "79932d5e",
   "metadata": {},
   "outputs": [],
   "source": [
    "del(givenList)"
   ]
  },
  {
   "cell_type": "code",
   "execution_count": 178,
   "id": "0460ff12",
   "metadata": {},
   "outputs": [
    {
     "name": "stdout",
     "output_type": "stream",
     "text": [
      "error encountered: name 'givenList' is not defined\n"
     ]
    }
   ],
   "source": [
    "try:\n",
    "    print(givenList)\n",
    "except Exception as e:\n",
    "    print(f'error encountered: {e}') "
   ]
  },
  {
   "cell_type": "markdown",
   "id": "f41af9db",
   "metadata": {},
   "source": [
    "### delete: deletes the bag itself\n",
    "\n",
    "### clear: clear only empties the bag"
   ]
  },
  {
   "cell_type": "markdown",
   "id": "d2f8ddec",
   "metadata": {},
   "source": [
    "### reverse()"
   ]
  },
  {
   "cell_type": "code",
   "execution_count": 185,
   "id": "bd95dbc7",
   "metadata": {},
   "outputs": [],
   "source": [
    "givenList = [1,20,34,42,555,62]"
   ]
  },
  {
   "cell_type": "code",
   "execution_count": 183,
   "id": "0f6e6dae",
   "metadata": {},
   "outputs": [],
   "source": [
    "givenList.reverse()"
   ]
  },
  {
   "cell_type": "code",
   "execution_count": 184,
   "id": "c86d21d5",
   "metadata": {},
   "outputs": [
    {
     "data": {
      "text/plain": [
       "[62, 555, 42, 34, 20, 1]"
      ]
     },
     "execution_count": 184,
     "metadata": {},
     "output_type": "execute_result"
    }
   ],
   "source": [
    "givenList"
   ]
  },
  {
   "cell_type": "code",
   "execution_count": 187,
   "id": "37798fbe",
   "metadata": {},
   "outputs": [
    {
     "data": {
      "text/plain": [
       "[62, 555, 42, 34, 20, 1]"
      ]
     },
     "execution_count": 187,
     "metadata": {},
     "output_type": "execute_result"
    }
   ],
   "source": [
    "givenList[::-1] # Equivalent to reverse"
   ]
  },
  {
   "cell_type": "markdown",
   "id": "6806a739",
   "metadata": {},
   "source": [
    "### sort()"
   ]
  },
  {
   "cell_type": "code",
   "execution_count": 188,
   "id": "5ddabf9e",
   "metadata": {},
   "outputs": [
    {
     "data": {
      "text/plain": [
       "[1, 20, 34, 42, 555, 62]"
      ]
     },
     "execution_count": 188,
     "metadata": {},
     "output_type": "execute_result"
    }
   ],
   "source": [
    "givenList"
   ]
  },
  {
   "cell_type": "code",
   "execution_count": 189,
   "id": "dc3eab8a",
   "metadata": {},
   "outputs": [],
   "source": [
    "givenList.reverse()"
   ]
  },
  {
   "cell_type": "code",
   "execution_count": 190,
   "id": "71caf4f2",
   "metadata": {},
   "outputs": [
    {
     "data": {
      "text/plain": [
       "[62, 555, 42, 34, 20, 1]"
      ]
     },
     "execution_count": 190,
     "metadata": {},
     "output_type": "execute_result"
    }
   ],
   "source": [
    "givenList"
   ]
  },
  {
   "cell_type": "code",
   "execution_count": 191,
   "id": "bd23b307",
   "metadata": {},
   "outputs": [],
   "source": [
    "givenList.sort()"
   ]
  },
  {
   "cell_type": "code",
   "execution_count": 192,
   "id": "0971938f",
   "metadata": {},
   "outputs": [
    {
     "data": {
      "text/plain": [
       "[1, 20, 34, 42, 62, 555]"
      ]
     },
     "execution_count": 192,
     "metadata": {},
     "output_type": "execute_result"
    }
   ],
   "source": [
    "givenList"
   ]
  },
  {
   "cell_type": "code",
   "execution_count": 199,
   "id": "0509bfd8",
   "metadata": {},
   "outputs": [],
   "source": [
    "givenList.sort(reverse=1)"
   ]
  },
  {
   "cell_type": "code",
   "execution_count": 200,
   "id": "c9deedf1",
   "metadata": {},
   "outputs": [
    {
     "data": {
      "text/plain": [
       "[555, 62, 42, 34, 20, 1]"
      ]
     },
     "execution_count": 200,
     "metadata": {},
     "output_type": "execute_result"
    }
   ],
   "source": [
    "givenList"
   ]
  },
  {
   "cell_type": "markdown",
   "id": "a86ce84a",
   "metadata": {},
   "source": [
    "### copy()"
   ]
  },
  {
   "cell_type": "code",
   "execution_count": 193,
   "id": "2b00f179",
   "metadata": {},
   "outputs": [],
   "source": [
    "givenList = [1,20,34,42,555,62]"
   ]
  },
  {
   "cell_type": "code",
   "execution_count": 194,
   "id": "a124348f",
   "metadata": {},
   "outputs": [],
   "source": [
    "newCopList = givenList.copy()"
   ]
  },
  {
   "cell_type": "code",
   "execution_count": 195,
   "id": "ee222762",
   "metadata": {},
   "outputs": [
    {
     "data": {
      "text/plain": [
       "[1, 20, 34, 42, 555, 62]"
      ]
     },
     "execution_count": 195,
     "metadata": {},
     "output_type": "execute_result"
    }
   ],
   "source": [
    "newCopList"
   ]
  },
  {
   "cell_type": "code",
   "execution_count": 196,
   "id": "df328b2e",
   "metadata": {},
   "outputs": [
    {
     "data": {
      "text/plain": [
       "2138707958208"
      ]
     },
     "execution_count": 196,
     "metadata": {},
     "output_type": "execute_result"
    }
   ],
   "source": [
    "id(givenList)"
   ]
  },
  {
   "cell_type": "code",
   "execution_count": 198,
   "id": "0d752f60",
   "metadata": {},
   "outputs": [
    {
     "data": {
      "text/plain": [
       "2138711009600"
      ]
     },
     "execution_count": 198,
     "metadata": {},
     "output_type": "execute_result"
    }
   ],
   "source": [
    "id(newCopList)"
   ]
  },
  {
   "cell_type": "markdown",
   "id": "91c58bc2",
   "metadata": {},
   "source": [
    "### Shallow Copy"
   ]
  },
  {
   "cell_type": "code",
   "execution_count": 201,
   "id": "efded568",
   "metadata": {},
   "outputs": [],
   "source": [
    "givenList = [1,20,34,42,555,62]"
   ]
  },
  {
   "cell_type": "code",
   "execution_count": 202,
   "id": "daef6ad0",
   "metadata": {},
   "outputs": [],
   "source": [
    "shallowGivenList = givenList"
   ]
  },
  {
   "cell_type": "code",
   "execution_count": 203,
   "id": "173e3684",
   "metadata": {},
   "outputs": [
    {
     "data": {
      "text/plain": [
       "[1, 20, 34, 42, 555, 62]"
      ]
     },
     "execution_count": 203,
     "metadata": {},
     "output_type": "execute_result"
    }
   ],
   "source": [
    "shallowGivenList"
   ]
  },
  {
   "cell_type": "code",
   "execution_count": 204,
   "id": "34724b9c",
   "metadata": {},
   "outputs": [
    {
     "data": {
      "text/plain": [
       "62"
      ]
     },
     "execution_count": 204,
     "metadata": {},
     "output_type": "execute_result"
    }
   ],
   "source": [
    "shallowGivenList.pop()"
   ]
  },
  {
   "cell_type": "code",
   "execution_count": 205,
   "id": "1a5c2890",
   "metadata": {},
   "outputs": [
    {
     "data": {
      "text/plain": [
       "[1, 20, 34, 42, 555]"
      ]
     },
     "execution_count": 205,
     "metadata": {},
     "output_type": "execute_result"
    }
   ],
   "source": [
    "shallowGivenList"
   ]
  },
  {
   "cell_type": "code",
   "execution_count": 206,
   "id": "aa86a349",
   "metadata": {},
   "outputs": [
    {
     "data": {
      "text/plain": [
       "[1, 20, 34, 42, 555]"
      ]
     },
     "execution_count": 206,
     "metadata": {},
     "output_type": "execute_result"
    }
   ],
   "source": [
    "givenList"
   ]
  },
  {
   "cell_type": "code",
   "execution_count": 207,
   "id": "e3ebb407",
   "metadata": {},
   "outputs": [
    {
     "data": {
      "text/plain": [
       "2138702075584"
      ]
     },
     "execution_count": 207,
     "metadata": {},
     "output_type": "execute_result"
    }
   ],
   "source": [
    "id(shallowGivenList)"
   ]
  },
  {
   "cell_type": "code",
   "execution_count": 208,
   "id": "6e971c7a",
   "metadata": {},
   "outputs": [
    {
     "data": {
      "text/plain": [
       "2138702075584"
      ]
     },
     "execution_count": 208,
     "metadata": {},
     "output_type": "execute_result"
    }
   ],
   "source": [
    "id(givenList)"
   ]
  },
  {
   "cell_type": "markdown",
   "id": "a73cde10",
   "metadata": {},
   "source": [
    "### Homework : Deep Copy vs Shallow Copy"
   ]
  }
 ],
 "metadata": {
  "kernelspec": {
   "display_name": "Python 3",
   "language": "python",
   "name": "python3"
  },
  "language_info": {
   "codemirror_mode": {
    "name": "ipython",
    "version": 3
   },
   "file_extension": ".py",
   "mimetype": "text/x-python",
   "name": "python",
   "nbconvert_exporter": "python",
   "pygments_lexer": "ipython3",
   "version": "3.12.0"
  }
 },
 "nbformat": 4,
 "nbformat_minor": 5
}
