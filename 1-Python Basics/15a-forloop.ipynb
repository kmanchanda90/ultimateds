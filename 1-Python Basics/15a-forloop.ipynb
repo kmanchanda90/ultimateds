{
 "cells": [
  {
   "cell_type": "markdown",
   "id": "2d65e313",
   "metadata": {},
   "source": [
    "## for loop"
   ]
  },
  {
   "cell_type": "code",
   "execution_count": null,
   "id": "c509a946",
   "metadata": {},
   "outputs": [
    {
     "name": "stdout",
     "output_type": "stream",
     "text": [
      "a\n",
      "b\n",
      "c\n"
     ]
    }
   ],
   "source": [
    "# while loop where we use index\n",
    "s = 'abc'\n",
    "\n",
    "start = 0\n",
    "\n",
    "while start<len(s):\n",
    "    print(s[start])\n",
    "    start+=1"
   ]
  },
  {
   "cell_type": "code",
   "execution_count": 2,
   "id": "814156b2",
   "metadata": {},
   "outputs": [
    {
     "name": "stdout",
     "output_type": "stream",
     "text": [
      "a\n",
      "b\n",
      "c\n"
     ]
    }
   ],
   "source": [
    "for elem in s:\n",
    "    print(elem)"
   ]
  },
  {
   "cell_type": "code",
   "execution_count": null,
   "id": "e3b32e6d",
   "metadata": {},
   "outputs": [],
   "source": [
    "for some_var in iterable:\n",
    "    #loop body"
   ]
  },
  {
   "cell_type": "code",
   "execution_count": 8,
   "id": "a5670871",
   "metadata": {},
   "outputs": [
    {
     "name": "stdout",
     "output_type": "stream",
     "text": [
      "Number is: -2\n",
      "Number is: -1\n",
      "Number is: 0\n",
      "Number is: 1\n"
     ]
    }
   ],
   "source": [
    "start = [-2,-1,0,1]\n",
    "\n",
    "for number in start:\n",
    "    print(f'Number is: {number}')\n",
    "#     if(number==0):\n",
    "#         continue\n",
    "\n",
    "#     print(100/number)\n",
    "\n",
    "# print(\"I am outside of loop\")    "
   ]
  },
  {
   "cell_type": "code",
   "execution_count": 10,
   "id": "fa00a6b1",
   "metadata": {},
   "outputs": [
    {
     "name": "stdout",
     "output_type": "stream",
     "text": [
      "Number is: 0\n",
      "5\n",
      "Number is: 1\n",
      "6\n"
     ]
    }
   ],
   "source": [
    "start = [0,1]\n",
    "\n",
    "for number in start:\n",
    "    print(f'Number is: {number}')\n",
    "    number+=5\n",
    "    print(number)"
   ]
  },
  {
   "cell_type": "code",
   "execution_count": 13,
   "id": "9e062305",
   "metadata": {},
   "outputs": [
    {
     "name": "stdout",
     "output_type": "stream",
     "text": [
      "Number is: 0\n",
      "Inside the loop: Now number has become 5\n",
      "Number is: 0\n",
      "Inside the loop: Now number has become 5\n"
     ]
    }
   ],
   "source": [
    "start = [0,0]\n",
    "\n",
    "for number in start: # we pick the values from the iterable at the beginning of each iteration. No effect of any changes within the iteration\n",
    "    print(f'Number is: {number}')\n",
    "    number+=5\n",
    "    print(f'Inside the loop: Now number has become {number}')"
   ]
  },
  {
   "cell_type": "code",
   "execution_count": 16,
   "id": "3b955580",
   "metadata": {},
   "outputs": [
    {
     "name": "stdout",
     "output_type": "stream",
     "text": [
      "Character = p\n",
      "Character = y\n",
      "Character = t\n",
      "Character = h\n",
      "Character = o\n",
      "Character = n\n"
     ]
    }
   ],
   "source": [
    "name = 'python'\n",
    "\n",
    "for char in name:\n",
    "    print(f'Character = {char}')"
   ]
  },
  {
   "cell_type": "code",
   "execution_count": null,
   "id": "2f59c4e0",
   "metadata": {},
   "outputs": [
    {
     "name": "stdout",
     "output_type": "stream",
     "text": [
      "Character = p\n",
      "Character = t\n",
      "Character = o\n"
     ]
    }
   ],
   "source": [
    "# Option 1 - Alternate values\n",
    "name = 'python'\n",
    "\n",
    "for char in name[::2]:\n",
    "    print(f'Character = {char}')"
   ]
  },
  {
   "cell_type": "code",
   "execution_count": null,
   "id": "082612c3",
   "metadata": {},
   "outputs": [
    {
     "name": "stdout",
     "output_type": "stream",
     "text": [
      "Character = p\n",
      "Character = t\n",
      "Character = o\n"
     ]
    }
   ],
   "source": [
    "# Option 2 - Alternate values\n",
    "name = 'python'\n",
    "alt = True\n",
    "\n",
    "for char in name:\n",
    "    alt= not alt\n",
    "    if(alt==True):\n",
    "        continue\n",
    "    print(f'Character = {char}')"
   ]
  },
  {
   "cell_type": "code",
   "execution_count": 27,
   "id": "cd707a1f",
   "metadata": {},
   "outputs": [
    {
     "name": "stdout",
     "output_type": "stream",
     "text": [
      "Character = p\n",
      "Character = t\n",
      "Character = o\n"
     ]
    }
   ],
   "source": [
    "# Option 3 - Alternate values\n",
    "name = 'python'\n",
    "alt = 1\n",
    "\n",
    "for char in name:\n",
    "    alt+=1\n",
    "    if(alt%2!=0):\n",
    "        continue\n",
    "    print(f'Character = {char}')"
   ]
  },
  {
   "cell_type": "code",
   "execution_count": 28,
   "id": "2af52922",
   "metadata": {},
   "outputs": [
    {
     "name": "stdout",
     "output_type": "stream",
     "text": [
      "1\n",
      "2\n",
      "3\n",
      "4\n",
      "5\n"
     ]
    }
   ],
   "source": [
    "for i in [1,2,3,4,5]:\n",
    "    print(i)"
   ]
  },
  {
   "cell_type": "code",
   "execution_count": 29,
   "id": "181de525",
   "metadata": {},
   "outputs": [
    {
     "name": "stdout",
     "output_type": "stream",
     "text": [
      "1\n",
      "3\n",
      "5\n"
     ]
    }
   ],
   "source": [
    "for i in [1,2,3,4,5]:\n",
    "    if i%2==0:\n",
    "        continue\n",
    "    print(i)"
   ]
  },
  {
   "cell_type": "code",
   "execution_count": 30,
   "id": "cf62aaa7",
   "metadata": {},
   "outputs": [
    {
     "name": "stdout",
     "output_type": "stream",
     "text": [
      "1\n"
     ]
    }
   ],
   "source": [
    "for i in [1,2,3,4,5]:\n",
    "    if i%2==0:\n",
    "        break\n",
    "    print(i)"
   ]
  },
  {
   "cell_type": "code",
   "execution_count": 31,
   "id": "82341900",
   "metadata": {},
   "outputs": [],
   "source": [
    "emailList = [\"abc@gmail.com\",\"def@gmail.com\",\"mno@gmail.com\"]"
   ]
  },
  {
   "cell_type": "code",
   "execution_count": null,
   "id": "51f4ead5",
   "metadata": {},
   "outputs": [
    {
     "name": "stdout",
     "output_type": "stream",
     "text": [
      "abc\n",
      "def\n",
      "mno\n"
     ]
    }
   ],
   "source": [
    "# Option 1 - Email without domain\n",
    "for email in emailList:\n",
    "    print(email.split('@gmail.com')[0])"
   ]
  },
  {
   "cell_type": "code",
   "execution_count": null,
   "id": "cf0265d3",
   "metadata": {},
   "outputs": [
    {
     "name": "stdout",
     "output_type": "stream",
     "text": [
      "abc\n",
      "def\n",
      "mno\n"
     ]
    }
   ],
   "source": [
    "# Option 2 - Email without domain\n",
    "for email in emailList:\n",
    "    print(email[:3])"
   ]
  }
 ],
 "metadata": {
  "kernelspec": {
   "display_name": "Python 3",
   "language": "python",
   "name": "python3"
  },
  "language_info": {
   "codemirror_mode": {
    "name": "ipython",
    "version": 3
   },
   "file_extension": ".py",
   "mimetype": "text/x-python",
   "name": "python",
   "nbconvert_exporter": "python",
   "pygments_lexer": "ipython3",
   "version": "3.12.0"
  }
 },
 "nbformat": 4,
 "nbformat_minor": 5
}
