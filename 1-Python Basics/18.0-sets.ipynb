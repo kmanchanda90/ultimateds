{
 "cells": [
  {
   "cell_type": "markdown",
   "id": "95799270",
   "metadata": {},
   "source": [
    "## Sets"
   ]
  },
  {
   "cell_type": "code",
   "execution_count": 1,
   "id": "38966861",
   "metadata": {},
   "outputs": [],
   "source": [
    "s1 = {1,2,3,1}"
   ]
  },
  {
   "cell_type": "code",
   "execution_count": 2,
   "id": "dd8bfe80",
   "metadata": {},
   "outputs": [
    {
     "data": {
      "text/plain": [
       "{1, 2, 3}"
      ]
     },
     "execution_count": 2,
     "metadata": {},
     "output_type": "execute_result"
    }
   ],
   "source": [
    "s1"
   ]
  },
  {
   "cell_type": "code",
   "execution_count": 3,
   "id": "68dce66c",
   "metadata": {},
   "outputs": [
    {
     "data": {
      "text/plain": [
       "set"
      ]
     },
     "execution_count": 3,
     "metadata": {},
     "output_type": "execute_result"
    }
   ],
   "source": [
    "type(s1)"
   ]
  },
  {
   "cell_type": "code",
   "execution_count": 4,
   "id": "5b3cc5f3",
   "metadata": {},
   "outputs": [
    {
     "name": "stdout",
     "output_type": "stream",
     "text": [
      "'set' object is not subscriptable\n"
     ]
    }
   ],
   "source": [
    "try:\n",
    "    s1[0]\n",
    "except Exception as e:\n",
    "    print(e)"
   ]
  },
  {
   "cell_type": "code",
   "execution_count": null,
   "id": "96a7518f",
   "metadata": {},
   "outputs": [],
   "source": [
    "set([1,1,2,3,1,4,6])"
   ]
  },
  {
   "cell_type": "code",
   "execution_count": null,
   "id": "93d982c5",
   "metadata": {},
   "outputs": [
    {
     "name": "stdout",
     "output_type": "stream",
     "text": [
      "1\n",
      "2\n",
      "3\n"
     ]
    }
   ],
   "source": [
    "for i in s1: # set is iterable but not ordered\n",
    "    print(i)"
   ]
  },
  {
   "cell_type": "code",
   "execution_count": 6,
   "id": "6888ba5b",
   "metadata": {},
   "outputs": [
    {
     "data": {
      "text/plain": [
       "(1, 2, 3)"
      ]
     },
     "execution_count": 6,
     "metadata": {},
     "output_type": "execute_result"
    }
   ],
   "source": [
    "tuple(s1)"
   ]
  },
  {
   "cell_type": "code",
   "execution_count": 7,
   "id": "747d924e",
   "metadata": {},
   "outputs": [],
   "source": [
    "s2 = {4,5,6,1,31,True}"
   ]
  },
  {
   "cell_type": "code",
   "execution_count": 8,
   "id": "8ee56078",
   "metadata": {},
   "outputs": [
    {
     "data": {
      "text/plain": [
       "{1, 4, 5, 6, 31}"
      ]
     },
     "execution_count": 8,
     "metadata": {},
     "output_type": "execute_result"
    }
   ],
   "source": [
    "s2"
   ]
  },
  {
   "cell_type": "code",
   "execution_count": 9,
   "id": "6ac55ad0",
   "metadata": {},
   "outputs": [
    {
     "data": {
      "text/plain": [
       "5"
      ]
     },
     "execution_count": 9,
     "metadata": {},
     "output_type": "execute_result"
    }
   ],
   "source": [
    "len(s2)"
   ]
  },
  {
   "cell_type": "code",
   "execution_count": 12,
   "id": "df6d3ca0",
   "metadata": {},
   "outputs": [
    {
     "data": {
      "text/plain": [
       "3"
      ]
     },
     "execution_count": 12,
     "metadata": {},
     "output_type": "execute_result"
    }
   ],
   "source": [
    "s3=set((1,2,3))\n",
    "len(s3)"
   ]
  },
  {
   "cell_type": "markdown",
   "id": "35a0ddd4",
   "metadata": {},
   "source": [
    "## Function for Set"
   ]
  },
  {
   "cell_type": "code",
   "execution_count": 13,
   "id": "0e2a5a0f",
   "metadata": {},
   "outputs": [],
   "source": [
    "s3.add('4')"
   ]
  },
  {
   "cell_type": "code",
   "execution_count": 14,
   "id": "a5d151c6",
   "metadata": {},
   "outputs": [
    {
     "data": {
      "text/plain": [
       "{1, 2, 3, '4'}"
      ]
     },
     "execution_count": 14,
     "metadata": {},
     "output_type": "execute_result"
    }
   ],
   "source": [
    "s3"
   ]
  },
  {
   "cell_type": "code",
   "execution_count": 15,
   "id": "6bf201dc",
   "metadata": {},
   "outputs": [],
   "source": [
    "s5 = {1,2,True,'mayank'}"
   ]
  },
  {
   "cell_type": "code",
   "execution_count": 16,
   "id": "538a50db",
   "metadata": {},
   "outputs": [
    {
     "data": {
      "text/plain": [
       "{1, 2, 'mayank'}"
      ]
     },
     "execution_count": 16,
     "metadata": {},
     "output_type": "execute_result"
    }
   ],
   "source": [
    "s5"
   ]
  },
  {
   "cell_type": "markdown",
   "id": "aeff119c",
   "metadata": {},
   "source": [
    "## Sets Method\n",
    "\n",
    "- add()\n",
    "- clear()\n",
    "- copy()\n",
    "- pop()\n",
    "- remove()\n",
    "- difference()\n",
    "- update()"
   ]
  },
  {
   "cell_type": "markdown",
   "id": "04654b1e",
   "metadata": {},
   "source": [
    "### add()"
   ]
  },
  {
   "cell_type": "code",
   "execution_count": 17,
   "id": "74e4fa01",
   "metadata": {},
   "outputs": [
    {
     "data": {
      "text/plain": [
       "{1, 2, 'mayank'}"
      ]
     },
     "execution_count": 17,
     "metadata": {},
     "output_type": "execute_result"
    }
   ],
   "source": [
    "s5"
   ]
  },
  {
   "cell_type": "code",
   "execution_count": 18,
   "id": "5e4a26cb",
   "metadata": {},
   "outputs": [],
   "source": [
    "s5.add(3)"
   ]
  },
  {
   "cell_type": "code",
   "execution_count": 19,
   "id": "18cb730b",
   "metadata": {},
   "outputs": [
    {
     "data": {
      "text/plain": [
       "{1, 2, 3, 'mayank'}"
      ]
     },
     "execution_count": 19,
     "metadata": {},
     "output_type": "execute_result"
    }
   ],
   "source": [
    "s5"
   ]
  },
  {
   "cell_type": "code",
   "execution_count": 22,
   "id": "182ea289",
   "metadata": {},
   "outputs": [],
   "source": [
    "s5.add(1)"
   ]
  },
  {
   "cell_type": "code",
   "execution_count": 23,
   "id": "d0c5a6ac",
   "metadata": {},
   "outputs": [
    {
     "data": {
      "text/plain": [
       "{1, 2, 3, 'mayank'}"
      ]
     },
     "execution_count": 23,
     "metadata": {},
     "output_type": "execute_result"
    }
   ],
   "source": [
    "s5"
   ]
  },
  {
   "cell_type": "code",
   "execution_count": 24,
   "id": "0cb2cad4",
   "metadata": {},
   "outputs": [],
   "source": [
    "s5.add(True)"
   ]
  },
  {
   "cell_type": "code",
   "execution_count": 25,
   "id": "34e22ef7",
   "metadata": {},
   "outputs": [
    {
     "data": {
      "text/plain": [
       "{1, 2, 3, 'mayank'}"
      ]
     },
     "execution_count": 25,
     "metadata": {},
     "output_type": "execute_result"
    }
   ],
   "source": [
    "s5"
   ]
  },
  {
   "cell_type": "markdown",
   "id": "97141917",
   "metadata": {},
   "source": [
    "### copy()"
   ]
  },
  {
   "cell_type": "code",
   "execution_count": 26,
   "id": "cab3af51",
   "metadata": {},
   "outputs": [
    {
     "data": {
      "text/plain": [
       "{1, 2, 3, 'mayank'}"
      ]
     },
     "execution_count": 26,
     "metadata": {},
     "output_type": "execute_result"
    }
   ],
   "source": [
    "s5"
   ]
  },
  {
   "cell_type": "code",
   "execution_count": 27,
   "id": "87c1692f",
   "metadata": {},
   "outputs": [],
   "source": [
    "s6 = s5.copy()"
   ]
  },
  {
   "cell_type": "code",
   "execution_count": 28,
   "id": "5e1520ff",
   "metadata": {},
   "outputs": [
    {
     "data": {
      "text/plain": [
       "{1, 2, 3, 'mayank'}"
      ]
     },
     "execution_count": 28,
     "metadata": {},
     "output_type": "execute_result"
    }
   ],
   "source": [
    "s6"
   ]
  },
  {
   "cell_type": "code",
   "execution_count": 29,
   "id": "4731e647",
   "metadata": {},
   "outputs": [
    {
     "name": "stdout",
     "output_type": "stream",
     "text": [
      "1730673622624\n",
      "1730673622176\n"
     ]
    }
   ],
   "source": [
    "print(id(s5))\n",
    "print(id(s6))"
   ]
  },
  {
   "cell_type": "code",
   "execution_count": 30,
   "id": "99ad8da4",
   "metadata": {},
   "outputs": [],
   "source": [
    "s5.add(65)"
   ]
  },
  {
   "cell_type": "code",
   "execution_count": 31,
   "id": "1559873e",
   "metadata": {},
   "outputs": [
    {
     "data": {
      "text/plain": [
       "{1, 2, 3, 65, 'mayank'}"
      ]
     },
     "execution_count": 31,
     "metadata": {},
     "output_type": "execute_result"
    }
   ],
   "source": [
    "s5"
   ]
  },
  {
   "cell_type": "code",
   "execution_count": 32,
   "id": "b182b459",
   "metadata": {},
   "outputs": [
    {
     "data": {
      "text/plain": [
       "{1, 2, 3, 'mayank'}"
      ]
     },
     "execution_count": 32,
     "metadata": {},
     "output_type": "execute_result"
    }
   ],
   "source": [
    "s6"
   ]
  },
  {
   "cell_type": "code",
   "execution_count": 33,
   "id": "e05513fb",
   "metadata": {},
   "outputs": [],
   "source": [
    "s7 = s5"
   ]
  },
  {
   "cell_type": "code",
   "execution_count": 34,
   "id": "644d11ac",
   "metadata": {},
   "outputs": [
    {
     "data": {
      "text/plain": [
       "{1, 2, 3, 65, 'mayank'}"
      ]
     },
     "execution_count": 34,
     "metadata": {},
     "output_type": "execute_result"
    }
   ],
   "source": [
    "s7"
   ]
  },
  {
   "cell_type": "code",
   "execution_count": 35,
   "id": "7940236b",
   "metadata": {},
   "outputs": [
    {
     "name": "stdout",
     "output_type": "stream",
     "text": [
      "1730673622624\n",
      "1730673622624\n"
     ]
    }
   ],
   "source": [
    "print(id(s5))\n",
    "print(id(s7))"
   ]
  },
  {
   "cell_type": "code",
   "execution_count": 36,
   "id": "10f097d8",
   "metadata": {},
   "outputs": [],
   "source": [
    "s7.add(64)"
   ]
  },
  {
   "cell_type": "code",
   "execution_count": 37,
   "id": "c0f963e1",
   "metadata": {},
   "outputs": [
    {
     "data": {
      "text/plain": [
       "{1, 2, 3, 64, 65, 'mayank'}"
      ]
     },
     "execution_count": 37,
     "metadata": {},
     "output_type": "execute_result"
    }
   ],
   "source": [
    "s5"
   ]
  },
  {
   "cell_type": "code",
   "execution_count": 38,
   "id": "a6f6276e",
   "metadata": {},
   "outputs": [],
   "source": [
    "s8 = s5.copy()"
   ]
  },
  {
   "cell_type": "code",
   "execution_count": 39,
   "id": "9b408139",
   "metadata": {},
   "outputs": [
    {
     "name": "stdout",
     "output_type": "stream",
     "text": [
      "1730673622624\n",
      "1730673621056\n"
     ]
    }
   ],
   "source": [
    "print(id(s5))\n",
    "print(id(s8))"
   ]
  },
  {
   "cell_type": "code",
   "execution_count": 40,
   "id": "db05122a",
   "metadata": {},
   "outputs": [
    {
     "name": "stdout",
     "output_type": "stream",
     "text": [
      "140703147643288\n",
      "140703147641272\n",
      "140703147641304\n",
      "140703147641336\n",
      "140703147643320\n",
      "1730673522416\n"
     ]
    }
   ],
   "source": [
    "for i in s5:\n",
    "    print(id(i))"
   ]
  },
  {
   "cell_type": "code",
   "execution_count": 41,
   "id": "c7cf67ca",
   "metadata": {},
   "outputs": [
    {
     "name": "stdout",
     "output_type": "stream",
     "text": [
      "140703147643288\n",
      "140703147641272\n",
      "140703147641304\n",
      "140703147641336\n",
      "140703147643320\n",
      "1730673522416\n"
     ]
    }
   ],
   "source": [
    "for i in s8:\n",
    "    print(id(i))"
   ]
  },
  {
   "cell_type": "code",
   "execution_count": 42,
   "id": "aa7ccb22",
   "metadata": {},
   "outputs": [],
   "source": [
    "s8.add(5454)"
   ]
  },
  {
   "cell_type": "code",
   "execution_count": 43,
   "id": "14bb54e2",
   "metadata": {},
   "outputs": [
    {
     "data": {
      "text/plain": [
       "{1, 2, 3, 64, 65, 'mayank'}"
      ]
     },
     "execution_count": 43,
     "metadata": {},
     "output_type": "execute_result"
    }
   ],
   "source": [
    "s5"
   ]
  },
  {
   "cell_type": "code",
   "execution_count": 44,
   "id": "e0e39583",
   "metadata": {},
   "outputs": [
    {
     "data": {
      "text/plain": [
       "{1, 2, 3, 5454, 64, 65, 'mayank'}"
      ]
     },
     "execution_count": 44,
     "metadata": {},
     "output_type": "execute_result"
    }
   ],
   "source": [
    "s8"
   ]
  },
  {
   "cell_type": "code",
   "execution_count": 45,
   "id": "be0dd421",
   "metadata": {},
   "outputs": [
    {
     "name": "stdout",
     "output_type": "stream",
     "text": [
      "140703147643288\n",
      "140703147641272\n",
      "140703147641304\n",
      "140703147641336\n",
      "140703147643320\n",
      "1730673522416\n"
     ]
    }
   ],
   "source": [
    "for i in s5:\n",
    "    print(id(i))"
   ]
  },
  {
   "cell_type": "code",
   "execution_count": 46,
   "id": "5753b2d8",
   "metadata": {},
   "outputs": [
    {
     "name": "stdout",
     "output_type": "stream",
     "text": [
      "140703147643288\n",
      "140703147641272\n",
      "140703147641304\n",
      "140703147641336\n",
      "140703147643320\n",
      "1730673522416\n",
      "1730679653584\n"
     ]
    }
   ],
   "source": [
    "for i in s8:\n",
    "    print(id(i))"
   ]
  },
  {
   "cell_type": "markdown",
   "id": "79221a7b",
   "metadata": {},
   "source": [
    "set Methods\n",
    "\n",
    "- add()\n",
    "- clear()\n",
    "- copy()\n",
    "- pop()\n",
    "- remove()\n",
    "- difference()\n",
    "- update()"
   ]
  },
  {
   "cell_type": "markdown",
   "id": "4d7d5be1",
   "metadata": {},
   "source": [
    "### add()"
   ]
  },
  {
   "cell_type": "code",
   "execution_count": 1,
   "id": "5d7c1c4a",
   "metadata": {},
   "outputs": [],
   "source": [
    "s1 = {1,2,3}"
   ]
  },
  {
   "cell_type": "code",
   "execution_count": 2,
   "id": "56ba1e74",
   "metadata": {},
   "outputs": [],
   "source": [
    "s1.add(4)"
   ]
  },
  {
   "cell_type": "code",
   "execution_count": 3,
   "id": "7f2c2fe9",
   "metadata": {},
   "outputs": [
    {
     "data": {
      "text/plain": [
       "{1, 2, 3, 4}"
      ]
     },
     "execution_count": 3,
     "metadata": {},
     "output_type": "execute_result"
    }
   ],
   "source": [
    "s1"
   ]
  },
  {
   "cell_type": "markdown",
   "id": "744438c1",
   "metadata": {},
   "source": [
    "### copy()"
   ]
  },
  {
   "cell_type": "code",
   "execution_count": 4,
   "id": "243b1911",
   "metadata": {},
   "outputs": [],
   "source": [
    "s2 = s1.copy()"
   ]
  },
  {
   "cell_type": "code",
   "execution_count": 5,
   "id": "ad93e123",
   "metadata": {},
   "outputs": [
    {
     "name": "stdout",
     "output_type": "stream",
     "text": [
      "{1, 2, 3, 4}\n",
      "{1, 2, 3, 4}\n"
     ]
    }
   ],
   "source": [
    "print(s2,s1,sep=\"\\n\")"
   ]
  },
  {
   "cell_type": "code",
   "execution_count": 6,
   "id": "e721a545",
   "metadata": {},
   "outputs": [],
   "source": [
    "s1.add(5)"
   ]
  },
  {
   "cell_type": "code",
   "execution_count": 7,
   "id": "f60b4405",
   "metadata": {},
   "outputs": [
    {
     "name": "stdout",
     "output_type": "stream",
     "text": [
      "{1, 2, 3, 4}\n",
      "{1, 2, 3, 4, 5}\n"
     ]
    }
   ],
   "source": [
    "print(s2,s1,sep=\"\\n\")"
   ]
  },
  {
   "cell_type": "code",
   "execution_count": 8,
   "id": "8a9c8fe4",
   "metadata": {},
   "outputs": [],
   "source": [
    "s2.add(6)"
   ]
  },
  {
   "cell_type": "code",
   "execution_count": 9,
   "id": "749798b4",
   "metadata": {},
   "outputs": [
    {
     "name": "stdout",
     "output_type": "stream",
     "text": [
      "{1, 2, 3, 4, 6}\n",
      "{1, 2, 3, 4, 5}\n"
     ]
    }
   ],
   "source": [
    "print(s2,s1,sep=\"\\n\")"
   ]
  },
  {
   "cell_type": "code",
   "execution_count": 10,
   "id": "f861e159",
   "metadata": {},
   "outputs": [
    {
     "name": "stdout",
     "output_type": "stream",
     "text": [
      "140703148493240\n",
      "140703148493272\n",
      "140703148493304\n",
      "140703148493336\n",
      "140703148493368\n"
     ]
    }
   ],
   "source": [
    "for i in s1:\n",
    "    print(id(i))"
   ]
  },
  {
   "cell_type": "code",
   "execution_count": 11,
   "id": "2a747362",
   "metadata": {},
   "outputs": [
    {
     "name": "stdout",
     "output_type": "stream",
     "text": [
      "140703148493240\n",
      "140703148493272\n",
      "140703148493304\n",
      "140703148493336\n",
      "140703148493400\n"
     ]
    }
   ],
   "source": [
    "for i in s2:\n",
    "    print(id(i))"
   ]
  },
  {
   "cell_type": "code",
   "execution_count": 13,
   "id": "70d62553",
   "metadata": {},
   "outputs": [
    {
     "name": "stdout",
     "output_type": "stream",
     "text": [
      "2402581528160\n",
      "2402581527712\n"
     ]
    }
   ],
   "source": [
    "print(id(s1))\n",
    "print(id(s2))"
   ]
  },
  {
   "cell_type": "markdown",
   "id": "c3690757",
   "metadata": {},
   "source": [
    "### clear()"
   ]
  },
  {
   "cell_type": "code",
   "execution_count": 14,
   "id": "17ee0763",
   "metadata": {},
   "outputs": [
    {
     "data": {
      "text/plain": [
       "{1, 2, 3, 4, 5}"
      ]
     },
     "execution_count": 14,
     "metadata": {},
     "output_type": "execute_result"
    }
   ],
   "source": [
    "s1"
   ]
  },
  {
   "cell_type": "code",
   "execution_count": 15,
   "id": "c961757f",
   "metadata": {},
   "outputs": [],
   "source": [
    "s1.clear()"
   ]
  },
  {
   "cell_type": "code",
   "execution_count": 16,
   "id": "a792205e",
   "metadata": {},
   "outputs": [
    {
     "data": {
      "text/plain": [
       "set()"
      ]
     },
     "execution_count": 16,
     "metadata": {},
     "output_type": "execute_result"
    }
   ],
   "source": [
    "s1"
   ]
  },
  {
   "cell_type": "code",
   "execution_count": 17,
   "id": "09cc572f",
   "metadata": {},
   "outputs": [],
   "source": [
    "del(s1)"
   ]
  },
  {
   "cell_type": "code",
   "execution_count": 19,
   "id": "9d268819",
   "metadata": {},
   "outputs": [
    {
     "name": "stdout",
     "output_type": "stream",
     "text": [
      "name 's1' is not defined\n"
     ]
    }
   ],
   "source": [
    "try:\n",
    "    s1\n",
    "except Exception as e:\n",
    "    print(e)"
   ]
  },
  {
   "cell_type": "markdown",
   "id": "a2392907",
   "metadata": {},
   "source": [
    "### pop()"
   ]
  },
  {
   "cell_type": "code",
   "execution_count": 10,
   "id": "796cd413",
   "metadata": {},
   "outputs": [],
   "source": [
    "s1 = {1,2,3}"
   ]
  },
  {
   "cell_type": "code",
   "execution_count": 11,
   "id": "e9d0b466",
   "metadata": {},
   "outputs": [
    {
     "data": {
      "text/plain": [
       "1"
      ]
     },
     "execution_count": 11,
     "metadata": {},
     "output_type": "execute_result"
    }
   ],
   "source": [
    "s1.pop()"
   ]
  },
  {
   "cell_type": "markdown",
   "id": "b941fe36",
   "metadata": {},
   "source": [
    "'''\n",
    "Docstring:\n",
    "Remove and return an arbitrary set element.\n",
    "Raises KeyError if the set is empty.\n",
    "\n",
    "Set don't have a sequence\n",
    "'''"
   ]
  },
  {
   "cell_type": "code",
   "execution_count": 12,
   "id": "a7719df3",
   "metadata": {},
   "outputs": [
    {
     "data": {
      "text/plain": [
       "{2, 3}"
      ]
     },
     "execution_count": 12,
     "metadata": {},
     "output_type": "execute_result"
    }
   ],
   "source": [
    "s1"
   ]
  },
  {
   "cell_type": "code",
   "execution_count": 13,
   "id": "0bd8dcaa",
   "metadata": {},
   "outputs": [
    {
     "name": "stdout",
     "output_type": "stream",
     "text": [
      "2\n",
      "3\n"
     ]
    }
   ],
   "source": [
    "# You want to empty a set and also wants to manipulate the set values\n",
    "while (len(s1) !=0):\n",
    "    ele = s1.pop()\n",
    "    print(ele)"
   ]
  },
  {
   "cell_type": "code",
   "execution_count": 14,
   "id": "b897a123",
   "metadata": {},
   "outputs": [
    {
     "data": {
      "text/plain": [
       "0"
      ]
     },
     "execution_count": 14,
     "metadata": {},
     "output_type": "execute_result"
    }
   ],
   "source": [
    "len(s1)"
   ]
  },
  {
   "cell_type": "markdown",
   "id": "3f8b6279",
   "metadata": {},
   "source": [
    "### remove()"
   ]
  },
  {
   "cell_type": "code",
   "execution_count": 15,
   "id": "16d2c1c2",
   "metadata": {},
   "outputs": [],
   "source": [
    "s1 = {1,2,3}"
   ]
  },
  {
   "cell_type": "code",
   "execution_count": 16,
   "id": "ece31faf",
   "metadata": {},
   "outputs": [],
   "source": [
    "s1.remove(2)"
   ]
  },
  {
   "cell_type": "code",
   "execution_count": 17,
   "id": "0edcf1b6",
   "metadata": {},
   "outputs": [
    {
     "data": {
      "text/plain": [
       "{1, 3}"
      ]
     },
     "execution_count": 17,
     "metadata": {},
     "output_type": "execute_result"
    }
   ],
   "source": [
    "s1"
   ]
  },
  {
   "cell_type": "code",
   "execution_count": 18,
   "id": "d073a223",
   "metadata": {},
   "outputs": [
    {
     "name": "stdout",
     "output_type": "stream",
     "text": [
      "12\n"
     ]
    }
   ],
   "source": [
    "try:\n",
    "    s1.remove(12)\n",
    "except Exception as e:\n",
    "    print(e)"
   ]
  },
  {
   "cell_type": "markdown",
   "id": "dae03f1b",
   "metadata": {},
   "source": [
    "### difference"
   ]
  },
  {
   "cell_type": "code",
   "execution_count": 24,
   "id": "b68ebfbc",
   "metadata": {},
   "outputs": [],
   "source": [
    "s1 = {1,2,3}"
   ]
  },
  {
   "cell_type": "code",
   "execution_count": 25,
   "id": "8b3b8b23",
   "metadata": {},
   "outputs": [],
   "source": [
    "s2 = {2,3,4}"
   ]
  },
  {
   "cell_type": "code",
   "execution_count": 21,
   "id": "b2994dc3",
   "metadata": {},
   "outputs": [
    {
     "data": {
      "text/plain": [
       "{1}"
      ]
     },
     "execution_count": 21,
     "metadata": {},
     "output_type": "execute_result"
    }
   ],
   "source": [
    "'''\n",
    "Return the difference of two or more sets as a new set.\n",
    "\n",
    "(i.e. all elements that are in this set but not the others.)\n",
    "'''\n",
    "s1.difference(s2)"
   ]
  },
  {
   "cell_type": "code",
   "execution_count": null,
   "id": "723ef110",
   "metadata": {},
   "outputs": [],
   "source": [
    "'''\n",
    "Remove all elements of another set from this set\n",
    "'''\n",
    "\n",
    "s1.difference_update(s2)"
   ]
  },
  {
   "cell_type": "code",
   "execution_count": 23,
   "id": "5bf60dea",
   "metadata": {},
   "outputs": [
    {
     "data": {
      "text/plain": [
       "{1}"
      ]
     },
     "execution_count": 23,
     "metadata": {},
     "output_type": "execute_result"
    }
   ],
   "source": [
    "s1"
   ]
  },
  {
   "cell_type": "code",
   "execution_count": 30,
   "id": "7fe0cb0d",
   "metadata": {},
   "outputs": [],
   "source": [
    "s3 = {8,9,10}"
   ]
  },
  {
   "cell_type": "code",
   "execution_count": 31,
   "id": "6dede66c",
   "metadata": {},
   "outputs": [],
   "source": [
    "s4 = {11,12,8,9}"
   ]
  },
  {
   "cell_type": "code",
   "execution_count": null,
   "id": "6dd5b771",
   "metadata": {},
   "outputs": [],
   "source": [
    "s3.update(s4) # s3 is updated with union"
   ]
  },
  {
   "cell_type": "code",
   "execution_count": 29,
   "id": "e14d03b0",
   "metadata": {},
   "outputs": [
    {
     "data": {
      "text/plain": [
       "{8, 9, 10, 11, 12}"
      ]
     },
     "execution_count": 29,
     "metadata": {},
     "output_type": "execute_result"
    }
   ],
   "source": [
    "s3"
   ]
  },
  {
   "cell_type": "code",
   "execution_count": null,
   "id": "4c006377",
   "metadata": {},
   "outputs": [
    {
     "data": {
      "text/plain": [
       "{8, 9, 10, 11, 12}"
      ]
     },
     "execution_count": 32,
     "metadata": {},
     "output_type": "execute_result"
    }
   ],
   "source": [
    "s3.union(s4) # just returning\n",
    "# s3 is not updated"
   ]
  },
  {
   "cell_type": "code",
   "execution_count": 33,
   "id": "473c753b",
   "metadata": {},
   "outputs": [
    {
     "data": {
      "text/plain": [
       "{8, 9, 10}"
      ]
     },
     "execution_count": 33,
     "metadata": {},
     "output_type": "execute_result"
    }
   ],
   "source": [
    "s3"
   ]
  }
 ],
 "metadata": {
  "kernelspec": {
   "display_name": "Python 3",
   "language": "python",
   "name": "python3"
  },
  "language_info": {
   "codemirror_mode": {
    "name": "ipython",
    "version": 3
   },
   "file_extension": ".py",
   "mimetype": "text/x-python",
   "name": "python",
   "nbconvert_exporter": "python",
   "pygments_lexer": "ipython3",
   "version": "3.12.0"
  }
 },
 "nbformat": 4,
 "nbformat_minor": 5
}
