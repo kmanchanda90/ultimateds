{
 "cells": [
  {
   "cell_type": "code",
   "execution_count": 1,
   "id": "33da1a6e",
   "metadata": {},
   "outputs": [
    {
     "name": "stdout",
     "output_type": "stream",
     "text": [
      "Hello World!\n"
     ]
    }
   ],
   "source": [
    "print(\"Hello World!\")"
   ]
  },
  {
   "cell_type": "markdown",
   "id": "c4fbf83f",
   "metadata": {},
   "source": [
    "### Hello"
   ]
  },
  {
   "cell_type": "code",
   "execution_count": 2,
   "id": "c7bb3eeb",
   "metadata": {},
   "outputs": [
    {
     "name": "stdout",
     "output_type": "stream",
     "text": [
      "Hello World!\n",
      "Hello World!\n",
      "Hello World!\n",
      "Hello World!\n"
     ]
    }
   ],
   "source": [
    "print(\"Hello World!\")\n",
    "print(\"Hello World!\")\n",
    "print(\"Hello World!\")\n",
    "print(\"Hello World!\")"
   ]
  },
  {
   "cell_type": "code",
   "execution_count": 3,
   "id": "a2dab833",
   "metadata": {},
   "outputs": [
    {
     "name": "stdout",
     "output_type": "stream",
     "text": [
      "Hello World!\n",
      "Hello World!\n",
      "Hello World!\n",
      "Hello World!\n"
     ]
    }
   ],
   "source": [
    "print(\"Hello World!\")\n",
    "print(\"Hello World!\")\n",
    "print(\"Hello World!\")\n",
    "print(\"Hello World!\")"
   ]
  },
  {
   "cell_type": "code",
   "execution_count": 5,
   "id": "4742d483",
   "metadata": {},
   "outputs": [
    {
     "name": "stdout",
     "output_type": "stream",
     "text": [
      "Python Version: 3.12.0 | packaged by Anaconda, Inc. | (main, Oct  2 2023, 17:20:38) [MSC v.1916 64 bit (AMD64)]\n"
     ]
    }
   ],
   "source": [
    "import sys\n",
    "print(\"Python Version:\", sys.version)"
   ]
  },
  {
   "cell_type": "code",
   "execution_count": 6,
   "id": "e7d02518",
   "metadata": {},
   "outputs": [
    {
     "name": "stdout",
     "output_type": "stream",
     "text": [
      "15\n",
      "15\n"
     ]
    }
   ],
   "source": [
    "a = 5\n",
    "b = 10\n",
    "\n",
    "print(a+b)\n",
    "sum(a,b)"
   ]
  },
  {
   "cell_type": "code",
   "execution_count": 7,
   "id": "ee4cebe0",
   "metadata": {},
   "outputs": [
    {
     "name": "stdout",
     "output_type": "stream",
     "text": [
      "35\n",
      "35\n"
     ]
    }
   ],
   "source": [
    "a = 15\n",
    "b = 20\n",
    "\n",
    "print(a+b)\n",
    "sum(a,b)"
   ]
  },
  {
   "cell_type": "code",
   "execution_count": 8,
   "id": "f3604cd2",
   "metadata": {},
   "outputs": [
    {
     "name": "stdout",
     "output_type": "stream",
     "text": [
      "4\n",
      "74\n"
     ]
    }
   ],
   "source": [
    "a = 39\n",
    "b = 35\n",
    "\n",
    "print(a-b)\n",
    "sum(a,b)"
   ]
  },
  {
   "cell_type": "code",
   "execution_count": 5,
   "id": "48fe64c1",
   "metadata": {},
   "outputs": [],
   "source": [
    "def sum(a,b):\n",
    "    print(a+b)"
   ]
  },
  {
   "cell_type": "code",
   "execution_count": 1,
   "id": "39c48f8d",
   "metadata": {},
   "outputs": [
    {
     "data": {
      "text/plain": [
       "8"
      ]
     },
     "execution_count": 1,
     "metadata": {},
     "output_type": "execute_result"
    }
   ],
   "source": [
    "pow(2,3)"
   ]
  },
  {
   "cell_type": "code",
   "execution_count": 2,
   "id": "8c544487",
   "metadata": {},
   "outputs": [
    {
     "name": "stdout",
     "output_type": "stream",
     "text": [
      "('apple', 'banana', 'cherry') <class 'tuple'>\n"
     ]
    }
   ],
   "source": [
    "x = (\"apple\", \"banana\", \"cherry\")\n",
    "print(x, type(x))"
   ]
  },
  {
   "cell_type": "code",
   "execution_count": 3,
   "id": "5b4cd028",
   "metadata": {},
   "outputs": [
    {
     "data": {
      "text/plain": [
       "5"
      ]
     },
     "execution_count": 3,
     "metadata": {},
     "output_type": "execute_result"
    }
   ],
   "source": [
    "a = 5\n",
    "a"
   ]
  },
  {
   "cell_type": "code",
   "execution_count": 4,
   "id": "f8c9de7d",
   "metadata": {},
   "outputs": [
    {
     "name": "stdout",
     "output_type": "stream",
     "text": [
      "10\n"
     ]
    }
   ],
   "source": [
    "b = 10\n",
    "print(b)"
   ]
  },
  {
   "cell_type": "code",
   "execution_count": 7,
   "id": "1efccc56",
   "metadata": {},
   "outputs": [],
   "source": [
    "a = 5\n",
    "c = 10\n",
    "a+c\n",
    "d = 20"
   ]
  },
  {
   "cell_type": "code",
   "execution_count": null,
   "id": "5613ae8c",
   "metadata": {},
   "outputs": [
    {
     "name": "stdout",
     "output_type": "stream",
     "text": [
      "15\n"
     ]
    }
   ],
   "source": [
    "a = 5\n",
    "c = 10\n",
    "print(a+c)\n",
    "d = 20"
   ]
  },
  {
   "cell_type": "code",
   "execution_count": 10,
   "id": "38c0349c",
   "metadata": {},
   "outputs": [],
   "source": [
    "e = 5"
   ]
  },
  {
   "cell_type": "code",
   "execution_count": 11,
   "id": "3c17d0e1",
   "metadata": {},
   "outputs": [
    {
     "name": "stdout",
     "output_type": "stream",
     "text": [
      "15\n"
     ]
    },
    {
     "data": {
      "text/plain": [
       "5"
      ]
     },
     "execution_count": 11,
     "metadata": {},
     "output_type": "execute_result"
    }
   ],
   "source": [
    "a = 5\n",
    "c = 10\n",
    "print(a+c)\n",
    "d = 20\n",
    "e"
   ]
  },
  {
   "cell_type": "code",
   "execution_count": 12,
   "id": "9fdc5228",
   "metadata": {},
   "outputs": [
    {
     "name": "stdout",
     "output_type": "stream",
     "text": [
      "15\n",
      "25\n"
     ]
    },
    {
     "data": {
      "text/plain": [
       "5"
      ]
     },
     "execution_count": 12,
     "metadata": {},
     "output_type": "execute_result"
    }
   ],
   "source": [
    "a = 5\n",
    "c = 10\n",
    "print(a+c)\n",
    "print(a+d)\n",
    "d = 20\n",
    "e"
   ]
  },
  {
   "cell_type": "code",
   "execution_count": 8,
   "id": "063f3e51",
   "metadata": {},
   "outputs": [
    {
     "data": {
      "text/plain": [
       "'hello world'"
      ]
     },
     "execution_count": 8,
     "metadata": {},
     "output_type": "execute_result"
    }
   ],
   "source": [
    "\"hello world\""
   ]
  },
  {
   "cell_type": "code",
   "execution_count": 13,
   "id": "557fdd05",
   "metadata": {},
   "outputs": [
    {
     "name": "stdout",
     "output_type": "stream",
     "text": [
      "Hello\n",
      "world\n"
     ]
    }
   ],
   "source": [
    "print(\"Hello\")\n",
    "print(\"world\")"
   ]
  },
  {
   "cell_type": "code",
   "execution_count": 14,
   "id": "57f0e90f",
   "metadata": {},
   "outputs": [
    {
     "name": "stdout",
     "output_type": "stream",
     "text": [
      "hello world\n"
     ]
    }
   ],
   "source": [
    "# How to print \"Hello world\" in a single line\n",
    "#Option 1\n",
    "print(\"hello world\")"
   ]
  },
  {
   "cell_type": "code",
   "execution_count": 15,
   "id": "4e0d70d0",
   "metadata": {},
   "outputs": [],
   "source": [
    "def mySumFunct(a,b=10):\n",
    "    print(a+b)"
   ]
  },
  {
   "cell_type": "code",
   "execution_count": 19,
   "id": "ec5cc384",
   "metadata": {},
   "outputs": [
    {
     "name": "stdout",
     "output_type": "stream",
     "text": [
      "20\n"
     ]
    }
   ],
   "source": [
    "mySumFunct(10)  # b = 10: default value"
   ]
  },
  {
   "cell_type": "code",
   "execution_count": 21,
   "id": "0042fb81",
   "metadata": {},
   "outputs": [
    {
     "name": "stdout",
     "output_type": "stream",
     "text": [
      "15\n"
     ]
    }
   ],
   "source": [
    "mySumFunct(5,10) # argument value of '5' overshadowed the value of b=10"
   ]
  },
  {
   "cell_type": "code",
   "execution_count": 22,
   "id": "3e09d2b3",
   "metadata": {},
   "outputs": [],
   "source": [
    "def mySumFunction2(a,b):\n",
    "    print(a+b)"
   ]
  },
  {
   "cell_type": "code",
   "execution_count": 23,
   "id": "50f45174",
   "metadata": {},
   "outputs": [
    {
     "ename": "TypeError",
     "evalue": "mySumFunction2() missing 1 required positional argument: 'b'",
     "output_type": "error",
     "traceback": [
      "\u001b[31m---------------------------------------------------------------------------\u001b[39m",
      "\u001b[31mTypeError\u001b[39m                                 Traceback (most recent call last)",
      "\u001b[36mCell\u001b[39m\u001b[36m \u001b[39m\u001b[32mIn[23]\u001b[39m\u001b[32m, line 1\u001b[39m\n\u001b[32m----> \u001b[39m\u001b[32m1\u001b[39m \u001b[43mmySumFunction2\u001b[49m\u001b[43m(\u001b[49m\u001b[32;43m5\u001b[39;49m\u001b[43m)\u001b[49m\n",
      "\u001b[31mTypeError\u001b[39m: mySumFunction2() missing 1 required positional argument: 'b'"
     ]
    }
   ],
   "source": [
    "mySumFunction2(5)"
   ]
  },
  {
   "cell_type": "code",
   "execution_count": 11,
   "id": "aa73939e",
   "metadata": {},
   "outputs": [
    {
     "name": "stdout",
     "output_type": "stream",
     "text": [
      "Hello world<---------"
     ]
    }
   ],
   "source": [
    "print(\"Hello\", end=\" \")\n",
    "print(\"world\", end=\"<---------\")"
   ]
  },
  {
   "cell_type": "code",
   "execution_count": 12,
   "id": "fd5deb92",
   "metadata": {},
   "outputs": [
    {
     "name": "stdout",
     "output_type": "stream",
     "text": [
      "Helloworld<---------"
     ]
    }
   ],
   "source": [
    "print(\"Hello\", end=\"\")\n",
    "print(\"world\", end=\"<---------\")"
   ]
  },
  {
   "cell_type": "code",
   "execution_count": 14,
   "id": "add2f3ee",
   "metadata": {},
   "outputs": [
    {
     "name": "stdout",
     "output_type": "stream",
     "text": [
      "hel oo\n"
     ]
    }
   ],
   "source": [
    "print(\"hel\",\"oo\", end=\"\\n\")"
   ]
  },
  {
   "cell_type": "code",
   "execution_count": 3,
   "id": "47d4120a",
   "metadata": {},
   "outputs": [
    {
     "name": "stdout",
     "output_type": "stream",
     "text": [
      "Line 1     Line 2\n",
      "yo\n"
     ]
    }
   ],
   "source": [
    "print(\"Line 1\", end=\"     \")\n",
    "print(\"Line 2\")\n",
    "print(\"yo\")"
   ]
  },
  {
   "cell_type": "code",
   "execution_count": 4,
   "id": "2b48b0ac",
   "metadata": {},
   "outputs": [
    {
     "name": "stdout",
     "output_type": "stream",
     "text": [
      "Hello World yo\n"
     ]
    }
   ],
   "source": [
    "print(\"Hello\", end=\" \")\n",
    "print(\"World\", end=\" \")\n",
    "print(\"yo\")"
   ]
  },
  {
   "cell_type": "code",
   "execution_count": 1,
   "id": "2c17f8e0",
   "metadata": {},
   "outputs": [
    {
     "name": "stdout",
     "output_type": "stream",
     "text": [
      " +91-9999999999"
     ]
    }
   ],
   "source": [
    "#Multi-string print\n",
    "print(\" +91-99999999999\",end=\"\\b\")"
   ]
  },
  {
   "cell_type": "code",
   "execution_count": 2,
   "id": "3944fd8e",
   "metadata": {},
   "outputs": [
    {
     "name": "stdout",
     "output_type": "stream",
     "text": [
      " +91-99999999999\tThis is my new No."
     ]
    }
   ],
   "source": [
    "#Multi-string print\n",
    "print(\" +91-99999999999\",\"This is my new No..\",sep=\"\\t\",end=\"\\b\")"
   ]
  },
  {
   "cell_type": "code",
   "execution_count": 4,
   "id": "2f8815cf",
   "metadata": {},
   "outputs": [
    {
     "name": "stdout",
     "output_type": "stream",
     "text": [
      "No HellPython\n"
     ]
    }
   ],
   "source": [
    "print(\"No Hello\",end=\"\\b\")\n",
    "print(\"Python\")"
   ]
  },
  {
   "cell_type": "code",
   "execution_count": 5,
   "id": "760fe3af",
   "metadata": {},
   "outputs": [
    {
     "name": "stdout",
     "output_type": "stream",
     "text": [
      "ABCD"
     ]
    }
   ],
   "source": [
    "print(\"ABCD12\",end=\"\\b\\b\")"
   ]
  },
  {
   "cell_type": "code",
   "execution_count": 7,
   "id": "3bdd4f63",
   "metadata": {},
   "outputs": [
    {
     "name": "stdout",
     "output_type": "stream",
     "text": [
      "Hello World\n"
     ]
    }
   ],
   "source": [
    "print(\"Hello\",\"World\") #By default, sep=\" \""
   ]
  },
  {
   "cell_type": "code",
   "execution_count": 8,
   "id": "4e5817f0",
   "metadata": {},
   "outputs": [
    {
     "name": "stdout",
     "output_type": "stream",
     "text": [
      "HelloWorld\n"
     ]
    }
   ],
   "source": [
    "print(\"Hello\",\"World\",sep=\"\") #By default, sep=\" \""
   ]
  },
  {
   "cell_type": "code",
   "execution_count": 10,
   "id": "641f74c1",
   "metadata": {},
   "outputs": [
    {
     "name": "stdout",
     "output_type": "stream",
     "text": [
      "Hello<>>>World\tcheck\n"
     ]
    }
   ],
   "source": [
    "print(\"Hello\",\"World\",sep=\"<>>>\",end=\"\\t\") #By default, sep=\" \"\n",
    "print(\"check\")"
   ]
  },
  {
   "cell_type": "code",
   "execution_count": 11,
   "id": "5228b442",
   "metadata": {},
   "outputs": [
    {
     "name": "stdout",
     "output_type": "stream",
     "text": [
      "Hello<>>>World!!!!!!!!\tcheck\n"
     ]
    }
   ],
   "source": [
    "print(\"Hello\",\"World\",sep=\"<>>>\",end=\"!!!!!!!!\\t\") #By default, sep=\" \"\n",
    "print(\"check\")"
   ]
  },
  {
   "cell_type": "code",
   "execution_count": 12,
   "id": "eef1e0d2",
   "metadata": {},
   "outputs": [
    {
     "name": "stdout",
     "output_type": "stream",
     "text": [
      "Hello<>>>World!!!!!!!!\n",
      "check\n"
     ]
    }
   ],
   "source": [
    "print(\"Hello\",\"World\",sep=\"<>>>\",end=\"!!!!!!!!\\n\") #By default, sep=\" \"\n",
    "print(\"check\")"
   ]
  },
  {
   "cell_type": "code",
   "execution_count": 13,
   "id": "0a7c7d68",
   "metadata": {},
   "outputs": [
    {
     "name": "stdout",
     "output_type": "stream",
     "text": [
      "Hello<>You awesome people of GenA batchYo"
     ]
    }
   ],
   "source": [
    "print(\"Hello\",\"You awesome people of GenA batch\",sep= '<>',end=\"Yo\")"
   ]
  },
  {
   "cell_type": "code",
   "execution_count": 14,
   "id": "314ff2ca",
   "metadata": {},
   "outputs": [
    {
     "name": "stdout",
     "output_type": "stream",
     "text": [
      "Hello<>You awesome people of GenA batch Yo"
     ]
    }
   ],
   "source": [
    "print(\"Hello\",\"You awesome people of GenA batch\",sep= '<>',end=\" Yo\")"
   ]
  },
  {
   "cell_type": "code",
   "execution_count": 15,
   "id": "0dc92612",
   "metadata": {},
   "outputs": [
    {
     "data": {
      "text/plain": [
       "'test'"
      ]
     },
     "execution_count": 15,
     "metadata": {},
     "output_type": "execute_result"
    }
   ],
   "source": [
    "#Take input from a user\n",
    "input()"
   ]
  },
  {
   "cell_type": "code",
   "execution_count": 16,
   "id": "05ba4924",
   "metadata": {},
   "outputs": [
    {
     "name": "stdout",
     "output_type": "stream",
     "text": [
      "555\n"
     ]
    }
   ],
   "source": [
    "firstNumber = input()\n",
    "print(firstNumber)"
   ]
  },
  {
   "cell_type": "code",
   "execution_count": 17,
   "id": "bcc92933",
   "metadata": {},
   "outputs": [
    {
     "data": {
      "text/plain": [
       "str"
      ]
     },
     "execution_count": 17,
     "metadata": {},
     "output_type": "execute_result"
    }
   ],
   "source": [
    "type(firstNumber)"
   ]
  },
  {
   "cell_type": "code",
   "execution_count": 18,
   "id": "680d1bdf",
   "metadata": {},
   "outputs": [],
   "source": [
    "first = input()\n",
    "second = input()\n",
    "third = input()"
   ]
  },
  {
   "cell_type": "code",
   "execution_count": 31,
   "id": "084b23e8",
   "metadata": {},
   "outputs": [],
   "source": [
    "first = input(\"enter first number\")\n",
    "second = input(\"enter second number\")\n",
    "third = input(\"enter third number\")"
   ]
  },
  {
   "cell_type": "code",
   "execution_count": 22,
   "id": "fb35d1f1",
   "metadata": {},
   "outputs": [
    {
     "name": "stdout",
     "output_type": "stream",
     "text": [
      "7\n",
      "8\n",
      "9\n"
     ]
    }
   ],
   "source": [
    "print(first,second,third,sep=\"\\n\")"
   ]
  },
  {
   "cell_type": "code",
   "execution_count": 32,
   "id": "49984a0c",
   "metadata": {},
   "outputs": [
    {
     "name": "stdout",
     "output_type": "stream",
     "text": [
      "1st Num: 10 \n",
      "2nd Num: 11 \n",
      "3rd Num: 12\n"
     ]
    }
   ],
   "source": [
    "print(\"1st Num:\",first,\"\\n2nd Num:\",second,\"\\n3rd Num:\",third,sep=\" \")"
   ]
  },
  {
   "cell_type": "code",
   "execution_count": 28,
   "id": "df177b24",
   "metadata": {},
   "outputs": [],
   "source": [
    "searchQuery = input(\"What do you want me to search\")"
   ]
  },
  {
   "cell_type": "code",
   "execution_count": 29,
   "id": "88a88681",
   "metadata": {},
   "outputs": [
    {
     "data": {
      "text/plain": [
       "'Cricket'"
      ]
     },
     "execution_count": 29,
     "metadata": {},
     "output_type": "execute_result"
    }
   ],
   "source": [
    "searchQuery"
   ]
  },
  {
   "cell_type": "code",
   "execution_count": 33,
   "id": "2097e3da",
   "metadata": {},
   "outputs": [
    {
     "data": {
      "text/plain": [
       "'101112'"
      ]
     },
     "execution_count": 33,
     "metadata": {},
     "output_type": "execute_result"
    }
   ],
   "source": [
    "first + second + third"
   ]
  },
  {
   "cell_type": "code",
   "execution_count": 34,
   "id": "d82b1abf",
   "metadata": {},
   "outputs": [
    {
     "data": {
      "text/plain": [
       "str"
      ]
     },
     "execution_count": 34,
     "metadata": {},
     "output_type": "execute_result"
    }
   ],
   "source": [
    "type(searchQuery)"
   ]
  },
  {
   "cell_type": "code",
   "execution_count": null,
   "id": "9e2049c7",
   "metadata": {},
   "outputs": [],
   "source": []
  },
  {
   "cell_type": "code",
   "execution_count": null,
   "id": "938f042a",
   "metadata": {},
   "outputs": [],
   "source": []
  },
  {
   "cell_type": "code",
   "execution_count": null,
   "id": "a8ccd8ad",
   "metadata": {},
   "outputs": [],
   "source": []
  },
  {
   "cell_type": "code",
   "execution_count": null,
   "id": "bccba44f",
   "metadata": {},
   "outputs": [],
   "source": []
  },
  {
   "cell_type": "code",
   "execution_count": null,
   "id": "1e473492",
   "metadata": {},
   "outputs": [],
   "source": []
  },
  {
   "cell_type": "code",
   "execution_count": null,
   "id": "17632205",
   "metadata": {},
   "outputs": [],
   "source": []
  },
  {
   "cell_type": "code",
   "execution_count": null,
   "id": "1ec950fd",
   "metadata": {},
   "outputs": [],
   "source": []
  },
  {
   "cell_type": "code",
   "execution_count": null,
   "id": "e2f40506",
   "metadata": {},
   "outputs": [],
   "source": []
  },
  {
   "cell_type": "code",
   "execution_count": null,
   "id": "9de321cc",
   "metadata": {},
   "outputs": [],
   "source": []
  },
  {
   "cell_type": "code",
   "execution_count": null,
   "id": "b260b004",
   "metadata": {},
   "outputs": [],
   "source": []
  },
  {
   "cell_type": "code",
   "execution_count": null,
   "id": "7501493d",
   "metadata": {},
   "outputs": [],
   "source": []
  },
  {
   "cell_type": "code",
   "execution_count": null,
   "id": "79273e6c",
   "metadata": {},
   "outputs": [],
   "source": []
  },
  {
   "cell_type": "code",
   "execution_count": null,
   "id": "7422cf0f",
   "metadata": {},
   "outputs": [],
   "source": []
  },
  {
   "cell_type": "code",
   "execution_count": null,
   "id": "12d92428",
   "metadata": {},
   "outputs": [],
   "source": []
  },
  {
   "cell_type": "code",
   "execution_count": null,
   "id": "6e4b7b37",
   "metadata": {},
   "outputs": [],
   "source": []
  },
  {
   "cell_type": "code",
   "execution_count": null,
   "id": "a7cfe721",
   "metadata": {},
   "outputs": [],
   "source": []
  },
  {
   "cell_type": "code",
   "execution_count": null,
   "id": "9ca81e3e",
   "metadata": {},
   "outputs": [],
   "source": []
  }
 ],
 "metadata": {
  "kernelspec": {
   "display_name": "Python 3",
   "language": "python",
   "name": "python3"
  },
  "language_info": {
   "codemirror_mode": {
    "name": "ipython",
    "version": 3
   },
   "file_extension": ".py",
   "mimetype": "text/x-python",
   "name": "python",
   "nbconvert_exporter": "python",
   "pygments_lexer": "ipython3",
   "version": "3.12.0"
  }
 },
 "nbformat": 4,
 "nbformat_minor": 5
}
