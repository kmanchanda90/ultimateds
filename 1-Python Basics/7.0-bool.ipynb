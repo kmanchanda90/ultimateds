{
 "cells": [
  {
   "cell_type": "markdown",
   "id": "4a0d4abd",
   "metadata": {},
   "source": [
    "## Comments in Python"
   ]
  },
  {
   "cell_type": "code",
   "execution_count": 4,
   "id": "e0c15270",
   "metadata": {},
   "outputs": [],
   "source": [
    "# This is a single line comment"
   ]
  },
  {
   "cell_type": "code",
   "execution_count": 5,
   "id": "c7cdb2da",
   "metadata": {},
   "outputs": [
    {
     "data": {
      "text/plain": [
       "'\\nthis\\nis\\na multi\\nline comment\\n'"
      ]
     },
     "execution_count": 5,
     "metadata": {},
     "output_type": "execute_result"
    }
   ],
   "source": [
    "\"\"\"\n",
    "this\n",
    "is\n",
    "a multi\n",
    "line comment\n",
    "\"\"\""
   ]
  },
  {
   "cell_type": "markdown",
   "id": "c43919c1",
   "metadata": {},
   "source": [
    "## Bools"
   ]
  },
  {
   "cell_type": "code",
   "execution_count": 1,
   "id": "e5713e4f",
   "metadata": {},
   "outputs": [
    {
     "ename": "NameError",
     "evalue": "name 'true' is not defined",
     "output_type": "error",
     "traceback": [
      "\u001b[31m---------------------------------------------------------------------------\u001b[39m",
      "\u001b[31mNameError\u001b[39m                                 Traceback (most recent call last)",
      "\u001b[36mCell\u001b[39m\u001b[36m \u001b[39m\u001b[32mIn[1]\u001b[39m\u001b[32m, line 1\u001b[39m\n\u001b[32m----> \u001b[39m\u001b[32m1\u001b[39m bool1 = \u001b[43mtrue\u001b[49m\n",
      "\u001b[31mNameError\u001b[39m: name 'true' is not defined"
     ]
    }
   ],
   "source": [
    "bool1 = true"
   ]
  },
  {
   "cell_type": "code",
   "execution_count": 2,
   "id": "3b815e36",
   "metadata": {},
   "outputs": [],
   "source": [
    "bool1 = True # Should be case sensitive"
   ]
  },
  {
   "cell_type": "code",
   "execution_count": 6,
   "id": "017f7168",
   "metadata": {},
   "outputs": [],
   "source": [
    "bool2 = False"
   ]
  },
  {
   "cell_type": "code",
   "execution_count": 7,
   "id": "01ef7aaa",
   "metadata": {},
   "outputs": [],
   "source": [
    "a = 5\n",
    "b = 9"
   ]
  },
  {
   "cell_type": "code",
   "execution_count": 9,
   "id": "7c3e6866",
   "metadata": {},
   "outputs": [
    {
     "data": {
      "text/plain": [
       "False"
      ]
     },
     "execution_count": 9,
     "metadata": {},
     "output_type": "execute_result"
    }
   ],
   "source": [
    "a > b # 5 > 9"
   ]
  },
  {
   "cell_type": "code",
   "execution_count": 10,
   "id": "58f97d76",
   "metadata": {},
   "outputs": [],
   "source": [
    "b1 = True\n",
    "b2 = True"
   ]
  },
  {
   "cell_type": "code",
   "execution_count": 11,
   "id": "7d3b4f5d",
   "metadata": {},
   "outputs": [
    {
     "name": "stdout",
     "output_type": "stream",
     "text": [
      "2\n"
     ]
    }
   ],
   "source": [
    "print(b1+b2)"
   ]
  },
  {
   "cell_type": "code",
   "execution_count": 12,
   "id": "b410d65a",
   "metadata": {},
   "outputs": [
    {
     "name": "stdout",
     "output_type": "stream",
     "text": [
      "True\n"
     ]
    }
   ],
   "source": [
    "print(b1)"
   ]
  },
  {
   "cell_type": "code",
   "execution_count": 13,
   "id": "8b12294e",
   "metadata": {},
   "outputs": [],
   "source": [
    "b3 = False\n",
    "b4 = False"
   ]
  },
  {
   "cell_type": "code",
   "execution_count": 14,
   "id": "3178fa42",
   "metadata": {},
   "outputs": [
    {
     "name": "stdout",
     "output_type": "stream",
     "text": [
      "0\n"
     ]
    }
   ],
   "source": [
    "print(b3+b4)"
   ]
  },
  {
   "cell_type": "code",
   "execution_count": 15,
   "id": "1013cb6d",
   "metadata": {},
   "outputs": [],
   "source": [
    "b5 = True\n",
    "b6 = False"
   ]
  },
  {
   "cell_type": "code",
   "execution_count": 16,
   "id": "2c08ffb2",
   "metadata": {},
   "outputs": [
    {
     "name": "stdout",
     "output_type": "stream",
     "text": [
      "1\n"
     ]
    }
   ],
   "source": [
    "print(b5+b6)"
   ]
  },
  {
   "cell_type": "code",
   "execution_count": 17,
   "id": "c0eb7a1b",
   "metadata": {},
   "outputs": [
    {
     "data": {
      "text/plain": [
       "False"
      ]
     },
     "execution_count": 17,
     "metadata": {},
     "output_type": "execute_result"
    }
   ],
   "source": [
    "-1 == True"
   ]
  },
  {
   "cell_type": "code",
   "execution_count": null,
   "id": "4a6c262c",
   "metadata": {},
   "outputs": [],
   "source": []
  },
  {
   "cell_type": "code",
   "execution_count": null,
   "id": "5bec2643",
   "metadata": {},
   "outputs": [],
   "source": []
  },
  {
   "cell_type": "code",
   "execution_count": null,
   "id": "94c9283b",
   "metadata": {},
   "outputs": [],
   "source": []
  }
 ],
 "metadata": {
  "kernelspec": {
   "display_name": "Python 3",
   "language": "python",
   "name": "python3"
  },
  "language_info": {
   "codemirror_mode": {
    "name": "ipython",
    "version": 3
   },
   "file_extension": ".py",
   "mimetype": "text/x-python",
   "name": "python",
   "nbconvert_exporter": "python",
   "pygments_lexer": "ipython3",
   "version": "3.12.0"
  }
 },
 "nbformat": 4,
 "nbformat_minor": 5
}
