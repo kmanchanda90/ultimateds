{
 "cells": [
  {
   "cell_type": "markdown",
   "id": "fa186466",
   "metadata": {},
   "source": [
    "## List Comprehension\n",
    "\n",
    "### OPT (speeds up the excecution)"
   ]
  },
  {
   "cell_type": "markdown",
   "id": "e10d747b",
   "metadata": {},
   "source": [
    "### WAP to create a list of first 10 natural numbers."
   ]
  },
  {
   "cell_type": "code",
   "execution_count": null,
   "id": "dbc41fe9",
   "metadata": {},
   "outputs": [
    {
     "name": "stdout",
     "output_type": "stream",
     "text": [
      "The first 10 natural numbers are: [1, 2, 3, 4, 5, 6, 7, 8, 9, 10]\n",
      "Task finished!\n"
     ]
    }
   ],
   "source": [
    "# Option 1: Using traditional method\n",
    "try:\n",
    "    lisNatNum = list()\n",
    "    countNum = 10\n",
    "    for natNum in range(countNum+1):\n",
    "        if natNum == 0:\n",
    "            continue\n",
    "        lisNatNum.append(natNum)\n",
    "    print(f'The first {countNum} natural numbers are: {lisNatNum}')\n",
    "except Exception as e:\n",
    "    print(f'Error encountered: {e}')\n",
    "finally:\n",
    "    print(\"Task finished!\")"
   ]
  },
  {
   "cell_type": "code",
   "execution_count": 4,
   "id": "e4cb0bb2",
   "metadata": {},
   "outputs": [
    {
     "data": {
      "text/plain": [
       "[1, 2, 3, 4, 5, 6, 7, 8, 9, 10]"
      ]
     },
     "execution_count": 4,
     "metadata": {},
     "output_type": "execute_result"
    }
   ],
   "source": [
    "lisNatNum"
   ]
  },
  {
   "cell_type": "code",
   "execution_count": 6,
   "id": "0064730f",
   "metadata": {},
   "outputs": [
    {
     "name": "stdout",
     "output_type": "stream",
     "text": [
      "The first 10 natural numbers are: [1, 2, 3, 4, 5, 6, 7, 8, 9, 10]\n",
      "Task finished!\n"
     ]
    }
   ],
   "source": [
    "# Option 2: Using List Comprehension\n",
    "try:\n",
    "    countNum = 10\n",
    "    lisNatNum = [natNum for natNum in range(1,countNum+1)]\n",
    "    print(f'The first {countNum} natural numbers are: {lisNatNum}')\n",
    "except Exception as e:\n",
    "    print(f'Error encountered: {e}')\n",
    "finally:\n",
    "    print(\"Task finished!\")"
   ]
  },
  {
   "cell_type": "markdown",
   "id": "53e988e1",
   "metadata": {},
   "source": [
    "### WAP to store first 10 even numbers in a list."
   ]
  },
  {
   "cell_type": "code",
   "execution_count": null,
   "id": "9a9b1fb2",
   "metadata": {},
   "outputs": [
    {
     "data": {
      "text/plain": [
       "[2, 4, 6, 8, 10, 12, 14, 16, 18, 20]"
      ]
     },
     "execution_count": 1,
     "metadata": {},
     "output_type": "execute_result"
    }
   ],
   "source": [
    "# Option 1 - using relevant step in range function\n",
    "lisEvenNum = [num for num in range(2,21,2)]\n",
    "lisEvenNum"
   ]
  },
  {
   "cell_type": "code",
   "execution_count": null,
   "id": "a68d9a6a",
   "metadata": {},
   "outputs": [
    {
     "data": {
      "text/plain": [
       "[2, 4, 6, 8, 10, 12, 14, 16, 18, 20]"
      ]
     },
     "execution_count": 2,
     "metadata": {},
     "output_type": "execute_result"
    }
   ],
   "source": [
    "# Option 2 - using if condition\n",
    "lisEvenNum = [num for num in range(1,21) if num%2==0]\n",
    "lisEvenNum"
   ]
  },
  {
   "cell_type": "markdown",
   "id": "2d633101",
   "metadata": {},
   "source": [
    "### WAP to find the square of first 10 natural numbers."
   ]
  },
  {
   "cell_type": "code",
   "execution_count": null,
   "id": "c1368aa1",
   "metadata": {},
   "outputs": [
    {
     "data": {
      "text/plain": [
       "[1, 4, 9, 16, 25, 36, 49, 64, 81, 100]"
      ]
     },
     "execution_count": 5,
     "metadata": {},
     "output_type": "execute_result"
    }
   ],
   "source": [
    "# Option 1 - using exponential operator\n",
    "squareList = [num**2 for num in range(1,11)]\n",
    "squareList"
   ]
  },
  {
   "cell_type": "code",
   "execution_count": null,
   "id": "2692d425",
   "metadata": {},
   "outputs": [
    {
     "data": {
      "text/plain": [
       "[1, 4, 9, 16, 25, 36, 49, 64, 81, 100]"
      ]
     },
     "execution_count": 6,
     "metadata": {},
     "output_type": "execute_result"
    }
   ],
   "source": [
    "# Option 2 - using num*num\n",
    "squareList = [num*num for num in range(1,11)]\n",
    "squareList"
   ]
  },
  {
   "cell_type": "markdown",
   "id": "6af13dac",
   "metadata": {},
   "source": [
    "### WAP to find the square of first 5 even natural numbers."
   ]
  },
  {
   "cell_type": "code",
   "execution_count": 11,
   "id": "603a7862",
   "metadata": {},
   "outputs": [
    {
     "data": {
      "text/plain": [
       "[4, 16, 36, 64, 100]"
      ]
     },
     "execution_count": 11,
     "metadata": {},
     "output_type": "execute_result"
    }
   ],
   "source": [
    "squareList = [num*num for num in range(1,11) if num%2==0] # condition is optional\n",
    "squareList"
   ]
  },
  {
   "cell_type": "code",
   "execution_count": 9,
   "id": "8f67fb0d",
   "metadata": {},
   "outputs": [],
   "source": [
    "def power(num):\n",
    "    return num*num"
   ]
  },
  {
   "cell_type": "code",
   "execution_count": 10,
   "id": "1e31dadf",
   "metadata": {},
   "outputs": [
    {
     "data": {
      "text/plain": [
       "[1, 4, 9, 16, 25, 36, 49, 64, 81, 100]"
      ]
     },
     "execution_count": 10,
     "metadata": {},
     "output_type": "execute_result"
    }
   ],
   "source": [
    "# Option 3 - Using a function\n",
    "squareList = [power(i) for i in range(1,11)]\n",
    "squareList"
   ]
  },
  {
   "cell_type": "markdown",
   "id": "6eb1b76d",
   "metadata": {},
   "source": [
    "### Let's see some more examples of List Comprehension."
   ]
  },
  {
   "cell_type": "code",
   "execution_count": 1,
   "id": "a63ff677",
   "metadata": {},
   "outputs": [
    {
     "data": {
      "text/plain": [
       "['hello', 'hello']"
      ]
     },
     "execution_count": 1,
     "metadata": {},
     "output_type": "execute_result"
    }
   ],
   "source": [
    "helloList = ['hello' for num in range(0,2)]\n",
    "helloList"
   ]
  },
  {
   "cell_type": "code",
   "execution_count": 3,
   "id": "803b9d7f",
   "metadata": {},
   "outputs": [
    {
     "data": {
      "text/plain": [
       "[5, 5]"
      ]
     },
     "execution_count": 3,
     "metadata": {},
     "output_type": "execute_result"
    }
   ],
   "source": [
    "fiveList = [5 for num in range(0,2)]\n",
    "fiveList"
   ]
  },
  {
   "cell_type": "code",
   "execution_count": 4,
   "id": "13e1d035",
   "metadata": {},
   "outputs": [
    {
     "data": {
      "text/plain": [
       "[[1, 2], [1, 2]]"
      ]
     },
     "execution_count": 4,
     "metadata": {},
     "output_type": "execute_result"
    }
   ],
   "source": [
    "nestList = [[1,2] for num in range(0,2)]\n",
    "nestList"
   ]
  },
  {
   "cell_type": "code",
   "execution_count": 5,
   "id": "01a40979",
   "metadata": {},
   "outputs": [
    {
     "data": {
      "text/plain": [
       "[[1, 2], [1, 2]]"
      ]
     },
     "execution_count": 5,
     "metadata": {},
     "output_type": "execute_result"
    }
   ],
   "source": [
    "nestList = [list((1,2)) for num in range(0,2)]\n",
    "nestList"
   ]
  },
  {
   "cell_type": "markdown",
   "id": "5fcde4e2",
   "metadata": {},
   "source": [
    "## WAP to create a nested list having two elements which are also a list of two elements using range function.\n",
    "\n",
    "### LGC"
   ]
  },
  {
   "cell_type": "code",
   "execution_count": 7,
   "id": "6ca43cd3",
   "metadata": {},
   "outputs": [
    {
     "data": {
      "text/plain": [
       "[[1, 2], [1, 2]]"
      ]
     },
     "execution_count": 7,
     "metadata": {},
     "output_type": "execute_result"
    }
   ],
   "source": [
    "# Tradition Approach - using Nested loop\n",
    "nestList = []\n",
    "for outerLoop in range(1,3):\n",
    "    innerList = []\n",
    "    for innerLoop in range(1,3):\n",
    "        innerList.append(innerLoop)\n",
    "    nestList.append(innerList)\n",
    "nestList"
   ]
  },
  {
   "cell_type": "markdown",
   "id": "9ba62993",
   "metadata": {},
   "source": [
    "#### How to do this with List Comprehension."
   ]
  },
  {
   "cell_type": "code",
   "execution_count": 11,
   "id": "e9dfd2bd",
   "metadata": {},
   "outputs": [
    {
     "data": {
      "text/plain": [
       "[[1, 2], [1, 2]]"
      ]
     },
     "execution_count": 11,
     "metadata": {},
     "output_type": "execute_result"
    }
   ],
   "source": [
    "nestList = [[innerLoop for innerLoop in range(1,3)] for outerLoop in range(1,3)]\n",
    "nestList\n",
    "\n",
    "#Note: If you get confused, refer to the above examples as they are the building blocks.\n",
    "\n",
    "# [[j for j in range(1,3)] for i in range(1,3)]\n",
    "# Here, i = [j for j in range(1,3)] --> which itself is a list, i.e., [1,2]\n",
    "# equivalent to [[1,2] for i in range(1,3)] --> example discussed above"
   ]
  },
  {
   "cell_type": "markdown",
   "id": "4212dc84",
   "metadata": {},
   "source": [
    "### A complex topic but let's see how we keep on expanding dimensions in List Comprehension."
   ]
  },
  {
   "cell_type": "markdown",
   "id": "3f3139ef",
   "metadata": {},
   "source": [
    "### LGC"
   ]
  },
  {
   "cell_type": "code",
   "execution_count": null,
   "id": "46a6b119",
   "metadata": {},
   "outputs": [],
   "source": [
    "# [[[[reviews for reviews in allReviews if ratings <=3] for restaurant in allRestaurant] for location in allLocation] for country in allCountry]\n",
    "\n",
    "# Step 1: We start with the innermost loop: i: [reviews for reviews in allReviews if ratings <=3]\n",
    "# Step 2: We add the first dimension, i.e., restaurant: r: [i for restaurant in allRestaurant] => where i comes from Step 1\n",
    "# Step 3: We add the second dimenion, i.e., location: l: [r for location in allLocation] => where r comes from Step 2\n",
    "# Step 4: We add the third dimension, i.e., country: c: [l for country in allCountry] => where l comes from Step 3\n",
    "\n",
    "## Summary Step: We need not go from Step 1 to Step 4, instead, we can simply start writing from innermost loop and keep on adding dimension\n",
    "# by for <dimension> in <allDimension> as a list to the already available list."
   ]
  },
  {
   "cell_type": "code",
   "execution_count": 2,
   "id": "68a8dd1b",
   "metadata": {},
   "outputs": [
    {
     "data": {
      "text/plain": [
       "['abc@gmail.com', 'abc@gmail.com', 'abc@gmail.com', 'abc@gmail.com']"
      ]
     },
     "execution_count": 2,
     "metadata": {},
     "output_type": "execute_result"
    }
   ],
   "source": [
    "allEmail = ['abc@gmail.com','abc@gmail.com','abc@gmail.com','abc@gmail.com','abc@yahoo.com','abc@yahoo.com']\n",
    "gMail = [email for email in allEmail if 'gmail' in email]\n",
    "gMail"
   ]
  }
 ],
 "metadata": {
  "kernelspec": {
   "display_name": "Python 3",
   "language": "python",
   "name": "python3"
  },
  "language_info": {
   "codemirror_mode": {
    "name": "ipython",
    "version": 3
   },
   "file_extension": ".py",
   "mimetype": "text/x-python",
   "name": "python",
   "nbconvert_exporter": "python",
   "pygments_lexer": "ipython3",
   "version": "3.12.0"
  }
 },
 "nbformat": 4,
 "nbformat_minor": 5
}
