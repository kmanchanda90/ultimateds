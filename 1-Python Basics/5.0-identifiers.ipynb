{
 "cells": [
  {
   "cell_type": "markdown",
   "id": "52d79788",
   "metadata": {},
   "source": [
    "## Identifiers in Python"
   ]
  },
  {
   "cell_type": "code",
   "execution_count": 2,
   "id": "5e6e0fc4",
   "metadata": {},
   "outputs": [],
   "source": [
    "a = 5\n",
    "b = 5"
   ]
  },
  {
   "cell_type": "code",
   "execution_count": 3,
   "id": "8d8373fb",
   "metadata": {},
   "outputs": [],
   "source": [
    "a0 = 10"
   ]
  },
  {
   "cell_type": "code",
   "execution_count": 4,
   "id": "c9c0c3a5",
   "metadata": {},
   "outputs": [
    {
     "data": {
      "text/plain": [
       "10"
      ]
     },
     "execution_count": 4,
     "metadata": {},
     "output_type": "execute_result"
    }
   ],
   "source": [
    "a0"
   ]
  },
  {
   "cell_type": "code",
   "execution_count": 5,
   "id": "25a7a0fc",
   "metadata": {},
   "outputs": [
    {
     "ename": "SyntaxError",
     "evalue": "invalid decimal literal (700169060.py, line 1)",
     "output_type": "error",
     "traceback": [
      "  \u001b[36mCell\u001b[39m\u001b[36m \u001b[39m\u001b[32mIn[5]\u001b[39m\u001b[32m, line 1\u001b[39m\n\u001b[31m    \u001b[39m\u001b[31m0a = 10\u001b[39m\n    ^\n\u001b[31mSyntaxError\u001b[39m\u001b[31m:\u001b[39m invalid decimal literal\n"
     ]
    }
   ],
   "source": [
    "0a = 10"
   ]
  },
  {
   "cell_type": "code",
   "execution_count": 6,
   "id": "3df3f11f",
   "metadata": {},
   "outputs": [
    {
     "ename": "SyntaxError",
     "evalue": "invalid syntax (435349436.py, line 1)",
     "output_type": "error",
     "traceback": [
      "  \u001b[36mCell\u001b[39m\u001b[36m \u001b[39m\u001b[32mIn[6]\u001b[39m\u001b[32m, line 1\u001b[39m\n\u001b[31m    \u001b[39m\u001b[31ma@ = 50\u001b[39m\n       ^\n\u001b[31mSyntaxError\u001b[39m\u001b[31m:\u001b[39m invalid syntax\n"
     ]
    }
   ],
   "source": [
    "a@ = 50"
   ]
  },
  {
   "cell_type": "code",
   "execution_count": 7,
   "id": "e06e54c4",
   "metadata": {},
   "outputs": [],
   "source": [
    "a_ = 5"
   ]
  },
  {
   "cell_type": "code",
   "execution_count": 8,
   "id": "d22b52bb",
   "metadata": {},
   "outputs": [],
   "source": [
    "_a = 6"
   ]
  },
  {
   "cell_type": "code",
   "execution_count": 9,
   "id": "9b2455ec",
   "metadata": {},
   "outputs": [
    {
     "data": {
      "text/plain": [
       "6"
      ]
     },
     "execution_count": 9,
     "metadata": {},
     "output_type": "execute_result"
    }
   ],
   "source": [
    "_a"
   ]
  },
  {
   "cell_type": "code",
   "execution_count": 10,
   "id": "0882714d",
   "metadata": {},
   "outputs": [],
   "source": [
    "A = 5055"
   ]
  },
  {
   "cell_type": "code",
   "execution_count": 11,
   "id": "b11ae3e6",
   "metadata": {},
   "outputs": [
    {
     "ename": "SyntaxError",
     "evalue": "invalid decimal literal (1565802696.py, line 1)",
     "output_type": "error",
     "traceback": [
      "  \u001b[36mCell\u001b[39m\u001b[36m \u001b[39m\u001b[32mIn[11]\u001b[39m\u001b[32m, line 1\u001b[39m\n\u001b[31m    \u001b[39m\u001b[31m0A = 202\u001b[39m\n    ^\n\u001b[31mSyntaxError\u001b[39m\u001b[31m:\u001b[39m invalid decimal literal\n"
     ]
    }
   ],
   "source": [
    "0A = 202"
   ]
  },
  {
   "cell_type": "code",
   "execution_count": 12,
   "id": "565c7a00",
   "metadata": {},
   "outputs": [],
   "source": [
    "A0 = 252"
   ]
  },
  {
   "cell_type": "code",
   "execution_count": 13,
   "id": "d041b9a8",
   "metadata": {},
   "outputs": [],
   "source": [
    "A1 = 52"
   ]
  },
  {
   "cell_type": "code",
   "execution_count": 14,
   "id": "e4b45c1d",
   "metadata": {},
   "outputs": [],
   "source": [
    "A_ = 535"
   ]
  },
  {
   "cell_type": "code",
   "execution_count": 15,
   "id": "f61eff2b",
   "metadata": {},
   "outputs": [],
   "source": [
    "abc_123 = 450"
   ]
  },
  {
   "cell_type": "code",
   "execution_count": 16,
   "id": "7800c941",
   "metadata": {},
   "outputs": [
    {
     "data": {
      "text/plain": [
       "450"
      ]
     },
     "execution_count": 16,
     "metadata": {},
     "output_type": "execute_result"
    }
   ],
   "source": [
    "abc_123"
   ]
  },
  {
   "cell_type": "code",
   "execution_count": 17,
   "id": "a7b33abc",
   "metadata": {},
   "outputs": [],
   "source": [
    "_ = 1500"
   ]
  },
  {
   "cell_type": "code",
   "execution_count": 18,
   "id": "9f75ac8b",
   "metadata": {},
   "outputs": [
    {
     "data": {
      "text/plain": [
       "1500"
      ]
     },
     "execution_count": 18,
     "metadata": {},
     "output_type": "execute_result"
    }
   ],
   "source": [
    "_ "
   ]
  },
  {
   "cell_type": "code",
   "execution_count": 19,
   "id": "67f629cc",
   "metadata": {},
   "outputs": [],
   "source": [
    "def _(a, b):\n",
    "    print(a+b)"
   ]
  },
  {
   "cell_type": "code",
   "execution_count": 20,
   "id": "38c952e4",
   "metadata": {},
   "outputs": [
    {
     "name": "stdout",
     "output_type": "stream",
     "text": [
      "34\n"
     ]
    }
   ],
   "source": [
    "_(2, 32)"
   ]
  },
  {
   "cell_type": "code",
   "execution_count": 21,
   "id": "41cd0fd3",
   "metadata": {},
   "outputs": [],
   "source": [
    "def _sum(a, b):\n",
    "    print(a+b)"
   ]
  },
  {
   "cell_type": "code",
   "execution_count": 22,
   "id": "118fba2d",
   "metadata": {},
   "outputs": [
    {
     "name": "stdout",
     "output_type": "stream",
     "text": [
      "590\n"
     ]
    }
   ],
   "source": [
    "_sum(25,565)"
   ]
  },
  {
   "cell_type": "code",
   "execution_count": 25,
   "id": "5997baf2",
   "metadata": {},
   "outputs": [
    {
     "ename": "SyntaxError",
     "evalue": "invalid syntax (2063053603.py, line 1)",
     "output_type": "error",
     "traceback": [
      "  \u001b[36mCell\u001b[39m\u001b[36m \u001b[39m\u001b[32mIn[25]\u001b[39m\u001b[32m, line 1\u001b[39m\n\u001b[31m    \u001b[39m\u001b[31mdef 123(a, b):\u001b[39m\n        ^\n\u001b[31mSyntaxError\u001b[39m\u001b[31m:\u001b[39m invalid syntax\n"
     ]
    }
   ],
   "source": [
    "def 123(a, b):\n",
    "    print(\"am I or am I not\")"
   ]
  },
  {
   "cell_type": "code",
   "execution_count": 26,
   "id": "ab621146",
   "metadata": {},
   "outputs": [],
   "source": [
    "def _123(a, b):\n",
    "    print(\"am I or am I not\")"
   ]
  },
  {
   "cell_type": "code",
   "execution_count": 27,
   "id": "41b5da90",
   "metadata": {},
   "outputs": [
    {
     "name": "stdout",
     "output_type": "stream",
     "text": [
      "am I or am I not\n"
     ]
    }
   ],
   "source": [
    "_123(5,65)"
   ]
  },
  {
   "cell_type": "code",
   "execution_count": 28,
   "id": "6b03e24c",
   "metadata": {},
   "outputs": [],
   "source": [
    "abc_tr = 5"
   ]
  },
  {
   "cell_type": "code",
   "execution_count": null,
   "id": "2b6b4b46",
   "metadata": {},
   "outputs": [
    {
     "data": {
      "text/plain": [
       "5"
      ]
     },
     "execution_count": 30,
     "metadata": {},
     "output_type": "execute_result"
    }
   ],
   "source": [
    "abc_tr"
   ]
  },
  {
   "cell_type": "code",
   "execution_count": 31,
   "id": "a1fb1018",
   "metadata": {},
   "outputs": [],
   "source": [
    "def print():\n",
    "    print(\"Hello\")"
   ]
  },
  {
   "cell_type": "code",
   "execution_count": 33,
   "id": "64f6a802",
   "metadata": {},
   "outputs": [
    {
     "ename": "TypeError",
     "evalue": "print() takes 0 positional arguments but 1 was given",
     "output_type": "error",
     "traceback": [
      "\u001b[31m---------------------------------------------------------------------------\u001b[39m",
      "\u001b[31mTypeError\u001b[39m                                 Traceback (most recent call last)",
      "\u001b[36mCell\u001b[39m\u001b[36m \u001b[39m\u001b[32mIn[33]\u001b[39m\u001b[32m, line 1\u001b[39m\n\u001b[32m----> \u001b[39m\u001b[32m1\u001b[39m \u001b[38;5;28;43mprint\u001b[39;49m\u001b[43m(\u001b[49m\u001b[43m)\u001b[49m \u001b[38;5;66;03m# The idea is, we don't try to override the Python inbuilt functions\u001b[39;00m\n",
      "\u001b[36mCell\u001b[39m\u001b[36m \u001b[39m\u001b[32mIn[31]\u001b[39m\u001b[32m, line 2\u001b[39m, in \u001b[36mprint\u001b[39m\u001b[34m()\u001b[39m\n\u001b[32m      1\u001b[39m \u001b[38;5;28;01mdef\u001b[39;00m\u001b[38;5;250m \u001b[39m\u001b[34mprint\u001b[39m():\n\u001b[32m----> \u001b[39m\u001b[32m2\u001b[39m     \u001b[38;5;28;43mprint\u001b[39;49m\u001b[43m(\u001b[49m\u001b[33;43m\"\u001b[39;49m\u001b[33;43mHello\u001b[39;49m\u001b[33;43m\"\u001b[39;49m\u001b[43m)\u001b[49m\n",
      "\u001b[31mTypeError\u001b[39m: print() takes 0 positional arguments but 1 was given"
     ]
    }
   ],
   "source": [
    "print() # The idea is, we don't try to override the Python inbuilt functions"
   ]
  },
  {
   "cell_type": "code",
   "execution_count": 34,
   "id": "e96a1abe",
   "metadata": {},
   "outputs": [],
   "source": [
    "_ = 1, 2"
   ]
  },
  {
   "cell_type": "code",
   "execution_count": 35,
   "id": "181a5071",
   "metadata": {},
   "outputs": [
    {
     "data": {
      "text/plain": [
       "(1, 2)"
      ]
     },
     "execution_count": 35,
     "metadata": {},
     "output_type": "execute_result"
    }
   ],
   "source": [
    "_"
   ]
  },
  {
   "cell_type": "code",
   "execution_count": 36,
   "id": "31bde596",
   "metadata": {},
   "outputs": [
    {
     "data": {
      "text/plain": [
       "tuple"
      ]
     },
     "execution_count": 36,
     "metadata": {},
     "output_type": "execute_result"
    }
   ],
   "source": [
    "type(_)"
   ]
  },
  {
   "cell_type": "code",
   "execution_count": 37,
   "id": "b067507c",
   "metadata": {},
   "outputs": [],
   "source": [
    "afdsffhdsfsfbsd_dbvdshdvs = 400\n",
    "A654954841545251561541515451 = 500\n",
    "_6dcsdsdsdfsdsds = 600"
   ]
  },
  {
   "cell_type": "code",
   "execution_count": 1,
   "id": "2058336e",
   "metadata": {},
   "outputs": [],
   "source": [
    "A = 10"
   ]
  },
  {
   "cell_type": "code",
   "execution_count": 2,
   "id": "4014067d",
   "metadata": {},
   "outputs": [],
   "source": [
    "a = 5"
   ]
  },
  {
   "cell_type": "code",
   "execution_count": 3,
   "id": "08dcc0eb",
   "metadata": {},
   "outputs": [
    {
     "data": {
      "text/plain": [
       "False"
      ]
     },
     "execution_count": 3,
     "metadata": {},
     "output_type": "execute_result"
    }
   ],
   "source": [
    "a == A"
   ]
  },
  {
   "cell_type": "code",
   "execution_count": 4,
   "id": "51ac0e5f",
   "metadata": {},
   "outputs": [
    {
     "data": {
      "text/plain": [
       "True"
      ]
     },
     "execution_count": 4,
     "metadata": {},
     "output_type": "execute_result"
    }
   ],
   "source": [
    "a123 = 500\n",
    "A123 = 600\n",
    "\n",
    "a123 != A123"
   ]
  },
  {
   "cell_type": "code",
   "execution_count": 5,
   "id": "58ea05c9",
   "metadata": {},
   "outputs": [],
   "source": [
    "range = 50"
   ]
  },
  {
   "cell_type": "code",
   "execution_count": 6,
   "id": "1bba415b",
   "metadata": {},
   "outputs": [
    {
     "data": {
      "text/plain": [
       "50"
      ]
     },
     "execution_count": 6,
     "metadata": {},
     "output_type": "execute_result"
    }
   ],
   "source": [
    "range"
   ]
  },
  {
   "cell_type": "code",
   "execution_count": 7,
   "id": "4d7654af",
   "metadata": {},
   "outputs": [
    {
     "data": {
      "text/plain": [
       "int"
      ]
     },
     "execution_count": 7,
     "metadata": {},
     "output_type": "execute_result"
    }
   ],
   "source": [
    "type(range)"
   ]
  },
  {
   "cell_type": "code",
   "execution_count": 8,
   "id": "867305fe",
   "metadata": {},
   "outputs": [
    {
     "ename": "SyntaxError",
     "evalue": "invalid syntax (1765607377.py, line 1)",
     "output_type": "error",
     "traceback": [
      "  \u001b[36mCell\u001b[39m\u001b[36m \u001b[39m\u001b[32mIn[8]\u001b[39m\u001b[32m, line 1\u001b[39m\n\u001b[31m    \u001b[39m\u001b[31mbreak = 100\u001b[39m\n          ^\n\u001b[31mSyntaxError\u001b[39m\u001b[31m:\u001b[39m invalid syntax\n"
     ]
    }
   ],
   "source": [
    "break = 100"
   ]
  },
  {
   "cell_type": "markdown",
   "id": "a778ae95",
   "metadata": {},
   "source": [
    "### Keywords in Python"
   ]
  },
  {
   "cell_type": "code",
   "execution_count": null,
   "id": "da211e47",
   "metadata": {},
   "outputs": [],
   "source": [
    "Break = 10 # ✅"
   ]
  },
  {
   "cell_type": "code",
   "execution_count": null,
   "id": "26e63dee",
   "metadata": {},
   "outputs": [],
   "source": [
    "breAk = 9 # ✅"
   ]
  },
  {
   "cell_type": "code",
   "execution_count": 12,
   "id": "7f33b252",
   "metadata": {},
   "outputs": [
    {
     "data": {
      "text/plain": [
       "['False',\n",
       " 'None',\n",
       " 'True',\n",
       " 'and',\n",
       " 'as',\n",
       " 'assert',\n",
       " 'async',\n",
       " 'await',\n",
       " 'break',\n",
       " 'class',\n",
       " 'continue',\n",
       " 'def',\n",
       " 'del',\n",
       " 'elif',\n",
       " 'else',\n",
       " 'except',\n",
       " 'finally',\n",
       " 'for',\n",
       " 'from',\n",
       " 'global',\n",
       " 'if',\n",
       " 'import',\n",
       " 'in',\n",
       " 'is',\n",
       " 'lambda',\n",
       " 'nonlocal',\n",
       " 'not',\n",
       " 'or',\n",
       " 'pass',\n",
       " 'raise',\n",
       " 'return',\n",
       " 'try',\n",
       " 'while',\n",
       " 'with',\n",
       " 'yield']"
      ]
     },
     "execution_count": 12,
     "metadata": {},
     "output_type": "execute_result"
    }
   ],
   "source": [
    "import keyword as kw\n",
    "list = kw.kwlist\n",
    "list\n",
    "# len(list)"
   ]
  },
  {
   "cell_type": "code",
   "execution_count": 13,
   "id": "819d563e",
   "metadata": {},
   "outputs": [
    {
     "name": "stdout",
     "output_type": "stream",
     "text": [
      "['False', 'None', 'True', 'and', 'as', 'assert', 'async', 'await', 'break', 'class', 'continue', 'def', 'del', 'elif', 'else', 'except', 'finally', 'for', 'from', 'global', 'if', 'import', 'in', 'is', 'lambda', 'nonlocal', 'not', 'or', 'pass', 'raise', 'return', 'try', 'while', 'with', 'yield']\n",
      "35\n"
     ]
    }
   ],
   "source": [
    "import keyword as kw\n",
    "list = kw.kwlist\n",
    "print(list)\n",
    "print(len(list))"
   ]
  },
  {
   "cell_type": "code",
   "execution_count": null,
   "id": "0ab9008e",
   "metadata": {},
   "outputs": [
    {
     "name": "stdout",
     "output_type": "stream",
     "text": [
      "\n",
      "Welcome to Python 3.12's help utility!\n",
      "\n",
      "If this is your first time using Python, you should definitely check out\n",
      "the tutorial on the internet at https://docs.python.org/3.12/tutorial/.\n",
      "\n",
      "Enter the name of any module, keyword, or topic to get help on writing\n",
      "Python programs and using Python modules.  To quit this help utility and\n",
      "return to the interpreter, just type \"quit\".\n",
      "\n",
      "To get a list of available modules, keywords, symbols, or topics, type\n",
      "\"modules\", \"keywords\", \"symbols\", or \"topics\".  Each module also comes\n",
      "with a one-line summary of what it does; to list the modules whose name\n",
      "or summary contain a given string such as \"spam\", type \"modules spam\".\n",
      "\n",
      "\n",
      "Here is a list of the Python keywords.  Enter any keyword to get more help.\n",
      "\n",
      "False               class               from                or\n",
      "None                continue            global              pass\n",
      "True                def                 if                  raise\n",
      "and                 del                 import              return\n",
      "as                  elif                in                  try\n",
      "assert              else                is                  while\n",
      "async               except              lambda              with\n",
      "await               finally             nonlocal            yield\n",
      "break               for                 not                 \n",
      "\n",
      "\n",
      "You are now leaving help and returning to the Python interpreter.\n",
      "If you want to ask for help on a particular object directly from the\n",
      "interpreter, you can type \"help(object)\".  Executing \"help('string')\"\n",
      "has the same effect as typing a particular string at the help> prompt.\n"
     ]
    }
   ],
   "source": [
    "help() #Another way to get help from Python"
   ]
  },
  {
   "cell_type": "code",
   "execution_count": null,
   "id": "8766a368",
   "metadata": {},
   "outputs": [],
   "source": []
  },
  {
   "cell_type": "code",
   "execution_count": null,
   "id": "3fba459d",
   "metadata": {},
   "outputs": [],
   "source": []
  },
  {
   "cell_type": "code",
   "execution_count": null,
   "id": "695d5357",
   "metadata": {},
   "outputs": [],
   "source": []
  },
  {
   "cell_type": "code",
   "execution_count": null,
   "id": "e7ce0051",
   "metadata": {},
   "outputs": [],
   "source": []
  },
  {
   "cell_type": "code",
   "execution_count": null,
   "id": "6859469f",
   "metadata": {},
   "outputs": [],
   "source": []
  },
  {
   "cell_type": "code",
   "execution_count": null,
   "id": "2ccceb5d",
   "metadata": {},
   "outputs": [],
   "source": []
  },
  {
   "cell_type": "code",
   "execution_count": null,
   "id": "cbf694ac",
   "metadata": {},
   "outputs": [],
   "source": []
  },
  {
   "cell_type": "code",
   "execution_count": null,
   "id": "3c894170",
   "metadata": {},
   "outputs": [],
   "source": []
  },
  {
   "cell_type": "code",
   "execution_count": null,
   "id": "85a1d684",
   "metadata": {},
   "outputs": [],
   "source": []
  },
  {
   "cell_type": "code",
   "execution_count": null,
   "id": "7633d754",
   "metadata": {},
   "outputs": [],
   "source": []
  },
  {
   "cell_type": "code",
   "execution_count": null,
   "id": "d0678bf2",
   "metadata": {},
   "outputs": [],
   "source": []
  },
  {
   "cell_type": "code",
   "execution_count": null,
   "id": "a08b1b62",
   "metadata": {},
   "outputs": [],
   "source": []
  },
  {
   "cell_type": "code",
   "execution_count": null,
   "id": "0658fc2a",
   "metadata": {},
   "outputs": [],
   "source": []
  },
  {
   "cell_type": "code",
   "execution_count": null,
   "id": "6a6948d5",
   "metadata": {},
   "outputs": [],
   "source": []
  },
  {
   "cell_type": "code",
   "execution_count": null,
   "id": "c2a01505",
   "metadata": {},
   "outputs": [],
   "source": []
  },
  {
   "cell_type": "code",
   "execution_count": null,
   "id": "54188194",
   "metadata": {},
   "outputs": [],
   "source": []
  },
  {
   "cell_type": "markdown",
   "id": "d413e26e",
   "metadata": {},
   "source": []
  }
 ],
 "metadata": {
  "kernelspec": {
   "display_name": "Python 3",
   "language": "python",
   "name": "python3"
  },
  "language_info": {
   "codemirror_mode": {
    "name": "ipython",
    "version": 3
   },
   "file_extension": ".py",
   "mimetype": "text/x-python",
   "name": "python",
   "nbconvert_exporter": "python",
   "pygments_lexer": "ipython3",
   "version": "3.12.0"
  }
 },
 "nbformat": 4,
 "nbformat_minor": 5
}
