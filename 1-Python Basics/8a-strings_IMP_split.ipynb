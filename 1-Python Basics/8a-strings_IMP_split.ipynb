{
 "cells": [
  {
   "cell_type": "markdown",
   "id": "9c13e2b1",
   "metadata": {},
   "source": [
    "## strings"
   ]
  },
  {
   "cell_type": "code",
   "execution_count": 1,
   "id": "b4b1c748",
   "metadata": {},
   "outputs": [],
   "source": [
    "str1 = \"\""
   ]
  },
  {
   "cell_type": "code",
   "execution_count": 2,
   "id": "8be95e4c",
   "metadata": {},
   "outputs": [
    {
     "data": {
      "text/plain": [
       "''"
      ]
     },
     "execution_count": 2,
     "metadata": {},
     "output_type": "execute_result"
    }
   ],
   "source": [
    "str1"
   ]
  },
  {
   "cell_type": "code",
   "execution_count": 3,
   "id": "e5605551",
   "metadata": {},
   "outputs": [
    {
     "name": "stdout",
     "output_type": "stream",
     "text": [
      "\n"
     ]
    }
   ],
   "source": [
    "print(str1)"
   ]
  },
  {
   "cell_type": "code",
   "execution_count": 4,
   "id": "c50b808c",
   "metadata": {},
   "outputs": [
    {
     "name": "stdout",
     "output_type": "stream",
     "text": [
      "<class 'str'>\n"
     ]
    }
   ],
   "source": [
    "print(type(str1))"
   ]
  },
  {
   "cell_type": "code",
   "execution_count": 5,
   "id": "14706840",
   "metadata": {},
   "outputs": [
    {
     "data": {
      "text/plain": [
       "'Python123'"
      ]
     },
     "execution_count": 5,
     "metadata": {},
     "output_type": "execute_result"
    }
   ],
   "source": [
    "str3 = 'Python'\n",
    "str3+'123'"
   ]
  },
  {
   "cell_type": "markdown",
   "id": "98b3f056",
   "metadata": {},
   "source": [
    "### Membership Operator"
   ]
  },
  {
   "cell_type": "code",
   "execution_count": 6,
   "id": "c5d6a15d",
   "metadata": {},
   "outputs": [
    {
     "data": {
      "text/plain": [
       "False"
      ]
     },
     "execution_count": 6,
     "metadata": {},
     "output_type": "execute_result"
    }
   ],
   "source": [
    "'p' in str3"
   ]
  },
  {
   "cell_type": "code",
   "execution_count": 7,
   "id": "c9999add",
   "metadata": {},
   "outputs": [
    {
     "data": {
      "text/plain": [
       "False"
      ]
     },
     "execution_count": 7,
     "metadata": {},
     "output_type": "execute_result"
    }
   ],
   "source": [
    "'123' in str3"
   ]
  },
  {
   "cell_type": "code",
   "execution_count": 8,
   "id": "2565fed5",
   "metadata": {},
   "outputs": [
    {
     "data": {
      "text/plain": [
       "True"
      ]
     },
     "execution_count": 8,
     "metadata": {},
     "output_type": "execute_result"
    }
   ],
   "source": [
    "'Pyt' in str3"
   ]
  },
  {
   "cell_type": "markdown",
   "id": "ae8dd9aa",
   "metadata": {},
   "source": [
    "## Functions in String"
   ]
  },
  {
   "cell_type": "code",
   "execution_count": 11,
   "id": "f64c0c9b",
   "metadata": {},
   "outputs": [
    {
     "data": {
      "text/plain": [
       "2"
      ]
     },
     "execution_count": 11,
     "metadata": {},
     "output_type": "execute_result"
    }
   ],
   "source": [
    "len('  ')"
   ]
  },
  {
   "cell_type": "markdown",
   "id": "d3ea867a",
   "metadata": {},
   "source": [
    "- ord()\n",
    "\n",
    "- chr()"
   ]
  },
  {
   "cell_type": "markdown",
   "id": "3cdd4836",
   "metadata": {},
   "source": [
    "#### max()"
   ]
  },
  {
   "cell_type": "code",
   "execution_count": 12,
   "id": "cfdce693",
   "metadata": {},
   "outputs": [],
   "source": [
    "str2 = 'abc'"
   ]
  },
  {
   "cell_type": "code",
   "execution_count": 13,
   "id": "a9d89f0f",
   "metadata": {},
   "outputs": [
    {
     "data": {
      "text/plain": [
       "'c'"
      ]
     },
     "execution_count": 13,
     "metadata": {},
     "output_type": "execute_result"
    }
   ],
   "source": [
    "max(str2)"
   ]
  },
  {
   "cell_type": "markdown",
   "id": "ac55e742",
   "metadata": {},
   "source": [
    "### min()"
   ]
  },
  {
   "cell_type": "code",
   "execution_count": 14,
   "id": "3ab102d8",
   "metadata": {},
   "outputs": [
    {
     "data": {
      "text/plain": [
       "'a'"
      ]
     },
     "execution_count": 14,
     "metadata": {},
     "output_type": "execute_result"
    }
   ],
   "source": [
    "min(str2)"
   ]
  },
  {
   "cell_type": "markdown",
   "id": "93219117",
   "metadata": {},
   "source": [
    "### Methods of String"
   ]
  },
  {
   "cell_type": "markdown",
   "id": "24c319ff",
   "metadata": {},
   "source": [
    "### capitalize()"
   ]
  },
  {
   "cell_type": "code",
   "execution_count": 15,
   "id": "7bcd8706",
   "metadata": {},
   "outputs": [],
   "source": [
    "str2 = \"i love Python.it is great\""
   ]
  },
  {
   "cell_type": "code",
   "execution_count": 16,
   "id": "9b2e7159",
   "metadata": {},
   "outputs": [
    {
     "data": {
      "text/plain": [
       "'i love Python.it is great'"
      ]
     },
     "execution_count": 16,
     "metadata": {},
     "output_type": "execute_result"
    }
   ],
   "source": [
    "str2"
   ]
  },
  {
   "cell_type": "code",
   "execution_count": 17,
   "id": "c1964cf3",
   "metadata": {},
   "outputs": [
    {
     "data": {
      "text/plain": [
       "'I love python.it is great'"
      ]
     },
     "execution_count": 17,
     "metadata": {},
     "output_type": "execute_result"
    }
   ],
   "source": [
    "str2.capitalize()"
   ]
  },
  {
   "cell_type": "code",
   "execution_count": 18,
   "id": "5e39d10d",
   "metadata": {},
   "outputs": [
    {
     "data": {
      "text/plain": [
       "'Python.java'"
      ]
     },
     "execution_count": 18,
     "metadata": {},
     "output_type": "execute_result"
    }
   ],
   "source": [
    "str3 = \"python.java\"\n",
    "str3.capitalize() "
   ]
  },
  {
   "cell_type": "code",
   "execution_count": 20,
   "id": "fefe083e",
   "metadata": {},
   "outputs": [
    {
     "data": {
      "text/plain": [
       "'I love python.it is great'"
      ]
     },
     "execution_count": 20,
     "metadata": {},
     "output_type": "execute_result"
    }
   ],
   "source": [
    "str4 = \"i love Python.It is grEat\"\n",
    "str4.capitalize()"
   ]
  },
  {
   "cell_type": "markdown",
   "id": "9d53ad1d",
   "metadata": {},
   "source": [
    "> Only capitalize the first character of the string. More specifically, make the first character have upper case and the rest lower\n",
    "case.\n",
    "\n",
    "> No impact of period/full stop\n",
    "\n",
    "> Doesn't make change in the original string"
   ]
  },
  {
   "cell_type": "code",
   "execution_count": 21,
   "id": "235984bf",
   "metadata": {},
   "outputs": [
    {
     "data": {
      "text/plain": [
       "'python.java'"
      ]
     },
     "execution_count": 21,
     "metadata": {},
     "output_type": "execute_result"
    }
   ],
   "source": [
    "str3"
   ]
  },
  {
   "cell_type": "code",
   "execution_count": null,
   "id": "b24db579",
   "metadata": {},
   "outputs": [],
   "source": [
    "str2 = \"i love Python.it is great\""
   ]
  },
  {
   "cell_type": "code",
   "execution_count": 22,
   "id": "374e4478",
   "metadata": {},
   "outputs": [],
   "source": [
    "# Program in case you need to capitalize each word in a sentence.\n",
    "## for word in sentence:\n",
    "##    word = word.capitalize()"
   ]
  },
  {
   "cell_type": "markdown",
   "id": "d628977f",
   "metadata": {},
   "source": [
    "### Very Important - IMP - split()"
   ]
  },
  {
   "cell_type": "markdown",
   "id": "252a81ed",
   "metadata": {},
   "source": [
    "### split()"
   ]
  },
  {
   "cell_type": "code",
   "execution_count": 23,
   "id": "4ca0a212",
   "metadata": {},
   "outputs": [],
   "source": [
    "str3 = 'I love Python'"
   ]
  },
  {
   "cell_type": "code",
   "execution_count": 24,
   "id": "c9da41dc",
   "metadata": {},
   "outputs": [
    {
     "data": {
      "text/plain": [
       "['I', 'love', 'Python']"
      ]
     },
     "execution_count": 24,
     "metadata": {},
     "output_type": "execute_result"
    }
   ],
   "source": [
    "str3.split()"
   ]
  },
  {
   "cell_type": "code",
   "execution_count": 25,
   "id": "e9e84d2a",
   "metadata": {},
   "outputs": [
    {
     "name": "stdout",
     "output_type": "stream",
     "text": [
      "I\n",
      "Love\n",
      "Python\n"
     ]
    }
   ],
   "source": [
    "for word in str3.split():\n",
    "    print(word.capitalize())"
   ]
  },
  {
   "cell_type": "code",
   "execution_count": 26,
   "id": "375fff4f",
   "metadata": {},
   "outputs": [
    {
     "data": {
      "text/plain": [
       "['I,love,python']"
      ]
     },
     "execution_count": 26,
     "metadata": {},
     "output_type": "execute_result"
    }
   ],
   "source": [
    "str4 = \"I,love,python\"\n",
    "str4.split()"
   ]
  },
  {
   "cell_type": "code",
   "execution_count": 27,
   "id": "f2f6c4c8",
   "metadata": {},
   "outputs": [
    {
     "data": {
      "text/plain": [
       "['I', 'love', 'python']"
      ]
     },
     "execution_count": 27,
     "metadata": {},
     "output_type": "execute_result"
    }
   ],
   "source": [
    "str4.split(',')"
   ]
  },
  {
   "cell_type": "markdown",
   "id": "218afa8c",
   "metadata": {},
   "source": [
    "sep\n",
    "> The separator used to split the string.\n",
    "\n",
    "> When set to None (the default value), will split on any whitespace\n",
    "character (including \\\\n \\\\r \\\\t \\\\f and spaces) and will discard\n",
    "empty strings from the result."
   ]
  },
  {
   "cell_type": "markdown",
   "id": "d278717c",
   "metadata": {},
   "source": [
    "#### Why is it useful?"
   ]
  },
  {
   "cell_type": "code",
   "execution_count": 31,
   "id": "4488dfa9",
   "metadata": {},
   "outputs": [],
   "source": [
    "name = input(\"Enter your name\")"
   ]
  },
  {
   "cell_type": "code",
   "execution_count": 32,
   "id": "dd168b55",
   "metadata": {},
   "outputs": [
    {
     "data": {
      "text/plain": [
       "'Karan Manchanda'"
      ]
     },
     "execution_count": 32,
     "metadata": {},
     "output_type": "execute_result"
    }
   ],
   "source": [
    "name"
   ]
  },
  {
   "cell_type": "code",
   "execution_count": 33,
   "id": "483ca14e",
   "metadata": {},
   "outputs": [
    {
     "data": {
      "text/plain": [
       "['Karan', 'Manchanda']"
      ]
     },
     "execution_count": 33,
     "metadata": {},
     "output_type": "execute_result"
    }
   ],
   "source": [
    "name.split()"
   ]
  },
  {
   "cell_type": "code",
   "execution_count": 34,
   "id": "cc739a7a",
   "metadata": {},
   "outputs": [],
   "source": [
    "number = input('Enter your number')"
   ]
  },
  {
   "cell_type": "code",
   "execution_count": 35,
   "id": "cd835413",
   "metadata": {},
   "outputs": [
    {
     "data": {
      "text/plain": [
       "['1', '2', '3', '4']"
      ]
     },
     "execution_count": 35,
     "metadata": {},
     "output_type": "execute_result"
    }
   ],
   "source": [
    "number.split()"
   ]
  },
  {
   "cell_type": "markdown",
   "id": "78038865",
   "metadata": {},
   "source": [
    "- lower() \n",
    "- upper() \n",
    "- title()"
   ]
  },
  {
   "cell_type": "code",
   "execution_count": 1,
   "id": "fad6a1ac",
   "metadata": {},
   "outputs": [],
   "source": [
    "str1 = \"PYTHON\""
   ]
  },
  {
   "cell_type": "code",
   "execution_count": 2,
   "id": "9bbbc68b",
   "metadata": {},
   "outputs": [
    {
     "data": {
      "text/plain": [
       "'python'"
      ]
     },
     "execution_count": 2,
     "metadata": {},
     "output_type": "execute_result"
    }
   ],
   "source": [
    "str1.lower()"
   ]
  },
  {
   "cell_type": "code",
   "execution_count": 3,
   "id": "d161ef60",
   "metadata": {},
   "outputs": [
    {
     "data": {
      "text/plain": [
       "'PYTHON'"
      ]
     },
     "execution_count": 3,
     "metadata": {},
     "output_type": "execute_result"
    }
   ],
   "source": [
    "str1"
   ]
  },
  {
   "cell_type": "code",
   "execution_count": 4,
   "id": "85af5aea",
   "metadata": {},
   "outputs": [],
   "source": [
    "str2 = str1.lower()"
   ]
  },
  {
   "cell_type": "code",
   "execution_count": 5,
   "id": "a06b01c0",
   "metadata": {},
   "outputs": [
    {
     "data": {
      "text/plain": [
       "'python'"
      ]
     },
     "execution_count": 5,
     "metadata": {},
     "output_type": "execute_result"
    }
   ],
   "source": [
    "str2"
   ]
  },
  {
   "cell_type": "code",
   "execution_count": 6,
   "id": "1c1a951b",
   "metadata": {},
   "outputs": [
    {
     "data": {
      "text/plain": [
       "'PYTHON'"
      ]
     },
     "execution_count": 6,
     "metadata": {},
     "output_type": "execute_result"
    }
   ],
   "source": [
    "str2.upper()"
   ]
  },
  {
   "cell_type": "code",
   "execution_count": 7,
   "id": "c954c064",
   "metadata": {},
   "outputs": [
    {
     "data": {
      "text/plain": [
       "'python'"
      ]
     },
     "execution_count": 7,
     "metadata": {},
     "output_type": "execute_result"
    }
   ],
   "source": [
    "str2"
   ]
  },
  {
   "cell_type": "code",
   "execution_count": 8,
   "id": "f95e6d1e",
   "metadata": {},
   "outputs": [],
   "source": [
    "str3= \"I love pyThon\""
   ]
  },
  {
   "cell_type": "code",
   "execution_count": 9,
   "id": "0b7baa81",
   "metadata": {},
   "outputs": [
    {
     "data": {
      "text/plain": [
       "'I Love Python'"
      ]
     },
     "execution_count": 9,
     "metadata": {},
     "output_type": "execute_result"
    }
   ],
   "source": [
    "str3.title()"
   ]
  },
  {
   "cell_type": "code",
   "execution_count": 10,
   "id": "2c294cde",
   "metadata": {},
   "outputs": [],
   "source": [
    "str4= \" i LOVE pYtHoN\""
   ]
  },
  {
   "cell_type": "code",
   "execution_count": 11,
   "id": "97d8dde5",
   "metadata": {},
   "outputs": [
    {
     "data": {
      "text/plain": [
       "' I love PyThOn'"
      ]
     },
     "execution_count": 11,
     "metadata": {},
     "output_type": "execute_result"
    }
   ],
   "source": [
    "str4.swapcase()"
   ]
  },
  {
   "cell_type": "markdown",
   "id": "3f06eb64",
   "metadata": {},
   "source": [
    "- islower() \n",
    "- isupper() \n",
    "- isalpha() \n",
    "- isalnum()"
   ]
  },
  {
   "cell_type": "code",
   "execution_count": 12,
   "id": "71e24739",
   "metadata": {},
   "outputs": [],
   "source": [
    "str1 = \"python\""
   ]
  },
  {
   "cell_type": "code",
   "execution_count": 13,
   "id": "4fcf3d9c",
   "metadata": {},
   "outputs": [
    {
     "data": {
      "text/plain": [
       "True"
      ]
     },
     "execution_count": 13,
     "metadata": {},
     "output_type": "execute_result"
    }
   ],
   "source": [
    "str1.islower()"
   ]
  },
  {
   "cell_type": "code",
   "execution_count": 14,
   "id": "c05f7577",
   "metadata": {},
   "outputs": [
    {
     "data": {
      "text/plain": [
       "False"
      ]
     },
     "execution_count": 14,
     "metadata": {},
     "output_type": "execute_result"
    }
   ],
   "source": [
    "str1.isupper()"
   ]
  },
  {
   "cell_type": "code",
   "execution_count": 15,
   "id": "041a15e9",
   "metadata": {},
   "outputs": [
    {
     "data": {
      "text/plain": [
       "True"
      ]
     },
     "execution_count": 15,
     "metadata": {},
     "output_type": "execute_result"
    }
   ],
   "source": [
    "str1.isalnum()\n",
    "\n",
    "#a-z\n",
    "#A-Z\n",
    "# 0-9"
   ]
  },
  {
   "cell_type": "code",
   "execution_count": 22,
   "id": "59b8b7f4",
   "metadata": {},
   "outputs": [
    {
     "data": {
      "text/plain": [
       "True"
      ]
     },
     "execution_count": 22,
     "metadata": {},
     "output_type": "execute_result"
    }
   ],
   "source": [
    "str2 = 'Bj0lgB5LwBpodD'\n",
    "str2.isalnum()"
   ]
  },
  {
   "cell_type": "code",
   "execution_count": 23,
   "id": "fe435a07",
   "metadata": {},
   "outputs": [],
   "source": [
    "str2 = \"p t h\""
   ]
  },
  {
   "cell_type": "code",
   "execution_count": 24,
   "id": "cc342d8c",
   "metadata": {},
   "outputs": [
    {
     "data": {
      "text/plain": [
       "False"
      ]
     },
     "execution_count": 24,
     "metadata": {},
     "output_type": "execute_result"
    }
   ],
   "source": [
    "str2.isalnum()"
   ]
  },
  {
   "cell_type": "code",
   "execution_count": 25,
   "id": "842b1da4",
   "metadata": {},
   "outputs": [
    {
     "data": {
      "text/plain": [
       "True"
      ]
     },
     "execution_count": 25,
     "metadata": {},
     "output_type": "execute_result"
    }
   ],
   "source": [
    "str1.isalnum()"
   ]
  },
  {
   "cell_type": "code",
   "execution_count": 26,
   "id": "b92cd33b",
   "metadata": {},
   "outputs": [],
   "source": [
    "str5 = '1265626456'"
   ]
  },
  {
   "cell_type": "code",
   "execution_count": 27,
   "id": "2c321c5c",
   "metadata": {},
   "outputs": [
    {
     "data": {
      "text/plain": [
       "True"
      ]
     },
     "execution_count": 27,
     "metadata": {},
     "output_type": "execute_result"
    }
   ],
   "source": [
    "str5.isalnum()"
   ]
  },
  {
   "cell_type": "code",
   "execution_count": 30,
   "id": "5caa127a",
   "metadata": {},
   "outputs": [
    {
     "data": {
      "text/plain": [
       "True"
      ]
     },
     "execution_count": 30,
     "metadata": {},
     "output_type": "execute_result"
    }
   ],
   "source": [
    "str4 = 'abcAABSBOBVSOB'\n",
    "str4.isalpha()"
   ]
  },
  {
   "cell_type": "code",
   "execution_count": 31,
   "id": "99dc75a5",
   "metadata": {},
   "outputs": [
    {
     "data": {
      "text/plain": [
       "False"
      ]
     },
     "execution_count": 31,
     "metadata": {},
     "output_type": "execute_result"
    }
   ],
   "source": [
    "str4 = 'abcAABSBOBVSOB&&&&%%'\n",
    "str4.isalpha()"
   ]
  },
  {
   "cell_type": "markdown",
   "id": "5f55ea2c",
   "metadata": {},
   "source": [
    "### isdigit()"
   ]
  },
  {
   "cell_type": "code",
   "execution_count": 32,
   "id": "30678c98",
   "metadata": {},
   "outputs": [
    {
     "data": {
      "text/plain": [
       "False"
      ]
     },
     "execution_count": 32,
     "metadata": {},
     "output_type": "execute_result"
    }
   ],
   "source": [
    "str4.isdigit()"
   ]
  },
  {
   "cell_type": "code",
   "execution_count": 33,
   "id": "8a763195",
   "metadata": {},
   "outputs": [
    {
     "data": {
      "text/plain": [
       "True"
      ]
     },
     "execution_count": 33,
     "metadata": {},
     "output_type": "execute_result"
    }
   ],
   "source": [
    "str4.isascii()"
   ]
  },
  {
   "cell_type": "code",
   "execution_count": 35,
   "id": "42ac0745",
   "metadata": {},
   "outputs": [
    {
     "data": {
      "text/plain": [
       "True"
      ]
     },
     "execution_count": 35,
     "metadata": {},
     "output_type": "execute_result"
    }
   ],
   "source": [
    "str4 = '123'\n",
    "str4.isdecimal()"
   ]
  },
  {
   "cell_type": "markdown",
   "id": "65b68f67",
   "metadata": {},
   "source": [
    "### isspace()"
   ]
  },
  {
   "cell_type": "markdown",
   "id": "9691093a",
   "metadata": {},
   "source": [
    "#### Return True if the string is a whitespace string, False otherwise."
   ]
  },
  {
   "cell_type": "code",
   "execution_count": 36,
   "id": "0db11152",
   "metadata": {},
   "outputs": [
    {
     "data": {
      "text/plain": [
       "True"
      ]
     },
     "execution_count": 36,
     "metadata": {},
     "output_type": "execute_result"
    }
   ],
   "source": [
    "str2 = '  '\n",
    "str2.isspace()"
   ]
  },
  {
   "cell_type": "code",
   "execution_count": 37,
   "id": "4d4e4a97",
   "metadata": {},
   "outputs": [
    {
     "data": {
      "text/plain": [
       "False"
      ]
     },
     "execution_count": 37,
     "metadata": {},
     "output_type": "execute_result"
    }
   ],
   "source": [
    "str2 = ' a '\n",
    "str2.isspace()"
   ]
  },
  {
   "cell_type": "code",
   "execution_count": 38,
   "id": "53730ef0",
   "metadata": {},
   "outputs": [
    {
     "data": {
      "text/plain": [
       "False"
      ]
     },
     "execution_count": 38,
     "metadata": {},
     "output_type": "execute_result"
    }
   ],
   "source": [
    "str4=\"\"\n",
    "str4.isspace()"
   ]
  },
  {
   "cell_type": "code",
   "execution_count": 39,
   "id": "a44e18d3",
   "metadata": {},
   "outputs": [
    {
     "data": {
      "text/plain": [
       "False"
      ]
     },
     "execution_count": 39,
     "metadata": {},
     "output_type": "execute_result"
    }
   ],
   "source": [
    "test=\"python\"+str(\"\\n\")\n",
    "test.isspace()"
   ]
  },
  {
   "cell_type": "markdown",
   "id": "2657ea2d",
   "metadata": {},
   "source": [
    "- startswith \n",
    "- endswith"
   ]
  },
  {
   "cell_type": "code",
   "execution_count": 40,
   "id": "3041c229",
   "metadata": {},
   "outputs": [],
   "source": [
    "text = \"i love Machine Learning\""
   ]
  },
  {
   "cell_type": "code",
   "execution_count": 41,
   "id": "1f003cad",
   "metadata": {},
   "outputs": [
    {
     "data": {
      "text/plain": [
       "True"
      ]
     },
     "execution_count": 41,
     "metadata": {},
     "output_type": "execute_result"
    }
   ],
   "source": [
    "text.startswith(\"i\")"
   ]
  },
  {
   "cell_type": "code",
   "execution_count": 42,
   "id": "acdd2d7f",
   "metadata": {},
   "outputs": [
    {
     "data": {
      "text/plain": [
       "True"
      ]
     },
     "execution_count": 42,
     "metadata": {},
     "output_type": "execute_result"
    }
   ],
   "source": [
    "text.endswith('g')"
   ]
  },
  {
   "cell_type": "code",
   "execution_count": 43,
   "id": "8467d346",
   "metadata": {},
   "outputs": [
    {
     "data": {
      "text/plain": [
       "True"
      ]
     },
     "execution_count": 43,
     "metadata": {},
     "output_type": "execute_result"
    }
   ],
   "source": [
    "text.endswith(' Learning')"
   ]
  },
  {
   "cell_type": "code",
   "execution_count": 44,
   "id": "64ccbc21",
   "metadata": {},
   "outputs": [
    {
     "data": {
      "text/plain": [
       "False"
      ]
     },
     "execution_count": 44,
     "metadata": {},
     "output_type": "execute_result"
    }
   ],
   "source": [
    "text.startswith(\"I\")"
   ]
  },
  {
   "cell_type": "markdown",
   "id": "11eab85c",
   "metadata": {},
   "source": [
    "### count()"
   ]
  },
  {
   "cell_type": "code",
   "execution_count": 45,
   "id": "bddc5047",
   "metadata": {},
   "outputs": [],
   "source": [
    "text = \"I love python, it is amazing. is great, is best\""
   ]
  },
  {
   "cell_type": "code",
   "execution_count": 46,
   "id": "33adfdf2",
   "metadata": {},
   "outputs": [
    {
     "data": {
      "text/plain": [
       "3"
      ]
     },
     "execution_count": 46,
     "metadata": {},
     "output_type": "execute_result"
    }
   ],
   "source": [
    "text.count('is')"
   ]
  },
  {
   "cell_type": "code",
   "execution_count": null,
   "id": "1ee6d0d8",
   "metadata": {},
   "outputs": [
    {
     "data": {
      "text/plain": [
       "4"
      ]
     },
     "execution_count": 47,
     "metadata": {},
     "output_type": "execute_result"
    }
   ],
   "source": [
    "text1 = \"I love python, it isamazing. is great, isa is best\"\n",
    "text1.count('is')"
   ]
  },
  {
   "cell_type": "markdown",
   "id": "61e05a82",
   "metadata": {},
   "source": [
    "#### IMP"
   ]
  },
  {
   "cell_type": "markdown",
   "id": "3a9c9ce7",
   "metadata": {},
   "source": [
    "## join()"
   ]
  },
  {
   "cell_type": "code",
   "execution_count": 51,
   "id": "776bffa0",
   "metadata": {},
   "outputs": [],
   "source": [
    "l2 = [' karan','manchanda']"
   ]
  },
  {
   "cell_type": "markdown",
   "id": "22aaee4b",
   "metadata": {},
   "source": [
    "> Concatenate any number of strings.\n",
    "\n",
    "> The string whose method is called is inserted in between each given string or element. The result is returned as a new string.\n",
    "\n",
    "> Example: '.'.join(['ab', 'pq', 'rs']) -> 'ab.pq.rs'"
   ]
  },
  {
   "cell_type": "code",
   "execution_count": 52,
   "id": "9e50c156",
   "metadata": {},
   "outputs": [
    {
     "data": {
      "text/plain": [
       "' karan manchanda'"
      ]
     },
     "execution_count": 52,
     "metadata": {},
     "output_type": "execute_result"
    }
   ],
   "source": [
    "\" \".join(l2)"
   ]
  },
  {
   "cell_type": "code",
   "execution_count": 54,
   "id": "317c25fd",
   "metadata": {},
   "outputs": [],
   "source": [
    "s2 = 'karan manchanda'"
   ]
  },
  {
   "cell_type": "code",
   "execution_count": 55,
   "id": "77cdfdd5",
   "metadata": {},
   "outputs": [
    {
     "data": {
      "text/plain": [
       "'k a r a n   m a n c h a n d a'"
      ]
     },
     "execution_count": 55,
     "metadata": {},
     "output_type": "execute_result"
    }
   ],
   "source": [
    "\" \".join(s2)"
   ]
  },
  {
   "cell_type": "code",
   "execution_count": 56,
   "id": "0aa2eed5",
   "metadata": {},
   "outputs": [
    {
     "data": {
      "text/plain": [
       "'a@b@c'"
      ]
     },
     "execution_count": 56,
     "metadata": {},
     "output_type": "execute_result"
    }
   ],
   "source": [
    "'@'.join('abc')"
   ]
  },
  {
   "cell_type": "code",
   "execution_count": 57,
   "id": "43051598",
   "metadata": {},
   "outputs": [
    {
     "data": {
      "text/plain": [
       "'a123b123c'"
      ]
     },
     "execution_count": 57,
     "metadata": {},
     "output_type": "execute_result"
    }
   ],
   "source": [
    "'123'.join('abc')\n",
    "#'a123b123c'"
   ]
  },
  {
   "cell_type": "code",
   "execution_count": 58,
   "id": "d52e5ba6",
   "metadata": {},
   "outputs": [
    {
     "data": {
      "text/plain": [
       "'m a n   c h a'"
      ]
     },
     "execution_count": 58,
     "metadata": {},
     "output_type": "execute_result"
    }
   ],
   "source": [
    "\" \".join('man cha')"
   ]
  },
  {
   "cell_type": "code",
   "execution_count": 59,
   "id": "71f7001f",
   "metadata": {},
   "outputs": [
    {
     "data": {
      "text/plain": [
       "'m@a@n@ @c@h@a'"
      ]
     },
     "execution_count": 59,
     "metadata": {},
     "output_type": "execute_result"
    }
   ],
   "source": [
    "\"@\".join('man cha')"
   ]
  }
 ],
 "metadata": {
  "kernelspec": {
   "display_name": "Python 3",
   "language": "python",
   "name": "python3"
  },
  "language_info": {
   "codemirror_mode": {
    "name": "ipython",
    "version": 3
   },
   "file_extension": ".py",
   "mimetype": "text/x-python",
   "name": "python",
   "nbconvert_exporter": "python",
   "pygments_lexer": "ipython3",
   "version": "3.12.0"
  }
 },
 "nbformat": 4,
 "nbformat_minor": 5
}
