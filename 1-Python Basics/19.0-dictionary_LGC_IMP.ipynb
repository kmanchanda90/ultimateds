{
 "cells": [
  {
   "cell_type": "markdown",
   "id": "ea55b500",
   "metadata": {},
   "source": [
    "## dictionary"
   ]
  },
  {
   "cell_type": "markdown",
   "id": "73335950",
   "metadata": {},
   "source": [
    "#### *WAP to count the number of times a character has appeared in the given string.*"
   ]
  },
  {
   "cell_type": "code",
   "execution_count": null,
   "id": "ac37719b",
   "metadata": {},
   "outputs": [
    {
     "name": "stdout",
     "output_type": "stream",
     "text": [
      "The character 'p' has occured: 1 time(s)\n",
      "The character 'y' has occured: 1 time(s)\n",
      "The character 't' has occured: 1 time(s)\n",
      "The character 'h' has occured: 1 time(s)\n",
      "The character 'o' has occured: 1 time(s)\n",
      "The character 'n' has occured: 2 time(s)\n",
      "The character ' ' has occured: 2 time(s)\n",
      "The character 'i' has occured: 2 time(s)\n",
      "The character 's' has occured: 1 time(s)\n",
      "The character ' ' has occured: 2 time(s)\n",
      "The character 'n' has occured: 2 time(s)\n",
      "The character 'i' has occured: 2 time(s)\n",
      "The character 'c' has occured: 1 time(s)\n",
      "The character 'e' has occured: 1 time(s)\n"
     ]
    }
   ],
   "source": [
    "# Option 1 - My logic\n",
    "\n",
    "str = 'python is nice'\n",
    "\n",
    "l=[]\n",
    "l.extend(str)\n",
    "l\n",
    "\n",
    "for char in l:\n",
    "    charCount = l.count(char)\n",
    "    print(f'The character \\'{char}\\' has occured: {charCount} time(s)')"
   ]
  },
  {
   "cell_type": "markdown",
   "id": "294ee512",
   "metadata": {},
   "source": [
    "##### LGC"
   ]
  },
  {
   "cell_type": "code",
   "execution_count": null,
   "id": "638fa5f3",
   "metadata": {},
   "outputs": [
    {
     "name": "stdout",
     "output_type": "stream",
     "text": [
      "[3, 2, 2, 2, 0, 0, 0, 0, 0, 0, 0, 0, 0, 0, 0, 0, 0, 0, 0, 0, 0, 0, 0, 0, 0, 0]\n"
     ]
    }
   ],
   "source": [
    "# Option 2\n",
    "charList = [0 for i in range(26)]\n",
    "charList\n",
    "\n",
    "s='aaacc bb dd'\n",
    "for char in s:\n",
    "    if(char.isalpha()):\n",
    "        charList[ord(char)-97] +=1 # subtracted ord('a') => 97 to fill-up the value at index 0\n",
    "print(charList)"
   ]
  },
  {
   "cell_type": "code",
   "execution_count": 21,
   "id": "be846c41",
   "metadata": {},
   "outputs": [
    {
     "name": "stdout",
     "output_type": "stream",
     "text": [
      "a 3\n",
      "b 2\n",
      "c 2\n",
      "d 2\n",
      "e 0\n",
      "f 0\n",
      "g 0\n",
      "h 0\n",
      "i 0\n",
      "j 0\n",
      "k 0\n",
      "l 0\n",
      "m 0\n",
      "n 0\n",
      "o 0\n",
      "p 0\n",
      "q 0\n",
      "r 0\n",
      "s 0\n",
      "t 0\n",
      "u 0\n",
      "v 0\n",
      "w 0\n",
      "x 0\n",
      "y 0\n",
      "z 0\n"
     ]
    }
   ],
   "source": [
    "for i in range(26):\n",
    "    charac = chr(97+i)\n",
    "    print(f'{charac} {charList[i]}')"
   ]
  },
  {
   "cell_type": "code",
   "execution_count": 1,
   "id": "9affda58",
   "metadata": {},
   "outputs": [],
   "source": [
    "d = {\n",
    "     'key1':1,\n",
    "     'key2':2\n",
    "    }"
   ]
  },
  {
   "cell_type": "code",
   "execution_count": 23,
   "id": "0cb4dc46",
   "metadata": {},
   "outputs": [
    {
     "data": {
      "text/plain": [
       "{'key1': 1, 'key2': 2}"
      ]
     },
     "execution_count": 23,
     "metadata": {},
     "output_type": "execute_result"
    }
   ],
   "source": [
    "d"
   ]
  },
  {
   "cell_type": "code",
   "execution_count": null,
   "id": "4cfacc37",
   "metadata": {},
   "outputs": [
    {
     "name": "stdout",
     "output_type": "stream",
     "text": [
      "0\n"
     ]
    }
   ],
   "source": [
    "try:\n",
    "    d[0]\n",
    "except Exception as e:\n",
    "    print(e)"
   ]
  },
  {
   "cell_type": "code",
   "execution_count": 25,
   "id": "cd3f5d38",
   "metadata": {},
   "outputs": [
    {
     "data": {
      "text/plain": [
       "1"
      ]
     },
     "execution_count": 25,
     "metadata": {},
     "output_type": "execute_result"
    }
   ],
   "source": [
    "d['key1']"
   ]
  },
  {
   "cell_type": "code",
   "execution_count": 27,
   "id": "4ffffdf7",
   "metadata": {},
   "outputs": [
    {
     "data": {
      "text/plain": [
       "dict"
      ]
     },
     "execution_count": 27,
     "metadata": {},
     "output_type": "execute_result"
    }
   ],
   "source": [
    "type(d)"
   ]
  },
  {
   "cell_type": "code",
   "execution_count": 2,
   "id": "67b561d4",
   "metadata": {},
   "outputs": [],
   "source": [
    "d['key1'] = 'this is my new value'"
   ]
  },
  {
   "cell_type": "code",
   "execution_count": 3,
   "id": "d0140799",
   "metadata": {},
   "outputs": [
    {
     "data": {
      "text/plain": [
       "{'key1': 'this is my new value', 'key2': 2}"
      ]
     },
     "execution_count": 3,
     "metadata": {},
     "output_type": "execute_result"
    }
   ],
   "source": [
    "d"
   ]
  },
  {
   "cell_type": "code",
   "execution_count": 4,
   "id": "d370529a",
   "metadata": {},
   "outputs": [],
   "source": [
    "d['key2'] = (1,2)"
   ]
  },
  {
   "cell_type": "code",
   "execution_count": 5,
   "id": "d1548146",
   "metadata": {},
   "outputs": [
    {
     "data": {
      "text/plain": [
       "{'key1': 'this is my new value', 'key2': (1, 2)}"
      ]
     },
     "execution_count": 5,
     "metadata": {},
     "output_type": "execute_result"
    }
   ],
   "source": [
    "d"
   ]
  },
  {
   "cell_type": "code",
   "execution_count": 6,
   "id": "6622c518",
   "metadata": {},
   "outputs": [
    {
     "data": {
      "text/plain": [
       "(1, 2)"
      ]
     },
     "execution_count": 6,
     "metadata": {},
     "output_type": "execute_result"
    }
   ],
   "source": [
    "d['key2']"
   ]
  },
  {
   "cell_type": "code",
   "execution_count": 7,
   "id": "57b567c9",
   "metadata": {},
   "outputs": [
    {
     "data": {
      "text/plain": [
       "2"
      ]
     },
     "execution_count": 7,
     "metadata": {},
     "output_type": "execute_result"
    }
   ],
   "source": [
    "len(d)"
   ]
  },
  {
   "cell_type": "code",
   "execution_count": 8,
   "id": "0d8fd139",
   "metadata": {},
   "outputs": [],
   "source": [
    "d1 = {\n",
    "    1:'one',\n",
    "    2:'two',\n",
    "    3:'three',\n",
    "    1000:'one thousand'\n",
    "}"
   ]
  },
  {
   "cell_type": "code",
   "execution_count": 9,
   "id": "2707984a",
   "metadata": {},
   "outputs": [
    {
     "data": {
      "text/plain": [
       "'one'"
      ]
     },
     "execution_count": 9,
     "metadata": {},
     "output_type": "execute_result"
    }
   ],
   "source": [
    "d1[1]"
   ]
  },
  {
   "cell_type": "code",
   "execution_count": 14,
   "id": "825261de",
   "metadata": {},
   "outputs": [
    {
     "name": "stdout",
     "output_type": "stream",
     "text": [
      "0\n"
     ]
    }
   ],
   "source": [
    "try:\n",
    "    d1[0]\n",
    "except Exception as e:\n",
    "    print(e)"
   ]
  },
  {
   "cell_type": "code",
   "execution_count": 11,
   "id": "a700fef4",
   "metadata": {},
   "outputs": [
    {
     "name": "stdout",
     "output_type": "stream",
     "text": [
      "4\n"
     ]
    }
   ],
   "source": [
    "try:\n",
    "    d1[4]\n",
    "except Exception as e:\n",
    "    print(e)"
   ]
  },
  {
   "cell_type": "markdown",
   "id": "4fa72f41",
   "metadata": {},
   "source": [
    "### Looping in dict"
   ]
  },
  {
   "cell_type": "code",
   "execution_count": 17,
   "id": "61a4439b",
   "metadata": {},
   "outputs": [
    {
     "name": "stdout",
     "output_type": "stream",
     "text": [
      "{1: 'one', 2: 'two', 3: 'three', 1000: 'one thousand'}\n",
      "{1: 'one', 2: 'two', 3: 'three', 1000: 'one thousand'}\n",
      "{1: 'one', 2: 'two', 3: 'three', 1000: 'one thousand'}\n",
      "{1: 'one', 2: 'two', 3: 'three', 1000: 'one thousand'}\n"
     ]
    }
   ],
   "source": [
    "for i in d1:\n",
    "    print(d1)\n",
    "\n",
    "# By default, we iterate over keys"
   ]
  },
  {
   "cell_type": "code",
   "execution_count": 19,
   "id": "cb171097",
   "metadata": {},
   "outputs": [
    {
     "name": "stdout",
     "output_type": "stream",
     "text": [
      "one\n",
      "two\n",
      "three\n",
      "one thousand\n"
     ]
    }
   ],
   "source": [
    "# iterate on values\n",
    "\n",
    "for i in d1.values():\n",
    "    print(i)"
   ]
  },
  {
   "cell_type": "code",
   "execution_count": 20,
   "id": "ffb0aacb",
   "metadata": {},
   "outputs": [
    {
     "name": "stdout",
     "output_type": "stream",
     "text": [
      "1\n",
      "2\n",
      "3\n",
      "1000\n"
     ]
    }
   ],
   "source": [
    "# iterate on keys\n",
    "\n",
    "for i in d1.keys():\n",
    "    print(i)"
   ]
  },
  {
   "cell_type": "code",
   "execution_count": 22,
   "id": "38346b2a",
   "metadata": {},
   "outputs": [
    {
     "name": "stdout",
     "output_type": "stream",
     "text": [
      "(1, 'one')\n",
      "(2, 'two')\n",
      "(3, 'three')\n",
      "(1000, 'one thousand')\n"
     ]
    }
   ],
   "source": [
    "# iterate on items\n",
    "# Item is a tuple\n",
    "\n",
    "for i in d1.items():\n",
    "    print(i)"
   ]
  },
  {
   "cell_type": "code",
   "execution_count": 23,
   "id": "eab73cda",
   "metadata": {},
   "outputs": [
    {
     "name": "stdout",
     "output_type": "stream",
     "text": [
      "1 - one\n",
      "2 - two\n",
      "3 - three\n",
      "1000 - one thousand\n"
     ]
    }
   ],
   "source": [
    "for key,value in d1.items():\n",
    "    print(f'{key} - {value}')"
   ]
  },
  {
   "cell_type": "code",
   "execution_count": null,
   "id": "ae5c29aa",
   "metadata": {},
   "outputs": [],
   "source": [
    "# update (Option 1)\n",
    "\n",
    "d1[1] = 'this is a new value'"
   ]
  },
  {
   "cell_type": "code",
   "execution_count": 25,
   "id": "6a155574",
   "metadata": {},
   "outputs": [
    {
     "data": {
      "text/plain": [
       "{1: 'this is a new value', 2: 'two', 3: 'three', 1000: 'one thousand'}"
      ]
     },
     "execution_count": 25,
     "metadata": {},
     "output_type": "execute_result"
    }
   ],
   "source": [
    "d1"
   ]
  },
  {
   "cell_type": "code",
   "execution_count": null,
   "id": "a37e4907",
   "metadata": {},
   "outputs": [],
   "source": [
    "# option 2\n",
    "d1.update({1:'newvalue'})"
   ]
  },
  {
   "cell_type": "code",
   "execution_count": 27,
   "id": "96e12c15",
   "metadata": {},
   "outputs": [
    {
     "data": {
      "text/plain": [
       "{1: 'newvalue', 2: 'two', 3: 'three', 1000: 'one thousand'}"
      ]
     },
     "execution_count": 27,
     "metadata": {},
     "output_type": "execute_result"
    }
   ],
   "source": [
    "d1"
   ]
  },
  {
   "cell_type": "code",
   "execution_count": 28,
   "id": "b44969c6",
   "metadata": {},
   "outputs": [],
   "source": [
    "d1.update({0:'test'})"
   ]
  },
  {
   "cell_type": "code",
   "execution_count": 29,
   "id": "d2d07076",
   "metadata": {},
   "outputs": [
    {
     "data": {
      "text/plain": [
       "{1: 'newvalue', 2: 'two', 3: 'three', 1000: 'one thousand', 0: 'test'}"
      ]
     },
     "execution_count": 29,
     "metadata": {},
     "output_type": "execute_result"
    }
   ],
   "source": [
    "d1"
   ]
  },
  {
   "cell_type": "code",
   "execution_count": 32,
   "id": "1d9b3166",
   "metadata": {},
   "outputs": [],
   "source": [
    "d1[5] = [2,2,2] # this is also valid"
   ]
  },
  {
   "cell_type": "code",
   "execution_count": 33,
   "id": "0454ee47",
   "metadata": {},
   "outputs": [
    {
     "data": {
      "text/plain": [
       "{1: 'newvalue',\n",
       " 2: 'two',\n",
       " 3: 'three',\n",
       " 1000: 'one thousand',\n",
       " 0: 'test',\n",
       " 5: [2, 2, 2]}"
      ]
     },
     "execution_count": 33,
     "metadata": {},
     "output_type": "execute_result"
    }
   ],
   "source": [
    "d1"
   ]
  },
  {
   "cell_type": "markdown",
   "id": "1f48021c",
   "metadata": {},
   "source": [
    "### It is update or Insert : Upsert (in db terms we use this)"
   ]
  },
  {
   "cell_type": "markdown",
   "id": "ba670120",
   "metadata": {},
   "source": [
    "### Methods in Dictionary"
   ]
  },
  {
   "cell_type": "markdown",
   "id": "542fcbc1",
   "metadata": {},
   "source": [
    "- clear()\n",
    "- copy()\n",
    "- get()\n",
    "- keys()\n",
    "- values()\n",
    "- items()\n",
    "- update()\n",
    "- pop()\n",
    "- popitem()"
   ]
  },
  {
   "cell_type": "code",
   "execution_count": 34,
   "id": "69c59a87",
   "metadata": {},
   "outputs": [
    {
     "data": {
      "text/plain": [
       "{1: 'newvalue',\n",
       " 2: 'two',\n",
       " 3: 'three',\n",
       " 1000: 'one thousand',\n",
       " 0: 'test',\n",
       " 5: [2, 2, 2]}"
      ]
     },
     "execution_count": 34,
     "metadata": {},
     "output_type": "execute_result"
    }
   ],
   "source": [
    "d1"
   ]
  },
  {
   "cell_type": "code",
   "execution_count": 2,
   "id": "43820a98",
   "metadata": {},
   "outputs": [],
   "source": [
    "dic0 = {\n",
    "        'key1':748,\n",
    "        1:899,\n",
    "        2:['a','b','c'],\n",
    "        3:(3,3,2),\n",
    "        4:{'k1':'v1'} \n",
    "        }"
   ]
  },
  {
   "cell_type": "code",
   "execution_count": 3,
   "id": "0ba01e8a",
   "metadata": {},
   "outputs": [
    {
     "data": {
      "text/plain": [
       "{'key1': 748, 1: 899, 2: ['a', 'b', 'c'], 3: (3, 3, 2), 4: {'k1': 'v1'}}"
      ]
     },
     "execution_count": 3,
     "metadata": {},
     "output_type": "execute_result"
    }
   ],
   "source": [
    "dic0"
   ]
  },
  {
   "cell_type": "code",
   "execution_count": 5,
   "id": "88f98d82",
   "metadata": {},
   "outputs": [
    {
     "data": {
      "text/plain": [
       "dict"
      ]
     },
     "execution_count": 5,
     "metadata": {},
     "output_type": "execute_result"
    }
   ],
   "source": [
    "type(dic0)"
   ]
  },
  {
   "cell_type": "code",
   "execution_count": 6,
   "id": "211a05ec",
   "metadata": {},
   "outputs": [
    {
     "data": {
      "text/plain": [
       "2367853601280"
      ]
     },
     "execution_count": 6,
     "metadata": {},
     "output_type": "execute_result"
    }
   ],
   "source": [
    "id(dic0)"
   ]
  },
  {
   "cell_type": "code",
   "execution_count": 79,
   "id": "94b3a122",
   "metadata": {},
   "outputs": [],
   "source": [
    "dic1 = dic0.copy()"
   ]
  },
  {
   "cell_type": "code",
   "execution_count": 62,
   "id": "3c6af804",
   "metadata": {},
   "outputs": [
    {
     "data": {
      "text/plain": [
       "{'key1': 748, 1: 899, 2: ['a', 'b', 'c'], 3: (3, 3, 2), 4: {'k1': 'v1'}}"
      ]
     },
     "execution_count": 62,
     "metadata": {},
     "output_type": "execute_result"
    }
   ],
   "source": [
    "dic1"
   ]
  },
  {
   "cell_type": "code",
   "execution_count": 9,
   "id": "bea2a14b",
   "metadata": {},
   "outputs": [],
   "source": [
    "dic1.update({'k2':54})"
   ]
  },
  {
   "cell_type": "code",
   "execution_count": 10,
   "id": "70c93fdf",
   "metadata": {},
   "outputs": [
    {
     "data": {
      "text/plain": [
       "{'key1': 748,\n",
       " 1: 899,\n",
       " 2: ['a', 'b', 'c'],\n",
       " 3: (3, 3, 2),\n",
       " 4: {'k1': 'v1'},\n",
       " 'k2': 54}"
      ]
     },
     "execution_count": 10,
     "metadata": {},
     "output_type": "execute_result"
    }
   ],
   "source": [
    "dic1"
   ]
  },
  {
   "cell_type": "code",
   "execution_count": 11,
   "id": "dc7c46f3",
   "metadata": {},
   "outputs": [
    {
     "data": {
      "text/plain": [
       "{'key1': 748, 1: 899, 2: ['a', 'b', 'c'], 3: (3, 3, 2), 4: {'k1': 'v1'}}"
      ]
     },
     "execution_count": 11,
     "metadata": {},
     "output_type": "execute_result"
    }
   ],
   "source": [
    "dic0"
   ]
  },
  {
   "cell_type": "code",
   "execution_count": 12,
   "id": "2afb9b38",
   "metadata": {},
   "outputs": [
    {
     "data": {
      "text/plain": [
       "2367853601280"
      ]
     },
     "execution_count": 12,
     "metadata": {},
     "output_type": "execute_result"
    }
   ],
   "source": [
    "id(dic0)"
   ]
  },
  {
   "cell_type": "code",
   "execution_count": 13,
   "id": "d02076ec",
   "metadata": {},
   "outputs": [
    {
     "data": {
      "text/plain": [
       "2367823388416"
      ]
     },
     "execution_count": 13,
     "metadata": {},
     "output_type": "execute_result"
    }
   ],
   "source": [
    "id(dic1)"
   ]
  },
  {
   "cell_type": "code",
   "execution_count": 16,
   "id": "37234d22",
   "metadata": {},
   "outputs": [
    {
     "name": "stdout",
     "output_type": "stream",
     "text": [
      "2367798187072\n",
      "140733699803576\n",
      "140733699803608\n",
      "140733699803640\n",
      "140733699803672\n"
     ]
    }
   ],
   "source": [
    "for i in dic0.keys():\n",
    "    print(id(i))"
   ]
  },
  {
   "cell_type": "code",
   "execution_count": 17,
   "id": "65733339",
   "metadata": {},
   "outputs": [
    {
     "name": "stdout",
     "output_type": "stream",
     "text": [
      "2367798187072\n",
      "140733699803576\n",
      "140733699803608\n",
      "140733699803640\n",
      "140733699803672\n",
      "2367816544256\n"
     ]
    }
   ],
   "source": [
    "for i in dic1.keys():\n",
    "    print(id(i))"
   ]
  },
  {
   "cell_type": "code",
   "execution_count": 20,
   "id": "d6758572",
   "metadata": {},
   "outputs": [
    {
     "name": "stdout",
     "output_type": "stream",
     "text": [
      "2367798187072    2367853360816\n",
      "140733699803576    2367853360912\n",
      "140733699803608    2367853614272\n",
      "140733699803640    2367853556352\n",
      "140733699803672    2367853599552\n"
     ]
    }
   ],
   "source": [
    "for k,v in dic0.items():\n",
    "    print(id(k),id(v),sep=\"    \")"
   ]
  },
  {
   "cell_type": "code",
   "execution_count": 21,
   "id": "e9dad0fd",
   "metadata": {},
   "outputs": [
    {
     "name": "stdout",
     "output_type": "stream",
     "text": [
      "2367798187072    2367853360816\n",
      "140733699803576    2367853360912\n",
      "140733699803608    2367853614272\n",
      "140733699803640    2367853556352\n",
      "140733699803672    2367853599552\n",
      "2367816544256    140733699805272\n"
     ]
    }
   ],
   "source": [
    "for k,v in dic1.items():\n",
    "    print(id(k),id(v),sep=\"    \")"
   ]
  },
  {
   "cell_type": "code",
   "execution_count": 22,
   "id": "0af5c255",
   "metadata": {},
   "outputs": [],
   "source": [
    "dic1.clear()"
   ]
  },
  {
   "cell_type": "code",
   "execution_count": 23,
   "id": "82a32412",
   "metadata": {},
   "outputs": [
    {
     "data": {
      "text/plain": [
       "{}"
      ]
     },
     "execution_count": 23,
     "metadata": {},
     "output_type": "execute_result"
    }
   ],
   "source": [
    "dic1"
   ]
  },
  {
   "cell_type": "code",
   "execution_count": 25,
   "id": "2c14789d",
   "metadata": {},
   "outputs": [
    {
     "data": {
      "text/plain": [
       "{'key1': 748, 1: 899, 2: ['a', 'b', 'c'], 3: (3, 3, 2), 4: {'k1': 'v1'}}"
      ]
     },
     "execution_count": 25,
     "metadata": {},
     "output_type": "execute_result"
    }
   ],
   "source": [
    "dic1"
   ]
  },
  {
   "cell_type": "code",
   "execution_count": 26,
   "id": "1b599f05",
   "metadata": {},
   "outputs": [],
   "source": [
    "del(dic1)"
   ]
  },
  {
   "cell_type": "code",
   "execution_count": 28,
   "id": "ef778818",
   "metadata": {},
   "outputs": [
    {
     "name": "stdout",
     "output_type": "stream",
     "text": [
      "name 'dic1' is not defined\n"
     ]
    }
   ],
   "source": [
    "try:\n",
    "    dic1\n",
    "except Exception as e:\n",
    "    print(e)"
   ]
  },
  {
   "cell_type": "code",
   "execution_count": 30,
   "id": "65c7f17e",
   "metadata": {},
   "outputs": [
    {
     "data": {
      "text/plain": [
       "['a', 'b', 'c']"
      ]
     },
     "execution_count": 30,
     "metadata": {},
     "output_type": "execute_result"
    }
   ],
   "source": [
    "dic1.get(2)"
   ]
  },
  {
   "cell_type": "code",
   "execution_count": 31,
   "id": "c23156e7",
   "metadata": {},
   "outputs": [
    {
     "data": {
      "text/plain": [
       "{'k1': 'v1'}"
      ]
     },
     "execution_count": 31,
     "metadata": {},
     "output_type": "execute_result"
    }
   ],
   "source": [
    "dic1.get(4)"
   ]
  },
  {
   "cell_type": "code",
   "execution_count": 34,
   "id": "6b9cc9c5",
   "metadata": {},
   "outputs": [
    {
     "name": "stdout",
     "output_type": "stream",
     "text": [
      "None\n"
     ]
    }
   ],
   "source": [
    "print(dic1.get(748))"
   ]
  },
  {
   "cell_type": "code",
   "execution_count": 33,
   "id": "7ab8595c",
   "metadata": {},
   "outputs": [
    {
     "data": {
      "text/plain": [
       "{'key1': 748, 1: 899, 2: ['a', 'b', 'c'], 3: (3, 3, 2), 4: {'k1': 'v1'}}"
      ]
     },
     "execution_count": 33,
     "metadata": {},
     "output_type": "execute_result"
    }
   ],
   "source": [
    "dic1"
   ]
  },
  {
   "cell_type": "code",
   "execution_count": 35,
   "id": "1f241a06",
   "metadata": {},
   "outputs": [
    {
     "data": {
      "text/plain": [
       "{'key1': 748, 1: 899, 2: ['a', 'b', 'c'], 3: (3, 3, 2), 4: {'k1': 'v1'}}"
      ]
     },
     "execution_count": 35,
     "metadata": {},
     "output_type": "execute_result"
    }
   ],
   "source": [
    "dic1"
   ]
  },
  {
   "cell_type": "code",
   "execution_count": 36,
   "id": "7558e4da",
   "metadata": {},
   "outputs": [
    {
     "data": {
      "text/plain": [
       "899"
      ]
     },
     "execution_count": 36,
     "metadata": {},
     "output_type": "execute_result"
    }
   ],
   "source": [
    "dic1.pop(1)"
   ]
  },
  {
   "cell_type": "code",
   "execution_count": 37,
   "id": "f33b3707",
   "metadata": {},
   "outputs": [
    {
     "data": {
      "text/plain": [
       "{'key1': 748, 2: ['a', 'b', 'c'], 3: (3, 3, 2), 4: {'k1': 'v1'}}"
      ]
     },
     "execution_count": 37,
     "metadata": {},
     "output_type": "execute_result"
    }
   ],
   "source": [
    "dic1"
   ]
  },
  {
   "cell_type": "code",
   "execution_count": 40,
   "id": "01f63c0f",
   "metadata": {},
   "outputs": [
    {
     "data": {
      "text/plain": [
       "(3, 3, 2)"
      ]
     },
     "execution_count": 40,
     "metadata": {},
     "output_type": "execute_result"
    }
   ],
   "source": [
    "dic1.pop(3)"
   ]
  },
  {
   "cell_type": "code",
   "execution_count": 41,
   "id": "00fde9fd",
   "metadata": {},
   "outputs": [
    {
     "data": {
      "text/plain": [
       "{'key1': 748, 2: ['a', 'b', 'c'], 4: {'k1': 'v1'}}"
      ]
     },
     "execution_count": 41,
     "metadata": {},
     "output_type": "execute_result"
    }
   ],
   "source": [
    "dic1"
   ]
  },
  {
   "cell_type": "code",
   "execution_count": 76,
   "id": "7dd83903",
   "metadata": {},
   "outputs": [
    {
     "data": {
      "text/plain": [
       "(4, {'k1': 'v1'})"
      ]
     },
     "execution_count": 76,
     "metadata": {},
     "output_type": "execute_result"
    }
   ],
   "source": [
    "dic1.popitem()"
   ]
  },
  {
   "cell_type": "code",
   "execution_count": 72,
   "id": "89d09814",
   "metadata": {},
   "outputs": [
    {
     "data": {
      "text/plain": [
       "{'key1': 748, 1: 899, 2: ['a', 'b', 'c'], 3: (3, 3, 2), 4: {'k1': 'v1'}}"
      ]
     },
     "execution_count": 72,
     "metadata": {},
     "output_type": "execute_result"
    }
   ],
   "source": [
    "dic1"
   ]
  },
  {
   "cell_type": "code",
   "execution_count": 77,
   "id": "cb8565e5",
   "metadata": {},
   "outputs": [
    {
     "data": {
      "text/plain": [
       "4"
      ]
     },
     "execution_count": 77,
     "metadata": {},
     "output_type": "execute_result"
    }
   ],
   "source": [
    "len(dic1)"
   ]
  },
  {
   "cell_type": "code",
   "execution_count": 80,
   "id": "368c6ee8",
   "metadata": {},
   "outputs": [
    {
     "name": "stdout",
     "output_type": "stream",
     "text": [
      "The key that got deleted: 4 and the value that got deleted: {'k1': 'v1'}.\n",
      "The key that got deleted: 3 and the value that got deleted: (3, 3, 2).\n",
      "The key that got deleted: 2 and the value that got deleted: ['a', 'b', 'c'].\n",
      "The key that got deleted: 1 and the value that got deleted: 899.\n",
      "The key that got deleted: key1 and the value that got deleted: 748.\n",
      "{}\n"
     ]
    }
   ],
   "source": [
    "for i in range(len(dic1)):\n",
    "    k,v = dic1.popitem()\n",
    "    print(f'The key that got deleted: {k} and the value that got deleted: {v}.')\n",
    "print(dic1)"
   ]
  },
  {
   "cell_type": "markdown",
   "id": "abc4f66a",
   "metadata": {},
   "source": [
    "### Nested Dictionary"
   ]
  },
  {
   "cell_type": "code",
   "execution_count": 81,
   "id": "8dfa1484",
   "metadata": {},
   "outputs": [],
   "source": [
    "delhiD = {'weather':'hot',\n",
    "          'distance': '200km',\n",
    "          'speciality': 'capital'}\n",
    "\n",
    "nestedDic = {'delhi':delhiD}"
   ]
  },
  {
   "cell_type": "code",
   "execution_count": 82,
   "id": "ed98a495",
   "metadata": {},
   "outputs": [
    {
     "data": {
      "text/plain": [
       "{'delhi': {'weather': 'hot', 'distance': '200km', 'speciality': 'capital'}}"
      ]
     },
     "execution_count": 82,
     "metadata": {},
     "output_type": "execute_result"
    }
   ],
   "source": [
    "nestedDic"
   ]
  },
  {
   "cell_type": "code",
   "execution_count": 83,
   "id": "8ae8f64d",
   "metadata": {},
   "outputs": [
    {
     "data": {
      "text/plain": [
       "{'weather': 'hot', 'distance': '200km', 'speciality': 'capital'}"
      ]
     },
     "execution_count": 83,
     "metadata": {},
     "output_type": "execute_result"
    }
   ],
   "source": [
    "nestedDic['delhi']"
   ]
  },
  {
   "cell_type": "code",
   "execution_count": 84,
   "id": "13f4914f",
   "metadata": {},
   "outputs": [
    {
     "data": {
      "text/plain": [
       "'capital'"
      ]
     },
     "execution_count": 84,
     "metadata": {},
     "output_type": "execute_result"
    }
   ],
   "source": [
    "nestedDic['delhi']['speciality']"
   ]
  },
  {
   "cell_type": "code",
   "execution_count": 85,
   "id": "d8c98d68",
   "metadata": {},
   "outputs": [
    {
     "data": {
      "text/plain": [
       "'200km'"
      ]
     },
     "execution_count": 85,
     "metadata": {},
     "output_type": "execute_result"
    }
   ],
   "source": [
    "nestedDic['delhi']['distance']"
   ]
  },
  {
   "cell_type": "code",
   "execution_count": 86,
   "id": "36408552",
   "metadata": {},
   "outputs": [
    {
     "data": {
      "text/plain": [
       "'hot'"
      ]
     },
     "execution_count": 86,
     "metadata": {},
     "output_type": "execute_result"
    }
   ],
   "source": [
    "nestedDic['delhi']['weather']"
   ]
  }
 ],
 "metadata": {
  "kernelspec": {
   "display_name": "Python 3",
   "language": "python",
   "name": "python3"
  },
  "language_info": {
   "codemirror_mode": {
    "name": "ipython",
    "version": 3
   },
   "file_extension": ".py",
   "mimetype": "text/x-python",
   "name": "python",
   "nbconvert_exporter": "python",
   "pygments_lexer": "ipython3",
   "version": "3.12.0"
  }
 },
 "nbformat": 4,
 "nbformat_minor": 5
}
